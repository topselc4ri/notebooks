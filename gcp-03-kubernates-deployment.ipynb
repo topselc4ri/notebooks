{
 "cells": [
  {
   "cell_type": "code",
   "execution_count": 1,
   "metadata": {
    "deletable": false,
    "editable": false,
    "lc_cell_meme": {
     "current": "fddc2ca0-4fc7-11ea-a82e-0242ac120004",
     "execution_end_time": "2020-02-15T15:08:54.942098Z",
     "next": "657c625a-378e-11ea-a014-0242ac120005",
     "previous": null
    },
    "lc_wrapper": {
     "log_history": [
      "/home/user4/notebooks/seminar-lc4ri/git/notebooks/.log/20200215/20200215-094354-0191.log",
      "/home/user4/notebooks/seminar-lc4ri/git/notebooks/.log/20200215/20200215-102655-0237.log",
      "/home/user4/notebooks/seminar-lc4ri/git/notebooks/.log/20200215/20200215-104407-0653.log",
      "/home/user4/notebooks/seminar-lc4ri/notebooks/.log/20200215/20200215-150853-0919.log"
     ]
    },
    "run_through_control": {
     "frozen": true
    }
   },
   "outputs": [
    {
     "name": "stdout",
     "output_type": "stream",
     "text": [
      "Sat Feb 15 15:08:54 UTC 2020\r\n"
     ]
    }
   ],
   "source": [
    "!date"
   ]
  },
  {
   "cell_type": "markdown",
   "metadata": {
    "lc_cell_meme": {
     "current": "657c625a-378e-11ea-a014-0242ac120005",
     "execution_end_time": "2020-01-15T11:59:23.906789Z",
     "history": [
      {
       "current": "657c625a-378e-11ea-a014-0242ac120005",
       "next": "7bc30572-378a-11ea-a014-0242ac120005",
       "previous": null
      }
     ],
     "next": "7bc30572-378a-11ea-a014-0242ac120005",
     "previous": "fddc2ca0-4fc7-11ea-a82e-0242ac120004"
    },
    "lc_wrapper": {
     "log_history": [
      "/home/user3/notebooks/.log/20200115/20200115-115923-0899.log"
     ]
    }
   },
   "source": [
    "# Kubernetes操作\n",
    "\n",
    "## Kubernetesリソースの作成"
   ]
  },
  {
   "cell_type": "markdown",
   "metadata": {
    "lc_cell_meme": {
     "current": "7bc30572-378a-11ea-a014-0242ac120005",
     "history": [
      {
       "current": "7bc30572-378a-11ea-a014-0242ac120005",
       "next": "ecd64aa4-3789-11ea-a014-0242ac120005",
       "previous": null
      },
      {
       "current": "7bc30572-378a-11ea-a014-0242ac120005",
       "next": "ecd64aa4-3789-11ea-a014-0242ac120005",
       "previous": null
      }
     ],
     "next": "ecd64aa4-3789-11ea-a014-0242ac120005",
     "previous": "657c625a-378e-11ea-a014-0242ac120005"
    }
   },
   "source": [
    "### GitHubからYAMLを取得する\n",
    "プロジェクトのGitHubからGKEでWordPressを動かすためのYAMLファイルを取得する。"
   ]
  },
  {
   "cell_type": "code",
   "execution_count": 2,
   "metadata": {
    "deletable": false,
    "editable": false,
    "lc_cell_meme": {
     "current": "ecd64aa4-3789-11ea-a014-0242ac120005",
     "execution_end_time": "2020-02-15T15:09:01.983173Z",
     "history": [
      {
       "current": "ecd64aa4-3789-11ea-a014-0242ac120005",
       "next": "ecd64db0-3789-11ea-a014-0242ac120005",
       "previous": "5efff658-3789-11ea-a014-0242ac120005"
      },
      {
       "current": "ecd64aa4-3789-11ea-a014-0242ac120005",
       "next": "a52b650e-3789-11ea-a014-0242ac120005",
       "previous": null
      },
      {
       "current": "ecd64aa4-3789-11ea-a014-0242ac120005",
       "next": "a52b650e-3789-11ea-a014-0242ac120005",
       "previous": "7bc30572-378a-11ea-a014-0242ac120005"
      },
      {
       "current": "ecd64aa4-3789-11ea-a014-0242ac120005",
       "next": "c36f2cc0-378a-11ea-a014-0242ac120005",
       "previous": "7bc30572-378a-11ea-a014-0242ac120005"
      }
     ],
     "next": "70a6b47a-378c-11ea-a014-0242ac120005",
     "previous": "7bc30572-378a-11ea-a014-0242ac120005"
    },
    "lc_wrapper": {
     "log_history": [
      "/home/user3/notebooks/.log/20200115/20200115-114006-0552.log",
      "/home/user4/notebooks/seminar-lc4ri/git/notebooks/.log/20200215/20200215-094355-0217.log",
      "/home/user4/notebooks/seminar-lc4ri/git/notebooks/.log/20200215/20200215-102656-0252.log",
      "/home/user4/notebooks/seminar-lc4ri/git/notebooks/.log/20200215/20200215-104408-0662.log",
      "/home/user4/notebooks/seminar-lc4ri/notebooks/.log/20200215/20200215-150859-0298.log"
     ]
    },
    "run_through_control": {
     "frozen": true
    }
   },
   "outputs": [
    {
     "name": "stdout",
     "output_type": "stream",
     "text": [
      "Cloning into 'k8s-wordpress-mysql'...\n",
      "remote: Enumerating objects: 92, done.\u001b[K\n",
      "remote: Counting objects: 100% (92/92), done.\u001b[K\n",
      "remote: Compressing objects: 100% (69/69), done.\u001b[K\n",
      "remote: Total 92 (delta 45), reused 53 (delta 21), pack-reused 0\u001b[K\n",
      "Unpacking objects: 100% (92/92), done.\n"
     ]
    }
   ],
   "source": [
    "branch_name=\"master\"\n",
    "!rm -rf k8s-wordpress-mysql\n",
    "!git clone -b {branch_name} https://github.com/topselc4ri/k8s-wordpress-mysql.git"
   ]
  },
  {
   "cell_type": "markdown",
   "metadata": {
    "lc_cell_meme": {
     "current": "70a6b47a-378c-11ea-a014-0242ac120005",
     "next": "70a6b880-378c-11ea-a014-0242ac120005",
     "previous": "ecd64aa4-3789-11ea-a014-0242ac120005"
    }
   },
   "source": [
    "### [オプション] kubectlの設定\n",
    "GKEクラスタの構築から続けて実行する場合は、この手順を省略可能。"
   ]
  },
  {
   "cell_type": "code",
   "execution_count": 3,
   "metadata": {
    "deletable": false,
    "editable": false,
    "lc_cell_meme": {
     "current": "70a6b880-378c-11ea-a014-0242ac120005",
     "execution_end_time": "2020-02-15T15:09:08.949905Z",
     "next": "c36f2cc0-378a-11ea-a014-0242ac120005",
     "previous": "70a6b47a-378c-11ea-a014-0242ac120005"
    },
    "lc_wrapper": {
     "log_history": [
      "/home/user3/notebooks/.log/20200115/20200115-114432-0856.log",
      "/home/user3/notebooks/.log/20200115/20200115-114451-0782.log",
      "/home/user4/notebooks/seminar-lc4ri/git/notebooks/.log/20200215/20200215-094357-0708.log",
      "/home/user4/notebooks/seminar-lc4ri/git/notebooks/.log/20200215/20200215-102658-0720.log",
      "/home/user4/notebooks/seminar-lc4ri/git/notebooks/.log/20200215/20200215-104411-0505.log",
      "/home/user4/notebooks/seminar-lc4ri/notebooks/.log/20200215/20200215-150901-0991.log"
     ]
    },
    "run_through_control": {
     "frozen": true
    },
    "scrolled": true
   },
   "outputs": [
    {
     "name": "stdout",
     "output_type": "stream",
     "text": [
      "Fetching cluster endpoint and auth data.\n",
      "kubeconfig entry generated for topse-cluster.\n",
      "  % Total    % Received % Xferd  Average Speed   Time    Time     Time  Current\n",
      "                                 Dload  Upload   Total   Spent    Left  Speed\n",
      "100 41.4M  100 41.4M    0     0   124M      0 --:--:-- --:--:-- --:--:--  124M\n",
      "Client Version: version.Info{Major:\"1\", Minor:\"17\", GitVersion:\"v1.17.3\", GitCommit:\"06ad960bfd03b39c8310aaf92d1e7c12ce618213\", GitTreeState:\"clean\", BuildDate:\"2020-02-11T18:14:22Z\", GoVersion:\"go1.13.6\", Compiler:\"gc\", Platform:\"linux/amd64\"}\n",
      "Server Version: version.Info{Major:\"1\", Minor:\"14+\", GitVersion:\"v1.14.10-gke.17\", GitCommit:\"bdceba0734835c6cb1acbd1c447caf17d8613b44\", GitTreeState:\"clean\", BuildDate:\"2020-01-17T23:10:13Z\", GoVersion:\"go1.12.12b4\", Compiler:\"gc\", Platform:\"linux/amd64\"}\n"
     ]
    }
   ],
   "source": [
    "cluster_name = \"topse-cluster\"\n",
    "region=\"us-west1\"\n",
    "!gcloud container clusters get-credentials {cluster_name} --region {region}\n",
    "!curl -LO https://storage.googleapis.com/kubernetes-release/release/$(curl -s https://storage.googleapis.com/kubernetes-release/release/stable.txt)/bin/linux/amd64/kubectl\n",
    "!chmod +x ./kubectl\n",
    "!sudo mv ./kubectl /usr/local/bin/kubectl\n",
    "!kubectl version "
   ]
  },
  {
   "cell_type": "markdown",
   "metadata": {
    "lc_cell_meme": {
     "current": "c36f2cc0-378a-11ea-a014-0242ac120005",
     "execution_end_time": "2020-01-15T11:35:13.480988Z",
     "history": [
      {
       "current": "c36f2cc0-378a-11ea-a014-0242ac120005",
       "next": "a52b650e-3789-11ea-a014-0242ac120005",
       "previous": "ecd64aa4-3789-11ea-a014-0242ac120005"
      },
      {
       "current": "c36f2cc0-378a-11ea-a014-0242ac120005",
       "next": "a52b650e-3789-11ea-a014-0242ac120005",
       "previous": "70a6b880-378c-11ea-a014-0242ac120005"
      },
      {
       "current": "c36f2cc0-378a-11ea-a014-0242ac120005",
       "next": "8b38360c-4f19-11ea-9659-0242ac120005",
       "previous": "70a6b880-378c-11ea-a014-0242ac120005"
      },
      {
       "current": "c36f2cc0-378a-11ea-a014-0242ac120005",
       "next": "a52b650e-3789-11ea-a014-0242ac120005",
       "previous": "70a6b880-378c-11ea-a014-0242ac120005"
      }
     ],
     "next": "799d7fe6-4fd8-11ea-a82e-0242ac120004",
     "previous": "70a6b880-378c-11ea-a014-0242ac120005"
    },
    "lc_wrapper": {
     "log_history": [
      "/home/user3/notebooks/.log/20200115/20200115-113513-0466.log"
     ]
    }
   },
   "source": [
    "## persistentvolume等のデプロイ"
   ]
  },
  {
   "cell_type": "code",
   "execution_count": 4,
   "metadata": {
    "deletable": false,
    "editable": false,
    "lc_cell_meme": {
     "current": "799d7fe6-4fd8-11ea-a82e-0242ac120004",
     "execution_end_time": "2020-02-15T15:09:10.953292Z",
     "next": "a52b650e-3789-11ea-a014-0242ac120005",
     "previous": "c36f2cc0-378a-11ea-a014-0242ac120005"
    },
    "lc_wrapper": {
     "log_history": [
      "/home/user4/notebooks/seminar-lc4ri/git/notebooks/.log/20200215/20200215-094900-0453.log",
      "/home/user4/notebooks/seminar-lc4ri/git/notebooks/.log/20200215/20200215-102705-0510.log",
      "/home/user4/notebooks/seminar-lc4ri/git/notebooks/.log/20200215/20200215-104418-0298.log",
      "/home/user4/notebooks/seminar-lc4ri/notebooks/.log/20200215/20200215-150908-0958.log"
     ]
    },
    "run_through_control": {
     "frozen": true
    }
   },
   "outputs": [
    {
     "name": "stdout",
     "output_type": "stream",
     "text": [
      "apiVersion: v1\n",
      "kind: PersistentVolume\n",
      "metadata:\n",
      "  name: fileserver\n",
      "spec:\n",
      "  capacity:\n",
      "    storage: 1G\n",
      "  accessModes:\n",
      "  - ReadWriteMany\n",
      "  nfs:\n",
      "    path: /vol1\n",
      "    server: nfs.topse.private\n",
      "\n",
      "apiVersion: v1\n",
      "kind: PersistentVolumeClaim\n",
      "metadata:\n",
      "  name: fileserver-claim\n",
      "spec:\n",
      "  accessModes:\n",
      "  - ReadWriteMany\n",
      "  # It's necessary to specify \"\" as the storageClassName\n",
      "  # so that the default storage class won't be used, see\n",
      "  # https://kubernetes.io/docs/concepts/storage/persistent-volumes/#class-1\n",
      "  storageClassName: \"\"\n",
      "  resources:\n",
      "    requests:\n",
      "      storage: 100M\n",
      "\n"
     ]
    }
   ],
   "source": [
    "!cat k8s-wordpress-mysql/nfs/gcp-filestore.yaml\n",
    "!cat k8s-wordpress-mysql/nfs/persistent-volume-claim.yaml"
   ]
  },
  {
   "cell_type": "code",
   "execution_count": 5,
   "metadata": {
    "deletable": false,
    "editable": false,
    "lc_cell_meme": {
     "current": "a52b650e-3789-11ea-a014-0242ac120005",
     "execution_end_time": "2020-02-15T15:09:13.843655Z",
     "history": [
      {
       "current": "a52b650e-3789-11ea-a014-0242ac120005",
       "next": "a52b6748-3789-11ea-a014-0242ac120005",
       "previous": "5efff658-3789-11ea-a014-0242ac120005"
      },
      {
       "current": "a52b650e-3789-11ea-a014-0242ac120005",
       "next": "a52b6748-3789-11ea-a014-0242ac120005",
       "previous": "ecd64db0-3789-11ea-a014-0242ac120005"
      },
      {
       "current": "a52b650e-3789-11ea-a014-0242ac120005",
       "next": "a52b6748-3789-11ea-a014-0242ac120005",
       "previous": "ecd64aa4-3789-11ea-a014-0242ac120005"
      },
      {
       "current": "a52b650e-3789-11ea-a014-0242ac120005",
       "next": "a52b6748-3789-11ea-a014-0242ac120005",
       "previous": "c36f2cc0-378a-11ea-a014-0242ac120005"
      },
      {
       "current": "a52b650e-3789-11ea-a014-0242ac120005",
       "next": "a52b6748-3789-11ea-a014-0242ac120005",
       "previous": "8b38360c-4f19-11ea-9659-0242ac120005"
      },
      {
       "current": "a52b650e-3789-11ea-a014-0242ac120005",
       "next": "8b38360c-4f19-11ea-9659-0242ac120005",
       "previous": "c36f2cc0-378a-11ea-a014-0242ac120005"
      },
      {
       "current": "a52b650e-3789-11ea-a014-0242ac120005",
       "next": "61e906ae-4f1a-11ea-9659-0242ac120005",
       "previous": "c36f2cc0-378a-11ea-a014-0242ac120005"
      }
     ],
     "next": "61e906ae-4f1a-11ea-9659-0242ac120005",
     "previous": "799d7fe6-4fd8-11ea-a82e-0242ac120004"
    },
    "lc_wrapper": {
     "log_history": [
      "/home/user3/notebooks/.log/20200115/20200115-114016-0013.log",
      "/home/user3/notebooks/.log/20200115/20200115-115200-0707.log",
      "/home/user4/notebooks/seminar-lc4ri/git/notebooks/.log/20200215/20200215-094404-0405.log",
      "/home/user4/notebooks/seminar-lc4ri/git/notebooks/.log/20200215/20200215-102707-0491.log",
      "/home/user4/notebooks/seminar-lc4ri/git/notebooks/.log/20200215/20200215-104420-0276.log",
      "/home/user4/notebooks/seminar-lc4ri/notebooks/.log/20200215/20200215-150910-0961.log"
     ]
    },
    "run_through_control": {
     "frozen": true
    }
   },
   "outputs": [
    {
     "name": "stdout",
     "output_type": "stream",
     "text": [
      "persistentvolume/fileserver created\n",
      "persistentvolumeclaim/fileserver-claim created\n"
     ]
    }
   ],
   "source": [
    "!kubectl apply -f k8s-wordpress-mysql/nfs/gcp-filestore.yaml\n",
    "!kubectl apply -f k8s-wordpress-mysql/nfs/persistent-volume-claim.yaml"
   ]
  },
  {
   "cell_type": "code",
   "execution_count": 6,
   "metadata": {
    "deletable": false,
    "editable": false,
    "lc_cell_meme": {
     "current": "61e906ae-4f1a-11ea-9659-0242ac120005",
     "execution_end_time": "2020-02-15T15:09:14.958312Z",
     "next": "8b38360c-4f19-11ea-9659-0242ac120005",
     "previous": "a52b650e-3789-11ea-a014-0242ac120005"
    },
    "lc_wrapper": {
     "log_history": [
      "/home/user4/notebooks/seminar-lc4ri/git/notebooks/.log/20200215/20200215-094407-0040.log",
      "/home/user4/notebooks/seminar-lc4ri/git/notebooks/.log/20200215/20200215-102710-0157.log",
      "/home/user4/notebooks/seminar-lc4ri/git/notebooks/.log/20200215/20200215-104423-0078.log",
      "/home/user4/notebooks/seminar-lc4ri/notebooks/.log/20200215/20200215-150913-0851.log"
     ]
    },
    "run_through_control": {
     "frozen": true
    }
   },
   "outputs": [
    {
     "name": "stdout",
     "output_type": "stream",
     "text": [
      "NAME         CAPACITY   ACCESS MODES   RECLAIM POLICY   STATUS   CLAIM                      STORAGECLASS   REASON   AGE\r\n",
      "fileserver   1G         RWX            Retain           Bound    default/fileserver-claim                           2s\r\n"
     ]
    }
   ],
   "source": [
    "!kubectl get PersistentVolume"
   ]
  },
  {
   "cell_type": "markdown",
   "metadata": {
    "lc_cell_meme": {
     "current": "8b38360c-4f19-11ea-9659-0242ac120005",
     "execution_end_time": "2020-02-14T11:02:47.511808Z",
     "history": [
      {
       "current": "8b38360c-4f19-11ea-9659-0242ac120005",
       "next": "a52b650e-3789-11ea-a014-0242ac120005",
       "previous": "c36f2cc0-378a-11ea-a014-0242ac120005"
      },
      {
       "current": "8b38360c-4f19-11ea-9659-0242ac120005",
       "next": "a52b650e-3789-11ea-a014-0242ac120005",
       "previous": "a52b650e-3789-11ea-a014-0242ac120005"
      },
      {
       "current": "8b38360c-4f19-11ea-9659-0242ac120005",
       "next": "a52b650e-3789-11ea-a014-0242ac120005",
       "previous": "61e906ae-4f1a-11ea-9659-0242ac120005"
      }
     ],
     "next": "799d831a-4fd8-11ea-a82e-0242ac120004",
     "previous": "61e906ae-4f1a-11ea-9659-0242ac120005"
    },
    "lc_wrapper": {
     "log_history": [
      "/home/user4/notebooks/seminar-lc4ri/git/notebooks/.log/20200214/20200214-110247-0498.log"
     ]
    }
   },
   "source": [
    "## wordpressのDeplyomentのデプロイ"
   ]
  },
  {
   "cell_type": "code",
   "execution_count": 7,
   "metadata": {
    "deletable": false,
    "editable": false,
    "lc_cell_meme": {
     "current": "799d831a-4fd8-11ea-a82e-0242ac120004",
     "execution_end_time": "2020-02-15T15:09:16.919132Z",
     "next": "a52b650e-3789-11ea-a014-0242ac120005",
     "previous": "8b38360c-4f19-11ea-9659-0242ac120005"
    },
    "lc_wrapper": {
     "log_history": [
      "/home/user4/notebooks/seminar-lc4ri/git/notebooks/.log/20200215/20200215-102711-0305.log",
      "/home/user4/notebooks/seminar-lc4ri/git/notebooks/.log/20200215/20200215-104424-0181.log",
      "/home/user4/notebooks/seminar-lc4ri/notebooks/.log/20200215/20200215-150914-0965.log"
     ]
    },
    "run_through_control": {
     "frozen": true
    }
   },
   "outputs": [
    {
     "name": "stdout",
     "output_type": "stream",
     "text": [
      "apiVersion: v1\n",
      "kind: PersistentVolume\n",
      "metadata:\n",
      "  name: fileserver\n",
      "spec:\n",
      "  capacity:\n",
      "    storage: 1G\n",
      "  accessModes:\n",
      "  - ReadWriteMany\n",
      "  nfs:\n",
      "    path: /vol1\n",
      "    server: nfs.topse.private\n",
      "\n",
      "apiVersion: v1\n",
      "kind: PersistentVolumeClaim\n",
      "metadata:\n",
      "  name: fileserver-claim\n",
      "spec:\n",
      "  accessModes:\n",
      "  - ReadWriteMany\n",
      "  # It's necessary to specify \"\" as the storageClassName\n",
      "  # so that the default storage class won't be used, see\n",
      "  # https://kubernetes.io/docs/concepts/storage/persistent-volumes/#class-1\n",
      "  storageClassName: \"\"\n",
      "  resources:\n",
      "    requests:\n",
      "      storage: 100M\n",
      "\n"
     ]
    }
   ],
   "source": [
    "!cat k8s-wordpress-mysql/nfs/gcp-filestore.yaml\n",
    "!cat k8s-wordpress-mysql/nfs/persistent-volume-claim.yaml"
   ]
  },
  {
   "cell_type": "code",
   "execution_count": 8,
   "metadata": {
    "deletable": false,
    "editable": false,
    "lc_cell_meme": {
     "current": "a52b650e-3789-11ea-a014-0242ac120005",
     "execution_end_time": "2020-02-15T15:09:19.460182Z",
     "history": [
      {
       "current": "a52b650e-3789-11ea-a014-0242ac120005",
       "next": "a52b6748-3789-11ea-a014-0242ac120005",
       "previous": "5efff658-3789-11ea-a014-0242ac120005"
      },
      {
       "current": "a52b650e-3789-11ea-a014-0242ac120005",
       "next": "a52b6748-3789-11ea-a014-0242ac120005",
       "previous": "ecd64db0-3789-11ea-a014-0242ac120005"
      },
      {
       "current": "a52b650e-3789-11ea-a014-0242ac120005",
       "next": "a52b6748-3789-11ea-a014-0242ac120005",
       "previous": "ecd64aa4-3789-11ea-a014-0242ac120005"
      },
      {
       "current": "a52b650e-3789-11ea-a014-0242ac120005",
       "next": "a52b6748-3789-11ea-a014-0242ac120005",
       "previous": "c36f2cc0-378a-11ea-a014-0242ac120005"
      },
      {
       "current": "a52b650e-3789-11ea-a014-0242ac120005",
       "next": "a52b6748-3789-11ea-a014-0242ac120005",
       "previous": "8b38360c-4f19-11ea-9659-0242ac120005"
      },
      {
       "current": "a52b650e-3789-11ea-a014-0242ac120005",
       "next": "d2f767b0-4f19-11ea-9659-0242ac120005",
       "previous": "8b38360c-4f19-11ea-9659-0242ac120005"
      },
      {
       "current": "a52b650e-3789-11ea-a014-0242ac120005",
       "next": "61e908a2-4f1a-11ea-9659-0242ac120005",
       "previous": "8b38360c-4f19-11ea-9659-0242ac120005"
      }
     ],
     "next": "61e908a2-4f1a-11ea-9659-0242ac120005",
     "previous": "799d831a-4fd8-11ea-a82e-0242ac120004"
    },
    "lc_wrapper": {
     "log_history": [
      "/home/user3/notebooks/.log/20200115/20200115-114016-0013.log",
      "/home/user3/notebooks/.log/20200115/20200115-115200-0707.log",
      "/home/user4/notebooks/seminar-lc4ri/git/notebooks/.log/20200215/20200215-094408-0156.log",
      "/home/user4/notebooks/seminar-lc4ri/git/notebooks/.log/20200215/20200215-102713-0292.log",
      "/home/user4/notebooks/seminar-lc4ri/git/notebooks/.log/20200215/20200215-104426-0162.log",
      "/home/user4/notebooks/seminar-lc4ri/notebooks/.log/20200215/20200215-150916-0927.log"
     ]
    },
    "run_through_control": {
     "frozen": true
    }
   },
   "outputs": [
    {
     "name": "stdout",
     "output_type": "stream",
     "text": [
      "persistentvolume/fileserver unchanged\n",
      "persistentvolumeclaim/fileserver-claim unchanged\n"
     ]
    }
   ],
   "source": [
    "!kubectl apply -f k8s-wordpress-mysql/nfs/gcp-filestore.yaml\n",
    "!kubectl apply -f k8s-wordpress-mysql/nfs/persistent-volume-claim.yaml"
   ]
  },
  {
   "cell_type": "code",
   "execution_count": 9,
   "metadata": {
    "deletable": false,
    "editable": false,
    "lc_cell_meme": {
     "current": "61e908a2-4f1a-11ea-9659-0242ac120005",
     "execution_end_time": "2020-02-15T15:09:20.552221Z",
     "next": "d2f767b0-4f19-11ea-9659-0242ac120005",
     "previous": "a52b650e-3789-11ea-a014-0242ac120005"
    },
    "lc_wrapper": {
     "log_history": [
      "/home/user4/notebooks/seminar-lc4ri/git/notebooks/.log/20200215/20200215-094410-0633.log",
      "/home/user4/notebooks/seminar-lc4ri/git/notebooks/.log/20200215/20200215-102715-0827.log",
      "/home/user4/notebooks/seminar-lc4ri/git/notebooks/.log/20200215/20200215-104428-0761.log",
      "/home/user4/notebooks/seminar-lc4ri/notebooks/.log/20200215/20200215-150919-0469.log"
     ]
    },
    "run_through_control": {
     "frozen": true
    }
   },
   "outputs": [
    {
     "name": "stdout",
     "output_type": "stream",
     "text": [
      "NAME               STATUS   VOLUME       CAPACITY   ACCESS MODES   STORAGECLASS   AGE\r\n",
      "fileserver-claim   Bound    fileserver   1G         RWX                           7s\r\n"
     ]
    }
   ],
   "source": [
    "!kubectl get PersistentVolumeClaim"
   ]
  },
  {
   "cell_type": "markdown",
   "metadata": {
    "lc_cell_meme": {
     "current": "d2f767b0-4f19-11ea-9659-0242ac120005",
     "history": [
      {
       "current": "d2f767b0-4f19-11ea-9659-0242ac120005",
       "next": "d2f7699a-4f19-11ea-9659-0242ac120005",
       "previous": "a52b650e-3789-11ea-a014-0242ac120005"
      },
      {
       "current": "d2f767b0-4f19-11ea-9659-0242ac120005",
       "next": "d2f7699a-4f19-11ea-9659-0242ac120005",
       "previous": "61e908a2-4f1a-11ea-9659-0242ac120005"
      }
     ],
     "next": "799d841e-4fd8-11ea-a82e-0242ac120004",
     "previous": "61e908a2-4f1a-11ea-9659-0242ac120005"
    }
   },
   "source": [
    "## serviceのデプロイ"
   ]
  },
  {
   "cell_type": "code",
   "execution_count": 10,
   "metadata": {
    "deletable": false,
    "editable": false,
    "lc_cell_meme": {
     "current": "799d841e-4fd8-11ea-a82e-0242ac120004",
     "execution_end_time": "2020-02-15T15:09:21.530049Z",
     "next": "d2f7699a-4f19-11ea-9659-0242ac120005",
     "previous": "d2f767b0-4f19-11ea-9659-0242ac120005"
    },
    "lc_wrapper": {
     "log_history": [
      "/home/user4/notebooks/seminar-lc4ri/git/notebooks/.log/20200215/20200215-102716-0944.log",
      "/home/user4/notebooks/seminar-lc4ri/git/notebooks/.log/20200215/20200215-104429-0866.log",
      "/home/user4/notebooks/seminar-lc4ri/notebooks/.log/20200215/20200215-150920-0560.log"
     ]
    },
    "run_through_control": {
     "frozen": true
    }
   },
   "outputs": [
    {
     "name": "stdout",
     "output_type": "stream",
     "text": [
      "apiVersion: apps/v1\r\n",
      "\r\n",
      "kind: Deployment\r\n",
      "metadata:\r\n",
      "  name: wordpress\r\n",
      "spec:\r\n",
      "  replicas: 2\r\n",
      "  selector:\r\n",
      "    matchLabels:\r\n",
      "      app: wordpress\r\n",
      "  template:\r\n",
      "    metadata:\r\n",
      "      labels:\r\n",
      "        app: wordpress\r\n",
      "    spec:\r\n",
      "      containers:\r\n",
      "        - image: wordpress:4.8-apache\r\n",
      "          name: wordpress\r\n",
      "          env:\r\n",
      "          - name: WORDPRESS_DB_HOST\r\n",
      "            value: mysql.topse.private:3306\r\n",
      "          - name: WORDPRESS_DB_PASSWORD\r\n",
      "            value: 8sg3jJguHLq8KjNk\r\n",
      "          ports:\r\n",
      "            - containerPort: 80\r\n",
      "              name: wordpress\r\n",
      "          readinessProbe:\r\n",
      "                  httpGet:\r\n",
      "                          path: /readme.html\r\n",
      "                          port: 80\r\n",
      "                  initialDelaySeconds: 5\r\n",
      "                  periodSeconds: 10\r\n",
      "          volumeMounts:\r\n",
      "            - mountPath: /var/www/html/wp-content/uploads\r\n",
      "              name: mypvc\r\n",
      "          lifecycle:\r\n",
      "            postStart:\r\n",
      "              exec:\r\n",
      "                command: [\"/bin/sh\", \"-c\", \"chown -R www-data:www-data /var/www/html/wp-content/uploads\"]\r\n",
      "      volumes:\r\n",
      "        - name: mypvc\r\n",
      "          persistentVolumeClaim:\r\n",
      "            claimName: fileserver-claim\r\n",
      "            readOnly: false\r\n"
     ]
    }
   ],
   "source": [
    "!cat k8s-wordpress-mysql/wordpress/wordpress.yaml"
   ]
  },
  {
   "cell_type": "code",
   "execution_count": 11,
   "metadata": {
    "deletable": false,
    "editable": false,
    "lc_cell_meme": {
     "current": "d2f7699a-4f19-11ea-9659-0242ac120005",
     "execution_end_time": "2020-02-15T15:09:22.844684Z",
     "history": [
      {
       "current": "d2f7699a-4f19-11ea-9659-0242ac120005",
       "next": "d2f76a8a-4f19-11ea-9659-0242ac120005",
       "previous": "d2f767b0-4f19-11ea-9659-0242ac120005"
      },
      {
       "current": "d2f7699a-4f19-11ea-9659-0242ac120005",
       "next": "a96d454e-4f1a-11ea-9659-0242ac120005",
       "previous": "d2f767b0-4f19-11ea-9659-0242ac120005"
      }
     ],
     "next": "a96d454e-4f1a-11ea-9659-0242ac120005",
     "previous": "799d841e-4fd8-11ea-a82e-0242ac120004"
    },
    "lc_wrapper": {
     "log_history": [
      "/home/user4/notebooks/seminar-lc4ri/git/notebooks/.log/20200215/20200215-094411-0745.log",
      "/home/user4/notebooks/seminar-lc4ri/git/notebooks/.log/20200215/20200215-102717-0951.log",
      "/home/user4/notebooks/seminar-lc4ri/git/notebooks/.log/20200215/20200215-104430-0867.log",
      "/home/user4/notebooks/seminar-lc4ri/notebooks/.log/20200215/20200215-150921-0537.log"
     ]
    },
    "run_through_control": {
     "frozen": true
    },
    "scrolled": true
   },
   "outputs": [
    {
     "name": "stdout",
     "output_type": "stream",
     "text": [
      "deployment.apps/wordpress created\r\n"
     ]
    }
   ],
   "source": [
    "!kubectl apply -f k8s-wordpress-mysql/wordpress/wordpress.yaml"
   ]
  },
  {
   "cell_type": "code",
   "execution_count": 12,
   "metadata": {
    "deletable": false,
    "editable": false,
    "lc_cell_meme": {
     "current": "a96d454e-4f1a-11ea-9659-0242ac120005",
     "execution_end_time": "2020-02-15T15:09:23.989352Z",
     "next": "d2f76a8a-4f19-11ea-9659-0242ac120005",
     "previous": "d2f7699a-4f19-11ea-9659-0242ac120005"
    },
    "lc_wrapper": {
     "log_history": [
      "/home/user4/notebooks/seminar-lc4ri/git/notebooks/.log/20200215/20200215-094413-0063.log",
      "/home/user4/notebooks/seminar-lc4ri/git/notebooks/.log/20200215/20200215-102719-0302.log",
      "/home/user4/notebooks/seminar-lc4ri/git/notebooks/.log/20200215/20200215-104432-0184.log",
      "/home/user4/notebooks/seminar-lc4ri/notebooks/.log/20200215/20200215-150922-0853.log"
     ]
    },
    "run_through_control": {
     "frozen": true
    }
   },
   "outputs": [
    {
     "name": "stdout",
     "output_type": "stream",
     "text": [
      "NAME                         READY   STATUS              RESTARTS   AGE\r\n",
      "wordpress-7b6867cc99-6mxt8   0/1     ContainerCreating   0          1s\r\n",
      "wordpress-7b6867cc99-mk725   0/1     ContainerCreating   0          1s\r\n"
     ]
    }
   ],
   "source": [
    "!kubectl get pods"
   ]
  },
  {
   "cell_type": "markdown",
   "metadata": {
    "lc_cell_meme": {
     "current": "d2f76a8a-4f19-11ea-9659-0242ac120005",
     "history": [
      {
       "current": "d2f76a8a-4f19-11ea-9659-0242ac120005",
       "next": "a52b6748-3789-11ea-a014-0242ac120005",
       "previous": "d2f7699a-4f19-11ea-9659-0242ac120005"
      },
      {
       "current": "d2f76a8a-4f19-11ea-9659-0242ac120005",
       "next": "a52b6748-3789-11ea-a014-0242ac120005",
       "previous": "a96d454e-4f1a-11ea-9659-0242ac120005"
      },
      {
       "current": "d2f76a8a-4f19-11ea-9659-0242ac120005",
       "next": "799d84fa-4fd8-11ea-a82e-0242ac120004",
       "previous": "a96d454e-4f1a-11ea-9659-0242ac120005"
      }
     ],
     "next": "473e43a4-378d-11ea-a014-0242ac120005",
     "previous": "a96d454e-4f1a-11ea-9659-0242ac120005"
    }
   },
   "source": [
    "## ingressのデプロイ"
   ]
  },
  {
   "cell_type": "markdown",
   "metadata": {
    "lc_cell_meme": {
     "current": "473e43a4-378d-11ea-a014-0242ac120005",
     "history": [
      {
       "current": "473e43a4-378d-11ea-a014-0242ac120005",
       "next": "7bc3095a-378a-11ea-a014-0242ac120005",
       "previous": "ffb3241e-378c-11ea-a014-0242ac120005"
      },
      {
       "current": "473e43a4-378d-11ea-a014-0242ac120005",
       "next": null,
       "previous": "61e90a5a-4f1a-11ea-9659-0242ac120005"
      },
      {
       "current": "473e43a4-378d-11ea-a014-0242ac120005",
       "next": "fddc2e80-4fc7-11ea-a82e-0242ac120004",
       "previous": "61e90a5a-4f1a-11ea-9659-0242ac120005"
      },
      {
       "current": "473e43a4-378d-11ea-a014-0242ac120005",
       "next": "fddc2e80-4fc7-11ea-a82e-0242ac120004",
       "previous": "8ccf88c2-4fdb-11ea-a82e-0242ac120004"
      },
      {
       "current": "473e43a4-378d-11ea-a014-0242ac120005",
       "next": "fddc2e80-4fc7-11ea-a82e-0242ac120004",
       "previous": "57ebe148-4fde-11ea-a82e-0242ac120004"
      }
     ],
     "next": "799d84fa-4fd8-11ea-a82e-0242ac120004",
     "previous": "d2f76a8a-4f19-11ea-9659-0242ac120005"
    }
   },
   "source": [
    "ingressにパブリックIPアドレス(ADDRESS)が割り当てられるまでには5分程かかります。\n",
    "更に5分～10分程待つと、WebブラウザからアクセスしてWordPressの画面が見えるようになる。"
   ]
  },
  {
   "cell_type": "code",
   "execution_count": 13,
   "metadata": {
    "deletable": false,
    "editable": false,
    "lc_cell_meme": {
     "current": "799d84fa-4fd8-11ea-a82e-0242ac120004",
     "execution_end_time": "2020-02-15T15:09:26.982225Z",
     "history": [
      {
       "current": "799d84fa-4fd8-11ea-a82e-0242ac120004",
       "next": "a52b6748-3789-11ea-a014-0242ac120005",
       "previous": "d2f76a8a-4f19-11ea-9659-0242ac120005"
      }
     ],
     "next": "a52b6748-3789-11ea-a014-0242ac120005",
     "previous": "473e43a4-378d-11ea-a014-0242ac120005"
    },
    "lc_wrapper": {
     "log_history": [
      "/home/user4/notebooks/seminar-lc4ri/git/notebooks/.log/20200215/20200215-102720-0421.log",
      "/home/user4/notebooks/seminar-lc4ri/git/notebooks/.log/20200215/20200215-104433-0294.log",
      "/home/user4/notebooks/seminar-lc4ri/notebooks/.log/20200215/20200215-150923-0997.log"
     ]
    },
    "run_through_control": {
     "frozen": true
    }
   },
   "outputs": [
    {
     "name": "stdout",
     "output_type": "stream",
     "text": [
      "apiVersion: cloud.google.com/v1beta1\n",
      "kind: BackendConfig\n",
      "metadata:\n",
      "  name: wordpress-backendconfig\n",
      "spec:\n",
      "  timeoutSec: 40\n",
      "  connectionDraining:\n",
      "    drainingTimeoutSec: 60\n",
      "  sessionAffinity:\n",
      "    affinityType: \"GENERATED_COOKIE\"\n",
      "    affinityCookieTtlSec: 50\n",
      "apiVersion: v1\n",
      "kind: Service\n",
      "metadata:\n",
      "  name: wordpress\n",
      "  annotations:\n",
      "          cloud.google.com/neg: '{\"ingress\": true}'\n",
      "          beta.cloud.google.com/backend-config: '{\"ports\": {\"80\":\"wordpress-backendconfig\"}}'\n",
      "spec:\n",
      "  type: NodePort\n",
      "  ports:\n",
      "  - port: 80\n",
      "    protocol: TCP\n",
      "    targetPort: 80\n",
      "  selector:\n",
      "    app: wordpress\n",
      "apiVersion: extensions/v1beta1\n",
      "kind: Ingress\n",
      "metadata:\n",
      "  name: wordpress-ingress\n",
      "spec:\n",
      "  rules:\n",
      "  - http:\n",
      "      paths:\n",
      "      - backend:\n",
      "          serviceName: wordpress\n",
      "          servicePort: 80\n"
     ]
    }
   ],
   "source": [
    "!cat k8s-wordpress-mysql/wordpress/wordpress-backendconfig.yaml\n",
    "!cat k8s-wordpress-mysql/wordpress/wordpress-service.yaml\n",
    "!cat k8s-wordpress-mysql/wordpress/wordpress-ingress.yaml"
   ]
  },
  {
   "cell_type": "code",
   "execution_count": 14,
   "metadata": {
    "deletable": false,
    "editable": false,
    "lc_cell_meme": {
     "current": "a52b6748-3789-11ea-a014-0242ac120005",
     "execution_end_time": "2020-02-15T15:09:30.971911Z",
     "history": [
      {
       "current": "a52b6748-3789-11ea-a014-0242ac120005",
       "next": null,
       "previous": "a52b650e-3789-11ea-a014-0242ac120005"
      },
      {
       "current": "a52b6748-3789-11ea-a014-0242ac120005",
       "next": "ecd64eaa-3789-11ea-a014-0242ac120005",
       "previous": "a52b650e-3789-11ea-a014-0242ac120005"
      },
      {
       "current": "a52b6748-3789-11ea-a014-0242ac120005",
       "next": "7bc3095a-378a-11ea-a014-0242ac120005",
       "previous": "a52b650e-3789-11ea-a014-0242ac120005"
      },
      {
       "current": "a52b6748-3789-11ea-a014-0242ac120005",
       "next": "b8275e26-378c-11ea-a014-0242ac120005",
       "previous": "a52b650e-3789-11ea-a014-0242ac120005"
      },
      {
       "current": "a52b6748-3789-11ea-a014-0242ac120005",
       "next": "b8275e26-378c-11ea-a014-0242ac120005",
       "previous": "d2f76a8a-4f19-11ea-9659-0242ac120005"
      },
      {
       "current": "a52b6748-3789-11ea-a014-0242ac120005",
       "next": "61e90988-4f1a-11ea-9659-0242ac120005",
       "previous": "d2f76a8a-4f19-11ea-9659-0242ac120005"
      }
     ],
     "next": "61e90988-4f1a-11ea-9659-0242ac120005",
     "previous": "799d84fa-4fd8-11ea-a82e-0242ac120004"
    },
    "lc_wrapper": {
     "log_history": [
      "/home/user3/notebooks/.log/20200115/20200115-114021-0755.log",
      "/home/user4/notebooks/seminar-lc4ri/git/notebooks/.log/20200215/20200215-094414-0173.log",
      "/home/user4/notebooks/seminar-lc4ri/git/notebooks/.log/20200215/20200215-102723-0354.log",
      "/home/user4/notebooks/seminar-lc4ri/git/notebooks/.log/20200215/20200215-104436-0247.log",
      "/home/user4/notebooks/seminar-lc4ri/notebooks/.log/20200215/20200215-150926-0990.log"
     ]
    },
    "run_through_control": {
     "frozen": true
    }
   },
   "outputs": [
    {
     "name": "stdout",
     "output_type": "stream",
     "text": [
      "backendconfig.cloud.google.com/wordpress-backendconfig created\n",
      "service/wordpress created\n",
      "ingress.extensions/wordpress-ingress created\n"
     ]
    }
   ],
   "source": [
    "!kubectl apply -f k8s-wordpress-mysql/wordpress/wordpress-backendconfig.yaml\n",
    "!kubectl apply -f k8s-wordpress-mysql/wordpress/wordpress-service.yaml\n",
    "!kubectl apply -f k8s-wordpress-mysql/wordpress/wordpress-ingress.yaml"
   ]
  },
  {
   "cell_type": "code",
   "execution_count": 15,
   "metadata": {
    "deletable": false,
    "editable": false,
    "lc_cell_meme": {
     "current": "61e90988-4f1a-11ea-9659-0242ac120005",
     "execution_end_time": "2020-02-15T15:09:32.078376Z",
     "history": [
      {
       "current": "61e90988-4f1a-11ea-9659-0242ac120005",
       "next": "61e90a5a-4f1a-11ea-9659-0242ac120005",
       "previous": "a52b6748-3789-11ea-a014-0242ac120005"
      }
     ],
     "next": "a96d480a-4f1a-11ea-9659-0242ac120005",
     "previous": "a52b6748-3789-11ea-a014-0242ac120005"
    },
    "lc_wrapper": {
     "log_history": [
      "/home/user4/notebooks/seminar-lc4ri/git/notebooks/.log/20200215/20200215-094417-0991.log",
      "/home/user4/notebooks/seminar-lc4ri/git/notebooks/.log/20200215/20200215-102727-0307.log",
      "/home/user4/notebooks/seminar-lc4ri/git/notebooks/.log/20200215/20200215-104440-0067.log",
      "/home/user4/notebooks/seminar-lc4ri/notebooks/.log/20200215/20200215-150930-0979.log"
     ]
    },
    "run_through_control": {
     "frozen": true
    }
   },
   "outputs": [
    {
     "name": "stdout",
     "output_type": "stream",
     "text": [
      "NAME                      AGE\r\n",
      "wordpress-backendconfig   3s\r\n"
     ]
    }
   ],
   "source": [
    "!kubectl get backendconfig"
   ]
  },
  {
   "cell_type": "code",
   "execution_count": 16,
   "metadata": {
    "deletable": false,
    "editable": false,
    "lc_cell_meme": {
     "current": "a96d480a-4f1a-11ea-9659-0242ac120005",
     "execution_end_time": "2020-02-15T15:09:33.206880Z",
     "next": "61e90a5a-4f1a-11ea-9659-0242ac120005",
     "previous": "61e90988-4f1a-11ea-9659-0242ac120005"
    },
    "lc_wrapper": {
     "log_history": [
      "/home/user4/notebooks/seminar-lc4ri/git/notebooks/.log/20200215/20200215-094419-0088.log",
      "/home/user4/notebooks/seminar-lc4ri/git/notebooks/.log/20200215/20200215-102728-0422.log",
      "/home/user4/notebooks/seminar-lc4ri/git/notebooks/.log/20200215/20200215-104441-0206.log",
      "/home/user4/notebooks/seminar-lc4ri/notebooks/.log/20200215/20200215-150932-0089.log"
     ]
    },
    "run_through_control": {
     "frozen": true
    }
   },
   "outputs": [
    {
     "name": "stdout",
     "output_type": "stream",
     "text": [
      "NAME         TYPE        CLUSTER-IP    EXTERNAL-IP   PORT(S)        AGE\r\n",
      "kubernetes   ClusterIP   10.56.0.1     <none>        443/TCP        3h37m\r\n",
      "wordpress    NodePort    10.56.6.249   <none>        80:30265/TCP   4s\r\n"
     ]
    }
   ],
   "source": [
    "!kubectl get service"
   ]
  },
  {
   "cell_type": "code",
   "execution_count": 17,
   "metadata": {
    "deletable": false,
    "editable": false,
    "lc_cell_meme": {
     "current": "61e90a5a-4f1a-11ea-9659-0242ac120005",
     "execution_end_time": "2020-02-15T15:09:34.275354Z",
     "history": [
      {
       "current": "61e90a5a-4f1a-11ea-9659-0242ac120005",
       "next": "b8275e26-378c-11ea-a014-0242ac120005",
       "previous": "61e90988-4f1a-11ea-9659-0242ac120005"
      },
      {
       "current": "61e90a5a-4f1a-11ea-9659-0242ac120005",
       "next": "473e43a4-378d-11ea-a014-0242ac120005",
       "previous": "a96d480a-4f1a-11ea-9659-0242ac120005"
      },
      {
       "current": "61e90a5a-4f1a-11ea-9659-0242ac120005",
       "next": "8ccf88c2-4fdb-11ea-a82e-0242ac120004",
       "previous": "a96d480a-4f1a-11ea-9659-0242ac120005"
      },
      {
       "current": "61e90a5a-4f1a-11ea-9659-0242ac120005",
       "next": "d460bec2-4fdb-11ea-a82e-0242ac120004",
       "previous": "a96d480a-4f1a-11ea-9659-0242ac120005"
      }
     ],
     "next": "04a86cde-4fe0-11ea-a82e-0242ac120004",
     "previous": "a96d480a-4f1a-11ea-9659-0242ac120005"
    },
    "lc_wrapper": {
     "log_history": [
      "/home/user4/notebooks/seminar-lc4ri/git/notebooks/.log/20200215/20200215-094420-0201.log",
      "/home/user4/notebooks/seminar-lc4ri/git/notebooks/.log/20200215/20200215-102729-0551.log",
      "/home/user4/notebooks/seminar-lc4ri/git/notebooks/.log/20200215/20200215-104442-0338.log",
      "/home/user4/notebooks/seminar-lc4ri/notebooks/.log/20200215/20200215-150933-0214.log"
     ]
    },
    "run_through_control": {
     "frozen": true
    },
    "scrolled": false
   },
   "outputs": [
    {
     "name": "stdout",
     "output_type": "stream",
     "text": [
      "NAME                HOSTS   ADDRESS   PORTS   AGE\r\n",
      "wordpress-ingress   *                 80      4s\r\n"
     ]
    }
   ],
   "source": [
    "!kubectl get ingress"
   ]
  },
  {
   "cell_type": "markdown",
   "metadata": {
    "lc_cell_meme": {
     "current": "04a86cde-4fe0-11ea-a82e-0242ac120004",
     "next": "8ccf88c2-4fdb-11ea-a82e-0242ac120004",
     "previous": "61e90a5a-4f1a-11ea-9659-0242ac120005"
    }
   },
   "source": [
    "Ingress作成待ち"
   ]
  },
  {
   "cell_type": "code",
   "execution_count": 19,
   "metadata": {
    "deletable": false,
    "editable": false,
    "lc_cell_meme": {
     "current": "8ccf88c2-4fdb-11ea-a82e-0242ac120004",
     "execution_end_time": "2020-02-15T15:11:11.300687Z",
     "history": [
      {
       "current": "8ccf88c2-4fdb-11ea-a82e-0242ac120004",
       "next": "473e43a4-378d-11ea-a014-0242ac120005",
       "previous": "61e90a5a-4f1a-11ea-9659-0242ac120005"
      },
      {
       "current": "8ccf88c2-4fdb-11ea-a82e-0242ac120004",
       "next": "473e43a4-378d-11ea-a014-0242ac120005",
       "previous": "d460bec2-4fdb-11ea-a82e-0242ac120004"
      },
      {
       "current": "8ccf88c2-4fdb-11ea-a82e-0242ac120004",
       "next": "57ebe148-4fde-11ea-a82e-0242ac120004",
       "previous": "d460bec2-4fdb-11ea-a82e-0242ac120004"
      },
      {
       "current": "8ccf88c2-4fdb-11ea-a82e-0242ac120004",
       "next": "9f250f9e-4fde-11ea-a82e-0242ac120004",
       "previous": "d460bec2-4fdb-11ea-a82e-0242ac120004"
      },
      {
       "current": "8ccf88c2-4fdb-11ea-a82e-0242ac120004",
       "next": "57ebe148-4fde-11ea-a82e-0242ac120004",
       "previous": "d460bec2-4fdb-11ea-a82e-0242ac120004"
      }
     ],
     "next": "04a86f18-4fe0-11ea-a82e-0242ac120004",
     "previous": "04a86cde-4fe0-11ea-a82e-0242ac120004"
    },
    "lc_wrapper": {
     "log_history": [
      "/home/user4/notebooks/seminar-lc4ri/git/notebooks/.log/20200215/20200215-101059-0493.log",
      "/home/user4/notebooks/seminar-lc4ri/git/notebooks/.log/20200215/20200215-101221-0215.log",
      "/home/user4/notebooks/seminar-lc4ri/git/notebooks/.log/20200215/20200215-101437-0077.log",
      "/home/user4/notebooks/seminar-lc4ri/git/notebooks/.log/20200215/20200215-101502-0969.log",
      "/home/user4/notebooks/seminar-lc4ri/git/notebooks/.log/20200215/20200215-101525-0613.log",
      "/home/user4/notebooks/seminar-lc4ri/git/notebooks/.log/20200215/20200215-101605-0646.log",
      "/home/user4/notebooks/seminar-lc4ri/git/notebooks/.log/20200215/20200215-101618-0629.log",
      "/home/user4/notebooks/seminar-lc4ri/git/notebooks/.log/20200215/20200215-101632-0301.log",
      "/home/user4/notebooks/seminar-lc4ri/git/notebooks/.log/20200215/20200215-101639-0940.log",
      "/home/user4/notebooks/seminar-lc4ri/git/notebooks/.log/20200215/20200215-101728-0384.log",
      "/home/user4/notebooks/seminar-lc4ri/git/notebooks/.log/20200215/20200215-101911-0636.log",
      "/home/user4/notebooks/seminar-lc4ri/git/notebooks/.log/20200215/20200215-101939-0507.log",
      "/home/user4/notebooks/seminar-lc4ri/git/notebooks/.log/20200215/20200215-101949-0396.log",
      "/home/user4/notebooks/seminar-lc4ri/git/notebooks/.log/20200215/20200215-102002-0276.log",
      "/home/user4/notebooks/seminar-lc4ri/git/notebooks/.log/20200215/20200215-102006-0522.log",
      "/home/user4/notebooks/seminar-lc4ri/git/notebooks/.log/20200215/20200215-102021-0163.log",
      "/home/user4/notebooks/seminar-lc4ri/git/notebooks/.log/20200215/20200215-102122-0914.log",
      "/home/user4/notebooks/seminar-lc4ri/git/notebooks/.log/20200215/20200215-102249-0203.log",
      "/home/user4/notebooks/seminar-lc4ri/git/notebooks/.log/20200215/20200215-102306-0113.log",
      "/home/user4/notebooks/seminar-lc4ri/git/notebooks/.log/20200215/20200215-102437-0409.log",
      "/home/user4/notebooks/seminar-lc4ri/git/notebooks/.log/20200215/20200215-102731-0769.log",
      "/home/user4/notebooks/seminar-lc4ri/git/notebooks/.log/20200215/20200215-102757-0897.log",
      "/home/user4/notebooks/seminar-lc4ri/git/notebooks/.log/20200215/20200215-102807-0735.log",
      "/home/user4/notebooks/seminar-lc4ri/git/notebooks/.log/20200215/20200215-103154-0614.log",
      "/home/user4/notebooks/seminar-lc4ri/git/notebooks/.log/20200215/20200215-103233-0310.log",
      "/home/user4/notebooks/seminar-lc4ri/git/notebooks/.log/20200215/20200215-103254-0974.log",
      "/home/user4/notebooks/seminar-lc4ri/git/notebooks/.log/20200215/20200215-103258-0841.log",
      "/home/user4/notebooks/seminar-lc4ri/git/notebooks/.log/20200215/20200215-103306-0247.log",
      "/home/user4/notebooks/seminar-lc4ri/git/notebooks/.log/20200215/20200215-103315-0158.log",
      "/home/user4/notebooks/seminar-lc4ri/git/notebooks/.log/20200215/20200215-104443-0471.log",
      "/home/user4/notebooks/seminar-lc4ri/git/notebooks/.log/20200215/20200215-104553-0544.log",
      "/home/user4/notebooks/seminar-lc4ri/notebooks/.log/20200215/20200215-150934-0283.log",
      "/home/user4/notebooks/seminar-lc4ri/notebooks/.log/20200215/20200215-150950-0388.log"
     ]
    },
    "run_through_control": {
     "frozen": true
    },
    "scrolled": false
   },
   "outputs": [
    {
     "name": "stdout",
     "output_type": "stream",
     "text": [
      "waiting...\n",
      "waiting...\n",
      "waiting...\n",
      "waiting...\n",
      "waiting...\n",
      "waiting...\n",
      "waiting...\n",
      "waiting...\n",
      "['34.107.205.110']\n"
     ]
    }
   ],
   "source": [
    "import time\n",
    "address = \"\"\n",
    "while len(address) < 1:\n",
    "    address = !kubectl get ingress -o jsonpath --template {.items[0].status.loadBalancer.ingress[0].ip}\n",
    "    print(\"waiting...\")\n",
    "    time.sleep(10)\n",
    "print(address)"
   ]
  },
  {
   "cell_type": "markdown",
   "metadata": {
    "lc_cell_meme": {
     "current": "04a86f18-4fe0-11ea-a82e-0242ac120004",
     "next": "57ebe148-4fde-11ea-a82e-0242ac120004",
     "previous": "8ccf88c2-4fdb-11ea-a82e-0242ac120004"
    }
   },
   "source": [
    "ロードバランサ準備待ち"
   ]
  },
  {
   "cell_type": "code",
   "execution_count": 20,
   "metadata": {
    "deletable": false,
    "editable": false,
    "lc_cell_meme": {
     "current": "57ebe148-4fde-11ea-a82e-0242ac120004",
     "execution_end_time": "2020-02-15T15:13:43.544878Z",
     "history": [
      {
       "current": "57ebe148-4fde-11ea-a82e-0242ac120004",
       "next": "473e43a4-378d-11ea-a014-0242ac120005",
       "previous": "8ccf88c2-4fdb-11ea-a82e-0242ac120004"
      },
      {
       "current": "57ebe148-4fde-11ea-a82e-0242ac120004",
       "next": "473e43a4-378d-11ea-a014-0242ac120005",
       "previous": "9f250f9e-4fde-11ea-a82e-0242ac120004"
      },
      {
       "current": "57ebe148-4fde-11ea-a82e-0242ac120004",
       "next": "473e43a4-378d-11ea-a014-0242ac120005",
       "previous": "8ccf88c2-4fdb-11ea-a82e-0242ac120004"
      },
      {
       "current": "57ebe148-4fde-11ea-a82e-0242ac120004",
       "next": "473e43a4-378d-11ea-a014-0242ac120005",
       "previous": "04a86f18-4fe0-11ea-a82e-0242ac120004"
      }
     ],
     "next": "fddc2e80-4fc7-11ea-a82e-0242ac120004",
     "previous": "04a86f18-4fe0-11ea-a82e-0242ac120004"
    },
    "lc_wrapper": {
     "log_history": [
      "/home/user4/notebooks/seminar-lc4ri/git/notebooks/.log/20200215/20200215-102954-0214.log",
      "/home/user4/notebooks/seminar-lc4ri/git/notebooks/.log/20200215/20200215-103006-0055.log",
      "/home/user4/notebooks/seminar-lc4ri/git/notebooks/.log/20200215/20200215-103052-0017.log",
      "/home/user4/notebooks/seminar-lc4ri/git/notebooks/.log/20200215/20200215-103058-0990.log",
      "/home/user4/notebooks/seminar-lc4ri/git/notebooks/.log/20200215/20200215-103519-0270.log",
      "/home/user4/notebooks/seminar-lc4ri/git/notebooks/.log/20200215/20200215-103537-0141.log",
      "/home/user4/notebooks/seminar-lc4ri/git/notebooks/.log/20200215/20200215-103540-0820.log",
      "/home/user4/notebooks/seminar-lc4ri/git/notebooks/.log/20200215/20200215-103544-0796.log",
      "/home/user4/notebooks/seminar-lc4ri/git/notebooks/.log/20200215/20200215-103555-0612.log",
      "/home/user4/notebooks/seminar-lc4ri/git/notebooks/.log/20200215/20200215-103627-0325.log",
      "/home/user4/notebooks/seminar-lc4ri/git/notebooks/.log/20200215/20200215-103723-0368.log",
      "/home/user4/notebooks/seminar-lc4ri/git/notebooks/.log/20200215/20200215-103805-0140.log",
      "/home/user4/notebooks/seminar-lc4ri/git/notebooks/.log/20200215/20200215-103932-0005.log",
      "/home/user4/notebooks/seminar-lc4ri/git/notebooks/.log/20200215/20200215-104657-0645.log",
      "/home/user4/notebooks/seminar-lc4ri/notebooks/.log/20200215/20200215-151111-0309.log"
     ]
    },
    "run_through_control": {
     "frozen": true
    }
   },
   "outputs": [
    {
     "name": "stdout",
     "output_type": "stream",
     "text": [
      "waiting... (status_code=404)\n",
      "waiting... (status_code=404)\n",
      "waiting... (status_code=404)\n",
      "waiting... (status_code=404)\n",
      "waiting... (status_code=404)\n",
      "waiting... (status_code=404)\n",
      "waiting... (status_code=404)\n",
      "waiting... (status_code=404)\n",
      "waiting... (status_code=404)\n",
      "waiting... (status_code=404)\n",
      "waiting... (status_code=404)\n",
      "waiting... (status_code=404)\n",
      "waiting... (status_code=404)\n",
      "waiting... (status_code=404)\n",
      "waiting... (status_code=404)\n",
      "200\n",
      "HTTP/1.1 302 Found\n",
      "Date: Sat, 15 Feb 2020 15:13:43 GMT\n",
      "Server: Apache/2.4.10 (Debian)\n",
      "X-Powered-By: PHP/5.6.32\n",
      "Expires: Wed, 11 Jan 1984 05:00:00 GMT\n",
      "Cache-Control: no-cache, must-revalidate, max-age=0\n",
      "Location: http://34.107.205.110/wp-admin/install.php\n",
      "Content-Type: text/html; charset=UTF-8\n",
      "Via: 1.1 google\n",
      "Set-Cookie: GCLB=CNmXgMKZ-KyzFA; path=/; HttpOnly; expires=Sat, 15-Feb-2020 15:14:33 GMT\n",
      "Transfer-Encoding: chunked\n",
      "\n"
     ]
    }
   ],
   "source": [
    "import requests\n",
    "\n",
    "while True:\n",
    "    \n",
    "    try:\n",
    "        r = requests.get('http://'+ address[0])\n",
    "    except ConnectionError:\n",
    "        print(\"not establish\")\n",
    "\n",
    "    if r.status_code < 400 :\n",
    "        print(r.status_code)\n",
    "        break\n",
    "        \n",
    "    print(\"waiting... (status_code=\" + str(r.status_code) + \")\")\n",
    "    time.sleep(10)\n",
    "\n",
    "!curl -I {\"http://\" + address[0]}"
   ]
  },
  {
   "cell_type": "code",
   "execution_count": 21,
   "metadata": {
    "deletable": false,
    "editable": false,
    "lc_cell_meme": {
     "current": "fddc2e80-4fc7-11ea-a82e-0242ac120004",
     "execution_end_time": "2020-02-15T15:13:44.552775Z",
     "history": [
      {
       "current": "fddc2e80-4fc7-11ea-a82e-0242ac120004",
       "next": null,
       "previous": "473e43a4-378d-11ea-a014-0242ac120005"
      }
     ],
     "next": null,
     "previous": "57ebe148-4fde-11ea-a82e-0242ac120004"
    },
    "lc_wrapper": {
     "log_history": [
      "/home/user4/notebooks/seminar-lc4ri/git/notebooks/.log/20200215/20200215-094421-0282.log",
      "/home/user4/notebooks/seminar-lc4ri/git/notebooks/.log/20200215/20200215-102732-0794.log",
      "/home/user4/notebooks/seminar-lc4ri/git/notebooks/.log/20200215/20200215-104909-0414.log",
      "/home/user4/notebooks/seminar-lc4ri/notebooks/.log/20200215/20200215-151343-0553.log"
     ]
    },
    "run_through_control": {
     "frozen": true
    }
   },
   "outputs": [
    {
     "name": "stdout",
     "output_type": "stream",
     "text": [
      "Sat Feb 15 15:13:44 UTC 2020\r\n"
     ]
    }
   ],
   "source": [
    "!date"
   ]
  }
 ],
 "metadata": {
  "kernelspec": {
   "display_name": "Python 3",
   "language": "python",
   "name": "python3"
  },
  "language_info": {
   "file_extension": ".py",
   "mimetype": "text/x-python",
   "name": "python",
   "nbconvert_exporter": "python",
   "pygments_lexer": "ipython3",
   "version": "3.7.3"
  },
  "lc_notebook_meme": {
   "current": "5efff374-3789-11ea-a014-0242ac120005",
   "lc_server_signature": {
    "current": {
     "notebook_dir": "/home/user4/notebooks",
     "notebook_path": "/seminar-lc4ri/notebooks",
     "server_url": "https://operationhub.kgr-lab.com/user/user4/",
     "signature_id": "ae27fcb2-043f-11ea-b29c-0242ac120002"
    },
    "history": [
     {
      "notebook_dir": "/home/user3/notebooks",
      "notebook_path": "/",
      "server_url": "https://operationhub.kgr-lab.com/user/user3/",
      "signature_id": "ae27fcb2-043f-11ea-b29c-0242ac120002"
     },
     {
      "notebook_dir": "/home/user4/notebooks",
      "notebook_path": "/seminar-lc4ri/git/notebooks",
      "server_url": "https://operationhub.kgr-lab.com/user/user4/",
      "signature_id": "ae27fcb2-043f-11ea-b29c-0242ac120002"
     }
    ]
   }
  },
  "toc": {
   "base_numbering": 1,
   "nav_menu": {},
   "number_sections": true,
   "sideBar": true,
   "skip_h1_title": false,
   "title_cell": "Table of Contents",
   "title_sidebar": "Contents",
   "toc_cell": false,
   "toc_position": {
    "height": "calc(100% - 180px)",
    "left": "10px",
    "top": "150px",
    "width": "214.238px"
   },
   "toc_section_display": true,
   "toc_window_display": true
  }
 },
 "nbformat": 4,
 "nbformat_minor": 2
}
