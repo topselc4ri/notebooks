{
 "cells": [
  {
   "cell_type": "markdown",
   "metadata": {
    "lc_cell_meme": {
     "current": "657c625a-378e-11ea-a014-0242ac120005",
     "execution_end_time": "2020-01-15T11:59:23.906789Z",
     "next": "7bc30572-378a-11ea-a014-0242ac120005",
     "previous": null
    },
    "lc_wrapper": {
     "log_history": [
      "/home/user3/notebooks/.log/20200115/20200115-115923-0899.log"
     ]
    }
   },
   "source": [
    "# Kubernetesリソースの作成"
   ]
  },
  {
   "cell_type": "markdown",
   "metadata": {
    "lc_cell_meme": {
     "current": "7bc30572-378a-11ea-a014-0242ac120005",
     "history": [
      {
       "current": "7bc30572-378a-11ea-a014-0242ac120005",
       "next": "ecd64aa4-3789-11ea-a014-0242ac120005",
       "previous": null
      },
      {
       "current": "7bc30572-378a-11ea-a014-0242ac120005",
       "next": "ecd64aa4-3789-11ea-a014-0242ac120005",
       "previous": null
      }
     ],
     "next": "ecd64aa4-3789-11ea-a014-0242ac120005",
     "previous": "657c625a-378e-11ea-a014-0242ac120005"
    }
   },
   "source": [
    "## GitHubからYAMLを取得する\n",
    "プロジェクトのGitHubからGKEでWordPressを動かすためのYAMLファイルを取得する。"
   ]
  },
  {
   "cell_type": "code",
   "execution_count": 2,
   "metadata": {
    "deletable": false,
    "editable": false,
    "lc_cell_meme": {
     "current": "ecd64aa4-3789-11ea-a014-0242ac120005",
     "execution_end_time": "2020-01-15T11:40:09.251028Z",
     "history": [
      {
       "current": "ecd64aa4-3789-11ea-a014-0242ac120005",
       "next": "ecd64db0-3789-11ea-a014-0242ac120005",
       "previous": "5efff658-3789-11ea-a014-0242ac120005"
      },
      {
       "current": "ecd64aa4-3789-11ea-a014-0242ac120005",
       "next": "a52b650e-3789-11ea-a014-0242ac120005",
       "previous": null
      },
      {
       "current": "ecd64aa4-3789-11ea-a014-0242ac120005",
       "next": "a52b650e-3789-11ea-a014-0242ac120005",
       "previous": "7bc30572-378a-11ea-a014-0242ac120005"
      },
      {
       "current": "ecd64aa4-3789-11ea-a014-0242ac120005",
       "next": "c36f2cc0-378a-11ea-a014-0242ac120005",
       "previous": "7bc30572-378a-11ea-a014-0242ac120005"
      }
     ],
     "next": "70a6b47a-378c-11ea-a014-0242ac120005",
     "previous": "7bc30572-378a-11ea-a014-0242ac120005"
    },
    "lc_wrapper": {
     "log_history": [
      "/home/user3/notebooks/.log/20200115/20200115-114006-0552.log"
     ]
    },
    "run_through_control": {
     "frozen": true,
     "read_only": false
    }
   },
   "outputs": [
    {
     "name": "stdout",
     "output_type": "stream",
     "text": [
      "Cloning into 'k8s-wordpress-mysql'...\n",
      "remote: Enumerating objects: 71, done.\u001b[K\n",
      "remote: Counting objects: 100% (71/71), done.\u001b[K\n",
      "remote: Compressing objects: 100% (55/55), done.\u001b[K\n",
      "remote: Total 71 (delta 31), reused 42 (delta 14), pack-reused 0\u001b[K\n",
      "Unpacking objects: 100% (71/71), done.\n"
     ]
    }
   ],
   "source": [
    "branch_name=\"master\"\n",
    "!rm -rf k8s-wordpress-mysql\n",
    "!git clone -b {branch_name} https://github.com/topselc4ri/k8s-wordpress-mysql.git"
   ]
  },
  {
   "cell_type": "markdown",
   "metadata": {
    "lc_cell_meme": {
     "current": "70a6b47a-378c-11ea-a014-0242ac120005",
     "next": "70a6b880-378c-11ea-a014-0242ac120005",
     "previous": "ecd64aa4-3789-11ea-a014-0242ac120005"
    }
   },
   "source": [
    "## [オプション] kubectlの設定\n",
    "GKEクラスタの構築から続けて実行する場合は、この手順を省略可能。"
   ]
  },
  {
   "cell_type": "code",
   "execution_count": 6,
   "metadata": {
    "deletable": false,
    "editable": false,
    "lc_cell_meme": {
     "current": "70a6b880-378c-11ea-a014-0242ac120005",
     "execution_end_time": "2020-01-15T11:44:58.692056Z",
     "next": "c36f2cc0-378a-11ea-a014-0242ac120005",
     "previous": "70a6b47a-378c-11ea-a014-0242ac120005"
    },
    "lc_wrapper": {
     "log_history": [
      "/home/user3/notebooks/.log/20200115/20200115-114432-0856.log",
      "/home/user3/notebooks/.log/20200115/20200115-114451-0782.log"
     ]
    },
    "run_through_control": {
     "frozen": true,
     "read_only": false
    }
   },
   "outputs": [
    {
     "name": "stdout",
     "output_type": "stream",
     "text": [
      "Fetching cluster endpoint and auth data.\n",
      "kubeconfig entry generated for topse-cluster.\n",
      "  % Total    % Received % Xferd  Average Speed   Time    Time     Time  Current\n",
      "                                 Dload  Upload   Total   Spent    Left  Speed\n",
      "100 41.4M  100 41.4M    0     0   101M      0 --:--:-- --:--:-- --:--:--  101M\n",
      "Client Version: version.Info{Major:\"1\", Minor:\"17\", GitVersion:\"v1.17.1\", GitCommit:\"d224476cd0730baca2b6e357d144171ed74192d6\", GitTreeState:\"clean\", BuildDate:\"2020-01-14T21:04:32Z\", GoVersion:\"go1.13.5\", Compiler:\"gc\", Platform:\"linux/amd64\"}\n",
      "Server Version: version.Info{Major:\"1\", Minor:\"13+\", GitVersion:\"v1.13.11-gke.14\", GitCommit:\"56d89863d1033f9668ddd6e1c1aea81cd846ef88\", GitTreeState:\"clean\", BuildDate:\"2019-11-07T19:12:22Z\", GoVersion:\"go1.12.11b4\", Compiler:\"gc\", Platform:\"linux/amd64\"}\n"
     ]
    }
   ],
   "source": [
    "cluster_name = \"topse-cluster\"\n",
    "region=\"us-west1\"\n",
    "!gcloud container clusters get-credentials {cluster_name} --region {region}\n",
    "!curl -LO https://storage.googleapis.com/kubernetes-release/release/$(curl -s https://storage.googleapis.com/kubernetes-release/release/stable.txt)/bin/linux/amd64/kubectl\n",
    "!chmod +x ./kubectl\n",
    "!sudo mv ./kubectl /usr/local/bin/kubectl\n",
    "!kubectl version "
   ]
  },
  {
   "cell_type": "markdown",
   "metadata": {
    "lc_cell_meme": {
     "current": "c36f2cc0-378a-11ea-a014-0242ac120005",
     "execution_end_time": "2020-01-15T11:35:13.480988Z",
     "history": [
      {
       "current": "c36f2cc0-378a-11ea-a014-0242ac120005",
       "next": "a52b650e-3789-11ea-a014-0242ac120005",
       "previous": "ecd64aa4-3789-11ea-a014-0242ac120005"
      }
     ],
     "next": "a52b650e-3789-11ea-a014-0242ac120005",
     "previous": "70a6b880-378c-11ea-a014-0242ac120005"
    },
    "lc_wrapper": {
     "log_history": [
      "/home/user3/notebooks/.log/20200115/20200115-113513-0466.log"
     ]
    }
   },
   "source": [
    "## オブジェクトを作成する\n",
    "既に存在する場合は更新になります。"
   ]
  },
  {
   "cell_type": "code",
   "execution_count": 18,
   "metadata": {
    "deletable": false,
    "editable": false,
    "lc_cell_meme": {
     "current": "a52b650e-3789-11ea-a014-0242ac120005",
     "execution_end_time": "2020-01-15T11:52:03.218082Z",
     "history": [
      {
       "current": "a52b650e-3789-11ea-a014-0242ac120005",
       "next": "a52b6748-3789-11ea-a014-0242ac120005",
       "previous": "5efff658-3789-11ea-a014-0242ac120005"
      },
      {
       "current": "a52b650e-3789-11ea-a014-0242ac120005",
       "next": "a52b6748-3789-11ea-a014-0242ac120005",
       "previous": "ecd64db0-3789-11ea-a014-0242ac120005"
      },
      {
       "current": "a52b650e-3789-11ea-a014-0242ac120005",
       "next": "a52b6748-3789-11ea-a014-0242ac120005",
       "previous": "ecd64aa4-3789-11ea-a014-0242ac120005"
      }
     ],
     "next": "a52b6748-3789-11ea-a014-0242ac120005",
     "previous": "c36f2cc0-378a-11ea-a014-0242ac120005"
    },
    "lc_wrapper": {
     "log_history": [
      "/home/user3/notebooks/.log/20200115/20200115-114016-0013.log",
      "/home/user3/notebooks/.log/20200115/20200115-115200-0707.log"
     ]
    },
    "run_through_control": {
     "frozen": true,
     "read_only": false
    }
   },
   "outputs": [
    {
     "name": "stdout",
     "output_type": "stream",
     "text": [
      "persistentvolume/fileserver created\n",
      "persistentvolumeclaim/fileserver-claim created\n"
     ]
    }
   ],
   "source": [
    "!kubectl apply -f k8s-wordpress-mysql/nfs/gcp-filestore.yaml\n",
    "!kubectl apply -f k8s-wordpress-mysql/nfs/persistent-volume-claim.yaml"
   ]
  },
  {
   "cell_type": "code",
   "execution_count": 4,
   "metadata": {
    "deletable": false,
    "editable": false,
    "lc_cell_meme": {
     "current": "a52b6748-3789-11ea-a014-0242ac120005",
     "execution_end_time": "2020-01-15T11:40:26.900762Z",
     "history": [
      {
       "current": "a52b6748-3789-11ea-a014-0242ac120005",
       "next": null,
       "previous": "a52b650e-3789-11ea-a014-0242ac120005"
      },
      {
       "current": "a52b6748-3789-11ea-a014-0242ac120005",
       "next": "ecd64eaa-3789-11ea-a014-0242ac120005",
       "previous": "a52b650e-3789-11ea-a014-0242ac120005"
      },
      {
       "current": "a52b6748-3789-11ea-a014-0242ac120005",
       "next": "7bc3095a-378a-11ea-a014-0242ac120005",
       "previous": "a52b650e-3789-11ea-a014-0242ac120005"
      }
     ],
     "next": "b8275e26-378c-11ea-a014-0242ac120005",
     "previous": "a52b650e-3789-11ea-a014-0242ac120005"
    },
    "lc_wrapper": {
     "log_history": [
      "/home/user3/notebooks/.log/20200115/20200115-114021-0755.log"
     ]
    },
    "run_through_control": {
     "frozen": true,
     "read_only": false
    }
   },
   "outputs": [
    {
     "name": "stdout",
     "output_type": "stream",
     "text": [
      "deployment.apps/wordpress created\n",
      "backendconfig.cloud.google.com/wordpress-backendconfig created\n",
      "service/wordpress created\n",
      "ingress.extensions/wordpress-ingress created\n"
     ]
    }
   ],
   "source": [
    "!kubectl apply -f k8s-wordpress-mysql/wordpress/wordpress.yaml\n",
    "!kubectl apply -f k8s-wordpress-mysql/wordpress/wordpress-backendconfig.yaml\n",
    "!kubectl apply -f k8s-wordpress-mysql/wordpress/wordpress-service.yaml\n",
    "!kubectl apply -f k8s-wordpress-mysql/wordpress/wordpress-ingress.yaml"
   ]
  },
  {
   "cell_type": "markdown",
   "metadata": {
    "lc_cell_meme": {
     "current": "b8275e26-378c-11ea-a014-0242ac120005",
     "history": [
      {
       "current": "b8275e26-378c-11ea-a014-0242ac120005",
       "next": "b82760a6-378c-11ea-a014-0242ac120005",
       "previous": "a52b6748-3789-11ea-a014-0242ac120005"
      }
     ],
     "next": "ffb31ff0-378c-11ea-a014-0242ac120005",
     "previous": "a52b6748-3789-11ea-a014-0242ac120005"
    }
   },
   "source": [
    "## オブジェクトを確認する\n",
    "各オブジェクトが作成されているかを確認する。"
   ]
  },
  {
   "cell_type": "code",
   "execution_count": 11,
   "metadata": {
    "deletable": false,
    "editable": false,
    "lc_cell_meme": {
     "current": "ffb31ff0-378c-11ea-a014-0242ac120005",
     "execution_end_time": "2020-01-15T11:49:07.206608Z",
     "history": [
      {
       "current": "ffb31ff0-378c-11ea-a014-0242ac120005",
       "next": "b82760a6-378c-11ea-a014-0242ac120005",
       "previous": "b8275e26-378c-11ea-a014-0242ac120005"
      }
     ],
     "next": "473e40f2-378d-11ea-a014-0242ac120005",
     "previous": "b8275e26-378c-11ea-a014-0242ac120005"
    },
    "lc_wrapper": {
     "log_history": [
      "/home/user3/notebooks/.log/20200115/20200115-114906-0080.log"
     ]
    },
    "run_through_control": {
     "frozen": true,
     "read_only": false
    }
   },
   "outputs": [
    {
     "name": "stdout",
     "output_type": "stream",
     "text": [
      "NAME         CAPACITY   ACCESS MODES   RECLAIM POLICY   STATUS   CLAIM                      STORAGECLASS   REASON   AGE\r\n",
      "fileserver   1G         RWX            Retain           Bound    default/fileserver-claim                           8m50s\r\n"
     ]
    }
   ],
   "source": [
    "!kubectl get PersistentVolume"
   ]
  },
  {
   "cell_type": "code",
   "execution_count": 12,
   "metadata": {
    "deletable": false,
    "editable": false,
    "lc_cell_meme": {
     "current": "473e40f2-378d-11ea-a014-0242ac120005",
     "execution_end_time": "2020-01-15T11:49:36.533623Z",
     "next": "b82760a6-378c-11ea-a014-0242ac120005",
     "previous": "ffb31ff0-378c-11ea-a014-0242ac120005"
    },
    "lc_wrapper": {
     "log_history": [
      "/home/user3/notebooks/.log/20200115/20200115-114935-0401.log"
     ]
    },
    "run_through_control": {
     "frozen": true,
     "read_only": false
    }
   },
   "outputs": [
    {
     "name": "stdout",
     "output_type": "stream",
     "text": [
      "NAME               STATUS   VOLUME       CAPACITY   ACCESS MODES   STORAGECLASS   AGE\r\n",
      "fileserver-claim   Bound    fileserver   1G         RWX                           9m18s\r\n"
     ]
    }
   ],
   "source": [
    "!kubectl get PersistentVolumeClaim"
   ]
  },
  {
   "cell_type": "code",
   "execution_count": 7,
   "metadata": {
    "deletable": false,
    "editable": false,
    "lc_cell_meme": {
     "current": "b82760a6-378c-11ea-a014-0242ac120005",
     "execution_end_time": "2020-01-15T11:46:58.496206Z",
     "history": [
      {
       "current": "b82760a6-378c-11ea-a014-0242ac120005",
       "next": "7bc3095a-378a-11ea-a014-0242ac120005",
       "previous": "b8275e26-378c-11ea-a014-0242ac120005"
      },
      {
       "current": "b82760a6-378c-11ea-a014-0242ac120005",
       "next": "ffb32266-378c-11ea-a014-0242ac120005",
       "previous": "ffb31ff0-378c-11ea-a014-0242ac120005"
      }
     ],
     "next": "ffb32266-378c-11ea-a014-0242ac120005",
     "previous": "473e40f2-378d-11ea-a014-0242ac120005"
    },
    "lc_wrapper": {
     "log_history": [
      "/home/user3/notebooks/.log/20200115/20200115-114657-0366.log"
     ]
    },
    "run_through_control": {
     "frozen": true,
     "read_only": false
    }
   },
   "outputs": [
    {
     "name": "stdout",
     "output_type": "stream",
     "text": [
      "NAME                        READY   STATUS    RESTARTS   AGE\r\n",
      "wordpress-587fb7799-ptbp6   1/1     Running   0          6m36s\r\n"
     ]
    }
   ],
   "source": [
    "!kubectl get pods"
   ]
  },
  {
   "cell_type": "code",
   "execution_count": 10,
   "metadata": {
    "deletable": false,
    "editable": false,
    "lc_cell_meme": {
     "current": "ffb32266-378c-11ea-a014-0242ac120005",
     "execution_end_time": "2020-01-15T11:48:27.477183Z",
     "next": "ffb32356-378c-11ea-a014-0242ac120005",
     "previous": "b82760a6-378c-11ea-a014-0242ac120005"
    },
    "lc_wrapper": {
     "log_history": [
      "/home/user3/notebooks/.log/20200115/20200115-114826-0363.log"
     ]
    },
    "run_through_control": {
     "frozen": true,
     "read_only": false
    }
   },
   "outputs": [
    {
     "name": "stdout",
     "output_type": "stream",
     "text": [
      "NAME                      AGE\r\n",
      "wordpress-backendconfig   8m\r\n"
     ]
    }
   ],
   "source": [
    "!kubectl get backendconfig"
   ]
  },
  {
   "cell_type": "code",
   "execution_count": 8,
   "metadata": {
    "deletable": false,
    "editable": false,
    "lc_cell_meme": {
     "current": "ffb32356-378c-11ea-a014-0242ac120005",
     "execution_end_time": "2020-01-15T11:47:11.714187Z",
     "next": "ffb3241e-378c-11ea-a014-0242ac120005",
     "previous": "ffb32266-378c-11ea-a014-0242ac120005"
    },
    "lc_wrapper": {
     "log_history": [
      "/home/user3/notebooks/.log/20200115/20200115-114710-0575.log"
     ]
    },
    "run_through_control": {
     "frozen": true,
     "read_only": false
    }
   },
   "outputs": [
    {
     "name": "stdout",
     "output_type": "stream",
     "text": [
      "NAME         TYPE        CLUSTER-IP    EXTERNAL-IP   PORT(S)        AGE\r\n",
      "kubernetes   ClusterIP   10.56.0.1     <none>        443/TCP        15m\r\n",
      "wordpress    NodePort    10.56.11.32   <none>        80:30810/TCP   6m46s\r\n"
     ]
    }
   ],
   "source": [
    "!kubectl get service"
   ]
  },
  {
   "cell_type": "code",
   "execution_count": 9,
   "metadata": {
    "deletable": false,
    "editable": false,
    "lc_cell_meme": {
     "current": "ffb3241e-378c-11ea-a014-0242ac120005",
     "execution_end_time": "2020-01-15T11:47:26.698530Z",
     "history": [
      {
       "current": "ffb3241e-378c-11ea-a014-0242ac120005",
       "next": "7bc3095a-378a-11ea-a014-0242ac120005",
       "previous": "ffb32356-378c-11ea-a014-0242ac120005"
      }
     ],
     "next": "473e43a4-378d-11ea-a014-0242ac120005",
     "previous": "ffb32356-378c-11ea-a014-0242ac120005"
    },
    "lc_wrapper": {
     "log_history": [
      "/home/user3/notebooks/.log/20200115/20200115-114725-0598.log"
     ]
    },
    "run_through_control": {
     "frozen": true,
     "read_only": false
    }
   },
   "outputs": [
    {
     "name": "stdout",
     "output_type": "stream",
     "text": [
      "NAME                HOSTS   ADDRESS          PORTS   AGE\r\n",
      "wordpress-ingress   *       34.107.205.110   80      7m\r\n"
     ]
    }
   ],
   "source": [
    "!kubectl get ingress"
   ]
  },
  {
   "cell_type": "markdown",
   "metadata": {
    "lc_cell_meme": {
     "current": "473e43a4-378d-11ea-a014-0242ac120005",
     "next": "7bc3095a-378a-11ea-a014-0242ac120005",
     "previous": "ffb3241e-378c-11ea-a014-0242ac120005"
    }
   },
   "source": [
    "ingressにパブリックIPアドレス(ADDRESS)が割り当てられるまでには5分程かかります。\n",
    "更に5分～10分程待つと、WebブラウザからアクセスしてWordPressの画面が見えるようになる。"
   ]
  },
  {
   "cell_type": "markdown",
   "metadata": {
    "lc_cell_meme": {
     "current": "7bc3095a-378a-11ea-a014-0242ac120005",
     "history": [
      {
       "current": "7bc3095a-378a-11ea-a014-0242ac120005",
       "next": "ecd64eaa-3789-11ea-a014-0242ac120005",
       "previous": "a52b6748-3789-11ea-a014-0242ac120005"
      },
      {
       "current": "7bc3095a-378a-11ea-a014-0242ac120005",
       "next": "ecd64eaa-3789-11ea-a014-0242ac120005",
       "previous": "b82760a6-378c-11ea-a014-0242ac120005"
      },
      {
       "current": "7bc3095a-378a-11ea-a014-0242ac120005",
       "next": "ecd64eaa-3789-11ea-a014-0242ac120005",
       "previous": "ffb3241e-378c-11ea-a014-0242ac120005"
      }
     ],
     "next": "ecd64eaa-3789-11ea-a014-0242ac120005",
     "previous": "473e43a4-378d-11ea-a014-0242ac120005"
    }
   },
   "source": [
    "# Kubernetesリソースの削除\n",
    "不要になったKubernetesリソースを削除する。"
   ]
  },
  {
   "cell_type": "code",
   "execution_count": 13,
   "metadata": {
    "deletable": false,
    "editable": false,
    "lc_cell_meme": {
     "current": "ecd64eaa-3789-11ea-a014-0242ac120005",
     "execution_end_time": "2020-01-15T11:50:46.592316Z",
     "history": [
      {
       "current": "ecd64eaa-3789-11ea-a014-0242ac120005",
       "next": null,
       "previous": "a52b6748-3789-11ea-a014-0242ac120005"
      }
     ],
     "next": "7bc30a68-378a-11ea-a014-0242ac120005",
     "previous": "7bc3095a-378a-11ea-a014-0242ac120005"
    },
    "lc_wrapper": {
     "log_history": [
      "/home/user3/notebooks/.log/20200115/20200115-115041-0579.log"
     ]
    },
    "run_through_control": {
     "frozen": true,
     "read_only": false
    }
   },
   "outputs": [
    {
     "name": "stdout",
     "output_type": "stream",
     "text": [
      "ingress.extensions \"wordpress-ingress\" deleted\n",
      "service \"wordpress\" deleted\n",
      "backendconfig.cloud.google.com \"wordpress-backendconfig\" deleted\n",
      "deployment.apps \"wordpress\" deleted\n"
     ]
    }
   ],
   "source": [
    "!kubectl delete -f k8s-wordpress-mysql/wordpress/wordpress-ingress.yaml\n",
    "!kubectl delete -f k8s-wordpress-mysql/wordpress/wordpress-service.yaml\n",
    "!kubectl delete -f k8s-wordpress-mysql/wordpress/wordpress-backendconfig.yaml\n",
    "!kubectl delete -f k8s-wordpress-mysql/wordpress/wordpress.yaml"
   ]
  },
  {
   "cell_type": "code",
   "execution_count": 19,
   "metadata": {
    "deletable": false,
    "editable": false,
    "lc_cell_meme": {
     "current": "7bc30a68-378a-11ea-a014-0242ac120005",
     "execution_end_time": "2020-01-15T11:52:12.975709Z",
     "history": [
      {
       "current": "7bc30a68-378a-11ea-a014-0242ac120005",
       "next": null,
       "previous": "ecd64eaa-3789-11ea-a014-0242ac120005"
      }
     ],
     "next": null,
     "previous": "ecd64eaa-3789-11ea-a014-0242ac120005"
    },
    "lc_wrapper": {
     "log_history": [
      "/home/user3/notebooks/.log/20200115/20200115-115049-0058.log",
      "/home/user3/notebooks/.log/20200115/20200115-115125-0324.log",
      "/home/user3/notebooks/.log/20200115/20200115-115138-0047.log",
      "/home/user3/notebooks/.log/20200115/20200115-115143-0867.log",
      "/home/user3/notebooks/.log/20200115/20200115-115210-0667.log"
     ]
    },
    "run_through_control": {
     "frozen": true,
     "read_only": false
    }
   },
   "outputs": [
    {
     "name": "stdout",
     "output_type": "stream",
     "text": [
      "persistentvolumeclaim \"fileserver-claim\" deleted\n",
      "persistentvolume \"fileserver\" deleted\n"
     ]
    }
   ],
   "source": [
    "!kubectl delete -f k8s-wordpress-mysql/nfs/persistent-volume-claim.yaml\n",
    "!kubectl delete -f k8s-wordpress-mysql/nfs/gcp-filestore.yaml"
   ]
  }
 ],
 "metadata": {
  "kernelspec": {
   "display_name": "Python 3",
   "language": "python",
   "name": "python3"
  },
  "language_info": {
   "file_extension": ".py",
   "mimetype": "text/x-python",
   "name": "python",
   "nbconvert_exporter": "python",
   "pygments_lexer": "ipython3",
   "version": "3.7.3"
  },
  "lc_notebook_meme": {
   "current": "5efff374-3789-11ea-a014-0242ac120005",
   "lc_server_signature": {
    "current": {
     "notebook_dir": "/home/user3/notebooks",
     "notebook_path": "/",
     "server_url": "https://operationhub.kgr-lab.com/user/user3/",
     "signature_id": "ae27fcb2-043f-11ea-b29c-0242ac120002"
    },
    "history": []
   }
  },
  "toc": {
   "base_numbering": 1,
   "nav_menu": {},
   "number_sections": true,
   "sideBar": true,
   "skip_h1_title": false,
   "title_cell": "Table of Contents",
   "title_sidebar": "Contents",
   "toc_cell": false,
   "toc_position": {},
   "toc_section_display": true,
   "toc_window_display": true
  }
 },
 "nbformat": 4,
 "nbformat_minor": 2
}
