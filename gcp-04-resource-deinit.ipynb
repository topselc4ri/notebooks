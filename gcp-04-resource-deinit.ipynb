{
 "cells": [
  {
   "cell_type": "code",
   "execution_count": 1,
   "metadata": {
    "deletable": false,
    "editable": false,
    "lc_cell_meme": {
     "current": "fe75117c-4fc7-11ea-a82e-0242ac120004",
     "execution_end_time": "2020-02-15T15:14:40.659706Z",
     "next": "2a2b3d12-4f1b-11ea-9659-0242ac120005",
     "previous": null
    },
    "lc_wrapper": {
     "log_history": [
      "/home/user4/notebooks/seminar-lc4ri/git/notebooks/.log/20200215/20200215-105125-0700.log",
      "/home/user4/notebooks/seminar-lc4ri/notebooks/.log/20200215/20200215-151439-0663.log"
     ]
    },
    "run_through_control": {
     "frozen": true
    }
   },
   "outputs": [
    {
     "name": "stdout",
     "output_type": "stream",
     "text": [
      "Sat Feb 15 15:14:40 UTC 2020\r\n"
     ]
    }
   ],
   "source": [
    "!date"
   ]
  },
  {
   "cell_type": "markdown",
   "metadata": {
    "lc_cell_meme": {
     "current": "2a2b3d12-4f1b-11ea-9659-0242ac120005",
     "execution_end_time": "2020-02-14T11:13:45.519528Z",
     "history": [
      {
       "current": "2a2b3d12-4f1b-11ea-9659-0242ac120005",
       "next": "2a2b3e0c-4f1b-11ea-9659-0242ac120005",
       "previous": null
      },
      {
       "current": "2a2b3d12-4f1b-11ea-9659-0242ac120005",
       "next": "847a2c58-4f1e-11ea-9659-0242ac120005",
       "previous": null
      },
      {
       "current": "2a2b3d12-4f1b-11ea-9659-0242ac120005",
       "next": "847a2c58-4f1e-11ea-9659-0242ac120005",
       "previous": "fe75117c-4fc7-11ea-a82e-0242ac120004"
      },
      {
       "current": "2a2b3d12-4f1b-11ea-9659-0242ac120005",
       "next": "bde0b84c-4fdf-11ea-a82e-0242ac120004",
       "previous": "fe75117c-4fc7-11ea-a82e-0242ac120004"
      },
      {
       "current": "2a2b3d12-4f1b-11ea-9659-0242ac120005",
       "next": "847a2c58-4f1e-11ea-9659-0242ac120005",
       "previous": "fe75117c-4fc7-11ea-a82e-0242ac120004"
      }
     ],
     "next": "44f8b19c-5006-11ea-a82e-0242ac120004",
     "previous": "fe75117c-4fc7-11ea-a82e-0242ac120004"
    },
    "lc_wrapper": {
     "log_history": [
      "/home/user4/notebooks/seminar-lc4ri/git/notebooks/.log/20200214/20200214-111345-0508.log"
     ]
    }
   },
   "source": [
    "# 削除"
   ]
  },
  {
   "cell_type": "markdown",
   "metadata": {
    "lc_cell_meme": {
     "current": "44f8b19c-5006-11ea-a82e-0242ac120004",
     "next": "847a2c58-4f1e-11ea-9659-0242ac120005",
     "previous": "2a2b3d12-4f1b-11ea-9659-0242ac120005"
    }
   },
   "source": [
    "作成したリソース情報を読み込む"
   ]
  },
  {
   "cell_type": "code",
   "execution_count": 2,
   "metadata": {
    "deletable": false,
    "editable": false,
    "lc_cell_meme": {
     "current": "847a2c58-4f1e-11ea-9659-0242ac120005",
     "execution_end_time": "2020-02-15T15:14:40.687076Z",
     "history": [
      {
       "current": "847a2c58-4f1e-11ea-9659-0242ac120005",
       "next": "2a2b3e0c-4f1b-11ea-9659-0242ac120005",
       "previous": "2a2b3d12-4f1b-11ea-9659-0242ac120005"
      },
      {
       "current": "847a2c58-4f1e-11ea-9659-0242ac120005",
       "next": "2a2b3e0c-4f1b-11ea-9659-0242ac120005",
       "previous": "bde0b84c-4fdf-11ea-a82e-0242ac120004"
      },
      {
       "current": "847a2c58-4f1e-11ea-9659-0242ac120005",
       "next": "2a2b3e0c-4f1b-11ea-9659-0242ac120005",
       "previous": "2a2b3d12-4f1b-11ea-9659-0242ac120005"
      }
     ],
     "next": "2a2b3e0c-4f1b-11ea-9659-0242ac120005",
     "previous": "44f8b19c-5006-11ea-a82e-0242ac120004"
    },
    "lc_wrapper": {
     "log_history": [
      "/home/user4/notebooks/seminar-lc4ri/git/notebooks/.log/20200214/20200214-113842-0730.log",
      "/home/user4/notebooks/seminar-lc4ri/git/notebooks/.log/20200214/20200214-123354-0967.log",
      "/home/user4/notebooks/seminar-lc4ri/git/notebooks/.log/20200215/20200215-102539-0157.log",
      "/home/user4/notebooks/seminar-lc4ri/git/notebooks/.log/20200215/20200215-104000-0588.log",
      "/home/user4/notebooks/seminar-lc4ri/git/notebooks/.log/20200215/20200215-104112-0818.log",
      "/home/user4/notebooks/seminar-lc4ri/git/notebooks/.log/20200215/20200215-105126-0698.log",
      "/home/user4/notebooks/seminar-lc4ri/notebooks/.log/20200215/20200215-151440-0668.log"
     ]
    },
    "run_through_control": {
     "frozen": true
    }
   },
   "outputs": [
    {
     "data": {
      "text/plain": [
       "{'vender': 'gcp',\n",
       " 'cloud_sql_ip': '10.253.0.3',\n",
       " 'cloud_sql_name': 'topse-wordpress-mysql-20200215112636',\n",
       " 'cluster_name': 'topse-cluster',\n",
       " 'dns_name': 'topse.private.',\n",
       " 'filestore_ip': '10.196.216.218',\n",
       " 'filestore_name': 'nfs-server',\n",
       " 'private_zone_name': 'topse-private-zone',\n",
       " 'region': 'us-west1',\n",
       " 'subnet_name': 'topse-subnet',\n",
       " 'vpc_name': 'topse-vpc',\n",
       " 'vpc_peering_name': 'topse-vpc-peering',\n",
       " 'zones': ['us-west1-a', 'us-west1-b']}"
      ]
     },
     "execution_count": 2,
     "metadata": {},
     "output_type": "execute_result"
    }
   ],
   "source": [
    "import json\n",
    "\n",
    "f = open('res_info.json', 'r')\n",
    "res_info = json.load(f)\n",
    "f.close()\n",
    "\n",
    "res_info"
   ]
  },
  {
   "cell_type": "markdown",
   "metadata": {
    "lc_cell_meme": {
     "current": "2a2b3e0c-4f1b-11ea-9659-0242ac120005",
     "history": [
      {
       "current": "2a2b3e0c-4f1b-11ea-9659-0242ac120005",
       "next": "71b23a3c-4f1b-11ea-9659-0242ac120005",
       "previous": "2a2b3d12-4f1b-11ea-9659-0242ac120005"
      }
     ],
     "next": "71b23a3c-4f1b-11ea-9659-0242ac120005",
     "previous": "847a2c58-4f1e-11ea-9659-0242ac120005"
    }
   },
   "source": [
    "## kubernatesリソースの削除"
   ]
  },
  {
   "cell_type": "code",
   "execution_count": 3,
   "metadata": {
    "deletable": false,
    "editable": false,
    "lc_cell_meme": {
     "current": "71b23a3c-4f1b-11ea-9659-0242ac120005",
     "execution_end_time": "2020-02-15T15:14:46.554306Z",
     "next": "71b23c1c-4f1b-11ea-9659-0242ac120005",
     "previous": "2a2b3e0c-4f1b-11ea-9659-0242ac120005"
    },
    "lc_wrapper": {
     "log_history": [
      "/home/user4/notebooks/seminar-lc4ri/git/notebooks/.log/20200214/20200214-111553-0777.log",
      "/home/user4/notebooks/seminar-lc4ri/git/notebooks/.log/20200214/20200214-123354-0996.log",
      "/home/user4/notebooks/seminar-lc4ri/git/notebooks/.log/20200215/20200215-102541-0289.log",
      "/home/user4/notebooks/seminar-lc4ri/git/notebooks/.log/20200215/20200215-104002-0851.log",
      "/home/user4/notebooks/seminar-lc4ri/git/notebooks/.log/20200215/20200215-104116-0787.log",
      "/home/user4/notebooks/seminar-lc4ri/git/notebooks/.log/20200215/20200215-105126-0720.log",
      "/home/user4/notebooks/seminar-lc4ri/notebooks/.log/20200215/20200215-151440-0696.log"
     ]
    },
    "run_through_control": {
     "frozen": true
    }
   },
   "outputs": [
    {
     "name": "stdout",
     "output_type": "stream",
     "text": [
      "secret \"mysql\" deleted\n",
      "ingress.extensions \"wordpress-ingress\" deleted\n",
      "service \"wordpress\" deleted\n",
      "backendconfig.cloud.google.com \"wordpress-backendconfig\" deleted\n",
      "deployment.apps \"wordpress\" deleted\n"
     ]
    }
   ],
   "source": [
    "!kubectl delete secret mysql\n",
    "!kubectl delete -f k8s-wordpress-mysql/wordpress/wordpress-ingress.yaml\n",
    "!kubectl delete -f k8s-wordpress-mysql/wordpress/wordpress-service.yaml\n",
    "!kubectl delete -f k8s-wordpress-mysql/wordpress/wordpress-backendconfig.yaml\n",
    "!kubectl delete -f k8s-wordpress-mysql/wordpress/wordpress.yaml"
   ]
  },
  {
   "cell_type": "code",
   "execution_count": 4,
   "metadata": {
    "deletable": false,
    "editable": false,
    "lc_cell_meme": {
     "current": "71b23c1c-4f1b-11ea-9659-0242ac120005",
     "execution_end_time": "2020-02-15T15:14:56.770965Z",
     "next": "71b23d5c-4f1b-11ea-9659-0242ac120005",
     "previous": "71b23a3c-4f1b-11ea-9659-0242ac120005"
    },
    "lc_wrapper": {
     "log_history": [
      "/home/user4/notebooks/seminar-lc4ri/git/notebooks/.log/20200215/20200215-102547-0099.log",
      "/home/user4/notebooks/seminar-lc4ri/git/notebooks/.log/20200215/20200215-104125-0026.log",
      "/home/user4/notebooks/seminar-lc4ri/git/notebooks/.log/20200215/20200215-105132-0533.log",
      "/home/user4/notebooks/seminar-lc4ri/notebooks/.log/20200215/20200215-151446-0562.log"
     ]
    },
    "run_through_control": {
     "frozen": true
    }
   },
   "outputs": [
    {
     "name": "stdout",
     "output_type": "stream",
     "text": [
      "persistentvolumeclaim \"fileserver-claim\" deleted\n",
      "persistentvolume \"fileserver\" deleted\n"
     ]
    }
   ],
   "source": [
    "!kubectl delete -f k8s-wordpress-mysql/nfs/persistent-volume-claim.yaml\n",
    "!kubectl delete -f k8s-wordpress-mysql/nfs/gcp-filestore.yaml"
   ]
  },
  {
   "cell_type": "markdown",
   "metadata": {
    "lc_cell_meme": {
     "current": "71b23d5c-4f1b-11ea-9659-0242ac120005",
     "history": [
      {
       "current": "71b23d5c-4f1b-11ea-9659-0242ac120005",
       "next": null,
       "previous": "71b23c1c-4f1b-11ea-9659-0242ac120005"
      }
     ],
     "next": "f5525c12-4f1d-11ea-9659-0242ac120005",
     "previous": "71b23c1c-4f1b-11ea-9659-0242ac120005"
    }
   },
   "source": [
    "## Cloud DNS 削除"
   ]
  },
  {
   "cell_type": "code",
   "execution_count": 5,
   "metadata": {
    "deletable": false,
    "editable": false,
    "lc_cell_meme": {
     "current": "f5525c12-4f1d-11ea-9659-0242ac120005",
     "execution_end_time": "2020-02-15T15:15:05.205124Z",
     "next": "f5525eb0-4f1d-11ea-9659-0242ac120005",
     "previous": "71b23d5c-4f1b-11ea-9659-0242ac120005"
    },
    "lc_wrapper": {
     "log_history": [
      "/home/user4/notebooks/seminar-lc4ri/git/notebooks/.log/20200214/20200214-123405-0902.log",
      "/home/user4/notebooks/seminar-lc4ri/git/notebooks/.log/20200215/20200215-105144-0047.log",
      "/home/user4/notebooks/seminar-lc4ri/notebooks/.log/20200215/20200215-151456-0778.log"
     ]
    },
    "run_through_control": {
     "frozen": true
    }
   },
   "outputs": [
    {
     "name": "stdout",
     "output_type": "stream",
     "text": [
      "Transaction started [transaction.yaml].\n",
      "Record removal appended to transaction at [transaction.yaml].\n",
      "Record removal appended to transaction at [transaction.yaml].\n",
      "Executed transaction [transaction.yaml] for managed-zone [topse-private-zone].\n",
      "Created [https://dns.googleapis.com/dns/v1/projects/topse-nagaku/managedZones/topse-private-zone/changes/3].\n",
      "ID  START_TIME                STATUS\n",
      "3   2020-02-15T15:15:03.329Z  pending\n",
      "Deleted [https://dns.googleapis.com/dns/v1beta2/projects/topse-nagaku/managedZones/topse-private-zone].\n"
     ]
    }
   ],
   "source": [
    "!gcloud dns record-sets transaction start --zone={res_info['private_zone_name']}\n",
    "!gcloud dns record-sets transaction remove {res_info['cloud_sql_ip']} --name=mysql.{res_info['dns_name']} --ttl=300 --type=A --zone={res_info['private_zone_name']}\n",
    "!gcloud dns record-sets transaction remove {res_info['filestore_ip']} --name=nfs.{res_info['dns_name']} --ttl=300 --type=A --zone={res_info['private_zone_name']}\n",
    "!gcloud dns record-sets transaction execute --zone={res_info['private_zone_name']}\n",
    "!gcloud beta dns managed-zones delete {res_info['private_zone_name']}"
   ]
  },
  {
   "cell_type": "markdown",
   "metadata": {
    "lc_cell_meme": {
     "current": "f5525eb0-4f1d-11ea-9659-0242ac120005",
     "next": "f5526018-4f1d-11ea-9659-0242ac120005",
     "previous": "f5525c12-4f1d-11ea-9659-0242ac120005"
    }
   },
   "source": [
    "## FileStore 削除"
   ]
  },
  {
   "cell_type": "code",
   "execution_count": 6,
   "metadata": {
    "deletable": false,
    "editable": false,
    "lc_cell_meme": {
     "current": "f5526018-4f1d-11ea-9659-0242ac120005",
     "execution_end_time": "2020-02-15T15:16:54.989449Z",
     "history": [
      {
       "current": "f5526018-4f1d-11ea-9659-0242ac120005",
       "next": null,
       "previous": "f5525eb0-4f1d-11ea-9659-0242ac120005"
      }
     ],
     "next": "3d1f1472-4f1e-11ea-9659-0242ac120005",
     "previous": "f5525eb0-4f1d-11ea-9659-0242ac120005"
    },
    "lc_wrapper": {
     "log_history": [
      "/home/user4/notebooks/seminar-lc4ri/git/notebooks/.log/20200214/20200214-123439-0194.log",
      "/home/user4/notebooks/seminar-lc4ri/git/notebooks/.log/20200214/20200214-123705-0843.log",
      "/home/user4/notebooks/seminar-lc4ri/git/notebooks/.log/20200215/20200215-105152-0512.log",
      "/home/user4/notebooks/seminar-lc4ri/notebooks/.log/20200215/20200215-151505-0213.log"
     ]
    },
    "run_through_control": {
     "frozen": true
    },
    "scrolled": true
   },
   "outputs": [
    {
     "name": "stdout",
     "output_type": "stream",
     "text": [
      "Waiting for [operation-1581779706876-59e9ec98a9119-086439b0-1d63da5d] to finish\n",
      "...done.                                                                       \n"
     ]
    }
   ],
   "source": [
    "!gcloud beta filestore instances delete {res_info['filestore_name']} --zone {res_info['zones'][0]} --quiet"
   ]
  },
  {
   "cell_type": "markdown",
   "metadata": {
    "lc_cell_meme": {
     "current": "3d1f1472-4f1e-11ea-9659-0242ac120005",
     "next": "3d1f165c-4f1e-11ea-9659-0242ac120005",
     "previous": "f5526018-4f1d-11ea-9659-0242ac120005"
    }
   },
   "source": [
    "## CloudSQL 削除"
   ]
  },
  {
   "cell_type": "code",
   "execution_count": 7,
   "metadata": {
    "deletable": false,
    "editable": false,
    "lc_cell_meme": {
     "current": "3d1f165c-4f1e-11ea-9659-0242ac120005",
     "execution_end_time": "2020-02-15T15:18:30.900491Z",
     "next": "3d1f17ba-4f1e-11ea-9659-0242ac120005",
     "previous": "3d1f1472-4f1e-11ea-9659-0242ac120005"
    },
    "lc_wrapper": {
     "log_history": [
      "/home/user4/notebooks/seminar-lc4ri/git/notebooks/.log/20200214/20200214-123759-0909.log",
      "/home/user4/notebooks/seminar-lc4ri/git/notebooks/.log/20200215/20200215-105341-0521.log",
      "/home/user4/notebooks/seminar-lc4ri/notebooks/.log/20200215/20200215-151654-0998.log"
     ]
    },
    "run_through_control": {
     "frozen": true
    }
   },
   "outputs": [
    {
     "name": "stdout",
     "output_type": "stream",
     "text": [
      "Deleting Cloud SQL instance...done.                                            \n",
      "Deleted [https://sqladmin.googleapis.com/sql/v1beta4/projects/topse-nagaku/instances/topse-wordpress-mysql-20200215112636].\n"
     ]
    }
   ],
   "source": [
    "!gcloud sql instances delete {res_info['cloud_sql_name']} --quiet"
   ]
  },
  {
   "cell_type": "markdown",
   "metadata": {
    "lc_cell_meme": {
     "current": "3d1f17ba-4f1e-11ea-9659-0242ac120005",
     "next": "3d1f18d2-4f1e-11ea-9659-0242ac120005",
     "previous": "3d1f165c-4f1e-11ea-9659-0242ac120005"
    }
   },
   "source": [
    "## VPC Peering削除"
   ]
  },
  {
   "cell_type": "code",
   "execution_count": 8,
   "metadata": {
    "deletable": false,
    "editable": false,
    "lc_cell_meme": {
     "current": "3d1f18d2-4f1e-11ea-9659-0242ac120005",
     "execution_end_time": "2020-02-15T15:18:37.100590Z",
     "history": [
      {
       "current": "3d1f18d2-4f1e-11ea-9659-0242ac120005",
       "next": "3d1f19cc-4f1e-11ea-9659-0242ac120005",
       "previous": "3d1f17ba-4f1e-11ea-9659-0242ac120005"
      }
     ],
     "next": "3d1f1b52-4f1e-11ea-9659-0242ac120005",
     "previous": "3d1f17ba-4f1e-11ea-9659-0242ac120005"
    },
    "lc_wrapper": {
     "log_history": [
      "/home/user4/notebooks/seminar-lc4ri/git/notebooks/.log/20200214/20200214-123915-0680.log",
      "/home/user4/notebooks/seminar-lc4ri/git/notebooks/.log/20200215/20200215-105456-0559.log",
      "/home/user4/notebooks/seminar-lc4ri/notebooks/.log/20200215/20200215-151830-0909.log"
     ]
    },
    "run_through_control": {
     "frozen": true
    }
   },
   "outputs": [
    {
     "name": "stdout",
     "output_type": "stream",
     "text": [
      "Deleted [https://www.googleapis.com/compute/v1/projects/topse-nagaku/global/addresses/topse-vpc-peering].\r\n"
     ]
    }
   ],
   "source": [
    "!gcloud compute addresses delete {res_info['vpc_peering_name']} --global --quiet"
   ]
  },
  {
   "cell_type": "markdown",
   "metadata": {
    "lc_cell_meme": {
     "current": "3d1f1b52-4f1e-11ea-9659-0242ac120005",
     "history": [
      {
       "current": "3d1f1b52-4f1e-11ea-9659-0242ac120005",
       "next": "3d1f1c10-4f1e-11ea-9659-0242ac120005",
       "previous": "3d1f1a8a-4f1e-11ea-9659-0242ac120005"
      }
     ],
     "next": "3d1f1c10-4f1e-11ea-9659-0242ac120005",
     "previous": "3d1f18d2-4f1e-11ea-9659-0242ac120005"
    }
   },
   "source": [
    "## GKE削除"
   ]
  },
  {
   "cell_type": "code",
   "execution_count": 9,
   "metadata": {
    "deletable": false,
    "editable": false,
    "lc_cell_meme": {
     "current": "3d1f1c10-4f1e-11ea-9659-0242ac120005",
     "execution_end_time": "2020-02-15T15:22:25.468095Z",
     "next": "3d1f1cc4-4f1e-11ea-9659-0242ac120005",
     "previous": "3d1f1b52-4f1e-11ea-9659-0242ac120005"
    },
    "lc_wrapper": {
     "log_history": [
      "/home/user4/notebooks/seminar-lc4ri/git/notebooks/.log/20200214/20200214-123921-0717.log",
      "/home/user4/notebooks/seminar-lc4ri/git/notebooks/.log/20200215/20200215-105502-0610.log",
      "/home/user4/notebooks/seminar-lc4ri/notebooks/.log/20200215/20200215-151837-0108.log"
     ]
    },
    "run_through_control": {
     "frozen": true
    }
   },
   "outputs": [
    {
     "name": "stdout",
     "output_type": "stream",
     "text": [
      "Deleting cluster topse-cluster...done.                                         \n",
      "Deleted [https://container.googleapis.com/v1/projects/topse-nagaku/zones/us-west1/clusters/topse-cluster].\n"
     ]
    }
   ],
   "source": [
    "!gcloud container clusters delete {res_info['cluster_name']} --region {res_info['region']} --quiet"
   ]
  },
  {
   "cell_type": "markdown",
   "metadata": {
    "lc_cell_meme": {
     "current": "3d1f1cc4-4f1e-11ea-9659-0242ac120005",
     "next": "3d1f1d82-4f1e-11ea-9659-0242ac120005",
     "previous": "3d1f1c10-4f1e-11ea-9659-0242ac120005"
    }
   },
   "source": [
    "## ファイアーウォールルール削除"
   ]
  },
  {
   "cell_type": "code",
   "execution_count": 10,
   "metadata": {
    "deletable": false,
    "editable": false,
    "lc_cell_meme": {
     "current": "3d1f1d82-4f1e-11ea-9659-0242ac120005",
     "execution_end_time": "2020-02-15T15:22:52.986776Z",
     "next": "3d1f1ef4-4f1e-11ea-9659-0242ac120005",
     "previous": "3d1f1cc4-4f1e-11ea-9659-0242ac120005"
    },
    "lc_wrapper": {
     "log_history": [
      "/home/user4/notebooks/seminar-lc4ri/git/notebooks/.log/20200214/20200214-124300-0072.log",
      "/home/user4/notebooks/seminar-lc4ri/git/notebooks/.log/20200215/20200215-105835-0746.log",
      "/home/user4/notebooks/seminar-lc4ri/notebooks/.log/20200215/20200215-152225-0477.log"
     ]
    },
    "run_through_control": {
     "frozen": true
    }
   },
   "outputs": [
    {
     "name": "stdout",
     "output_type": "stream",
     "text": [
      "Deleted [https://www.googleapis.com/compute/v1/projects/topse-nagaku/global/firewalls/topse-vpc-ssh-ingress].\n",
      "Deleted [https://www.googleapis.com/compute/v1/projects/topse-nagaku/global/firewalls/topse-vpc-mysql-ingress].\n"
     ]
    }
   ],
   "source": [
    "!gcloud compute firewall-rules delete {res_info['vpc_name']}-ssh-ingress --quiet\n",
    "!gcloud compute firewall-rules delete {res_info['vpc_name']}-mysql-ingress --quiet"
   ]
  },
  {
   "cell_type": "markdown",
   "metadata": {
    "lc_cell_meme": {
     "current": "3d1f1ef4-4f1e-11ea-9659-0242ac120005",
     "next": "3d1f2002-4f1e-11ea-9659-0242ac120005",
     "previous": "3d1f1d82-4f1e-11ea-9659-0242ac120005"
    }
   },
   "source": [
    "## サブネット削除"
   ]
  },
  {
   "cell_type": "code",
   "execution_count": 11,
   "metadata": {
    "deletable": false,
    "editable": false,
    "lc_cell_meme": {
     "current": "3d1f2002-4f1e-11ea-9659-0242ac120005",
     "execution_end_time": "2020-02-15T15:23:28.024368Z",
     "next": "3d1f20d4-4f1e-11ea-9659-0242ac120005",
     "previous": "3d1f1ef4-4f1e-11ea-9659-0242ac120005"
    },
    "lc_wrapper": {
     "log_history": [
      "/home/user4/notebooks/seminar-lc4ri/git/notebooks/.log/20200214/20200214-124318-0562.log",
      "/home/user4/notebooks/seminar-lc4ri/git/notebooks/.log/20200215/20200215-105854-0169.log",
      "/home/user4/notebooks/seminar-lc4ri/notebooks/.log/20200215/20200215-152252-0995.log"
     ]
    },
    "run_through_control": {
     "frozen": true
    }
   },
   "outputs": [
    {
     "name": "stdout",
     "output_type": "stream",
     "text": [
      "Deleted [https://www.googleapis.com/compute/v1/projects/topse-nagaku/regions/us-west1/subnetworks/topse-subnet].\r\n"
     ]
    }
   ],
   "source": [
    "!gcloud compute networks subnets delete {res_info['subnet_name']} --region={res_info['region']} --quiet"
   ]
  },
  {
   "cell_type": "markdown",
   "metadata": {
    "lc_cell_meme": {
     "current": "3d1f20d4-4f1e-11ea-9659-0242ac120005",
     "history": [
      {
       "current": "3d1f20d4-4f1e-11ea-9659-0242ac120005",
       "next": null,
       "previous": "3d1f2002-4f1e-11ea-9659-0242ac120005"
      }
     ],
     "next": "847a2f82-4f1e-11ea-9659-0242ac120005",
     "previous": "3d1f2002-4f1e-11ea-9659-0242ac120005"
    }
   },
   "source": [
    "## VPC削除"
   ]
  },
  {
   "cell_type": "code",
   "execution_count": 12,
   "metadata": {
    "deletable": false,
    "editable": false,
    "lc_cell_meme": {
     "current": "847a2f82-4f1e-11ea-9659-0242ac120005",
     "execution_end_time": "2020-02-15T15:24:13.028383Z",
     "history": [
      {
       "current": "847a2f82-4f1e-11ea-9659-0242ac120005",
       "next": null,
       "previous": "3d1f20d4-4f1e-11ea-9659-0242ac120005"
      }
     ],
     "next": "e343d854-4f20-11ea-9659-0242ac120005",
     "previous": "3d1f20d4-4f1e-11ea-9659-0242ac120005"
    },
    "lc_wrapper": {
     "log_history": [
      "/home/user4/notebooks/seminar-lc4ri/git/notebooks/.log/20200214/20200214-124358-0538.log",
      "/home/user4/notebooks/seminar-lc4ri/git/notebooks/.log/20200215/20200215-105934-0472.log",
      "/home/user4/notebooks/seminar-lc4ri/notebooks/.log/20200215/20200215-152328-0032.log"
     ]
    },
    "run_through_control": {
     "frozen": true
    }
   },
   "outputs": [
    {
     "name": "stdout",
     "output_type": "stream",
     "text": [
      "Deleted [https://www.googleapis.com/compute/v1/projects/topse-nagaku/global/networks/topse-vpc].\r\n"
     ]
    }
   ],
   "source": [
    "!gcloud compute networks delete {res_info['vpc_name']} --quiet"
   ]
  },
  {
   "cell_type": "markdown",
   "metadata": {
    "lc_cell_meme": {
     "current": "e343d854-4f20-11ea-9659-0242ac120005",
     "next": "e343dcaa-4f20-11ea-9659-0242ac120005",
     "previous": "847a2f82-4f1e-11ea-9659-0242ac120005"
    }
   },
   "source": [
    "## GCP CLI 認証情報削除"
   ]
  },
  {
   "cell_type": "code",
   "execution_count": 13,
   "metadata": {
    "deletable": false,
    "editable": false,
    "lc_cell_meme": {
     "current": "e343dcaa-4f20-11ea-9659-0242ac120005",
     "execution_end_time": "2020-02-15T15:24:13.055837Z",
     "history": [
      {
       "current": "e343dcaa-4f20-11ea-9659-0242ac120005",
       "next": null,
       "previous": "e343d854-4f20-11ea-9659-0242ac120005"
      }
     ],
     "next": "2aed74c6-4f21-11ea-9659-0242ac120005",
     "previous": "e343d854-4f20-11ea-9659-0242ac120005"
    },
    "lc_wrapper": {
     "log_history": [
      "/home/user4/notebooks/seminar-lc4ri/git/notebooks/.log/20200214/20200214-124438-0078.log",
      "/home/user4/notebooks/seminar-lc4ri/git/notebooks/.log/20200215/20200215-110014-0063.log",
      "/home/user4/notebooks/seminar-lc4ri/notebooks/.log/20200215/20200215-152413-0036.log"
     ]
    },
    "run_through_control": {
     "frozen": true
    }
   },
   "outputs": [],
   "source": [
    "MYNAME = !whoami\n",
    "SA_KEYFILENAME = \"topse-nagaku-e6bb79af7280.json\""
   ]
  },
  {
   "cell_type": "markdown",
   "metadata": {
    "lc_cell_meme": {
     "current": "2aed74c6-4f21-11ea-9659-0242ac120005",
     "next": "2aed76e2-4f21-11ea-9659-0242ac120005",
     "previous": "e343dcaa-4f20-11ea-9659-0242ac120005"
    }
   },
   "source": [
    "認証情報を削除"
   ]
  },
  {
   "cell_type": "code",
   "execution_count": 14,
   "metadata": {
    "deletable": false,
    "editable": false,
    "lc_cell_meme": {
     "current": "2aed76e2-4f21-11ea-9659-0242ac120005",
     "execution_end_time": "2020-02-15T15:24:14.545016Z",
     "next": "2aed77d2-4f21-11ea-9659-0242ac120005",
     "previous": "2aed74c6-4f21-11ea-9659-0242ac120005"
    },
    "lc_wrapper": {
     "log_history": [
      "/home/user4/notebooks/seminar-lc4ri/git/notebooks/.log/20200214/20200214-124438-0105.log",
      "/home/user4/notebooks/seminar-lc4ri/git/notebooks/.log/20200215/20200215-110014-0090.log",
      "/home/user4/notebooks/seminar-lc4ri/notebooks/.log/20200215/20200215-152413-0063.log"
     ]
    },
    "run_through_control": {
     "frozen": true
    }
   },
   "outputs": [
    {
     "name": "stdout",
     "output_type": "stream",
     "text": [
      "\u001b[1;33mWARNING:\u001b[0m [topse-students@topse-nagaku.iam.gserviceaccount.com] appears to be a service account. Service account tokens cannot be revoked, but they will expire automatically. To prevent use of the service account token earlier than the expiration, revoke the parent service account or service account key.\r\n",
      "Revoked credentials:\r\n",
      " - topse-students@topse-nagaku.iam.gserviceaccount.com\r\n",
      "                  Credentialed Accounts\r\n",
      "ACTIVE  ACCOUNT\r\n",
      "*       226115571655-compute@developer.gserviceaccount.com\r\n"
     ]
    }
   ],
   "source": [
    "!gcloud auth revoke 'topse-students@topse-nagaku.iam.gserviceaccount.com'"
   ]
  },
  {
   "cell_type": "markdown",
   "metadata": {
    "lc_cell_meme": {
     "current": "2aed77d2-4f21-11ea-9659-0242ac120005",
     "next": "2aed78a4-4f21-11ea-9659-0242ac120005",
     "previous": "2aed76e2-4f21-11ea-9659-0242ac120005"
    }
   },
   "source": [
    "configration削除"
   ]
  },
  {
   "cell_type": "code",
   "execution_count": 15,
   "metadata": {
    "deletable": false,
    "editable": false,
    "lc_cell_meme": {
     "current": "2aed78a4-4f21-11ea-9659-0242ac120005",
     "execution_end_time": "2020-02-15T15:24:15.992634Z",
     "next": "2aed7962-4f21-11ea-9659-0242ac120005",
     "previous": "2aed77d2-4f21-11ea-9659-0242ac120005"
    },
    "lc_wrapper": {
     "log_history": [
      "/home/user4/notebooks/seminar-lc4ri/git/notebooks/.log/20200214/20200214-124439-0627.log",
      "/home/user4/notebooks/seminar-lc4ri/git/notebooks/.log/20200215/20200215-110015-0593.log",
      "/home/user4/notebooks/seminar-lc4ri/notebooks/.log/20200215/20200215-152414-0552.log"
     ]
    },
    "run_through_control": {
     "frozen": true
    }
   },
   "outputs": [
    {
     "name": "stdout",
     "output_type": "stream",
     "text": [
      "Activated [default].\r\n"
     ]
    }
   ],
   "source": [
    "!gcloud config configurations activate default"
   ]
  },
  {
   "cell_type": "code",
   "execution_count": 16,
   "metadata": {
    "deletable": false,
    "editable": false,
    "lc_cell_meme": {
     "current": "2aed7962-4f21-11ea-9659-0242ac120005",
     "execution_end_time": "2020-02-15T15:24:17.461624Z",
     "next": "2aed7a20-4f21-11ea-9659-0242ac120005",
     "previous": "2aed78a4-4f21-11ea-9659-0242ac120005"
    },
    "lc_wrapper": {
     "log_history": [
      "/home/user4/notebooks/seminar-lc4ri/git/notebooks/.log/20200214/20200214-124441-0064.log",
      "/home/user4/notebooks/seminar-lc4ri/git/notebooks/.log/20200215/20200215-110017-0051.log",
      "/home/user4/notebooks/seminar-lc4ri/notebooks/.log/20200215/20200215-152416-0000.log"
     ]
    },
    "run_through_control": {
     "frozen": true
    }
   },
   "outputs": [
    {
     "name": "stdout",
     "output_type": "stream",
     "text": [
      "The following configurations will be deleted:\r\n",
      " - user4\r\n",
      "Deleted [user4].\r\n"
     ]
    }
   ],
   "source": [
    "!gcloud config configurations delete {MYNAME[0]} --quiet"
   ]
  },
  {
   "cell_type": "markdown",
   "metadata": {
    "lc_cell_meme": {
     "current": "2aed7a20-4f21-11ea-9659-0242ac120005",
     "next": "2aed7ade-4f21-11ea-9659-0242ac120005",
     "previous": "2aed7962-4f21-11ea-9659-0242ac120005"
    }
   },
   "source": [
    "サービスアカウントの認証キーファイルを削除する"
   ]
  },
  {
   "cell_type": "code",
   "execution_count": 17,
   "metadata": {
    "deletable": false,
    "editable": false,
    "lc_cell_meme": {
     "current": "2aed7ade-4f21-11ea-9659-0242ac120005",
     "execution_end_time": "2020-02-15T15:24:18.460995Z",
     "history": [
      {
       "current": "2aed7ade-4f21-11ea-9659-0242ac120005",
       "next": null,
       "previous": "2aed7a20-4f21-11ea-9659-0242ac120005"
      }
     ],
     "next": "1141bcf2-4f27-11ea-9659-0242ac120005",
     "previous": "2aed7a20-4f21-11ea-9659-0242ac120005"
    },
    "lc_wrapper": {
     "log_history": [
      "/home/user4/notebooks/seminar-lc4ri/git/notebooks/.log/20200214/20200214-124442-0527.log",
      "/home/user4/notebooks/seminar-lc4ri/git/notebooks/.log/20200215/20200215-110018-0531.log",
      "/home/user4/notebooks/seminar-lc4ri/notebooks/.log/20200215/20200215-152417-0470.log"
     ]
    },
    "run_through_control": {
     "frozen": true
    }
   },
   "outputs": [],
   "source": [
    "!rm -f {SA_KEYFILENAME}"
   ]
  },
  {
   "cell_type": "code",
   "execution_count": 18,
   "metadata": {
    "deletable": false,
    "editable": false,
    "lc_cell_meme": {
     "current": "1141bcf2-4f27-11ea-9659-0242ac120005",
     "execution_end_time": "2020-02-15T15:24:19.472710Z",
     "next": null,
     "previous": "2aed7ade-4f21-11ea-9659-0242ac120005"
    },
    "lc_wrapper": {
     "log_history": [
      "/home/user4/notebooks/seminar-lc4ri/git/notebooks/.log/20200215/20200215-110019-0523.log",
      "/home/user4/notebooks/seminar-lc4ri/notebooks/.log/20200215/20200215-152418-0469.log"
     ]
    },
    "run_through_control": {
     "frozen": true
    }
   },
   "outputs": [
    {
     "name": "stdout",
     "output_type": "stream",
     "text": [
      "Sat Feb 15 15:24:19 UTC 2020\r\n"
     ]
    }
   ],
   "source": [
    "!date"
   ]
  }
 ],
 "metadata": {
  "kernelspec": {
   "display_name": "Python 3",
   "language": "python",
   "name": "python3"
  },
  "language_info": {
   "file_extension": ".py",
   "mimetype": "text/x-python",
   "name": "python",
   "nbconvert_exporter": "python",
   "pygments_lexer": "ipython3",
   "version": "3.7.3"
  },
  "lc_notebook_meme": {
   "current": "2a2b3916-4f1b-11ea-9659-0242ac120005",
   "lc_server_signature": {
    "current": {
     "notebook_dir": "/home/user4/notebooks",
     "notebook_path": "/seminar-lc4ri/notebooks",
     "server_url": "https://operationhub.kgr-lab.com/user/user4/",
     "signature_id": "ae27fcb2-043f-11ea-b29c-0242ac120002"
    },
    "history": [
     {
      "notebook_dir": "/home/user4/notebooks",
      "notebook_path": "/seminar-lc4ri/git/notebooks",
      "server_url": "https://operationhub.kgr-lab.com/user/user4/",
      "signature_id": "ae27fcb2-043f-11ea-b29c-0242ac120002"
     }
    ]
   }
  },
  "toc": {
   "base_numbering": 1,
   "nav_menu": {},
   "number_sections": true,
   "sideBar": true,
   "skip_h1_title": false,
   "title_cell": "Table of Contents",
   "title_sidebar": "Contents",
   "toc_cell": false,
   "toc_position": {},
   "toc_section_display": true,
   "toc_window_display": true
  }
 },
 "nbformat": 4,
 "nbformat_minor": 2
}
