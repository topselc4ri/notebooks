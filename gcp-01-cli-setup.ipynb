{
 "cells": [
  {
   "cell_type": "code",
   "execution_count": 1,
   "metadata": {
    "deletable": false,
    "editable": false,
    "lc_cell_meme": {
     "current": "fa4fa8be-4fc7-11ea-a82e-0242ac120004",
     "execution_end_time": "2020-02-15T11:25:47.363992Z",
     "next": "01692b88-181f-11ea-8c8c-0242ac120007",
     "previous": null
    },
    "lc_wrapper": {
     "log_history": [
      "/home/user4/notebooks/seminar-lc4ri/git/notebooks/.log/20200215/20200215-075004-0837.log",
      "/home/user4/notebooks/seminar-lc4ri/git/notebooks/.log/20200215/20200215-090521-0766.log",
      "/home/user4/notebooks/seminar-lc4ri/notebooks/.log/20200215/20200215-112546-0345.log"
     ]
    },
    "pinned_outputs": [],
    "run_through_control": {
     "frozen": true
    },
    "scrolled": true
   },
   "outputs": [
    {
     "name": "stdout",
     "output_type": "stream",
     "text": [
      "Sat Feb 15 11:25:47 UTC 2020\r\n"
     ]
    }
   ],
   "source": [
    "!date"
   ]
  },
  {
   "cell_type": "markdown",
   "metadata": {
    "lc_cell_meme": {
     "current": "01692b88-181f-11ea-8c8c-0242ac120007",
     "next": "01692cdc-181f-11ea-8c8c-0242ac120007",
     "previous": "fa4fa8be-4fc7-11ea-a82e-0242ac120004"
    }
   },
   "source": [
    "# 初期設定"
   ]
  },
  {
   "cell_type": "markdown",
   "metadata": {
    "lc_cell_meme": {
     "current": "01692cdc-181f-11ea-8c8c-0242ac120007",
     "history": [
      {
       "current": "01692cdc-181f-11ea-8c8c-0242ac120007",
       "next": "01692dea-181f-11ea-8c8c-0242ac120007",
       "previous": "01692b88-181f-11ea-8c8c-0242ac120007"
      },
      {
       "current": "01692cdc-181f-11ea-8c8c-0242ac120007",
       "next": "4c0ac8fe-1b44-11ea-ae81-0242ac120004",
       "previous": "01692b88-181f-11ea-8c8c-0242ac120007"
      },
      {
       "current": "01692cdc-181f-11ea-8c8c-0242ac120007",
       "next": "938c5b52-1b44-11ea-ae81-0242ac120004",
       "previous": "01692b88-181f-11ea-8c8c-0242ac120007"
      },
      {
       "current": "01692cdc-181f-11ea-8c8c-0242ac120007",
       "next": "e2de4490-1b49-11ea-ae81-0242ac120004",
       "previous": "01692b88-181f-11ea-8c8c-0242ac120007"
      }
     ],
     "next": "8eeb7b26-2190-11ea-ab78-0242ac120007",
     "previous": "01692b88-181f-11ea-8c8c-0242ac120007"
    }
   },
   "source": [
    "CloudSDK クイックスタート(ubunts用)\n",
    "\n",
    "https://cloud.google.com/sdk/docs/quickstart-debian-ubuntu?hl=ja"
   ]
  },
  {
   "cell_type": "markdown",
   "metadata": {
    "lc_cell_meme": {
     "current": "8eeb7b26-2190-11ea-ab78-0242ac120007",
     "next": "e2de4490-1b49-11ea-ae81-0242ac120004",
     "previous": "01692cdc-181f-11ea-8c8c-0242ac120007"
    }
   },
   "source": [
    "gcloudコマンドを使うため、OperationHubのユーザ名でgcloudのConfigrationを作成し、\n",
    "サービスアカウントの認証情報を登録するNotebookです。"
   ]
  },
  {
   "cell_type": "markdown",
   "metadata": {
    "lc_cell_meme": {
     "current": "e2de4490-1b49-11ea-ae81-0242ac120004",
     "execution_end_time": "2019-12-10T12:36:55.576100Z",
     "history": [
      {
       "current": "e2de4490-1b49-11ea-ae81-0242ac120004",
       "next": "938c5b52-1b44-11ea-ae81-0242ac120004",
       "previous": "01692cdc-181f-11ea-8c8c-0242ac120007"
      }
     ],
     "next": "938c5b52-1b44-11ea-ae81-0242ac120004",
     "previous": "8eeb7b26-2190-11ea-ab78-0242ac120007"
    },
    "lc_wrapper": {
     "log_history": [
      "/home/user4/notebooks/seminar-lc4ri/.log/20191210/20191210-123655-0564.log"
     ]
    }
   },
   "source": [
    "## GCP CLIのインストール"
   ]
  },
  {
   "cell_type": "markdown",
   "metadata": {
    "lc_cell_meme": {
     "current": "938c5b52-1b44-11ea-ae81-0242ac120004",
     "history": [
      {
       "current": "938c5b52-1b44-11ea-ae81-0242ac120004",
       "next": "01692dea-181f-11ea-8c8c-0242ac120007",
       "previous": "01692cdc-181f-11ea-8c8c-0242ac120007"
      }
     ],
     "next": "01692dea-181f-11ea-8c8c-0242ac120007",
     "previous": "e2de4490-1b49-11ea-ae81-0242ac120004"
    }
   },
   "source": [
    "Create environment variable for correct distribution\n",
    "\n",
    "!exportで設定した環境変数は次のCellに引き継がれないので、pythonの変数に格納する。\n",
    "\n",
    "参照する際は{環境変数[0]}"
   ]
  },
  {
   "cell_type": "code",
   "execution_count": 2,
   "metadata": {
    "deletable": false,
    "editable": false,
    "lc_cell_meme": {
     "current": "01692dea-181f-11ea-8c8c-0242ac120007",
     "execution_end_time": "2020-02-15T11:25:47.458482Z",
     "history": [
      {
       "current": "01692dea-181f-11ea-8c8c-0242ac120007",
       "next": "d79d81ae-181f-11ea-8c8c-0242ac120007",
       "previous": "01692cdc-181f-11ea-8c8c-0242ac120007"
      },
      {
       "current": "01692dea-181f-11ea-8c8c-0242ac120007",
       "next": "1f81559a-1820-11ea-8c8c-0242ac120007",
       "previous": "01692cdc-181f-11ea-8c8c-0242ac120007"
      },
      {
       "current": "01692dea-181f-11ea-8c8c-0242ac120007",
       "next": "a2dfc0dc-1822-11ea-8c8c-0242ac120007",
       "previous": "01692cdc-181f-11ea-8c8c-0242ac120007"
      },
      {
       "current": "01692dea-181f-11ea-8c8c-0242ac120007",
       "next": "a2dfc0dc-1822-11ea-8c8c-0242ac120007",
       "previous": "4c0ac8fe-1b44-11ea-ae81-0242ac120004"
      },
      {
       "current": "01692dea-181f-11ea-8c8c-0242ac120007",
       "next": "938c5e68-1b44-11ea-ae81-0242ac120004",
       "previous": "938c5b52-1b44-11ea-ae81-0242ac120004"
      }
     ],
     "next": "03b12f76-2189-11ea-ab78-0242ac120007",
     "previous": "938c5b52-1b44-11ea-ae81-0242ac120004"
    },
    "lc_wrapper": {
     "log_history": [
      "/home/user4/notebooks/seminar-lc4ri/.log/20191206/20191206-115853-0931.log",
      "/home/user4/notebooks/seminar-lc4ri/.log/20191206/20191206-115908-0629.log",
      "/home/user4/notebooks/seminar-lc4ri/.log/20191206/20191206-121345-0721.log",
      "/home/user4/notebooks/seminar-lc4ri/.log/20191206/20191206-121408-0122.log",
      "/home/user4/notebooks/seminar-lc4ri/.log/20191206/20191206-121535-0546.log",
      "/home/user4/notebooks/seminar-lc4ri/.log/20191206/20191206-121624-0753.log",
      "/home/user4/notebooks/seminar-lc4ri/.log/20191206/20191206-121641-0185.log",
      "/home/user4/notebooks/seminar-lc4ri/.log/20191206/20191206-122131-0848.log",
      "/home/user4/notebooks/seminar-lc4ri/.log/20191206/20191206-122201-0708.log",
      "/home/user4/notebooks/seminar-lc4ri/.log/20191206/20191206-122258-0328.log",
      "/home/user4/notebooks/seminar-lc4ri/.log/20191206/20191206-122323-0005.log",
      "/home/user4/notebooks/seminar-lc4ri/.log/20191210/20191210-115437-0976.log",
      "/home/user4/notebooks/seminar-lc4ri/.log/20191210/20191210-115505-0312.log",
      "/home/user4/notebooks/seminar-lc4ri/.log/20191210/20191210-120213-0046.log",
      "/home/user4/notebooks/seminar-lc4ri/.log/20191210/20191210-121046-0643.log",
      "/home/user4/notebooks/seminar-lc4ri/.log/20191210/20191210-121157-0521.log",
      "/home/user4/notebooks/seminar-lc4ri/.log/20191210/20191210-121305-0188.log",
      "/home/user4/notebooks/seminar-lc4ri/.log/20191210/20191210-121436-0881.log",
      "/home/user4/notebooks/seminar-lc4ri/.log/20191210/20191210-121535-0433.log",
      "/home/user4/notebooks/seminar-lc4ri/.log/20191210/20191210-121633-0438.log",
      "/home/user4/notebooks/seminar-lc4ri/.log/20191210/20191210-121711-0113.log",
      "/home/user4/notebooks/seminar-lc4ri/.log/20191210/20191210-122221-0827.log",
      "/home/user4/notebooks/seminar-lc4ri/.log/20191210/20191210-122954-0043.log",
      "/home/user4/notebooks/seminar-lc4ri/.log/20191210/20191210-123009-0043.log",
      "/home/user4/notebooks/seminar-lc4ri/.log/20191210/20191210-123159-0385.log",
      "/home/user4/notebooks/seminar-lc4ri/.log/20191210/20191210-123204-0106.log",
      "/home/user4/notebooks/seminar-lc4ri/.log/20191210/20191210-123335-0763.log",
      "/home/user4/notebooks/seminar-lc4ri/.log/20191210/20191210-123349-0849.log",
      "/home/user4/notebooks/seminar-lc4ri/.log/20191210/20191210-123358-0148.log",
      "/home/user4/notebooks/seminar-lc4ri/.log/20191218/20191218-102641-0189.log",
      "/home/user4/notebooks/seminar-lc4ri/.log/20191218/20191218-120601-0399.log",
      "/home/user4/notebooks/seminar-lc4ri/.log/20191218/20191218-120926-0403.log",
      "/home/user4/notebooks/seminar-lc4ri/.log/20200108/20200108-100647-0802.log",
      "/home/user4/notebooks/seminar-lc4ri/.log/20200115/20200115-100432-0619.log",
      "/home/user4/notebooks/seminar-lc4ri/git/notebooks/.log/20200214/20200214-115840-0997.log",
      "/home/user4/notebooks/seminar-lc4ri/git/notebooks/.log/20200215/20200215-090522-0771.log",
      "/home/user4/notebooks/seminar-lc4ri/notebooks/.log/20200215/20200215-112547-0373.log"
     ]
    },
    "run_through_control": {
     "frozen": true
    }
   },
   "outputs": [],
   "source": [
    "CLOUD_SDK_REPO = !echo \"cloud-sdk-$(lsb_release -c -s)\""
   ]
  },
  {
   "cell_type": "markdown",
   "metadata": {
    "lc_cell_meme": {
     "current": "03b12f76-2189-11ea-ab78-0242ac120007",
     "next": "03b13336-2189-11ea-ab78-0242ac120007",
     "previous": "01692dea-181f-11ea-8c8c-0242ac120007"
    }
   },
   "source": [
    "次の gcloud コマンドが実行できれば、Install 不要なので手順1.1は終了。手順1.2を実施する。"
   ]
  },
  {
   "cell_type": "code",
   "execution_count": 3,
   "metadata": {
    "deletable": false,
    "editable": false,
    "lc_cell_meme": {
     "current": "03b13336-2189-11ea-ab78-0242ac120007",
     "execution_end_time": "2020-02-15T11:25:49.036471Z",
     "next": "938c5e68-1b44-11ea-ae81-0242ac120004",
     "previous": "03b12f76-2189-11ea-ab78-0242ac120007"
    },
    "lc_wrapper": {
     "log_history": [
      "/home/user4/notebooks/seminar-lc4ri/.log/20191218/20191218-112422-0147.log",
      "/home/user4/notebooks/seminar-lc4ri/.log/20191218/20191218-120605-0539.log",
      "/home/user4/notebooks/seminar-lc4ri/.log/20191218/20191218-120928-0553.log",
      "/home/user4/notebooks/seminar-lc4ri/.log/20200108/20200108-100650-0311.log",
      "/home/user4/notebooks/seminar-lc4ri/.log/20200115/20200115-100435-0602.log",
      "/home/user4/notebooks/seminar-lc4ri/git/notebooks/.log/20200214/20200214-115841-0096.log",
      "/home/user4/notebooks/seminar-lc4ri/git/notebooks/.log/20200215/20200215-090522-0869.log",
      "/home/user4/notebooks/seminar-lc4ri/notebooks/.log/20200215/20200215-112547-0467.log"
     ]
    },
    "run_through_control": {
     "frozen": true
    }
   },
   "outputs": [
    {
     "name": "stdout",
     "output_type": "stream",
     "text": [
      "[compute]\r\n",
      "region = us-west1\r\n",
      "zone = us-west1-a\r\n",
      "[core]\r\n",
      "account = 226115571655-compute@developer.gserviceaccount.com\r\n",
      "disable_usage_reporting = True\r\n",
      "project = topse-nagaku\r\n",
      "\r\n",
      "Your active configuration is: [default]\r\n"
     ]
    }
   ],
   "source": [
    "!gcloud config list"
   ]
  },
  {
   "cell_type": "markdown",
   "metadata": {
    "lc_cell_meme": {
     "current": "938c5e68-1b44-11ea-ae81-0242ac120004",
     "history": [
      {
       "current": "938c5e68-1b44-11ea-ae81-0242ac120004",
       "next": "938c5fbc-1b44-11ea-ae81-0242ac120004",
       "previous": "01692dea-181f-11ea-8c8c-0242ac120007"
      }
     ],
     "next": "938c5fbc-1b44-11ea-ae81-0242ac120004",
     "previous": "03b13336-2189-11ea-ab78-0242ac120007"
    }
   },
   "source": [
    "Add the Cloud SDK distribution URI as a package source"
   ]
  },
  {
   "cell_type": "code",
   "execution_count": 4,
   "metadata": {
    "deletable": false,
    "editable": false,
    "lc_cell_meme": {
     "current": "938c5fbc-1b44-11ea-ae81-0242ac120004",
     "execution_end_time": "2020-02-15T11:25:50.061505Z",
     "next": "938c60c0-1b44-11ea-ae81-0242ac120004",
     "previous": "938c5e68-1b44-11ea-ae81-0242ac120004"
    },
    "lc_wrapper": {
     "log_history": [
      "/home/user4/notebooks/seminar-lc4ri/.log/20191210/20191210-120017-0120.log",
      "/home/user4/notebooks/seminar-lc4ri/.log/20191210/20191210-120216-0701.log",
      "/home/user4/notebooks/seminar-lc4ri/.log/20191210/20191210-120424-0178.log",
      "/home/user4/notebooks/seminar-lc4ri/.log/20191210/20191210-120452-0573.log",
      "/home/user4/notebooks/seminar-lc4ri/.log/20191210/20191210-120500-0045.log",
      "/home/user4/notebooks/seminar-lc4ri/.log/20191210/20191210-120527-0005.log",
      "/home/user4/notebooks/seminar-lc4ri/.log/20191210/20191210-121004-0532.log",
      "/home/user4/notebooks/seminar-lc4ri/.log/20191210/20191210-121049-0803.log",
      "/home/user4/notebooks/seminar-lc4ri/.log/20191210/20191210-121204-0729.log",
      "/home/user4/notebooks/seminar-lc4ri/.log/20191210/20191210-121237-0930.log",
      "/home/user4/notebooks/seminar-lc4ri/.log/20191210/20191210-121331-0962.log",
      "/home/user4/notebooks/seminar-lc4ri/.log/20191210/20191210-121425-0770.log",
      "/home/user4/notebooks/seminar-lc4ri/.log/20191210/20191210-121446-0673.log",
      "/home/user4/notebooks/seminar-lc4ri/.log/20191210/20191210-121507-0241.log",
      "/home/user4/notebooks/seminar-lc4ri/.log/20191210/20191210-121538-0496.log",
      "/home/user4/notebooks/seminar-lc4ri/.log/20191210/20191210-121636-0767.log",
      "/home/user4/notebooks/seminar-lc4ri/.log/20191210/20191210-121714-0208.log",
      "/home/user4/notebooks/seminar-lc4ri/.log/20191210/20191210-122356-0032.log",
      "/home/user4/notebooks/seminar-lc4ri/.log/20191210/20191210-122646-0333.log",
      "/home/user4/notebooks/seminar-lc4ri/.log/20191210/20191210-122705-0155.log",
      "/home/user4/notebooks/seminar-lc4ri/.log/20191210/20191210-122728-0291.log",
      "/home/user4/notebooks/seminar-lc4ri/.log/20191210/20191210-123019-0658.log",
      "/home/user4/notebooks/seminar-lc4ri/.log/20191210/20191210-123038-0826.log",
      "/home/user4/notebooks/seminar-lc4ri/.log/20191210/20191210-123105-0078.log",
      "/home/user4/notebooks/seminar-lc4ri/.log/20191210/20191210-123122-0890.log",
      "/home/user4/notebooks/seminar-lc4ri/.log/20191210/20191210-123421-0657.log",
      "/home/user4/notebooks/seminar-lc4ri/.log/20191218/20191218-102647-0642.log",
      "/home/user4/notebooks/seminar-lc4ri/.log/20191218/20191218-102957-0899.log",
      "/home/user4/notebooks/seminar-lc4ri/.log/20200108/20200108-100654-0716.log",
      "/home/user4/notebooks/seminar-lc4ri/.log/20200115/20200115-100446-0175.log",
      "/home/user4/notebooks/seminar-lc4ri/git/notebooks/.log/20200214/20200214-115842-0542.log",
      "/home/user4/notebooks/seminar-lc4ri/git/notebooks/.log/20200215/20200215-090524-0618.log",
      "/home/user4/notebooks/seminar-lc4ri/notebooks/.log/20200215/20200215-112549-0045.log"
     ]
    },
    "run_through_control": {
     "frozen": true
    }
   },
   "outputs": [
    {
     "name": "stdout",
     "output_type": "stream",
     "text": [
      "deb http://packages.cloud.google.com/apt cloud-sdk-bionic main\r\n"
     ]
    }
   ],
   "source": [
    "!echo \"deb http://packages.cloud.google.com/apt {CLOUD_SDK_REPO[0]} main\" | sudo tee -a /etc/apt/sources.list.d/google-cloud-sdk.list"
   ]
  },
  {
   "cell_type": "markdown",
   "metadata": {
    "lc_cell_meme": {
     "current": "938c60c0-1b44-11ea-ae81-0242ac120004",
     "history": [
      {
       "current": "938c60c0-1b44-11ea-ae81-0242ac120004",
       "next": "938c61ba-1b44-11ea-ae81-0242ac120004",
       "previous": "938c5fbc-1b44-11ea-ae81-0242ac120004"
      }
     ],
     "next": "db1f4024-1b44-11ea-ae81-0242ac120004",
     "previous": "938c5fbc-1b44-11ea-ae81-0242ac120004"
    }
   },
   "source": [
    "Import the Google Cloud Platform public key"
   ]
  },
  {
   "cell_type": "code",
   "execution_count": 5,
   "metadata": {
    "deletable": false,
    "editable": false,
    "lc_cell_meme": {
     "current": "db1f4024-1b44-11ea-ae81-0242ac120004",
     "execution_end_time": "2020-02-15T11:25:51.374322Z",
     "next": "938c61ba-1b44-11ea-ae81-0242ac120004",
     "previous": "938c60c0-1b44-11ea-ae81-0242ac120004"
    },
    "lc_wrapper": {
     "log_history": [
      "/home/user4/notebooks/seminar-lc4ri/.log/20191210/20191210-120540-0235.log",
      "/home/user4/notebooks/seminar-lc4ri/.log/20191210/20191210-121053-0378.log",
      "/home/user4/notebooks/seminar-lc4ri/.log/20191210/20191210-123500-0969.log",
      "/home/user4/notebooks/seminar-lc4ri/.log/20191218/20191218-102702-0314.log",
      "/home/user4/notebooks/seminar-lc4ri/.log/20191218/20191218-103124-0454.log",
      "/home/user4/notebooks/seminar-lc4ri/.log/20200108/20200108-100658-0924.log",
      "/home/user4/notebooks/seminar-lc4ri/.log/20200115/20200115-100449-0731.log",
      "/home/user4/notebooks/seminar-lc4ri/git/notebooks/.log/20200214/20200214-115843-0534.log",
      "/home/user4/notebooks/seminar-lc4ri/git/notebooks/.log/20200215/20200215-090525-0610.log",
      "/home/user4/notebooks/seminar-lc4ri/notebooks/.log/20200215/20200215-112550-0069.log"
     ]
    },
    "run_through_control": {
     "frozen": true
    }
   },
   "outputs": [
    {
     "name": "stdout",
     "output_type": "stream",
     "text": [
      "  % Total    % Received % Xferd  Average Speed   Time    Time     Time  Current\n",
      "                                 Dload  Upload   Total   Spent    Left  Speed\n",
      "100   659  100   659    0     0  13729      0 --:--:-- --:--:-- --:--:-- 13729\n",
      "OK\n"
     ]
    }
   ],
   "source": [
    "!curl https://packages.cloud.google.com/apt/doc/apt-key.gpg | sudo apt-key add -"
   ]
  },
  {
   "cell_type": "markdown",
   "metadata": {
    "lc_cell_meme": {
     "current": "938c61ba-1b44-11ea-ae81-0242ac120004",
     "history": [
      {
       "current": "938c61ba-1b44-11ea-ae81-0242ac120004",
       "next": "938c62b4-1b44-11ea-ae81-0242ac120004",
       "previous": "938c60c0-1b44-11ea-ae81-0242ac120004"
      }
     ],
     "next": "938c62b4-1b44-11ea-ae81-0242ac120004",
     "previous": "db1f4024-1b44-11ea-ae81-0242ac120004"
    }
   },
   "source": [
    "Update the package list and install the Cloud SDK"
   ]
  },
  {
   "cell_type": "code",
   "execution_count": 6,
   "metadata": {
    "deletable": false,
    "editable": false,
    "lc_cell_meme": {
     "current": "938c62b4-1b44-11ea-ae81-0242ac120004",
     "execution_end_time": "2020-02-15T11:25:57.284660Z",
     "history": [
      {
       "current": "938c62b4-1b44-11ea-ae81-0242ac120004",
       "next": null,
       "previous": "938c61ba-1b44-11ea-ae81-0242ac120004"
      }
     ],
     "next": "db1f4358-1b44-11ea-ae81-0242ac120004",
     "previous": "938c61ba-1b44-11ea-ae81-0242ac120004"
    },
    "lc_wrapper": {
     "log_history": [
      "/home/user4/notebooks/seminar-lc4ri/.log/20191210/20191210-120552-0437.log",
      "/home/user4/notebooks/seminar-lc4ri/.log/20191210/20191210-120619-0614.log",
      "/home/user4/notebooks/seminar-lc4ri/.log/20191210/20191210-120632-0076.log",
      "/home/user4/notebooks/seminar-lc4ri/.log/20191210/20191210-121017-0595.log",
      "/home/user4/notebooks/seminar-lc4ri/.log/20191210/20191210-121057-0042.log",
      "/home/user4/notebooks/seminar-lc4ri/.log/20191210/20191210-123506-0688.log",
      "/home/user4/notebooks/seminar-lc4ri/.log/20191218/20191218-103130-0624.log",
      "/home/user4/notebooks/seminar-lc4ri/.log/20200108/20200108-100703-0509.log",
      "/home/user4/notebooks/seminar-lc4ri/.log/20200115/20200115-100501-0558.log",
      "/home/user4/notebooks/seminar-lc4ri/git/notebooks/.log/20200214/20200214-115844-0848.log",
      "/home/user4/notebooks/seminar-lc4ri/git/notebooks/.log/20200215/20200215-090526-0913.log",
      "/home/user4/notebooks/seminar-lc4ri/notebooks/.log/20200215/20200215-112551-0382.log"
     ]
    },
    "run_through_control": {
     "frozen": true
    }
   },
   "outputs": [
    {
     "name": "stdout",
     "output_type": "stream",
     "text": [
      "Hit:2 http://packages.cloud.google.com/apt cloud-sdk-bionic InRelease          \n",
      "Hit:3 https://packages.microsoft.com/ubuntu/18.04/prod bionic InRelease        \n",
      "Hit:1 https://packages.cloud.google.com/apt kubernetes-xenial InRelease        \n",
      "Hit:4 http://archive.ubuntu.com/ubuntu bionic InRelease                        \n",
      "Hit:5 https://cran.rstudio.com/bin/linux/ubuntu bionic-cran35/ InRelease       \n",
      "Get:6 http://security.ubuntu.com/ubuntu bionic-security InRelease [88.7 kB]\n",
      "Get:7 http://archive.ubuntu.com/ubuntu bionic-updates InRelease [88.7 kB]      \n",
      "Get:8 http://archive.ubuntu.com/ubuntu bionic-backports InRelease [74.6 kB]    \n",
      "Fetched 252 kB in 1s (188 kB/s)                                \n",
      "Reading package lists... Done\n",
      "W: Target Packages (main/binary-amd64/Packages) is configured multiple times in /etc/apt/sources.list.d/google-cloud-sdk.list:1 and /etc/apt/sources.list.d/google-cloud-sdk.list:2\n",
      "W: Target Packages (main/binary-all/Packages) is configured multiple times in /etc/apt/sources.list.d/google-cloud-sdk.list:1 and /etc/apt/sources.list.d/google-cloud-sdk.list:2\n",
      "W: Target Packages (main/binary-amd64/Packages) is configured multiple times in /etc/apt/sources.list.d/google-cloud-sdk.list:1 and /etc/apt/sources.list.d/google-cloud-sdk.list:3\n",
      "W: Target Packages (main/binary-all/Packages) is configured multiple times in /etc/apt/sources.list.d/google-cloud-sdk.list:1 and /etc/apt/sources.list.d/google-cloud-sdk.list:3\n",
      "W: Target Packages (main/binary-amd64/Packages) is configured multiple times in /etc/apt/sources.list.d/google-cloud-sdk.list:1 and /etc/apt/sources.list.d/google-cloud-sdk.list:2\n",
      "W: Target Packages (main/binary-all/Packages) is configured multiple times in /etc/apt/sources.list.d/google-cloud-sdk.list:1 and /etc/apt/sources.list.d/google-cloud-sdk.list:2\n",
      "W: Target Packages (main/binary-amd64/Packages) is configured multiple times in /etc/apt/sources.list.d/google-cloud-sdk.list:1 and /etc/apt/sources.list.d/google-cloud-sdk.list:3\n",
      "W: Target Packages (main/binary-all/Packages) is configured multiple times in /etc/apt/sources.list.d/google-cloud-sdk.list:1 and /etc/apt/sources.list.d/google-cloud-sdk.list:3\n",
      "Reading package lists... Done\n",
      "Building dependency tree       \n",
      "Reading state information... Done\n",
      "google-cloud-sdk is already the newest version (280.0.0-0).\n",
      "0 upgraded, 0 newly installed, 0 to remove and 54 not upgraded.\n",
      "W: Target Packages (main/binary-amd64/Packages) is configured multiple times in /etc/apt/sources.list.d/google-cloud-sdk.list:1 and /etc/apt/sources.list.d/google-cloud-sdk.list:2\n",
      "W: Target Packages (main/binary-all/Packages) is configured multiple times in /etc/apt/sources.list.d/google-cloud-sdk.list:1 and /etc/apt/sources.list.d/google-cloud-sdk.list:2\n",
      "W: Target Packages (main/binary-amd64/Packages) is configured multiple times in /etc/apt/sources.list.d/google-cloud-sdk.list:1 and /etc/apt/sources.list.d/google-cloud-sdk.list:3\n",
      "W: Target Packages (main/binary-all/Packages) is configured multiple times in /etc/apt/sources.list.d/google-cloud-sdk.list:1 and /etc/apt/sources.list.d/google-cloud-sdk.list:3\n"
     ]
    }
   ],
   "source": [
    "!sudo apt-get update && sudo apt-get install google-cloud-sdk"
   ]
  },
  {
   "cell_type": "markdown",
   "metadata": {
    "lc_cell_meme": {
     "current": "db1f4358-1b44-11ea-ae81-0242ac120004",
     "history": [
      {
       "current": "db1f4358-1b44-11ea-ae81-0242ac120004",
       "next": null,
       "previous": "938c62b4-1b44-11ea-ae81-0242ac120004"
      },
      {
       "current": "db1f4358-1b44-11ea-ae81-0242ac120004",
       "next": "e2de4b48-1b49-11ea-ae81-0242ac120004",
       "previous": "938c62b4-1b44-11ea-ae81-0242ac120004"
      },
      {
       "current": "db1f4358-1b44-11ea-ae81-0242ac120004",
       "next": "fd0b6a14-1b4e-11ea-b853-0242ac120004",
       "previous": "938c62b4-1b44-11ea-ae81-0242ac120004"
      }
     ],
     "next": "d3d55794-1b4f-11ea-b853-0242ac120004",
     "previous": "938c62b4-1b44-11ea-ae81-0242ac120004"
    }
   },
   "source": [
    "## 環境設定, 認証情報の設定"
   ]
  },
  {
   "cell_type": "markdown",
   "metadata": {
    "lc_cell_meme": {
     "current": "d3d55794-1b4f-11ea-b853-0242ac120004",
     "history": [
      {
       "current": "d3d55794-1b4f-11ea-b853-0242ac120004",
       "next": "fd0b6a14-1b4e-11ea-b853-0242ac120004",
       "previous": "db1f4358-1b44-11ea-ae81-0242ac120004"
      }
     ],
     "next": "4b3805d6-2189-11ea-ab78-0242ac120007",
     "previous": "db1f4358-1b44-11ea-ae81-0242ac120004"
    }
   },
   "source": [
    "### 環境設定"
   ]
  },
  {
   "cell_type": "markdown",
   "metadata": {
    "lc_cell_meme": {
     "current": "4b3805d6-2189-11ea-ab78-0242ac120007",
     "history": [
      {
       "current": "4b3805d6-2189-11ea-ab78-0242ac120007",
       "next": "fd0b70d6-1b4e-11ea-b853-0242ac120004",
       "previous": "fd0b6a14-1b4e-11ea-b853-0242ac120004"
      },
      {
       "current": "4b3805d6-2189-11ea-ab78-0242ac120007",
       "next": "da1bb3a6-2189-11ea-ab78-0242ac120007",
       "previous": "fd0b6a14-1b4e-11ea-b853-0242ac120004"
      },
      {
       "current": "4b3805d6-2189-11ea-ab78-0242ac120007",
       "next": "fd0b70d6-1b4e-11ea-b853-0242ac120004",
       "previous": "fd0b6a14-1b4e-11ea-b853-0242ac120004"
      },
      {
       "current": "4b3805d6-2189-11ea-ab78-0242ac120007",
       "next": "70ca3caa-218f-11ea-ab78-0242ac120007",
       "previous": "fd0b6a14-1b4e-11ea-b853-0242ac120004"
      },
      {
       "current": "4b3805d6-2189-11ea-ab78-0242ac120007",
       "next": "fd0b70d6-1b4e-11ea-b853-0242ac120004",
       "previous": "fd0b6a14-1b4e-11ea-b853-0242ac120004"
      }
     ],
     "next": "fd0b70d6-1b4e-11ea-b853-0242ac120004",
     "previous": "d3d55794-1b4f-11ea-b853-0242ac120004"
    }
   },
   "source": [
    "自分の名前の設定がまだ作成されていなければ作成する。"
   ]
  },
  {
   "cell_type": "code",
   "execution_count": 7,
   "metadata": {
    "deletable": false,
    "editable": false,
    "lc_cell_meme": {
     "current": "fd0b70d6-1b4e-11ea-b853-0242ac120004",
     "execution_end_time": "2020-02-15T11:25:59.234816Z",
     "history": [
      {
       "current": "fd0b70d6-1b4e-11ea-b853-0242ac120004",
       "next": "e2de4b48-1b49-11ea-ae81-0242ac120004",
       "previous": "fd0b6a14-1b4e-11ea-b853-0242ac120004"
      },
      {
       "current": "fd0b70d6-1b4e-11ea-b853-0242ac120004",
       "next": "44c78338-1b4f-11ea-b853-0242ac120004",
       "previous": "fd0b6a14-1b4e-11ea-b853-0242ac120004"
      },
      {
       "current": "fd0b70d6-1b4e-11ea-b853-0242ac120004",
       "next": "44c78694-1b4f-11ea-b853-0242ac120004",
       "previous": "fd0b6a14-1b4e-11ea-b853-0242ac120004"
      },
      {
       "current": "fd0b70d6-1b4e-11ea-b853-0242ac120004",
       "next": "44c78694-1b4f-11ea-b853-0242ac120004",
       "previous": "4b3805d6-2189-11ea-ab78-0242ac120007"
      },
      {
       "current": "fd0b70d6-1b4e-11ea-b853-0242ac120004",
       "next": "44c78694-1b4f-11ea-b853-0242ac120004",
       "previous": "da1bb3a6-2189-11ea-ab78-0242ac120007"
      },
      {
       "current": "fd0b70d6-1b4e-11ea-b853-0242ac120004",
       "next": "44c78694-1b4f-11ea-b853-0242ac120004",
       "previous": "4b3805d6-2189-11ea-ab78-0242ac120007"
      },
      {
       "current": "fd0b70d6-1b4e-11ea-b853-0242ac120004",
       "next": "44c78694-1b4f-11ea-b853-0242ac120004",
       "previous": "70ca3caa-218f-11ea-ab78-0242ac120007"
      }
     ],
     "next": "44c78694-1b4f-11ea-b853-0242ac120004",
     "previous": "4b3805d6-2189-11ea-ab78-0242ac120007"
    },
    "lc_wrapper": {
     "log_history": [
      "/home/user4/notebooks/seminar-lc4ri/.log/20191210/20191210-131432-0487.log",
      "/home/user4/notebooks/seminar-lc4ri/.log/20191210/20191210-134144-0677.log",
      "/home/user4/notebooks/seminar-lc4ri/.log/20191218/20191218-103227-0845.log",
      "/home/user4/notebooks/seminar-lc4ri/.log/20191218/20191218-113621-0786.log",
      "/home/user4/notebooks/seminar-lc4ri/.log/20191218/20191218-113757-0236.log",
      "/home/user4/notebooks/seminar-lc4ri/.log/20191218/20191218-114404-0053.log",
      "/home/user4/notebooks/seminar-lc4ri/.log/20191218/20191218-114431-0431.log",
      "/home/user4/notebooks/seminar-lc4ri/.log/20191218/20191218-114500-0934.log",
      "/home/user4/notebooks/seminar-lc4ri/.log/20191218/20191218-114513-0822.log",
      "/home/user4/notebooks/seminar-lc4ri/.log/20191218/20191218-114617-0895.log",
      "/home/user4/notebooks/seminar-lc4ri/.log/20191218/20191218-114636-0418.log",
      "/home/user4/notebooks/seminar-lc4ri/.log/20191218/20191218-114645-0453.log",
      "/home/user4/notebooks/seminar-lc4ri/.log/20191218/20191218-114719-0375.log",
      "/home/user4/notebooks/seminar-lc4ri/.log/20191218/20191218-114755-0556.log",
      "/home/user4/notebooks/seminar-lc4ri/.log/20191218/20191218-114828-0430.log",
      "/home/user4/notebooks/seminar-lc4ri/.log/20191218/20191218-120630-0126.log",
      "/home/user4/notebooks/seminar-lc4ri/.log/20191218/20191218-120939-0553.log",
      "/home/user4/notebooks/seminar-lc4ri/.log/20191218/20191218-121158-0085.log",
      "/home/user4/notebooks/seminar-lc4ri/.log/20191218/20191218-121239-0116.log",
      "/home/user4/notebooks/seminar-lc4ri/.log/20191218/20191218-121246-0337.log",
      "/home/user4/notebooks/seminar-lc4ri/.log/20191218/20191218-121320-0065.log",
      "/home/user4/notebooks/seminar-lc4ri/.log/20191218/20191218-121601-0133.log",
      "/home/user4/notebooks/seminar-lc4ri/.log/20200108/20200108-100902-0039.log",
      "/home/user4/notebooks/seminar-lc4ri/.log/20200115/20200115-100537-0581.log",
      "/home/user4/notebooks/seminar-lc4ri/.log/20200115/20200115-102340-0976.log",
      "/home/user4/notebooks/seminar-lc4ri/.log/20200115/20200115-102515-0431.log",
      "/home/user4/notebooks/seminar-lc4ri/git/notebooks/.log/20200214/20200214-120017-0567.log",
      "/home/user4/notebooks/seminar-lc4ri/git/notebooks/.log/20200215/20200215-090657-0126.log",
      "/home/user4/notebooks/seminar-lc4ri/notebooks/.log/20200215/20200215-112557-0293.log"
     ]
    },
    "run_through_control": {
     "frozen": true
    }
   },
   "outputs": [
    {
     "name": "stdout",
     "output_type": "stream",
     "text": [
      "NAME\n",
      "default\n",
      "Created [user4].\n",
      "Activated [user4].\n"
     ]
    }
   ],
   "source": [
    "MYNAME = !whoami\n",
    "CONFIG_LIST=!(gcloud config configurations list | cut -d' ' -f1)\n",
    "for name in CONFIG_LIST: print(name)\n",
    "if CONFIG_LIST.count(MYNAME[0]) == 0:\n",
    "    !gcloud config configurations create {MYNAME[0]}"
   ]
  },
  {
   "cell_type": "code",
   "execution_count": 8,
   "metadata": {
    "deletable": false,
    "editable": false,
    "lc_cell_meme": {
     "current": "44c78694-1b4f-11ea-b853-0242ac120004",
     "execution_end_time": "2020-02-15T11:26:00.821138Z",
     "history": [
      {
       "current": "44c78694-1b4f-11ea-b853-0242ac120004",
       "next": "44c787de-1b4f-11ea-b853-0242ac120004",
       "previous": "44c78338-1b4f-11ea-b853-0242ac120004"
      }
     ],
     "next": "44c787de-1b4f-11ea-b853-0242ac120004",
     "previous": "fd0b70d6-1b4e-11ea-b853-0242ac120004"
    },
    "lc_wrapper": {
     "log_history": [
      "/home/user4/notebooks/seminar-lc4ri/.log/20191210/20191210-131508-0950.log",
      "/home/user4/notebooks/seminar-lc4ri/.log/20191210/20191210-134155-0598.log",
      "/home/user4/notebooks/seminar-lc4ri/.log/20191218/20191218-103403-0939.log",
      "/home/user4/notebooks/seminar-lc4ri/.log/20191218/20191218-114841-0798.log",
      "/home/user4/notebooks/seminar-lc4ri/.log/20191218/20191218-120633-0512.log",
      "/home/user4/notebooks/seminar-lc4ri/.log/20191218/20191218-121619-0091.log",
      "/home/user4/notebooks/seminar-lc4ri/.log/20200108/20200108-100906-0744.log",
      "/home/user4/notebooks/seminar-lc4ri/.log/20200115/20200115-102535-0857.log",
      "/home/user4/notebooks/seminar-lc4ri/git/notebooks/.log/20200214/20200214-120018-0101.log",
      "/home/user4/notebooks/seminar-lc4ri/git/notebooks/.log/20200215/20200215-090659-0075.log",
      "/home/user4/notebooks/seminar-lc4ri/notebooks/.log/20200215/20200215-112559-0243.log"
     ]
    },
    "run_through_control": {
     "frozen": true
    },
    "scrolled": true
   },
   "outputs": [
    {
     "name": "stdout",
     "output_type": "stream",
     "text": [
      "Updated property [core/project].\n",
      "\u001b[1;33mWARNING:\u001b[0m You do not appear to have access to project [topse-nagaku] or it does not exist.\n"
     ]
    }
   ],
   "source": [
    "!gcloud config set project 'topse-nagaku'"
   ]
  },
  {
   "cell_type": "code",
   "execution_count": 9,
   "metadata": {
    "deletable": false,
    "editable": false,
    "lc_cell_meme": {
     "current": "44c787de-1b4f-11ea-b853-0242ac120004",
     "execution_end_time": "2020-02-15T11:26:02.266668Z",
     "next": "44c788ec-1b4f-11ea-b853-0242ac120004",
     "previous": "44c78694-1b4f-11ea-b853-0242ac120004"
    },
    "lc_wrapper": {
     "log_history": [
      "/home/user4/notebooks/seminar-lc4ri/.log/20191210/20191210-131524-0510.log",
      "/home/user4/notebooks/seminar-lc4ri/.log/20191210/20191210-134207-0861.log",
      "/home/user4/notebooks/seminar-lc4ri/.log/20191218/20191218-103557-0053.log",
      "/home/user4/notebooks/seminar-lc4ri/.log/20191218/20191218-114849-0523.log",
      "/home/user4/notebooks/seminar-lc4ri/.log/20191218/20191218-115025-0223.log",
      "/home/user4/notebooks/seminar-lc4ri/.log/20191218/20191218-120638-0574.log",
      "/home/user4/notebooks/seminar-lc4ri/.log/20191218/20191218-121621-0975.log",
      "/home/user4/notebooks/seminar-lc4ri/.log/20200108/20200108-100911-0014.log",
      "/home/user4/notebooks/seminar-lc4ri/.log/20200115/20200115-102542-0949.log",
      "/home/user4/notebooks/seminar-lc4ri/git/notebooks/.log/20200214/20200214-120019-0716.log",
      "/home/user4/notebooks/seminar-lc4ri/git/notebooks/.log/20200215/20200215-090700-0690.log",
      "/home/user4/notebooks/seminar-lc4ri/notebooks/.log/20200215/20200215-112600-0829.log"
     ]
    },
    "pinned_outputs": [],
    "run_through_control": {
     "frozen": true
    },
    "scrolled": true
   },
   "outputs": [
    {
     "name": "stdout",
     "output_type": "stream",
     "text": [
      "Updated property [compute/region].\r\n"
     ]
    }
   ],
   "source": [
    "!gcloud config set compute/region us-west1"
   ]
  },
  {
   "cell_type": "code",
   "execution_count": 10,
   "metadata": {
    "deletable": false,
    "editable": false,
    "lc_cell_meme": {
     "current": "44c788ec-1b4f-11ea-b853-0242ac120004",
     "execution_end_time": "2020-02-15T11:26:03.742989Z",
     "history": [
      {
       "current": "44c788ec-1b4f-11ea-b853-0242ac120004",
       "next": "e2de4b48-1b49-11ea-ae81-0242ac120004",
       "previous": "44c787de-1b4f-11ea-b853-0242ac120004"
      },
      {
       "current": "44c788ec-1b4f-11ea-b853-0242ac120004",
       "next": "d3d55bfe-1b4f-11ea-b853-0242ac120004",
       "previous": "44c787de-1b4f-11ea-b853-0242ac120004"
      }
     ],
     "next": "d304c84c-3781-11ea-b98b-0242ac120006",
     "previous": "44c787de-1b4f-11ea-b853-0242ac120004"
    },
    "lc_wrapper": {
     "log_history": [
      "/home/user4/notebooks/seminar-lc4ri/.log/20191210/20191210-131534-0218.log",
      "/home/user4/notebooks/seminar-lc4ri/.log/20191210/20191210-134211-0757.log",
      "/home/user4/notebooks/seminar-lc4ri/.log/20191218/20191218-103601-0232.log",
      "/home/user4/notebooks/seminar-lc4ri/.log/20191218/20191218-115029-0094.log",
      "/home/user4/notebooks/seminar-lc4ri/.log/20191218/20191218-115141-0455.log",
      "/home/user4/notebooks/seminar-lc4ri/.log/20191218/20191218-120641-0937.log",
      "/home/user4/notebooks/seminar-lc4ri/.log/20191218/20191218-121624-0876.log",
      "/home/user4/notebooks/seminar-lc4ri/.log/20200108/20200108-100918-0198.log",
      "/home/user4/notebooks/seminar-lc4ri/.log/20200115/20200115-102546-0626.log",
      "/home/user4/notebooks/seminar-lc4ri/git/notebooks/.log/20200214/20200214-120021-0150.log",
      "/home/user4/notebooks/seminar-lc4ri/git/notebooks/.log/20200215/20200215-090702-0138.log",
      "/home/user4/notebooks/seminar-lc4ri/notebooks/.log/20200215/20200215-112602-0274.log"
     ]
    },
    "pinned_outputs": [],
    "run_through_control": {
     "frozen": true
    },
    "scrolled": true
   },
   "outputs": [
    {
     "name": "stdout",
     "output_type": "stream",
     "text": [
      "Updated property [compute/zone].\r\n"
     ]
    }
   ],
   "source": [
    "!gcloud config set compute/zone us-west1-a"
   ]
  },
  {
   "cell_type": "markdown",
   "metadata": {
    "lc_cell_meme": {
     "current": "d304c84c-3781-11ea-b98b-0242ac120006",
     "next": "d304ce78-3781-11ea-b98b-0242ac120006",
     "previous": "44c788ec-1b4f-11ea-b853-0242ac120004"
    }
   },
   "source": [
    "設定を確認する"
   ]
  },
  {
   "cell_type": "code",
   "execution_count": 11,
   "metadata": {
    "deletable": false,
    "editable": false,
    "lc_cell_meme": {
     "current": "d304ce78-3781-11ea-b98b-0242ac120006",
     "execution_end_time": "2020-02-15T11:26:05.213096Z",
     "next": "d3d55bfe-1b4f-11ea-b853-0242ac120004",
     "previous": "d304c84c-3781-11ea-b98b-0242ac120006"
    },
    "lc_wrapper": {
     "log_history": [
      "/home/user4/notebooks/seminar-lc4ri/.log/20200115/20200115-102727-0820.log",
      "/home/user4/notebooks/seminar-lc4ri/git/notebooks/.log/20200214/20200214-120022-0602.log",
      "/home/user4/notebooks/seminar-lc4ri/git/notebooks/.log/20200215/20200215-090703-0604.log",
      "/home/user4/notebooks/seminar-lc4ri/notebooks/.log/20200215/20200215-112603-0750.log"
     ]
    },
    "pinned_outputs": [],
    "run_through_control": {
     "frozen": true
    }
   },
   "outputs": [
    {
     "name": "stdout",
     "output_type": "stream",
     "text": [
      "[compute]\r\n",
      "region = us-west1\r\n",
      "zone = us-west1-a\r\n",
      "[core]\r\n",
      "account = 226115571655-compute@developer.gserviceaccount.com\r\n",
      "disable_usage_reporting = True\r\n",
      "project = topse-nagaku\r\n",
      "\r\n",
      "Your active configuration is: [user4]\r\n"
     ]
    }
   ],
   "source": [
    "!gcloud config list"
   ]
  },
  {
   "cell_type": "markdown",
   "metadata": {
    "lc_cell_meme": {
     "current": "d3d55bfe-1b4f-11ea-b853-0242ac120004",
     "history": [
      {
       "current": "d3d55bfe-1b4f-11ea-b853-0242ac120004",
       "next": "e2de4b48-1b49-11ea-ae81-0242ac120004",
       "previous": "44c788ec-1b4f-11ea-b853-0242ac120004"
      }
     ],
     "next": "e2de4b48-1b49-11ea-ae81-0242ac120004",
     "previous": "d304ce78-3781-11ea-b98b-0242ac120006"
    }
   },
   "source": [
    "### 認証情報設定"
   ]
  },
  {
   "cell_type": "markdown",
   "metadata": {
    "lc_cell_meme": {
     "current": "e2de4b48-1b49-11ea-ae81-0242ac120004",
     "execution_end_time": "2019-12-10T12:39:11.850906Z",
     "history": [
      {
       "current": "e2de4b48-1b49-11ea-ae81-0242ac120004",
       "next": null,
       "previous": "db1f4358-1b44-11ea-ae81-0242ac120004"
      },
      {
       "current": "e2de4b48-1b49-11ea-ae81-0242ac120004",
       "next": "2a400b84-1b4a-11ea-ae81-0242ac120004",
       "previous": "db1f4358-1b44-11ea-ae81-0242ac120004"
      },
      {
       "current": "e2de4b48-1b49-11ea-ae81-0242ac120004",
       "next": "2a400b84-1b4a-11ea-ae81-0242ac120004",
       "previous": "fd0b70d6-1b4e-11ea-b853-0242ac120004"
      },
      {
       "current": "e2de4b48-1b49-11ea-ae81-0242ac120004",
       "next": "2a400b84-1b4a-11ea-ae81-0242ac120004",
       "previous": "44c788ec-1b4f-11ea-b853-0242ac120004"
      },
      {
       "current": "e2de4b48-1b49-11ea-ae81-0242ac120004",
       "next": "2a400b84-1b4a-11ea-ae81-0242ac120004",
       "previous": "d3d55bfe-1b4f-11ea-b853-0242ac120004"
      },
      {
       "current": "e2de4b48-1b49-11ea-ae81-0242ac120004",
       "next": "6282371e-1b50-11ea-b853-0242ac120004",
       "previous": "d3d55bfe-1b4f-11ea-b853-0242ac120004"
      },
      {
       "current": "e2de4b48-1b49-11ea-ae81-0242ac120004",
       "next": "15213846-1b53-11ea-888a-0242ac120004",
       "previous": "d3d55bfe-1b4f-11ea-b853-0242ac120004"
      },
      {
       "current": "e2de4b48-1b49-11ea-ae81-0242ac120004",
       "next": "6282371e-1b50-11ea-b853-0242ac120004",
       "previous": "d3d55bfe-1b4f-11ea-b853-0242ac120004"
      },
      {
       "current": "e2de4b48-1b49-11ea-ae81-0242ac120004",
       "next": "c39e135e-218d-11ea-ab78-0242ac120007",
       "previous": "d3d55bfe-1b4f-11ea-b853-0242ac120004"
      }
     ],
     "next": "a394b80c-2191-11ea-ab78-0242ac120007",
     "previous": "d3d55bfe-1b4f-11ea-b853-0242ac120004"
    }
   },
   "source": [
    "サービスアカウントの鍵ファイルをカレントディレクトリにコピーする。"
   ]
  },
  {
   "cell_type": "code",
   "execution_count": 12,
   "metadata": {
    "deletable": false,
    "editable": false,
    "lc_cell_meme": {
     "current": "a394b80c-2191-11ea-ab78-0242ac120007",
     "execution_end_time": "2020-02-15T11:26:07.213395Z",
     "history": [
      {
       "current": "a394b80c-2191-11ea-ab78-0242ac120007",
       "next": "c39e135e-218d-11ea-ab78-0242ac120007",
       "previous": "e2de4b48-1b49-11ea-ae81-0242ac120004"
      }
     ],
     "next": "1a863570-3782-11ea-b98b-0242ac120006",
     "previous": "e2de4b48-1b49-11ea-ae81-0242ac120004"
    },
    "lc_wrapper": {
     "log_history": [
      "/home/user4/notebooks/seminar-lc4ri/.log/20200108/20200108-100928-0030.log",
      "/home/user4/notebooks/seminar-lc4ri/.log/20200115/20200115-102755-0294.log",
      "/home/user4/notebooks/seminar-lc4ri/.log/20200115/20200115-102817-0073.log",
      "/home/user4/notebooks/seminar-lc4ri/.log/20200115/20200115-103118-0071.log",
      "/home/user4/notebooks/seminar-lc4ri/.log/20200115/20200115-103216-0006.log",
      "/home/user4/notebooks/seminar-lc4ri/.log/20200115/20200115-103301-0179.log",
      "/home/user4/notebooks/seminar-lc4ri/.log/20200115/20200115-103536-0366.log",
      "/home/user4/notebooks/seminar-lc4ri/git/notebooks/.log/20200214/20200214-120024-0063.log",
      "/home/user4/notebooks/seminar-lc4ri/git/notebooks/.log/20200215/20200215-090705-0097.log",
      "/home/user4/notebooks/seminar-lc4ri/notebooks/.log/20200215/20200215-112605-0221.log"
     ]
    },
    "pinned_outputs": [],
    "run_through_control": {
     "frozen": true
    }
   },
   "outputs": [
    {
     "name": "stdout",
     "output_type": "stream",
     "text": [
      "topse-nagaku-e6bb79af7280.json\r\n"
     ]
    }
   ],
   "source": [
    "SA_KEYFILEPATH = \"/home/user4/notebooks/share\"\n",
    "SA_KEYFILENAME = \"topse-nagaku-e6bb79af7280.json\"\n",
    "!cp {SA_KEYFILEPATH}/{SA_KEYFILENAME} .\n",
    "!ls {SA_KEYFILENAME}"
   ]
  },
  {
   "cell_type": "markdown",
   "metadata": {
    "lc_cell_meme": {
     "current": "1a863570-3782-11ea-b98b-0242ac120006",
     "next": "c39e135e-218d-11ea-ab78-0242ac120007",
     "previous": "a394b80c-2191-11ea-ab78-0242ac120007"
    }
   },
   "source": [
    "サービスアカウントの認証情報を登録する"
   ]
  },
  {
   "cell_type": "code",
   "execution_count": 13,
   "metadata": {
    "deletable": false,
    "editable": false,
    "lc_cell_meme": {
     "current": "c39e135e-218d-11ea-ab78-0242ac120007",
     "execution_end_time": "2020-02-15T11:26:08.834200Z",
     "history": [
      {
       "current": "c39e135e-218d-11ea-ab78-0242ac120007",
       "next": "6282371e-1b50-11ea-b853-0242ac120004",
       "previous": "e2de4b48-1b49-11ea-ae81-0242ac120004"
      },
      {
       "current": "c39e135e-218d-11ea-ab78-0242ac120007",
       "next": "6282371e-1b50-11ea-b853-0242ac120004",
       "previous": "a394b80c-2191-11ea-ab78-0242ac120007"
      }
     ],
     "next": "6282371e-1b50-11ea-b853-0242ac120004",
     "previous": "1a863570-3782-11ea-b98b-0242ac120006"
    },
    "lc_wrapper": {
     "log_history": [
      "/home/user4/notebooks/seminar-lc4ri/.log/20191218/20191218-115813-0874.log",
      "/home/user4/notebooks/seminar-lc4ri/.log/20191218/20191218-120646-0644.log",
      "/home/user4/notebooks/seminar-lc4ri/.log/20191218/20191218-121628-0167.log",
      "/home/user4/notebooks/seminar-lc4ri/.log/20200108/20200108-100935-0214.log",
      "/home/user4/notebooks/seminar-lc4ri/.log/20200115/20200115-102943-0748.log",
      "/home/user4/notebooks/seminar-lc4ri/git/notebooks/.log/20200214/20200214-120026-0022.log",
      "/home/user4/notebooks/seminar-lc4ri/git/notebooks/.log/20200215/20200215-090707-0076.log",
      "/home/user4/notebooks/seminar-lc4ri/notebooks/.log/20200215/20200215-112607-0220.log"
     ]
    },
    "pinned_outputs": [],
    "run_through_control": {
     "frozen": true
    },
    "scrolled": true
   },
   "outputs": [
    {
     "name": "stdout",
     "output_type": "stream",
     "text": [
      "Activated service account credentials for: [topse-students@topse-nagaku.iam.gserviceaccount.com]\r\n"
     ]
    }
   ],
   "source": [
    "!gcloud auth activate-service-account topse-students@topse-nagaku.iam.gserviceaccount.com --key-file=topse-nagaku-e6bb79af7280.json --project=topse-nagaku"
   ]
  },
  {
   "cell_type": "markdown",
   "metadata": {
    "lc_cell_meme": {
     "current": "6282371e-1b50-11ea-b853-0242ac120004",
     "history": [
      {
       "current": "6282371e-1b50-11ea-b853-0242ac120004",
       "next": "2a400b84-1b4a-11ea-ae81-0242ac120004",
       "previous": "e2de4b48-1b49-11ea-ae81-0242ac120004"
      },
      {
       "current": "6282371e-1b50-11ea-b853-0242ac120004",
       "next": "2a400b84-1b4a-11ea-ae81-0242ac120004",
       "previous": "15213846-1b53-11ea-888a-0242ac120004"
      },
      {
       "current": "6282371e-1b50-11ea-b853-0242ac120004",
       "next": "2a400b84-1b4a-11ea-ae81-0242ac120004",
       "previous": "e2de4b48-1b49-11ea-ae81-0242ac120004"
      },
      {
       "current": "6282371e-1b50-11ea-b853-0242ac120004",
       "next": "2a400b84-1b4a-11ea-ae81-0242ac120004",
       "previous": "c39e135e-218d-11ea-ab78-0242ac120007"
      }
     ],
     "next": "1a863804-3782-11ea-b98b-0242ac120006",
     "previous": "c39e135e-218d-11ea-ab78-0242ac120007"
    }
   },
   "source": [
    "### 動作確認"
   ]
  },
  {
   "cell_type": "markdown",
   "metadata": {
    "lc_cell_meme": {
     "current": "1a863804-3782-11ea-b98b-0242ac120006",
     "next": "2a400b84-1b4a-11ea-ae81-0242ac120004",
     "previous": "6282371e-1b50-11ea-b853-0242ac120004"
    }
   },
   "source": [
    "gcloudコマンドでプロジェクトの情報が取得できることを確認"
   ]
  },
  {
   "cell_type": "code",
   "execution_count": 14,
   "metadata": {
    "deletable": false,
    "editable": false,
    "lc_cell_meme": {
     "current": "2a400b84-1b4a-11ea-ae81-0242ac120004",
     "execution_end_time": "2020-02-15T11:26:11.401854Z",
     "history": [
      {
       "current": "2a400b84-1b4a-11ea-ae81-0242ac120004",
       "next": null,
       "previous": "e2de4b48-1b49-11ea-ae81-0242ac120004"
      },
      {
       "current": "2a400b84-1b4a-11ea-ae81-0242ac120004",
       "next": "62823ac0-1b50-11ea-b853-0242ac120004",
       "previous": "6282371e-1b50-11ea-b853-0242ac120004"
      },
      {
       "current": "2a400b84-1b4a-11ea-ae81-0242ac120004",
       "next": "62823ac0-1b50-11ea-b853-0242ac120004",
       "previous": "1a863804-3782-11ea-b98b-0242ac120006"
      }
     ],
     "next": "38c55eca-3783-11ea-b98b-0242ac120006",
     "previous": "1a863804-3782-11ea-b98b-0242ac120006"
    },
    "lc_wrapper": {
     "log_history": [
      "/home/user4/notebooks/seminar-lc4ri/.log/20191210/20191210-132420-0290.log",
      "/home/user4/notebooks/seminar-lc4ri/.log/20191218/20191218-115929-0123.log",
      "/home/user4/notebooks/seminar-lc4ri/.log/20191218/20191218-120301-0381.log",
      "/home/user4/notebooks/seminar-lc4ri/.log/20191218/20191218-120650-0393.log",
      "/home/user4/notebooks/seminar-lc4ri/.log/20191218/20191218-121631-0990.log",
      "/home/user4/notebooks/seminar-lc4ri/.log/20200108/20200108-100939-0095.log",
      "/home/user4/notebooks/seminar-lc4ri/.log/20200115/20200115-102949-0797.log",
      "/home/user4/notebooks/seminar-lc4ri/git/notebooks/.log/20200214/20200214-120027-0687.log",
      "/home/user4/notebooks/seminar-lc4ri/git/notebooks/.log/20200215/20200215-090708-0772.log",
      "/home/user4/notebooks/seminar-lc4ri/notebooks/.log/20200215/20200215-112608-0841.log"
     ]
    },
    "pinned_outputs": [],
    "run_through_control": {
     "frozen": true
    }
   },
   "outputs": [
    {
     "name": "stdout",
     "output_type": "stream",
     "text": [
      "NAME           ZONE        MACHINE_TYPE   PREEMPTIBLE  INTERNAL_IP  EXTERNAL_IP   STATUS\r\n",
      "operationhib2  us-west1-b  n1-standard-4               10.138.0.42  34.82.78.204  RUNNING\r\n"
     ]
    }
   ],
   "source": [
    "!gcloud compute instances list"
   ]
  },
  {
   "cell_type": "markdown",
   "metadata": {
    "lc_cell_meme": {
     "current": "38c55eca-3783-11ea-b98b-0242ac120006",
     "history": [
      {
       "current": "38c55eca-3783-11ea-b98b-0242ac120006",
       "next": null,
       "previous": "3357effc-1b54-11ea-888a-0242ac120004"
      },
      {
       "current": "38c55eca-3783-11ea-b98b-0242ac120006",
       "next": "98b47946-4f12-11ea-9659-0242ac120005",
       "previous": "3357effc-1b54-11ea-888a-0242ac120004"
      }
     ],
     "next": "98b47946-4f12-11ea-9659-0242ac120005",
     "previous": "2a400b84-1b4a-11ea-ae81-0242ac120004"
    }
   },
   "source": [
    "## kubectlのインストール"
   ]
  },
  {
   "cell_type": "code",
   "execution_count": 15,
   "metadata": {
    "deletable": false,
    "editable": false,
    "lc_cell_meme": {
     "current": "98b47946-4f12-11ea-9659-0242ac120005",
     "execution_end_time": "2020-02-15T11:26:14.869908Z",
     "history": [
      {
       "current": "98b47946-4f12-11ea-9659-0242ac120005",
       "next": null,
       "previous": "38c55eca-3783-11ea-b98b-0242ac120006"
      }
     ],
     "next": "fa4fad64-4fc7-11ea-a82e-0242ac120004",
     "previous": "38c55eca-3783-11ea-b98b-0242ac120006"
    },
    "lc_wrapper": {
     "log_history": [
      "/home/user4/notebooks/seminar-lc4ri/git/notebooks/.log/20200214/20200214-120030-0268.log",
      "/home/user4/notebooks/seminar-lc4ri/git/notebooks/.log/20200214/20200214-120239-0380.log",
      "/home/user4/notebooks/seminar-lc4ri/git/notebooks/.log/20200215/20200215-090711-0483.log",
      "/home/user4/notebooks/seminar-lc4ri/notebooks/.log/20200215/20200215-112611-0409.log"
     ]
    },
    "pinned_outputs": [],
    "run_through_control": {
     "frozen": true
    }
   },
   "outputs": [
    {
     "name": "stdout",
     "output_type": "stream",
     "text": [
      "  % Total    % Received % Xferd  Average Speed   Time    Time     Time  Current\n",
      "                                 Dload  Upload   Total   Spent    Left  Speed\n",
      "100 41.4M  100 41.4M    0     0   115M      0 --:--:-- --:--:-- --:--:--  115M\n"
     ]
    }
   ],
   "source": [
    "!curl -LO https://storage.googleapis.com/kubernetes-release/release/$(curl -s https://storage.googleapis.com/kubernetes-release/release/stable.txt)/bin/linux/amd64/kubectl\n",
    "!chmod +x ./kubectl\n",
    "!sudo mv ./kubectl /usr/local/bin/kubectl"
   ]
  },
  {
   "cell_type": "code",
   "execution_count": 16,
   "metadata": {
    "deletable": false,
    "editable": false,
    "lc_cell_meme": {
     "current": "fa4fad64-4fc7-11ea-a82e-0242ac120004",
     "execution_end_time": "2020-02-15T11:26:15.854225Z",
     "next": null,
     "previous": "98b47946-4f12-11ea-9659-0242ac120005"
    },
    "lc_wrapper": {
     "log_history": [
      "/home/user4/notebooks/seminar-lc4ri/git/notebooks/.log/20200215/20200215-090714-0998.log",
      "/home/user4/notebooks/seminar-lc4ri/notebooks/.log/20200215/20200215-112614-0877.log"
     ]
    },
    "run_through_control": {
     "frozen": true
    }
   },
   "outputs": [
    {
     "name": "stdout",
     "output_type": "stream",
     "text": [
      "Sat Feb 15 11:26:15 UTC 2020\r\n"
     ]
    }
   ],
   "source": [
    "!date"
   ]
  }
 ],
 "metadata": {
  "kernelspec": {
   "display_name": "Python 3",
   "language": "python",
   "name": "python3"
  },
  "language_info": {
   "file_extension": ".py",
   "mimetype": "text/x-python",
   "name": "python",
   "nbconvert_exporter": "python",
   "pygments_lexer": "ipython3",
   "version": "3.7.3"
  },
  "lc_notebook_meme": {
   "current": "016927be-181f-11ea-8c8c-0242ac120007",
   "lc_server_signature": {
    "current": {
     "notebook_dir": "/home/user4/notebooks",
     "notebook_path": "/seminar-lc4ri/notebooks",
     "server_url": "https://operationhub.kgr-lab.com/user/user4/",
     "signature_id": "ae27fcb2-043f-11ea-b29c-0242ac120002"
    },
    "history": [
     {
      "notebook_dir": "/home/user4/notebooks",
      "notebook_path": "/seminar-lc4ri",
      "server_url": "https://operationhub.kgr-lab.com/user/user4/",
      "signature_id": "ae27fcb2-043f-11ea-b29c-0242ac120002"
     },
     {
      "notebook_dir": "/home/user4/notebooks",
      "notebook_path": "/",
      "server_url": "https://operationhub.kgr-lab.com/user/user4/",
      "signature_id": "ae27fcb2-043f-11ea-b29c-0242ac120002"
     },
     {
      "notebook_dir": "/home/user4/notebooks",
      "notebook_path": "/seminar-lc4ri/git/notebooks",
      "server_url": "https://operationhub.kgr-lab.com/user/user4/",
      "signature_id": "ae27fcb2-043f-11ea-b29c-0242ac120002"
     }
    ]
   }
  },
  "toc": {
   "base_numbering": 1,
   "nav_menu": {
    "height": "159px",
    "width": "230px"
   },
   "number_sections": true,
   "sideBar": true,
   "skip_h1_title": false,
   "title_cell": "Table of Contents",
   "title_sidebar": "Contents",
   "toc_cell": false,
   "toc_position": {},
   "toc_section_display": true,
   "toc_window_display": true
  }
 },
 "nbformat": 4,
 "nbformat_minor": 2
}
