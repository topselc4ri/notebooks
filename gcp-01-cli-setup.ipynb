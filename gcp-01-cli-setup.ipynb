{
 "cells": [
  {
   "cell_type": "markdown",
   "metadata": {
    "lc_cell_meme": {
     "current": "01692b88-181f-11ea-8c8c-0242ac120007",
     "next": "01692cdc-181f-11ea-8c8c-0242ac120007",
     "previous": null
    }
   },
   "source": [
    "# JupyterNoteからgcloudを使う"
   ]
  },
  {
   "cell_type": "markdown",
   "metadata": {
    "lc_cell_meme": {
     "current": "01692cdc-181f-11ea-8c8c-0242ac120007",
     "history": [
      {
       "current": "01692cdc-181f-11ea-8c8c-0242ac120007",
       "next": "01692dea-181f-11ea-8c8c-0242ac120007",
       "previous": "01692b88-181f-11ea-8c8c-0242ac120007"
      },
      {
       "current": "01692cdc-181f-11ea-8c8c-0242ac120007",
       "next": "4c0ac8fe-1b44-11ea-ae81-0242ac120004",
       "previous": "01692b88-181f-11ea-8c8c-0242ac120007"
      },
      {
       "current": "01692cdc-181f-11ea-8c8c-0242ac120007",
       "next": "938c5b52-1b44-11ea-ae81-0242ac120004",
       "previous": "01692b88-181f-11ea-8c8c-0242ac120007"
      },
      {
       "current": "01692cdc-181f-11ea-8c8c-0242ac120007",
       "next": "e2de4490-1b49-11ea-ae81-0242ac120004",
       "previous": "01692b88-181f-11ea-8c8c-0242ac120007"
      }
     ],
     "next": "8eeb7b26-2190-11ea-ab78-0242ac120007",
     "previous": "01692b88-181f-11ea-8c8c-0242ac120007"
    }
   },
   "source": [
    "CloudSDK クイックスタート(ubunts用)\n",
    "\n",
    "https://cloud.google.com/sdk/docs/quickstart-debian-ubuntu?hl=ja"
   ]
  },
  {
   "cell_type": "markdown",
   "metadata": {
    "lc_cell_meme": {
     "current": "8eeb7b26-2190-11ea-ab78-0242ac120007",
     "next": "e2de4490-1b49-11ea-ae81-0242ac120004",
     "previous": "01692cdc-181f-11ea-8c8c-0242ac120007"
    }
   },
   "source": [
    "gcloudコマンドを使うため、OperationHubのユーザ名でgcloudのConfigrationを作成し、\n",
    "サービスアカウントの認証情報を登録するNotebookです。"
   ]
  },
  {
   "cell_type": "markdown",
   "metadata": {
    "lc_cell_meme": {
     "current": "e2de4490-1b49-11ea-ae81-0242ac120004",
     "execution_end_time": "2019-12-10T12:36:55.576100Z",
     "history": [
      {
       "current": "e2de4490-1b49-11ea-ae81-0242ac120004",
       "next": "938c5b52-1b44-11ea-ae81-0242ac120004",
       "previous": "01692cdc-181f-11ea-8c8c-0242ac120007"
      }
     ],
     "next": "938c5b52-1b44-11ea-ae81-0242ac120004",
     "previous": "8eeb7b26-2190-11ea-ab78-0242ac120007"
    },
    "lc_wrapper": {
     "log_history": [
      "/home/user4/notebooks/seminar-lc4ri/.log/20191210/20191210-123655-0564.log"
     ]
    }
   },
   "source": [
    "## Install Cloud SDK"
   ]
  },
  {
   "cell_type": "markdown",
   "metadata": {
    "lc_cell_meme": {
     "current": "938c5b52-1b44-11ea-ae81-0242ac120004",
     "history": [
      {
       "current": "938c5b52-1b44-11ea-ae81-0242ac120004",
       "next": "01692dea-181f-11ea-8c8c-0242ac120007",
       "previous": "01692cdc-181f-11ea-8c8c-0242ac120007"
      }
     ],
     "next": "01692dea-181f-11ea-8c8c-0242ac120007",
     "previous": "e2de4490-1b49-11ea-ae81-0242ac120004"
    }
   },
   "source": [
    "Create environment variable for correct distribution\n",
    "\n",
    "!exportで設定した環境変数は次のCellに引き継がれないので、pythonの変数に格納する。\n",
    "\n",
    "参照する際は{環境変数[0]}"
   ]
  },
  {
   "cell_type": "code",
   "execution_count": 2,
   "metadata": {
    "deletable": false,
    "editable": false,
    "lc_cell_meme": {
     "current": "01692dea-181f-11ea-8c8c-0242ac120007",
     "execution_end_time": "2020-01-15T10:04:32.724923Z",
     "history": [
      {
       "current": "01692dea-181f-11ea-8c8c-0242ac120007",
       "next": "d79d81ae-181f-11ea-8c8c-0242ac120007",
       "previous": "01692cdc-181f-11ea-8c8c-0242ac120007"
      },
      {
       "current": "01692dea-181f-11ea-8c8c-0242ac120007",
       "next": "1f81559a-1820-11ea-8c8c-0242ac120007",
       "previous": "01692cdc-181f-11ea-8c8c-0242ac120007"
      },
      {
       "current": "01692dea-181f-11ea-8c8c-0242ac120007",
       "next": "a2dfc0dc-1822-11ea-8c8c-0242ac120007",
       "previous": "01692cdc-181f-11ea-8c8c-0242ac120007"
      },
      {
       "current": "01692dea-181f-11ea-8c8c-0242ac120007",
       "next": "a2dfc0dc-1822-11ea-8c8c-0242ac120007",
       "previous": "4c0ac8fe-1b44-11ea-ae81-0242ac120004"
      },
      {
       "current": "01692dea-181f-11ea-8c8c-0242ac120007",
       "next": "938c5e68-1b44-11ea-ae81-0242ac120004",
       "previous": "938c5b52-1b44-11ea-ae81-0242ac120004"
      }
     ],
     "next": "03b12f76-2189-11ea-ab78-0242ac120007",
     "previous": "938c5b52-1b44-11ea-ae81-0242ac120004"
    },
    "lc_wrapper": {
     "log_history": [
      "/home/user4/notebooks/seminar-lc4ri/.log/20191206/20191206-115853-0931.log",
      "/home/user4/notebooks/seminar-lc4ri/.log/20191206/20191206-115908-0629.log",
      "/home/user4/notebooks/seminar-lc4ri/.log/20191206/20191206-121345-0721.log",
      "/home/user4/notebooks/seminar-lc4ri/.log/20191206/20191206-121408-0122.log",
      "/home/user4/notebooks/seminar-lc4ri/.log/20191206/20191206-121535-0546.log",
      "/home/user4/notebooks/seminar-lc4ri/.log/20191206/20191206-121624-0753.log",
      "/home/user4/notebooks/seminar-lc4ri/.log/20191206/20191206-121641-0185.log",
      "/home/user4/notebooks/seminar-lc4ri/.log/20191206/20191206-122131-0848.log",
      "/home/user4/notebooks/seminar-lc4ri/.log/20191206/20191206-122201-0708.log",
      "/home/user4/notebooks/seminar-lc4ri/.log/20191206/20191206-122258-0328.log",
      "/home/user4/notebooks/seminar-lc4ri/.log/20191206/20191206-122323-0005.log",
      "/home/user4/notebooks/seminar-lc4ri/.log/20191210/20191210-115437-0976.log",
      "/home/user4/notebooks/seminar-lc4ri/.log/20191210/20191210-115505-0312.log",
      "/home/user4/notebooks/seminar-lc4ri/.log/20191210/20191210-120213-0046.log",
      "/home/user4/notebooks/seminar-lc4ri/.log/20191210/20191210-121046-0643.log",
      "/home/user4/notebooks/seminar-lc4ri/.log/20191210/20191210-121157-0521.log",
      "/home/user4/notebooks/seminar-lc4ri/.log/20191210/20191210-121305-0188.log",
      "/home/user4/notebooks/seminar-lc4ri/.log/20191210/20191210-121436-0881.log",
      "/home/user4/notebooks/seminar-lc4ri/.log/20191210/20191210-121535-0433.log",
      "/home/user4/notebooks/seminar-lc4ri/.log/20191210/20191210-121633-0438.log",
      "/home/user4/notebooks/seminar-lc4ri/.log/20191210/20191210-121711-0113.log",
      "/home/user4/notebooks/seminar-lc4ri/.log/20191210/20191210-122221-0827.log",
      "/home/user4/notebooks/seminar-lc4ri/.log/20191210/20191210-122954-0043.log",
      "/home/user4/notebooks/seminar-lc4ri/.log/20191210/20191210-123009-0043.log",
      "/home/user4/notebooks/seminar-lc4ri/.log/20191210/20191210-123159-0385.log",
      "/home/user4/notebooks/seminar-lc4ri/.log/20191210/20191210-123204-0106.log",
      "/home/user4/notebooks/seminar-lc4ri/.log/20191210/20191210-123335-0763.log",
      "/home/user4/notebooks/seminar-lc4ri/.log/20191210/20191210-123349-0849.log",
      "/home/user4/notebooks/seminar-lc4ri/.log/20191210/20191210-123358-0148.log",
      "/home/user4/notebooks/seminar-lc4ri/.log/20191218/20191218-102641-0189.log",
      "/home/user4/notebooks/seminar-lc4ri/.log/20191218/20191218-120601-0399.log",
      "/home/user4/notebooks/seminar-lc4ri/.log/20191218/20191218-120926-0403.log",
      "/home/user4/notebooks/seminar-lc4ri/.log/20200108/20200108-100647-0802.log",
      "/home/user4/notebooks/seminar-lc4ri/.log/20200115/20200115-100432-0619.log"
     ]
    },
    "run_through_control": {
     "frozen": true,
     "read_only": false
    }
   },
   "outputs": [
    {
     "name": "stdout",
     "output_type": "stream",
     "text": [
      "path: /home/user4/notebooks/seminar-lc4ri/.log/20200115/20200115-100432-0619.log (34 logs recorded)\n",
      "start time: 2020-01-15 10:04:32(UTC)\n",
      "end time: 2020-01-15 10:04:32(UTC)\n",
      "output size: 538 bytes\n",
      "0 chunks with matched keywords or errors\n",
      "----\n"
     ]
    }
   ],
   "source": [
    "CLOUD_SDK_REPO = !echo \"cloud-sdk-$(lsb_release -c -s)\""
   ]
  },
  {
   "cell_type": "markdown",
   "metadata": {
    "lc_cell_meme": {
     "current": "03b12f76-2189-11ea-ab78-0242ac120007",
     "next": "03b13336-2189-11ea-ab78-0242ac120007",
     "previous": "01692dea-181f-11ea-8c8c-0242ac120007"
    }
   },
   "source": [
    "次の gcloud コマンドが実行できれば、Install 不要なので手順1.1は終了。手順1.2を実施する。"
   ]
  },
  {
   "cell_type": "code",
   "execution_count": 3,
   "metadata": {
    "deletable": false,
    "editable": false,
    "lc_cell_meme": {
     "current": "03b13336-2189-11ea-ab78-0242ac120007",
     "execution_end_time": "2020-01-15T10:04:37.095190Z",
     "next": "938c5e68-1b44-11ea-ae81-0242ac120004",
     "previous": "03b12f76-2189-11ea-ab78-0242ac120007"
    },
    "lc_wrapper": {
     "log_history": [
      "/home/user4/notebooks/seminar-lc4ri/.log/20191218/20191218-112422-0147.log",
      "/home/user4/notebooks/seminar-lc4ri/.log/20191218/20191218-120605-0539.log",
      "/home/user4/notebooks/seminar-lc4ri/.log/20191218/20191218-120928-0553.log",
      "/home/user4/notebooks/seminar-lc4ri/.log/20200108/20200108-100650-0311.log",
      "/home/user4/notebooks/seminar-lc4ri/.log/20200115/20200115-100435-0602.log"
     ]
    },
    "run_through_control": {
     "frozen": true,
     "read_only": false
    }
   },
   "outputs": [
    {
     "name": "stdout",
     "output_type": "stream",
     "text": [
      "path: /home/user4/notebooks/seminar-lc4ri/.log/20200115/20200115-100435-0602.log (4 logs recorded)\n",
      "start time: 2020-01-15 10:04:35(UTC)\n",
      "end time: 2020-01-15 10:04:37(UTC)\n",
      "output size: 719 bytes\n",
      "0 chunks with matched keywords or errors\n",
      "----\n",
      "[compute]\n",
      "region = us-west1\n",
      "zone = us-west1-a\n",
      "[core]\n",
      "account = topse-students@topse-nagaku.iam.gserviceaccount.com\n",
      "disable_usage_reporting = True\n",
      "project = topse-nagaku\n",
      "\n",
      "Your active configuration is: [user4]"
     ]
    }
   ],
   "source": [
    "!gcloud config list"
   ]
  },
  {
   "cell_type": "markdown",
   "metadata": {
    "lc_cell_meme": {
     "current": "938c5e68-1b44-11ea-ae81-0242ac120004",
     "history": [
      {
       "current": "938c5e68-1b44-11ea-ae81-0242ac120004",
       "next": "938c5fbc-1b44-11ea-ae81-0242ac120004",
       "previous": "01692dea-181f-11ea-8c8c-0242ac120007"
      }
     ],
     "next": "938c5fbc-1b44-11ea-ae81-0242ac120004",
     "previous": "03b13336-2189-11ea-ab78-0242ac120007"
    }
   },
   "source": [
    "Add the Cloud SDK distribution URI as a package source"
   ]
  },
  {
   "cell_type": "code",
   "execution_count": 4,
   "metadata": {
    "deletable": false,
    "editable": false,
    "lc_cell_meme": {
     "current": "938c5fbc-1b44-11ea-ae81-0242ac120004",
     "execution_end_time": "2020-01-15T10:04:47.172302Z",
     "next": "938c60c0-1b44-11ea-ae81-0242ac120004",
     "previous": "938c5e68-1b44-11ea-ae81-0242ac120004"
    },
    "lc_wrapper": {
     "log_history": [
      "/home/user4/notebooks/seminar-lc4ri/.log/20191210/20191210-120017-0120.log",
      "/home/user4/notebooks/seminar-lc4ri/.log/20191210/20191210-120216-0701.log",
      "/home/user4/notebooks/seminar-lc4ri/.log/20191210/20191210-120424-0178.log",
      "/home/user4/notebooks/seminar-lc4ri/.log/20191210/20191210-120452-0573.log",
      "/home/user4/notebooks/seminar-lc4ri/.log/20191210/20191210-120500-0045.log",
      "/home/user4/notebooks/seminar-lc4ri/.log/20191210/20191210-120527-0005.log",
      "/home/user4/notebooks/seminar-lc4ri/.log/20191210/20191210-121004-0532.log",
      "/home/user4/notebooks/seminar-lc4ri/.log/20191210/20191210-121049-0803.log",
      "/home/user4/notebooks/seminar-lc4ri/.log/20191210/20191210-121204-0729.log",
      "/home/user4/notebooks/seminar-lc4ri/.log/20191210/20191210-121237-0930.log",
      "/home/user4/notebooks/seminar-lc4ri/.log/20191210/20191210-121331-0962.log",
      "/home/user4/notebooks/seminar-lc4ri/.log/20191210/20191210-121425-0770.log",
      "/home/user4/notebooks/seminar-lc4ri/.log/20191210/20191210-121446-0673.log",
      "/home/user4/notebooks/seminar-lc4ri/.log/20191210/20191210-121507-0241.log",
      "/home/user4/notebooks/seminar-lc4ri/.log/20191210/20191210-121538-0496.log",
      "/home/user4/notebooks/seminar-lc4ri/.log/20191210/20191210-121636-0767.log",
      "/home/user4/notebooks/seminar-lc4ri/.log/20191210/20191210-121714-0208.log",
      "/home/user4/notebooks/seminar-lc4ri/.log/20191210/20191210-122356-0032.log",
      "/home/user4/notebooks/seminar-lc4ri/.log/20191210/20191210-122646-0333.log",
      "/home/user4/notebooks/seminar-lc4ri/.log/20191210/20191210-122705-0155.log",
      "/home/user4/notebooks/seminar-lc4ri/.log/20191210/20191210-122728-0291.log",
      "/home/user4/notebooks/seminar-lc4ri/.log/20191210/20191210-123019-0658.log",
      "/home/user4/notebooks/seminar-lc4ri/.log/20191210/20191210-123038-0826.log",
      "/home/user4/notebooks/seminar-lc4ri/.log/20191210/20191210-123105-0078.log",
      "/home/user4/notebooks/seminar-lc4ri/.log/20191210/20191210-123122-0890.log",
      "/home/user4/notebooks/seminar-lc4ri/.log/20191210/20191210-123421-0657.log",
      "/home/user4/notebooks/seminar-lc4ri/.log/20191218/20191218-102647-0642.log",
      "/home/user4/notebooks/seminar-lc4ri/.log/20191218/20191218-102957-0899.log",
      "/home/user4/notebooks/seminar-lc4ri/.log/20200108/20200108-100654-0716.log",
      "/home/user4/notebooks/seminar-lc4ri/.log/20200115/20200115-100446-0175.log"
     ]
    },
    "run_through_control": {
     "frozen": true,
     "read_only": false
    }
   },
   "outputs": [
    {
     "name": "stdout",
     "output_type": "stream",
     "text": [
      "path: /home/user4/notebooks/seminar-lc4ri/.log/20200115/20200115-100446-0175.log (30 logs recorded)\n",
      "start time: 2020-01-15 10:04:46(UTC)\n",
      "end time: 2020-01-15 10:04:47(UTC)\n",
      "output size: 680 bytes\n",
      "0 chunks with matched keywords or errors\n",
      "----\n",
      "deb http://packages.cloud.google.com/apt cloud-sdk-bionic main"
     ]
    }
   ],
   "source": [
    "!echo \"deb http://packages.cloud.google.com/apt {CLOUD_SDK_REPO[0]} main\" | sudo tee -a /etc/apt/sources.list.d/google-cloud-sdk.list"
   ]
  },
  {
   "cell_type": "markdown",
   "metadata": {
    "lc_cell_meme": {
     "current": "938c60c0-1b44-11ea-ae81-0242ac120004",
     "history": [
      {
       "current": "938c60c0-1b44-11ea-ae81-0242ac120004",
       "next": "938c61ba-1b44-11ea-ae81-0242ac120004",
       "previous": "938c5fbc-1b44-11ea-ae81-0242ac120004"
      }
     ],
     "next": "db1f4024-1b44-11ea-ae81-0242ac120004",
     "previous": "938c5fbc-1b44-11ea-ae81-0242ac120004"
    }
   },
   "source": [
    "Import the Google Cloud Platform public key"
   ]
  },
  {
   "cell_type": "code",
   "execution_count": 5,
   "metadata": {
    "deletable": false,
    "editable": false,
    "lc_cell_meme": {
     "current": "db1f4024-1b44-11ea-ae81-0242ac120004",
     "execution_end_time": "2020-01-15T10:04:51.072140Z",
     "next": "938c61ba-1b44-11ea-ae81-0242ac120004",
     "previous": "938c60c0-1b44-11ea-ae81-0242ac120004"
    },
    "lc_wrapper": {
     "log_history": [
      "/home/user4/notebooks/seminar-lc4ri/.log/20191210/20191210-120540-0235.log",
      "/home/user4/notebooks/seminar-lc4ri/.log/20191210/20191210-121053-0378.log",
      "/home/user4/notebooks/seminar-lc4ri/.log/20191210/20191210-123500-0969.log",
      "/home/user4/notebooks/seminar-lc4ri/.log/20191218/20191218-102702-0314.log",
      "/home/user4/notebooks/seminar-lc4ri/.log/20191218/20191218-103124-0454.log",
      "/home/user4/notebooks/seminar-lc4ri/.log/20200108/20200108-100658-0924.log",
      "/home/user4/notebooks/seminar-lc4ri/.log/20200115/20200115-100449-0731.log"
     ]
    },
    "run_through_control": {
     "frozen": true,
     "read_only": false
    }
   },
   "outputs": [
    {
     "name": "stdout",
     "output_type": "stream",
     "text": [
      "path: /home/user4/notebooks/seminar-lc4ri/.log/20200115/20200115-100449-0731.log (7 logs recorded)\n",
      "start time: 2020-01-15 10:04:49(UTC)\n",
      "end time: 2020-01-15 10:04:51(UTC)\n",
      "output size: 887 bytes\n",
      "1 chunks with matched keywords or errors\n",
      "----\n",
      "  % Total    % Received % Xferd  Average Speed   Time    Time     Time  Current\n",
      "                                 Dload  Upload   Total   Spent    Left  Speed\n",
      "\n",
      "  0     0    0     0    0     0      0      0 --:--:-- --:--:-- --:--:--     0\n",
      "\n",
      "100   659  100   659    0     0  21258      0 --:--:-- --:--:-- --:--:-- 21258\n",
      "OK"
     ]
    }
   ],
   "source": [
    "!curl https://packages.cloud.google.com/apt/doc/apt-key.gpg | sudo apt-key add -"
   ]
  },
  {
   "cell_type": "markdown",
   "metadata": {
    "lc_cell_meme": {
     "current": "938c61ba-1b44-11ea-ae81-0242ac120004",
     "history": [
      {
       "current": "938c61ba-1b44-11ea-ae81-0242ac120004",
       "next": "938c62b4-1b44-11ea-ae81-0242ac120004",
       "previous": "938c60c0-1b44-11ea-ae81-0242ac120004"
      }
     ],
     "next": "938c62b4-1b44-11ea-ae81-0242ac120004",
     "previous": "db1f4024-1b44-11ea-ae81-0242ac120004"
    }
   },
   "source": [
    "Update the package list and install the Cloud SDK"
   ]
  },
  {
   "cell_type": "code",
   "execution_count": 6,
   "metadata": {
    "deletable": false,
    "editable": false,
    "lc_cell_meme": {
     "current": "938c62b4-1b44-11ea-ae81-0242ac120004",
     "execution_end_time": "2020-01-15T10:05:11.038394Z",
     "history": [
      {
       "current": "938c62b4-1b44-11ea-ae81-0242ac120004",
       "next": null,
       "previous": "938c61ba-1b44-11ea-ae81-0242ac120004"
      }
     ],
     "next": "db1f4358-1b44-11ea-ae81-0242ac120004",
     "previous": "938c61ba-1b44-11ea-ae81-0242ac120004"
    },
    "lc_wrapper": {
     "log_history": [
      "/home/user4/notebooks/seminar-lc4ri/.log/20191210/20191210-120552-0437.log",
      "/home/user4/notebooks/seminar-lc4ri/.log/20191210/20191210-120619-0614.log",
      "/home/user4/notebooks/seminar-lc4ri/.log/20191210/20191210-120632-0076.log",
      "/home/user4/notebooks/seminar-lc4ri/.log/20191210/20191210-121017-0595.log",
      "/home/user4/notebooks/seminar-lc4ri/.log/20191210/20191210-121057-0042.log",
      "/home/user4/notebooks/seminar-lc4ri/.log/20191210/20191210-123506-0688.log",
      "/home/user4/notebooks/seminar-lc4ri/.log/20191218/20191218-103130-0624.log",
      "/home/user4/notebooks/seminar-lc4ri/.log/20200108/20200108-100703-0509.log",
      "/home/user4/notebooks/seminar-lc4ri/.log/20200115/20200115-100501-0558.log"
     ]
    },
    "run_through_control": {
     "frozen": true,
     "read_only": false
    }
   },
   "outputs": [
    {
     "name": "stdout",
     "output_type": "stream",
     "text": [
      "path: /home/user4/notebooks/seminar-lc4ri/.log/20200115/20200115-100501-0558.log (9 logs recorded)\n",
      "start time: 2020-01-15 10:05:01(UTC)\n",
      "end time: 2020-01-15 10:05:11(UTC)\n",
      "output size: 17155 bytes\n",
      "0 chunks with matched keywords or errors\n",
      "----\n",
      "\n",
      "0% [Working]\n",
      "\n",
      "0% [Connecting to archive.ubuntu.com (91.189.88.174)] [Connecting to security.u\n",
      "\n",
      "                                                                               \n",
      "Get:2 https://packages.microsoft.com/ubuntu/18.04/prod bionic InRelease [4,003 B]\n",
      "\n",
      "0% [Waiting for headers] [Connecting to archive.ubuntu.com (91.189.88.174)] [Co\n",
      "0% [Waiting for headers] [Connecting to archive.ubuntu.com (91.189.88.174)] [Co\n",
      "0% [2 InRelease gpgv 4,003 B] [Waiting for headers] [Connecting to archive.ubun\n",
      "\n",
      "                                                                               \n",
      "Get:1 https://packages.cloud.google.com/apt kubernetes-xenial InRelease [8,993 B]\n",
      "\n",
      "0% [2 InRelease gpgv 4,003 B] [1 InRelease 8,993 B/8,993 B 100%] [Connecting to\n",
      "0% [2 InRelease gpgv 4,003 B] [Connecting to archive.ubuntu.com (91.189.88.174)\n",
      "\n",
      "                                                                               \n",
      "Get:3 http://packages.cloud.google.com/apt cloud-sdk-bionic InRelease [6,372 B]\n",
      "...\n",
      "\n",
      "Building dependency tree... 0%\n",
      "\n",
      "Building dependency tree... 50%\n",
      "\n",
      "Building dependency tree... 50%\n",
      "\n",
      "Building dependency tree       \n",
      "\n",
      "\n",
      "Reading state information... 0%\n",
      "\n",
      "Reading state information... 0%\n",
      "\n",
      "Reading state information... Done\n",
      "\n",
      "google-cloud-sdk is already the newest version (276.0.0-0).\n",
      "0 upgraded, 0 newly installed, 0 to remove and 0 not upgraded.\n",
      "W: Target Packages (main/binary-amd64/Packages) is configured multiple times in /etc/apt/sources.list.d/google-cloud-sdk.list:1 and /etc/apt/sources.list.d/google-cloud-sdk.list:2\n",
      "W: Target Packages (main/binary-all/Packages) is configured multiple times in /etc/apt/sources.list.d/google-cloud-sdk.list:1 and /etc/apt/sources.list.d/google-cloud-sdk.list:2"
     ]
    }
   ],
   "source": [
    "!sudo apt-get update && sudo apt-get install google-cloud-sdk"
   ]
  },
  {
   "cell_type": "markdown",
   "metadata": {
    "lc_cell_meme": {
     "current": "db1f4358-1b44-11ea-ae81-0242ac120004",
     "history": [
      {
       "current": "db1f4358-1b44-11ea-ae81-0242ac120004",
       "next": null,
       "previous": "938c62b4-1b44-11ea-ae81-0242ac120004"
      },
      {
       "current": "db1f4358-1b44-11ea-ae81-0242ac120004",
       "next": "e2de4b48-1b49-11ea-ae81-0242ac120004",
       "previous": "938c62b4-1b44-11ea-ae81-0242ac120004"
      },
      {
       "current": "db1f4358-1b44-11ea-ae81-0242ac120004",
       "next": "fd0b6a14-1b4e-11ea-b853-0242ac120004",
       "previous": "938c62b4-1b44-11ea-ae81-0242ac120004"
      }
     ],
     "next": "d3d55794-1b4f-11ea-b853-0242ac120004",
     "previous": "938c62b4-1b44-11ea-ae81-0242ac120004"
    }
   },
   "source": [
    "## Initialize SDK"
   ]
  },
  {
   "cell_type": "markdown",
   "metadata": {
    "lc_cell_meme": {
     "current": "d3d55794-1b4f-11ea-b853-0242ac120004",
     "history": [
      {
       "current": "d3d55794-1b4f-11ea-b853-0242ac120004",
       "next": "fd0b6a14-1b4e-11ea-b853-0242ac120004",
       "previous": "db1f4358-1b44-11ea-ae81-0242ac120004"
      }
     ],
     "next": "4b3805d6-2189-11ea-ab78-0242ac120007",
     "previous": "db1f4358-1b44-11ea-ae81-0242ac120004"
    }
   },
   "source": [
    "### 環境設定"
   ]
  },
  {
   "cell_type": "markdown",
   "metadata": {
    "lc_cell_meme": {
     "current": "4b3805d6-2189-11ea-ab78-0242ac120007",
     "history": [
      {
       "current": "4b3805d6-2189-11ea-ab78-0242ac120007",
       "next": "fd0b70d6-1b4e-11ea-b853-0242ac120004",
       "previous": "fd0b6a14-1b4e-11ea-b853-0242ac120004"
      },
      {
       "current": "4b3805d6-2189-11ea-ab78-0242ac120007",
       "next": "da1bb3a6-2189-11ea-ab78-0242ac120007",
       "previous": "fd0b6a14-1b4e-11ea-b853-0242ac120004"
      },
      {
       "current": "4b3805d6-2189-11ea-ab78-0242ac120007",
       "next": "fd0b70d6-1b4e-11ea-b853-0242ac120004",
       "previous": "fd0b6a14-1b4e-11ea-b853-0242ac120004"
      },
      {
       "current": "4b3805d6-2189-11ea-ab78-0242ac120007",
       "next": "70ca3caa-218f-11ea-ab78-0242ac120007",
       "previous": "fd0b6a14-1b4e-11ea-b853-0242ac120004"
      },
      {
       "current": "4b3805d6-2189-11ea-ab78-0242ac120007",
       "next": "fd0b70d6-1b4e-11ea-b853-0242ac120004",
       "previous": "fd0b6a14-1b4e-11ea-b853-0242ac120004"
      }
     ],
     "next": "fd0b70d6-1b4e-11ea-b853-0242ac120004",
     "previous": "d3d55794-1b4f-11ea-b853-0242ac120004"
    }
   },
   "source": [
    "自分の名前の設定がまだ作成されていなければ作成する。"
   ]
  },
  {
   "cell_type": "code",
   "execution_count": 27,
   "metadata": {
    "deletable": false,
    "editable": false,
    "lc_cell_meme": {
     "current": "fd0b70d6-1b4e-11ea-b853-0242ac120004",
     "execution_end_time": "2020-01-15T10:25:16.014131Z",
     "history": [
      {
       "current": "fd0b70d6-1b4e-11ea-b853-0242ac120004",
       "next": "e2de4b48-1b49-11ea-ae81-0242ac120004",
       "previous": "fd0b6a14-1b4e-11ea-b853-0242ac120004"
      },
      {
       "current": "fd0b70d6-1b4e-11ea-b853-0242ac120004",
       "next": "44c78338-1b4f-11ea-b853-0242ac120004",
       "previous": "fd0b6a14-1b4e-11ea-b853-0242ac120004"
      },
      {
       "current": "fd0b70d6-1b4e-11ea-b853-0242ac120004",
       "next": "44c78694-1b4f-11ea-b853-0242ac120004",
       "previous": "fd0b6a14-1b4e-11ea-b853-0242ac120004"
      },
      {
       "current": "fd0b70d6-1b4e-11ea-b853-0242ac120004",
       "next": "44c78694-1b4f-11ea-b853-0242ac120004",
       "previous": "4b3805d6-2189-11ea-ab78-0242ac120007"
      },
      {
       "current": "fd0b70d6-1b4e-11ea-b853-0242ac120004",
       "next": "44c78694-1b4f-11ea-b853-0242ac120004",
       "previous": "da1bb3a6-2189-11ea-ab78-0242ac120007"
      },
      {
       "current": "fd0b70d6-1b4e-11ea-b853-0242ac120004",
       "next": "44c78694-1b4f-11ea-b853-0242ac120004",
       "previous": "4b3805d6-2189-11ea-ab78-0242ac120007"
      },
      {
       "current": "fd0b70d6-1b4e-11ea-b853-0242ac120004",
       "next": "44c78694-1b4f-11ea-b853-0242ac120004",
       "previous": "70ca3caa-218f-11ea-ab78-0242ac120007"
      }
     ],
     "next": "44c78694-1b4f-11ea-b853-0242ac120004",
     "previous": "4b3805d6-2189-11ea-ab78-0242ac120007"
    },
    "lc_wrapper": {
     "log_history": [
      "/home/user4/notebooks/seminar-lc4ri/.log/20191210/20191210-131432-0487.log",
      "/home/user4/notebooks/seminar-lc4ri/.log/20191210/20191210-134144-0677.log",
      "/home/user4/notebooks/seminar-lc4ri/.log/20191218/20191218-103227-0845.log",
      "/home/user4/notebooks/seminar-lc4ri/.log/20191218/20191218-113621-0786.log",
      "/home/user4/notebooks/seminar-lc4ri/.log/20191218/20191218-113757-0236.log",
      "/home/user4/notebooks/seminar-lc4ri/.log/20191218/20191218-114404-0053.log",
      "/home/user4/notebooks/seminar-lc4ri/.log/20191218/20191218-114431-0431.log",
      "/home/user4/notebooks/seminar-lc4ri/.log/20191218/20191218-114500-0934.log",
      "/home/user4/notebooks/seminar-lc4ri/.log/20191218/20191218-114513-0822.log",
      "/home/user4/notebooks/seminar-lc4ri/.log/20191218/20191218-114617-0895.log",
      "/home/user4/notebooks/seminar-lc4ri/.log/20191218/20191218-114636-0418.log",
      "/home/user4/notebooks/seminar-lc4ri/.log/20191218/20191218-114645-0453.log",
      "/home/user4/notebooks/seminar-lc4ri/.log/20191218/20191218-114719-0375.log",
      "/home/user4/notebooks/seminar-lc4ri/.log/20191218/20191218-114755-0556.log",
      "/home/user4/notebooks/seminar-lc4ri/.log/20191218/20191218-114828-0430.log",
      "/home/user4/notebooks/seminar-lc4ri/.log/20191218/20191218-120630-0126.log",
      "/home/user4/notebooks/seminar-lc4ri/.log/20191218/20191218-120939-0553.log",
      "/home/user4/notebooks/seminar-lc4ri/.log/20191218/20191218-121158-0085.log",
      "/home/user4/notebooks/seminar-lc4ri/.log/20191218/20191218-121239-0116.log",
      "/home/user4/notebooks/seminar-lc4ri/.log/20191218/20191218-121246-0337.log",
      "/home/user4/notebooks/seminar-lc4ri/.log/20191218/20191218-121320-0065.log",
      "/home/user4/notebooks/seminar-lc4ri/.log/20191218/20191218-121601-0133.log",
      "/home/user4/notebooks/seminar-lc4ri/.log/20200108/20200108-100902-0039.log",
      "/home/user4/notebooks/seminar-lc4ri/.log/20200115/20200115-100537-0581.log",
      "/home/user4/notebooks/seminar-lc4ri/.log/20200115/20200115-102340-0976.log",
      "/home/user4/notebooks/seminar-lc4ri/.log/20200115/20200115-102515-0431.log"
     ]
    },
    "run_through_control": {
     "frozen": true,
     "read_only": false
    }
   },
   "outputs": [
    {
     "name": "stdout",
     "output_type": "stream",
     "text": [
      "path: /home/user4/notebooks/seminar-lc4ri/.log/20200115/20200115-102515-0431.log (26 logs recorded)\n",
      "start time: 2020-01-15 10:25:15(UTC)\n",
      "end time: 2020-01-15 10:25:16(UTC)\n",
      "output size: 711 bytes\n",
      "0 chunks with matched keywords or errors\n",
      "----\n",
      "NAME\n",
      "default\n",
      "user4"
     ]
    }
   ],
   "source": [
    "MYNAME = !whoami\n",
    "CONFIG_LIST=!(gcloud config configurations list | cut -d' ' -f1)\n",
    "for name in CONFIG_LIST: print(name)\n",
    "if CONFIG_LIST.count(MYNAME[0]) == 0:\n",
    "    !gcloud config configurations create {MYNAME[0]}"
   ]
  },
  {
   "cell_type": "code",
   "execution_count": 28,
   "metadata": {
    "deletable": false,
    "editable": false,
    "lc_cell_meme": {
     "current": "44c78694-1b4f-11ea-b853-0242ac120004",
     "execution_end_time": "2020-01-15T10:25:37.609544Z",
     "history": [
      {
       "current": "44c78694-1b4f-11ea-b853-0242ac120004",
       "next": "44c787de-1b4f-11ea-b853-0242ac120004",
       "previous": "44c78338-1b4f-11ea-b853-0242ac120004"
      }
     ],
     "next": "44c787de-1b4f-11ea-b853-0242ac120004",
     "previous": "fd0b70d6-1b4e-11ea-b853-0242ac120004"
    },
    "lc_wrapper": {
     "log_history": [
      "/home/user4/notebooks/seminar-lc4ri/.log/20191210/20191210-131508-0950.log",
      "/home/user4/notebooks/seminar-lc4ri/.log/20191210/20191210-134155-0598.log",
      "/home/user4/notebooks/seminar-lc4ri/.log/20191218/20191218-103403-0939.log",
      "/home/user4/notebooks/seminar-lc4ri/.log/20191218/20191218-114841-0798.log",
      "/home/user4/notebooks/seminar-lc4ri/.log/20191218/20191218-120633-0512.log",
      "/home/user4/notebooks/seminar-lc4ri/.log/20191218/20191218-121619-0091.log",
      "/home/user4/notebooks/seminar-lc4ri/.log/20200108/20200108-100906-0744.log",
      "/home/user4/notebooks/seminar-lc4ri/.log/20200115/20200115-102535-0857.log"
     ]
    },
    "run_through_control": {
     "frozen": true,
     "read_only": false
    },
    "scrolled": true
   },
   "outputs": [
    {
     "name": "stdout",
     "output_type": "stream",
     "text": [
      "path: /home/user4/notebooks/seminar-lc4ri/.log/20200115/20200115-102535-0857.log (7 logs recorded)\n",
      "start time: 2020-01-15 10:25:35(UTC)\n",
      "end time: 2020-01-15 10:25:37(UTC)\n",
      "output size: 660 bytes\n",
      "0 chunks with matched keywords or errors\n",
      "----\n",
      "Updated property [core/project].\n",
      "\u001b[1;33mWARNING:\u001b[0m You do not appear to have access to project [topse-nagaku] or it does not exist."
     ]
    }
   ],
   "source": [
    "!gcloud config set project 'topse-nagaku'"
   ]
  },
  {
   "cell_type": "code",
   "execution_count": 29,
   "metadata": {
    "deletable": false,
    "editable": false,
    "lc_cell_meme": {
     "current": "44c787de-1b4f-11ea-b853-0242ac120004",
     "execution_end_time": "2020-01-15T10:25:44.405861Z",
     "next": "44c788ec-1b4f-11ea-b853-0242ac120004",
     "previous": "44c78694-1b4f-11ea-b853-0242ac120004"
    },
    "lc_wrapper": {
     "log_history": [
      "/home/user4/notebooks/seminar-lc4ri/.log/20191210/20191210-131524-0510.log",
      "/home/user4/notebooks/seminar-lc4ri/.log/20191210/20191210-134207-0861.log",
      "/home/user4/notebooks/seminar-lc4ri/.log/20191218/20191218-103557-0053.log",
      "/home/user4/notebooks/seminar-lc4ri/.log/20191218/20191218-114849-0523.log",
      "/home/user4/notebooks/seminar-lc4ri/.log/20191218/20191218-115025-0223.log",
      "/home/user4/notebooks/seminar-lc4ri/.log/20191218/20191218-120638-0574.log",
      "/home/user4/notebooks/seminar-lc4ri/.log/20191218/20191218-121621-0975.log",
      "/home/user4/notebooks/seminar-lc4ri/.log/20200108/20200108-100911-0014.log",
      "/home/user4/notebooks/seminar-lc4ri/.log/20200115/20200115-102542-0949.log"
     ]
    },
    "run_through_control": {
     "frozen": true,
     "read_only": false
    },
    "scrolled": true
   },
   "outputs": [
    {
     "name": "stdout",
     "output_type": "stream",
     "text": [
      "path: /home/user4/notebooks/seminar-lc4ri/.log/20200115/20200115-102542-0949.log (8 logs recorded)\n",
      "start time: 2020-01-15 10:25:42(UTC)\n",
      "end time: 2020-01-15 10:25:44(UTC)\n",
      "output size: 561 bytes\n",
      "0 chunks with matched keywords or errors\n",
      "----\n",
      "Updated property [compute/region]."
     ]
    }
   ],
   "source": [
    "!gcloud config set compute/region us-west1"
   ]
  },
  {
   "cell_type": "code",
   "execution_count": 30,
   "metadata": {
    "deletable": false,
    "editable": false,
    "lc_cell_meme": {
     "current": "44c788ec-1b4f-11ea-b853-0242ac120004",
     "execution_end_time": "2020-01-15T10:25:48.094857Z",
     "history": [
      {
       "current": "44c788ec-1b4f-11ea-b853-0242ac120004",
       "next": "e2de4b48-1b49-11ea-ae81-0242ac120004",
       "previous": "44c787de-1b4f-11ea-b853-0242ac120004"
      },
      {
       "current": "44c788ec-1b4f-11ea-b853-0242ac120004",
       "next": "d3d55bfe-1b4f-11ea-b853-0242ac120004",
       "previous": "44c787de-1b4f-11ea-b853-0242ac120004"
      }
     ],
     "next": "d304c84c-3781-11ea-b98b-0242ac120006",
     "previous": "44c787de-1b4f-11ea-b853-0242ac120004"
    },
    "lc_wrapper": {
     "log_history": [
      "/home/user4/notebooks/seminar-lc4ri/.log/20191210/20191210-131534-0218.log",
      "/home/user4/notebooks/seminar-lc4ri/.log/20191210/20191210-134211-0757.log",
      "/home/user4/notebooks/seminar-lc4ri/.log/20191218/20191218-103601-0232.log",
      "/home/user4/notebooks/seminar-lc4ri/.log/20191218/20191218-115029-0094.log",
      "/home/user4/notebooks/seminar-lc4ri/.log/20191218/20191218-115141-0455.log",
      "/home/user4/notebooks/seminar-lc4ri/.log/20191218/20191218-120641-0937.log",
      "/home/user4/notebooks/seminar-lc4ri/.log/20191218/20191218-121624-0876.log",
      "/home/user4/notebooks/seminar-lc4ri/.log/20200108/20200108-100918-0198.log",
      "/home/user4/notebooks/seminar-lc4ri/.log/20200115/20200115-102546-0626.log"
     ]
    },
    "run_through_control": {
     "frozen": true,
     "read_only": false
    },
    "scrolled": true
   },
   "outputs": [
    {
     "name": "stdout",
     "output_type": "stream",
     "text": [
      "path: /home/user4/notebooks/seminar-lc4ri/.log/20200115/20200115-102546-0626.log (8 logs recorded)\n",
      "start time: 2020-01-15 10:25:46(UTC)\n",
      "end time: 2020-01-15 10:25:48(UTC)\n",
      "output size: 559 bytes\n",
      "0 chunks with matched keywords or errors\n",
      "----\n",
      "Updated property [compute/zone]."
     ]
    }
   ],
   "source": [
    "!gcloud config set compute/zone us-west1-a"
   ]
  },
  {
   "cell_type": "markdown",
   "metadata": {
    "lc_cell_meme": {
     "current": "d304c84c-3781-11ea-b98b-0242ac120006",
     "next": "d304ce78-3781-11ea-b98b-0242ac120006",
     "previous": "44c788ec-1b4f-11ea-b853-0242ac120004"
    }
   },
   "source": [
    "設定を確認する"
   ]
  },
  {
   "cell_type": "code",
   "execution_count": 31,
   "metadata": {
    "deletable": false,
    "editable": false,
    "lc_cell_meme": {
     "current": "d304ce78-3781-11ea-b98b-0242ac120006",
     "execution_end_time": "2020-01-15T10:27:29.281955Z",
     "next": "d3d55bfe-1b4f-11ea-b853-0242ac120004",
     "previous": "d304c84c-3781-11ea-b98b-0242ac120006"
    },
    "lc_wrapper": {
     "log_history": [
      "/home/user4/notebooks/seminar-lc4ri/.log/20200115/20200115-102727-0820.log"
     ]
    },
    "run_through_control": {
     "frozen": true,
     "read_only": false
    }
   },
   "outputs": [
    {
     "name": "stdout",
     "output_type": "stream",
     "text": [
      "path: /home/user4/notebooks/seminar-lc4ri/.log/20200115/20200115-102727-0820.log (0 logs recorded)\n",
      "start time: 2020-01-15 10:27:27(UTC)\n",
      "end time: 2020-01-15 10:27:29(UTC)\n",
      "output size: 644 bytes\n",
      "0 chunks with matched keywords or errors\n",
      "----\n",
      "[compute]\n",
      "region = us-west1\n",
      "zone = us-west1-a\n",
      "[core]\n",
      "account = topse-students@topse-nagaku.iam.gserviceaccount.com\n",
      "disable_usage_reporting = True\n",
      "project = topse-nagaku\n",
      "\n",
      "Your active configuration is: [user4]"
     ]
    }
   ],
   "source": [
    "!gcloud config list"
   ]
  },
  {
   "cell_type": "markdown",
   "metadata": {
    "lc_cell_meme": {
     "current": "d3d55bfe-1b4f-11ea-b853-0242ac120004",
     "history": [
      {
       "current": "d3d55bfe-1b4f-11ea-b853-0242ac120004",
       "next": "e2de4b48-1b49-11ea-ae81-0242ac120004",
       "previous": "44c788ec-1b4f-11ea-b853-0242ac120004"
      }
     ],
     "next": "e2de4b48-1b49-11ea-ae81-0242ac120004",
     "previous": "d304ce78-3781-11ea-b98b-0242ac120006"
    }
   },
   "source": [
    "### 認証情報設定"
   ]
  },
  {
   "cell_type": "markdown",
   "metadata": {
    "lc_cell_meme": {
     "current": "e2de4b48-1b49-11ea-ae81-0242ac120004",
     "execution_end_time": "2019-12-10T12:39:11.850906Z",
     "history": [
      {
       "current": "e2de4b48-1b49-11ea-ae81-0242ac120004",
       "next": null,
       "previous": "db1f4358-1b44-11ea-ae81-0242ac120004"
      },
      {
       "current": "e2de4b48-1b49-11ea-ae81-0242ac120004",
       "next": "2a400b84-1b4a-11ea-ae81-0242ac120004",
       "previous": "db1f4358-1b44-11ea-ae81-0242ac120004"
      },
      {
       "current": "e2de4b48-1b49-11ea-ae81-0242ac120004",
       "next": "2a400b84-1b4a-11ea-ae81-0242ac120004",
       "previous": "fd0b70d6-1b4e-11ea-b853-0242ac120004"
      },
      {
       "current": "e2de4b48-1b49-11ea-ae81-0242ac120004",
       "next": "2a400b84-1b4a-11ea-ae81-0242ac120004",
       "previous": "44c788ec-1b4f-11ea-b853-0242ac120004"
      },
      {
       "current": "e2de4b48-1b49-11ea-ae81-0242ac120004",
       "next": "2a400b84-1b4a-11ea-ae81-0242ac120004",
       "previous": "d3d55bfe-1b4f-11ea-b853-0242ac120004"
      },
      {
       "current": "e2de4b48-1b49-11ea-ae81-0242ac120004",
       "next": "6282371e-1b50-11ea-b853-0242ac120004",
       "previous": "d3d55bfe-1b4f-11ea-b853-0242ac120004"
      },
      {
       "current": "e2de4b48-1b49-11ea-ae81-0242ac120004",
       "next": "15213846-1b53-11ea-888a-0242ac120004",
       "previous": "d3d55bfe-1b4f-11ea-b853-0242ac120004"
      },
      {
       "current": "e2de4b48-1b49-11ea-ae81-0242ac120004",
       "next": "6282371e-1b50-11ea-b853-0242ac120004",
       "previous": "d3d55bfe-1b4f-11ea-b853-0242ac120004"
      },
      {
       "current": "e2de4b48-1b49-11ea-ae81-0242ac120004",
       "next": "c39e135e-218d-11ea-ab78-0242ac120007",
       "previous": "d3d55bfe-1b4f-11ea-b853-0242ac120004"
      }
     ],
     "next": "a394b80c-2191-11ea-ab78-0242ac120007",
     "previous": "d3d55bfe-1b4f-11ea-b853-0242ac120004"
    }
   },
   "source": [
    "サービスアカウントの鍵ファイルをカレントディレクトリにコピーする。"
   ]
  },
  {
   "cell_type": "code",
   "execution_count": 39,
   "metadata": {
    "deletable": false,
    "editable": false,
    "lc_cell_meme": {
     "current": "a394b80c-2191-11ea-ab78-0242ac120007",
     "execution_end_time": "2020-01-15T10:35:38.305414Z",
     "history": [
      {
       "current": "a394b80c-2191-11ea-ab78-0242ac120007",
       "next": "c39e135e-218d-11ea-ab78-0242ac120007",
       "previous": "e2de4b48-1b49-11ea-ae81-0242ac120004"
      }
     ],
     "next": "1a863570-3782-11ea-b98b-0242ac120006",
     "previous": "e2de4b48-1b49-11ea-ae81-0242ac120004"
    },
    "lc_wrapper": {
     "log_history": [
      "/home/user4/notebooks/seminar-lc4ri/.log/20200108/20200108-100928-0030.log",
      "/home/user4/notebooks/seminar-lc4ri/.log/20200115/20200115-102755-0294.log",
      "/home/user4/notebooks/seminar-lc4ri/.log/20200115/20200115-102817-0073.log",
      "/home/user4/notebooks/seminar-lc4ri/.log/20200115/20200115-103118-0071.log",
      "/home/user4/notebooks/seminar-lc4ri/.log/20200115/20200115-103216-0006.log",
      "/home/user4/notebooks/seminar-lc4ri/.log/20200115/20200115-103301-0179.log",
      "/home/user4/notebooks/seminar-lc4ri/.log/20200115/20200115-103536-0366.log"
     ]
    },
    "run_through_control": {
     "frozen": true,
     "read_only": false
    }
   },
   "outputs": [
    {
     "name": "stdout",
     "output_type": "stream",
     "text": [
      "path: /home/user4/notebooks/seminar-lc4ri/.log/20200115/20200115-103536-0366.log (7 logs recorded)\n",
      "start time: 2020-01-15 10:35:36(UTC)\n",
      "end time: 2020-01-15 10:35:38(UTC)\n",
      "output size: 672 bytes\n",
      "0 chunks with matched keywords or errors\n",
      "----\n",
      "topse-nagaku-e6bb79af7280.json"
     ]
    }
   ],
   "source": [
    "SA_KEYFILEPATH = \"/home/user4/notebooks/share\"\n",
    "SA_KEYFILENAME = \"topse-nagaku-e6bb79af7280.json\"\n",
    "!cp {SA_KEYFILEPATH}/{SA_KEYFILENAME} .\n",
    "!ls {SA_KEYFILENAME}"
   ]
  },
  {
   "cell_type": "markdown",
   "metadata": {
    "lc_cell_meme": {
     "current": "1a863570-3782-11ea-b98b-0242ac120006",
     "next": "c39e135e-218d-11ea-ab78-0242ac120007",
     "previous": "a394b80c-2191-11ea-ab78-0242ac120007"
    }
   },
   "source": [
    "サービスアカウントの認証情報を登録する"
   ]
  },
  {
   "cell_type": "code",
   "execution_count": 34,
   "metadata": {
    "deletable": false,
    "editable": false,
    "lc_cell_meme": {
     "current": "c39e135e-218d-11ea-ab78-0242ac120007",
     "execution_end_time": "2020-01-15T10:29:45.409828Z",
     "history": [
      {
       "current": "c39e135e-218d-11ea-ab78-0242ac120007",
       "next": "6282371e-1b50-11ea-b853-0242ac120004",
       "previous": "e2de4b48-1b49-11ea-ae81-0242ac120004"
      },
      {
       "current": "c39e135e-218d-11ea-ab78-0242ac120007",
       "next": "6282371e-1b50-11ea-b853-0242ac120004",
       "previous": "a394b80c-2191-11ea-ab78-0242ac120007"
      }
     ],
     "next": "6282371e-1b50-11ea-b853-0242ac120004",
     "previous": "1a863570-3782-11ea-b98b-0242ac120006"
    },
    "lc_wrapper": {
     "log_history": [
      "/home/user4/notebooks/seminar-lc4ri/.log/20191218/20191218-115813-0874.log",
      "/home/user4/notebooks/seminar-lc4ri/.log/20191218/20191218-120646-0644.log",
      "/home/user4/notebooks/seminar-lc4ri/.log/20191218/20191218-121628-0167.log",
      "/home/user4/notebooks/seminar-lc4ri/.log/20200108/20200108-100935-0214.log",
      "/home/user4/notebooks/seminar-lc4ri/.log/20200115/20200115-102943-0748.log"
     ]
    },
    "run_through_control": {
     "frozen": true,
     "read_only": false
    },
    "scrolled": true
   },
   "outputs": [
    {
     "name": "stdout",
     "output_type": "stream",
     "text": [
      "path: /home/user4/notebooks/seminar-lc4ri/.log/20200115/20200115-102943-0748.log (4 logs recorded)\n",
      "start time: 2020-01-15 10:29:43(UTC)\n",
      "end time: 2020-01-15 10:29:45(UTC)\n",
      "output size: 735 bytes\n",
      "0 chunks with matched keywords or errors\n",
      "----\n",
      "Activated service account credentials for: [topse-students@topse-nagaku.iam.gserviceaccount.com]"
     ]
    }
   ],
   "source": [
    "!gcloud auth activate-service-account topse-students@topse-nagaku.iam.gserviceaccount.com --key-file=topse-nagaku-e6bb79af7280.json --project=topse-nagaku"
   ]
  },
  {
   "cell_type": "markdown",
   "metadata": {
    "lc_cell_meme": {
     "current": "6282371e-1b50-11ea-b853-0242ac120004",
     "history": [
      {
       "current": "6282371e-1b50-11ea-b853-0242ac120004",
       "next": "2a400b84-1b4a-11ea-ae81-0242ac120004",
       "previous": "e2de4b48-1b49-11ea-ae81-0242ac120004"
      },
      {
       "current": "6282371e-1b50-11ea-b853-0242ac120004",
       "next": "2a400b84-1b4a-11ea-ae81-0242ac120004",
       "previous": "15213846-1b53-11ea-888a-0242ac120004"
      },
      {
       "current": "6282371e-1b50-11ea-b853-0242ac120004",
       "next": "2a400b84-1b4a-11ea-ae81-0242ac120004",
       "previous": "e2de4b48-1b49-11ea-ae81-0242ac120004"
      },
      {
       "current": "6282371e-1b50-11ea-b853-0242ac120004",
       "next": "2a400b84-1b4a-11ea-ae81-0242ac120004",
       "previous": "c39e135e-218d-11ea-ab78-0242ac120007"
      }
     ],
     "next": "1a863804-3782-11ea-b98b-0242ac120006",
     "previous": "c39e135e-218d-11ea-ab78-0242ac120007"
    }
   },
   "source": [
    "### 動作確認"
   ]
  },
  {
   "cell_type": "markdown",
   "metadata": {
    "lc_cell_meme": {
     "current": "1a863804-3782-11ea-b98b-0242ac120006",
     "next": "2a400b84-1b4a-11ea-ae81-0242ac120004",
     "previous": "6282371e-1b50-11ea-b853-0242ac120004"
    }
   },
   "source": [
    "gcloudコマンドでプロジェクトの情報が取得できることを確認"
   ]
  },
  {
   "cell_type": "code",
   "execution_count": 35,
   "metadata": {
    "deletable": false,
    "editable": false,
    "lc_cell_meme": {
     "current": "2a400b84-1b4a-11ea-ae81-0242ac120004",
     "execution_end_time": "2020-01-15T10:29:52.440406Z",
     "history": [
      {
       "current": "2a400b84-1b4a-11ea-ae81-0242ac120004",
       "next": null,
       "previous": "e2de4b48-1b49-11ea-ae81-0242ac120004"
      },
      {
       "current": "2a400b84-1b4a-11ea-ae81-0242ac120004",
       "next": "62823ac0-1b50-11ea-b853-0242ac120004",
       "previous": "6282371e-1b50-11ea-b853-0242ac120004"
      }
     ],
     "next": "62823ac0-1b50-11ea-b853-0242ac120004",
     "previous": "1a863804-3782-11ea-b98b-0242ac120006"
    },
    "lc_wrapper": {
     "log_history": [
      "/home/user4/notebooks/seminar-lc4ri/.log/20191210/20191210-132420-0290.log",
      "/home/user4/notebooks/seminar-lc4ri/.log/20191218/20191218-115929-0123.log",
      "/home/user4/notebooks/seminar-lc4ri/.log/20191218/20191218-120301-0381.log",
      "/home/user4/notebooks/seminar-lc4ri/.log/20191218/20191218-120650-0393.log",
      "/home/user4/notebooks/seminar-lc4ri/.log/20191218/20191218-121631-0990.log",
      "/home/user4/notebooks/seminar-lc4ri/.log/20200108/20200108-100939-0095.log",
      "/home/user4/notebooks/seminar-lc4ri/.log/20200115/20200115-102949-0797.log"
     ]
    },
    "pinned_outputs": [
     {
      "execution_count": 7,
      "outputs": [
       {
        "name": "stdout",
        "output_type": "stream",
        "text": "path: /home/user4/notebooks/seminar-lc4ri/.log/20191210/20191210-132420-0290.log (1 logs recorded)\nstart time: 2019-12-10 13:24:20(UTC)\nend time: 2019-12-10 13:24:22(UTC)\noutput size: 700 bytes\n0 chunks with matched keywords or errors\n----\nNAME           ZONE        MACHINE_TYPE   PREEMPTIBLE  INTERNAL_IP  EXTERNAL_IP   STATUS\noperationhib2  us-west1-b  n1-standard-4               10.138.0.42  34.82.78.204  RUNNING"
       }
      ]
     }
    ],
    "run_through_control": {
     "frozen": true,
     "read_only": false
    }
   },
   "outputs": [
    {
     "name": "stdout",
     "output_type": "stream",
     "text": [
      "path: /home/user4/notebooks/seminar-lc4ri/.log/20200115/20200115-102949-0797.log (7 logs recorded)\n",
      "start time: 2020-01-15 10:29:49(UTC)\n",
      "end time: 2020-01-15 10:29:52(UTC)\n",
      "output size: 1004 bytes\n",
      "0 chunks with matched keywords or errors\n",
      "----\n",
      "NAME                                          ZONE        MACHINE_TYPE   PREEMPTIBLE  INTERNAL_IP  EXTERNAL_IP    STATUS\n",
      "gke-topse-cluster-default-pool-af9c6aff-ljrl  us-west1-a  n1-standard-1               10.1.0.2     34.83.211.9    RUNNING\n",
      "gke-topse-cluster-default-pool-25446cf4-j44r  us-west1-b  n1-standard-1               10.1.0.3     35.247.73.180  RUNNING\n",
      "operationhib2                                 us-west1-b  n1-standard-4               10.138.0.42  34.82.78.204   RUNNING"
     ]
    }
   ],
   "source": [
    "!gcloud compute instances list"
   ]
  },
  {
   "cell_type": "markdown",
   "metadata": {
    "lc_cell_meme": {
     "current": "62823ac0-1b50-11ea-b853-0242ac120004",
     "history": [
      {
       "current": "62823ac0-1b50-11ea-b853-0242ac120004",
       "next": "80c03676-1b51-11ea-b853-0242ac120004",
       "previous": "2a400b84-1b4a-11ea-ae81-0242ac120004"
      },
      {
       "current": "62823ac0-1b50-11ea-b853-0242ac120004",
       "next": "0b2d4a64-218e-11ea-ab78-0242ac120007",
       "previous": "2a400b84-1b4a-11ea-ae81-0242ac120004"
      },
      {
       "current": "62823ac0-1b50-11ea-b853-0242ac120004",
       "next": "80c03676-1b51-11ea-b853-0242ac120004",
       "previous": "2a400b84-1b4a-11ea-ae81-0242ac120004"
      }
     ],
     "next": "9a393f42-218e-11ea-ab78-0242ac120007",
     "previous": "2a400b84-1b4a-11ea-ae81-0242ac120004"
    }
   },
   "source": [
    "### 設定削除"
   ]
  },
  {
   "cell_type": "markdown",
   "metadata": {
    "lc_cell_meme": {
     "current": "9a393f42-218e-11ea-ab78-0242ac120007",
     "next": "c8a19598-1b51-11ea-b853-0242ac120004",
     "previous": "62823ac0-1b50-11ea-b853-0242ac120004"
    }
   },
   "source": [
    "認証情報を削除"
   ]
  },
  {
   "cell_type": "code",
   "execution_count": 42,
   "metadata": {
    "deletable": false,
    "editable": false,
    "lc_cell_meme": {
     "current": "c8a19598-1b51-11ea-b853-0242ac120004",
     "execution_end_time": "2020-01-15T10:39:33.802894Z",
     "history": [
      {
       "current": "c8a19598-1b51-11ea-b853-0242ac120004",
       "next": null,
       "previous": "80c038ec-1b51-11ea-b853-0242ac120004"
      },
      {
       "current": "c8a19598-1b51-11ea-b853-0242ac120004",
       "next": "3357effc-1b54-11ea-888a-0242ac120004",
       "previous": "80c038ec-1b51-11ea-b853-0242ac120004"
      }
     ],
     "next": "9a39414a-218e-11ea-ab78-0242ac120007",
     "previous": "9a393f42-218e-11ea-ab78-0242ac120007"
    },
    "lc_wrapper": {
     "log_history": [
      "/home/user4/notebooks/seminar-lc4ri/.log/20191210/20191210-135028-0039.log",
      "/home/user4/notebooks/seminar-lc4ri/.log/20191210/20191210-135049-0715.log",
      "/home/user4/notebooks/seminar-lc4ri/.log/20191218/20191218-120204-0145.log",
      "/home/user4/notebooks/seminar-lc4ri/.log/20191218/20191218-120655-0778.log",
      "/home/user4/notebooks/seminar-lc4ri/.log/20191218/20191218-121636-0579.log",
      "/home/user4/notebooks/seminar-lc4ri/.log/20200115/20200115-103932-0255.log"
     ]
    },
    "run_through_control": {
     "frozen": true,
     "read_only": false
    },
    "scrolled": true
   },
   "outputs": [
    {
     "name": "stdout",
     "output_type": "stream",
     "text": [
      "path: /home/user4/notebooks/seminar-lc4ri/.log/20200115/20200115-103932-0255.log (7 logs recorded)\n",
      "start time: 2020-01-15 10:39:32(UTC)\n",
      "end time: 2020-01-15 10:39:33(UTC)\n",
      "output size: 1069 bytes\n",
      "0 chunks with matched keywords or errors\n",
      "----\n",
      "\u001b[1;33mWARNING:\u001b[0m [topse-students@topse-nagaku.iam.gserviceaccount.com] appears to be a service account. Service account tokens cannot be revoked, but they will expire automatically. To prevent use of the service account token earlier than the expiration, revoke the parent service account or service account key.\n",
      "Revoked credentials:\n",
      " - topse-students@topse-nagaku.iam.gserviceaccount.com\n",
      "                  Credentialed Accounts\n",
      "ACTIVE  ACCOUNT\n",
      "*       226115571655-compute@developer.gserviceaccount.com"
     ]
    }
   ],
   "source": [
    "!gcloud auth revoke 'topse-students@topse-nagaku.iam.gserviceaccount.com'"
   ]
  },
  {
   "cell_type": "markdown",
   "metadata": {
    "lc_cell_meme": {
     "current": "9a39414a-218e-11ea-ab78-0242ac120007",
     "next": "80c03676-1b51-11ea-b853-0242ac120004",
     "previous": "c8a19598-1b51-11ea-b853-0242ac120004"
    }
   },
   "source": [
    "configrationも削除する場合は以下を実施"
   ]
  },
  {
   "cell_type": "code",
   "execution_count": 43,
   "metadata": {
    "deletable": false,
    "editable": false,
    "lc_cell_meme": {
     "current": "80c03676-1b51-11ea-b853-0242ac120004",
     "execution_end_time": "2020-01-15T10:39:37.853827Z",
     "history": [
      {
       "current": "80c03676-1b51-11ea-b853-0242ac120004",
       "next": "80c038ec-1b51-11ea-b853-0242ac120004",
       "previous": "62823ac0-1b50-11ea-b853-0242ac120004"
      },
      {
       "current": "80c03676-1b51-11ea-b853-0242ac120004",
       "next": "80c038ec-1b51-11ea-b853-0242ac120004",
       "previous": "0b2d4a64-218e-11ea-ab78-0242ac120007"
      },
      {
       "current": "80c03676-1b51-11ea-b853-0242ac120004",
       "next": "80c038ec-1b51-11ea-b853-0242ac120004",
       "previous": "62823ac0-1b50-11ea-b853-0242ac120004"
      }
     ],
     "next": "80c038ec-1b51-11ea-b853-0242ac120004",
     "previous": "9a39414a-218e-11ea-ab78-0242ac120007"
    },
    "lc_wrapper": {
     "log_history": [
      "/home/user4/notebooks/seminar-lc4ri/.log/20191210/20191210-133215-0683.log",
      "/home/user4/notebooks/seminar-lc4ri/.log/20191218/20191218-120037-0835.log",
      "/home/user4/notebooks/seminar-lc4ri/.log/20191218/20191218-120507-0442.log",
      "/home/user4/notebooks/seminar-lc4ri/.log/20191218/20191218-120659-0507.log",
      "/home/user4/notebooks/seminar-lc4ri/.log/20191218/20191218-121640-0075.log",
      "/home/user4/notebooks/seminar-lc4ri/.log/20200115/20200115-103936-0395.log"
     ]
    },
    "run_through_control": {
     "frozen": true,
     "read_only": false
    },
    "scrolled": true
   },
   "outputs": [
    {
     "name": "stdout",
     "output_type": "stream",
     "text": [
      "path: /home/user4/notebooks/seminar-lc4ri/.log/20200115/20200115-103936-0395.log (5 logs recorded)\n",
      "start time: 2020-01-15 10:39:36(UTC)\n",
      "end time: 2020-01-15 10:39:37(UTC)\n",
      "output size: 551 bytes\n",
      "0 chunks with matched keywords or errors\n",
      "----\n",
      "Activated [default]."
     ]
    }
   ],
   "source": [
    "!gcloud config configurations activate default"
   ]
  },
  {
   "cell_type": "code",
   "execution_count": 44,
   "metadata": {
    "deletable": false,
    "editable": false,
    "lc_cell_meme": {
     "current": "80c038ec-1b51-11ea-b853-0242ac120004",
     "execution_end_time": "2020-01-15T10:39:41.466391Z",
     "history": [
      {
       "current": "80c038ec-1b51-11ea-b853-0242ac120004",
       "next": null,
       "previous": "80c03676-1b51-11ea-b853-0242ac120004"
      },
      {
       "current": "80c038ec-1b51-11ea-b853-0242ac120004",
       "next": "c8a19598-1b51-11ea-b853-0242ac120004",
       "previous": "80c03676-1b51-11ea-b853-0242ac120004"
      },
      {
       "current": "80c038ec-1b51-11ea-b853-0242ac120004",
       "next": "3357effc-1b54-11ea-888a-0242ac120004",
       "previous": "80c03676-1b51-11ea-b853-0242ac120004"
      }
     ],
     "next": "38c55a7e-3783-11ea-b98b-0242ac120006",
     "previous": "80c03676-1b51-11ea-b853-0242ac120004"
    },
    "lc_wrapper": {
     "log_history": [
      "/home/user4/notebooks/seminar-lc4ri/.log/20191210/20191210-133355-0195.log",
      "/home/user4/notebooks/seminar-lc4ri/.log/20191210/20191210-133404-0521.log",
      "/home/user4/notebooks/seminar-lc4ri/.log/20191218/20191218-120011-0593.log",
      "/home/user4/notebooks/seminar-lc4ri/.log/20191218/20191218-120041-0189.log",
      "/home/user4/notebooks/seminar-lc4ri/.log/20191218/20191218-120510-0177.log",
      "/home/user4/notebooks/seminar-lc4ri/.log/20191218/20191218-120702-0939.log",
      "/home/user4/notebooks/seminar-lc4ri/.log/20191218/20191218-121643-0138.log",
      "/home/user4/notebooks/seminar-lc4ri/.log/20200115/20200115-103940-0009.log"
     ]
    },
    "run_through_control": {
     "frozen": true,
     "read_only": false
    },
    "scrolled": true
   },
   "outputs": [
    {
     "name": "stdout",
     "output_type": "stream",
     "text": [
      "path: /home/user4/notebooks/seminar-lc4ri/.log/20200115/20200115-103940-0009.log (9 logs recorded)\n",
      "start time: 2020-01-15 10:39:40(UTC)\n",
      "end time: 2020-01-15 10:39:41(UTC)\n",
      "output size: 614 bytes\n",
      "0 chunks with matched keywords or errors\n",
      "----\n",
      "The following configurations will be deleted:\n",
      " - user4\n",
      "Deleted [user4]."
     ]
    }
   ],
   "source": [
    "!gcloud config configurations delete {MYNAME[0]} --quiet"
   ]
  },
  {
   "cell_type": "markdown",
   "metadata": {
    "lc_cell_meme": {
     "current": "38c55a7e-3783-11ea-b98b-0242ac120006",
     "next": "3357effc-1b54-11ea-888a-0242ac120004",
     "previous": "80c038ec-1b51-11ea-b853-0242ac120004"
    }
   },
   "source": [
    "コピーしてきたサービスアカウントの認証キーファイルを削除する"
   ]
  },
  {
   "cell_type": "code",
   "execution_count": 41,
   "metadata": {
    "deletable": false,
    "editable": false,
    "lc_cell_meme": {
     "current": "3357effc-1b54-11ea-888a-0242ac120004",
     "execution_end_time": "2020-01-15T10:38:35.488758Z",
     "history": [
      {
       "current": "3357effc-1b54-11ea-888a-0242ac120004",
       "next": null,
       "previous": "c8a19598-1b51-11ea-b853-0242ac120004"
      },
      {
       "current": "3357effc-1b54-11ea-888a-0242ac120004",
       "next": null,
       "previous": "80c038ec-1b51-11ea-b853-0242ac120004"
      }
     ],
     "next": "38c55eca-3783-11ea-b98b-0242ac120006",
     "previous": "38c55a7e-3783-11ea-b98b-0242ac120006"
    },
    "lc_wrapper": {
     "log_history": [
      "/home/user4/notebooks/seminar-lc4ri/.log/20200115/20200115-103754-0592.log",
      "/home/user4/notebooks/seminar-lc4ri/.log/20200115/20200115-103834-0520.log"
     ]
    },
    "run_through_control": {
     "frozen": true,
     "read_only": false
    }
   },
   "outputs": [
    {
     "name": "stdout",
     "output_type": "stream",
     "text": [
      "path: /home/user4/notebooks/seminar-lc4ri/.log/20200115/20200115-103834-0520.log (2 logs recorded)\n",
      "start time: 2020-01-15 10:38:34(UTC)\n",
      "end time: 2020-01-15 10:38:35(UTC)\n",
      "output size: 506 bytes\n",
      "0 chunks with matched keywords or errors\n",
      "----\n"
     ]
    }
   ],
   "source": [
    "!rm -f {SA_KEYFILENAME}"
   ]
  },
  {
   "cell_type": "code",
   "execution_count": null,
   "metadata": {
    "lc_cell_meme": {
     "current": "38c55eca-3783-11ea-b98b-0242ac120006",
     "next": null,
     "previous": "3357effc-1b54-11ea-888a-0242ac120004"
    }
   },
   "outputs": [],
   "source": []
  }
 ],
 "metadata": {
  "kernelspec": {
   "display_name": "Python 3",
   "language": "python",
   "name": "python3"
  },
  "language_info": {
   "file_extension": ".py",
   "mimetype": "text/x-python",
   "name": "python",
   "nbconvert_exporter": "python",
   "pygments_lexer": "ipython3",
   "version": "3.7.3"
  },
  "lc_notebook_meme": {
   "current": "016927be-181f-11ea-8c8c-0242ac120007",
   "lc_server_signature": {
    "current": {
     "notebook_dir": "/home/user4/notebooks",
     "notebook_path": "/",
     "server_url": "https://operationhub.kgr-lab.com/user/user4/",
     "signature_id": "ae27fcb2-043f-11ea-b29c-0242ac120002"
    },
    "history": [
     {
      "notebook_dir": "/home/user4/notebooks",
      "notebook_path": "/seminar-lc4ri",
      "server_url": "https://operationhub.kgr-lab.com/user/user4/",
      "signature_id": "ae27fcb2-043f-11ea-b29c-0242ac120002"
     }
    ]
   }
  },
  "toc": {
   "base_numbering": 1,
   "nav_menu": {
    "height": "159px",
    "width": "230px"
   },
   "number_sections": true,
   "sideBar": true,
   "skip_h1_title": false,
   "title_cell": "Table of Contents",
   "title_sidebar": "Contents",
   "toc_cell": false,
   "toc_position": {},
   "toc_section_display": true,
   "toc_window_display": true
  }
 },
 "nbformat": 4,
 "nbformat_minor": 2
}
