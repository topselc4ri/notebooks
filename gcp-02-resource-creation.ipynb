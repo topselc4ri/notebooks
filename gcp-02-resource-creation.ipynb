{
 "cells": [
  {
   "cell_type": "markdown",
   "metadata": {
    "lc_cell_meme": {
     "current": "a6393502-3789-11ea-b98b-0242ac120006",
     "next": "a639387c-3789-11ea-b98b-0242ac120006",
     "previous": null
    }
   },
   "source": [
    "# GCP リソース作成"
   ]
  },
  {
   "cell_type": "markdown",
   "metadata": {
    "lc_cell_meme": {
     "current": "a639387c-3789-11ea-b98b-0242ac120006",
     "next": "0a5dac4c-27cd-11ea-a393-0242ac120007",
     "previous": "a6393502-3789-11ea-b98b-0242ac120006"
    }
   },
   "source": [
    "## パラメータ設定"
   ]
  },
  {
   "cell_type": "code",
   "execution_count": 1,
   "metadata": {
    "lc_cell_meme": {
     "current": "0a5dac4c-27cd-11ea-a393-0242ac120007",
     "execution_end_time": "2020-01-13T14:11:14.824159Z",
     "history": [
      {
       "current": "0a5dac4c-27cd-11ea-a393-0242ac120007",
       "next": "0a5dada0-27cd-11ea-a393-0242ac120007",
       "previous": null
      },
      {
       "current": "0a5dac4c-27cd-11ea-a393-0242ac120007",
       "next": "94aacc38-2fa5-11ea-8cf2-0242ac120004",
       "previous": null
      },
      {
       "current": "0a5dac4c-27cd-11ea-a393-0242ac120007",
       "next": "0a5dada0-27cd-11ea-a393-0242ac120007",
       "previous": "94aacc38-2fa5-11ea-8cf2-0242ac120004"
      },
      {
       "current": "0a5dac4c-27cd-11ea-a393-0242ac120007",
       "next": "94aacc38-2fa5-11ea-8cf2-0242ac120004",
       "previous": null
      },
      {
       "current": "0a5dac4c-27cd-11ea-a393-0242ac120007",
       "next": "0a5dada0-27cd-11ea-a393-0242ac120007",
       "previous": null
      },
      {
       "current": "0a5dac4c-27cd-11ea-a393-0242ac120007",
       "next": "0a5dada0-27cd-11ea-a393-0242ac120007",
       "previous": "a639387c-3789-11ea-b98b-0242ac120006"
      },
      {
       "current": "0a5dac4c-27cd-11ea-a393-0242ac120007",
       "next": "edc6e194-3789-11ea-b98b-0242ac120006",
       "previous": "a639387c-3789-11ea-b98b-0242ac120006"
      }
     ],
     "next": "3548ae9e-378a-11ea-b98b-0242ac120006",
     "previous": "a639387c-3789-11ea-b98b-0242ac120006"
    },
    "lc_wrapper": {
     "log_history": [
      "/home/user7/notebooks/.log/20191226/20191226-104722-0975.log",
      "/home/user7/notebooks/.log/20191226/20191226-110131-0465.log",
      "/home/user7/notebooks/.log/20191226/20191226-110417-0065.log",
      "/home/user7/notebooks/.log/20200105/20200105-061613-0928.log",
      "/home/user7/notebooks/.log/20200105/20200105-071017-0677.log",
      "/home/user7/notebooks/.log/20200105/20200105-071929-0780.log",
      "/home/user7/notebooks/.log/20200105/20200105-073601-0045.log",
      "/home/user7/notebooks/.log/20200105/20200105-080005-0715.log",
      "/home/user7/notebooks/.log/20200105/20200105-084311-0190.log",
      "/home/user7/notebooks/.log/20200105/20200105-103714-0519.log",
      "/home/user7/notebooks/.log/20200105/20200105-150901-0990.log",
      "/home/user7/notebooks/.log/20200105/20200105-150920-0957.log",
      "/home/user7/notebooks/.log/20200113/20200113-141114-0811.log"
     ]
    }
   },
   "outputs": [],
   "source": [
    "vpc_name=\"topse-vpc\"\n",
    "subnet_name=\"topse-subnet\"\n",
    "region=\"us-west1\"\n",
    "ip_range=\"10.1.0.0/20\""
   ]
  },
  {
   "cell_type": "markdown",
   "metadata": {
    "lc_cell_meme": {
     "current": "3548ae9e-378a-11ea-b98b-0242ac120006",
     "next": "3548b0d8-378a-11ea-b98b-0242ac120006",
     "previous": "0a5dac4c-27cd-11ea-a393-0242ac120007"
    }
   },
   "source": [
    "## VPC作成"
   ]
  },
  {
   "cell_type": "code",
   "execution_count": null,
   "metadata": {
    "lc_cell_meme": {
     "current": "3548b0d8-378a-11ea-b98b-0242ac120006",
     "next": "edc6e194-3789-11ea-b98b-0242ac120006",
     "previous": "3548ae9e-378a-11ea-b98b-0242ac120006"
    }
   },
   "outputs": [],
   "source": [
    "!gcloud compute networks create {vpc_name} --description=\"topse custom network\" --subnet-mode=custom"
   ]
  },
  {
   "cell_type": "markdown",
   "metadata": {
    "lc_cell_meme": {
     "current": "edc6e194-3789-11ea-b98b-0242ac120006",
     "history": [
      {
       "current": "edc6e194-3789-11ea-b98b-0242ac120006",
       "next": "0a5dada0-27cd-11ea-a393-0242ac120007",
       "previous": "0a5dac4c-27cd-11ea-a393-0242ac120007"
      }
     ],
     "next": "0a5dada0-27cd-11ea-a393-0242ac120007",
     "previous": "3548b0d8-378a-11ea-b98b-0242ac120006"
    }
   },
   "source": [
    "## サブネット作成"
   ]
  },
  {
   "cell_type": "code",
   "execution_count": 2,
   "metadata": {
    "lc_cell_meme": {
     "current": "0a5dada0-27cd-11ea-a393-0242ac120007",
     "execution_end_time": "2020-01-13T14:11:18.571202Z",
     "history": [
      {
       "current": "0a5dada0-27cd-11ea-a393-0242ac120007",
       "next": null,
       "previous": "0a5dac4c-27cd-11ea-a393-0242ac120007"
      },
      {
       "current": "0a5dada0-27cd-11ea-a393-0242ac120007",
       "next": "51db3620-27cd-11ea-a393-0242ac120007",
       "previous": "0a5dac4c-27cd-11ea-a393-0242ac120007"
      },
      {
       "current": "0a5dada0-27cd-11ea-a393-0242ac120007",
       "next": "a3aec122-27cf-11ea-a393-0242ac120007",
       "previous": "0a5dac4c-27cd-11ea-a393-0242ac120007"
      },
      {
       "current": "0a5dada0-27cd-11ea-a393-0242ac120007",
       "next": "e8417b7e-27d2-11ea-a393-0242ac120007",
       "previous": "0a5dac4c-27cd-11ea-a393-0242ac120007"
      },
      {
       "current": "0a5dada0-27cd-11ea-a393-0242ac120007",
       "next": "f7185a20-2f87-11ea-8cf2-0242ac120004",
       "previous": "0a5dac4c-27cd-11ea-a393-0242ac120007"
      },
      {
       "current": "0a5dada0-27cd-11ea-a393-0242ac120007",
       "next": "f7185a20-2f87-11ea-8cf2-0242ac120004",
       "previous": "94aacc38-2fa5-11ea-8cf2-0242ac120004"
      },
      {
       "current": "0a5dada0-27cd-11ea-a393-0242ac120007",
       "next": "f7185a20-2f87-11ea-8cf2-0242ac120004",
       "previous": "0a5dac4c-27cd-11ea-a393-0242ac120007"
      },
      {
       "current": "0a5dada0-27cd-11ea-a393-0242ac120007",
       "next": "f7185a20-2f87-11ea-8cf2-0242ac120004",
       "previous": "94aacc38-2fa5-11ea-8cf2-0242ac120004"
      },
      {
       "current": "0a5dada0-27cd-11ea-a393-0242ac120007",
       "next": "f7185a20-2f87-11ea-8cf2-0242ac120004",
       "previous": "0a5dac4c-27cd-11ea-a393-0242ac120007"
      },
      {
       "current": "0a5dada0-27cd-11ea-a393-0242ac120007",
       "next": "f7185a20-2f87-11ea-8cf2-0242ac120004",
       "previous": "edc6e194-3789-11ea-b98b-0242ac120006"
      }
     ],
     "next": "7ccd5b34-378a-11ea-b98b-0242ac120006",
     "previous": "edc6e194-3789-11ea-b98b-0242ac120006"
    },
    "lc_wrapper": {
     "log_history": [
      "/home/user7/notebooks/.log/20191226/20191226-104736-0190.log",
      "/home/user7/notebooks/.log/20191226/20191226-104748-0674.log",
      "/home/user7/notebooks/.log/20191226/20191226-110421-0074.log",
      "/home/user7/notebooks/.log/20200105/20200105-061617-0213.log",
      "/home/user7/notebooks/.log/20200105/20200105-061625-0676.log",
      "/home/user7/notebooks/.log/20200105/20200105-084312-0852.log",
      "/home/user7/notebooks/.log/20200105/20200105-151023-0105.log",
      "/home/user7/notebooks/.log/20200113/20200113-141116-0302.log"
     ]
    },
    "pinned_outputs": []
   },
   "outputs": [
    {
     "name": "stdout",
     "output_type": "stream",
     "text": [
      "\u001b[1;31mERROR:\u001b[0m (gcloud.compute.networks.subnets.create) Could not fetch resource:\r\n",
      " - The resource 'projects/topse-nagaku/regions/us-west1/subnetworks/topse-subnet' already exists\r\n",
      "\r\n"
     ]
    },
    {
     "ename": "RuntimeError",
     "evalue": "Unexpected exit code: 1",
     "output_type": "error",
     "traceback": [
      "\u001b[0;31m---------------------------------------------------------------------------\u001b[0m",
      "\u001b[0;31mRuntimeError\u001b[0m                              Traceback (most recent call last)",
      "\u001b[0;32m<ipython-input-2-7fd0b85a2da8>\u001b[0m in \u001b[0;36m<module>\u001b[0;34m\u001b[0m\n\u001b[1;32m      1\u001b[0m \u001b[0;31m#!gcloud compute networks create {vpc_name} --description=\"topse custom network\" --subnet-mode=custom\u001b[0m\u001b[0;34m\u001b[0m\u001b[0;34m\u001b[0m\u001b[0;34m\u001b[0m\u001b[0m\n\u001b[0;32m----> 2\u001b[0;31m \u001b[0mget_ipython\u001b[0m\u001b[0;34m(\u001b[0m\u001b[0;34m)\u001b[0m\u001b[0;34m.\u001b[0m\u001b[0msystem\u001b[0m\u001b[0;34m(\u001b[0m\u001b[0;34m'gcloud compute networks subnets create {subnet_name} --network={vpc_name} --region={region} --range={ip_range}'\u001b[0m\u001b[0;34m)\u001b[0m\u001b[0;34m\u001b[0m\u001b[0;34m\u001b[0m\u001b[0m\n\u001b[0m",
      "\u001b[0;32m/opt/conda/etc/ipython/startup/10-custom-get_ipython_system.py\u001b[0m in \u001b[0;36m<lambda>\u001b[0;34m(x)\u001b[0m\n\u001b[1;32m      5\u001b[0m \u001b[0;34m\u001b[0m\u001b[0m\n\u001b[1;32m      6\u001b[0m \u001b[0msave_get_ipython_system\u001b[0m \u001b[0;34m=\u001b[0m \u001b[0mget_ipython\u001b[0m\u001b[0;34m(\u001b[0m\u001b[0;34m)\u001b[0m\u001b[0;34m.\u001b[0m\u001b[0msystem\u001b[0m\u001b[0;34m\u001b[0m\u001b[0;34m\u001b[0m\u001b[0m\n\u001b[0;32m----> 7\u001b[0;31m \u001b[0mget_ipython\u001b[0m\u001b[0;34m(\u001b[0m\u001b[0;34m)\u001b[0m\u001b[0;34m.\u001b[0m\u001b[0msystem\u001b[0m \u001b[0;34m=\u001b[0m \u001b[0;32mlambda\u001b[0m \u001b[0mx\u001b[0m\u001b[0;34m:\u001b[0m \u001b[0mget_ipython_system\u001b[0m\u001b[0;34m(\u001b[0m\u001b[0mx\u001b[0m\u001b[0;34m)\u001b[0m\u001b[0;34m\u001b[0m\u001b[0;34m\u001b[0m\u001b[0m\n\u001b[0m\u001b[1;32m      8\u001b[0m \u001b[0;34m\u001b[0m\u001b[0m\n\u001b[1;32m      9\u001b[0m \u001b[0;31m# interactiveshell.py's system_piped() function comment saids:\u001b[0m\u001b[0;34m\u001b[0m\u001b[0;34m\u001b[0m\u001b[0;34m\u001b[0m\u001b[0m\n",
      "\u001b[0;32m/opt/conda/etc/ipython/startup/10-custom-get_ipython_system.py\u001b[0m in \u001b[0;36mget_ipython_system\u001b[0;34m(_cmd)\u001b[0m\n\u001b[1;32m     13\u001b[0m     \u001b[0msave_get_ipython_system\u001b[0m\u001b[0;34m(\u001b[0m\u001b[0m_cmd\u001b[0m\u001b[0;34m)\u001b[0m\u001b[0;34m\u001b[0m\u001b[0;34m\u001b[0m\u001b[0m\n\u001b[1;32m     14\u001b[0m     \u001b[0;32mif\u001b[0m \u001b[0mget_ipython\u001b[0m\u001b[0;34m(\u001b[0m\u001b[0;34m)\u001b[0m\u001b[0;34m.\u001b[0m\u001b[0muser_ns\u001b[0m\u001b[0;34m[\u001b[0m\u001b[0;34m'_exit_code'\u001b[0m\u001b[0;34m]\u001b[0m \u001b[0;34m!=\u001b[0m \u001b[0;36m0\u001b[0m\u001b[0;34m:\u001b[0m\u001b[0;34m\u001b[0m\u001b[0;34m\u001b[0m\u001b[0m\n\u001b[0;32m---> 15\u001b[0;31m         \u001b[0;32mraise\u001b[0m \u001b[0mRuntimeError\u001b[0m\u001b[0;34m(\u001b[0m\u001b[0;34m'Unexpected exit code: %d'\u001b[0m \u001b[0;34m%\u001b[0m \u001b[0mget_ipython\u001b[0m\u001b[0;34m(\u001b[0m\u001b[0;34m)\u001b[0m\u001b[0;34m.\u001b[0m\u001b[0muser_ns\u001b[0m\u001b[0;34m[\u001b[0m\u001b[0;34m'_exit_code'\u001b[0m\u001b[0;34m]\u001b[0m\u001b[0;34m)\u001b[0m\u001b[0;34m\u001b[0m\u001b[0;34m\u001b[0m\u001b[0m\n\u001b[0m",
      "\u001b[0;31mRuntimeError\u001b[0m: Unexpected exit code: 1"
     ]
    }
   ],
   "source": [
    "!gcloud compute networks subnets create {subnet_name} --network={vpc_name} --region={region} --range={ip_range}"
   ]
  },
  {
   "cell_type": "markdown",
   "metadata": {
    "lc_cell_meme": {
     "current": "7ccd5b34-378a-11ea-b98b-0242ac120006",
     "execution_end_time": "2020-01-15T11:29:32.031290Z",
     "next": "f7185a20-2f87-11ea-8cf2-0242ac120004",
     "previous": "0a5dada0-27cd-11ea-a393-0242ac120007"
    },
    "lc_wrapper": {
     "log_history": [
      "/home/user4/notebooks/.log/20200115/20200115-112932-0015.log"
     ]
    }
   },
   "source": [
    "## ファイアウォールルール作成"
   ]
  },
  {
   "cell_type": "code",
   "execution_count": 3,
   "metadata": {
    "lc_cell_meme": {
     "current": "f7185a20-2f87-11ea-8cf2-0242ac120004",
     "execution_end_time": "2020-01-13T14:11:24.048322Z",
     "history": [
      {
       "current": "f7185a20-2f87-11ea-8cf2-0242ac120004",
       "next": "e8417b7e-27d2-11ea-a393-0242ac120007",
       "previous": "0a5dada0-27cd-11ea-a393-0242ac120007"
      }
     ],
     "next": "7ccd5daa-378a-11ea-b98b-0242ac120006",
     "previous": "7ccd5b34-378a-11ea-b98b-0242ac120006"
    },
    "lc_wrapper": {
     "log_history": [
      "/home/user7/notebooks/.log/20200105/20200105-065247-0958.log",
      "/home/user7/notebooks/.log/20200105/20200105-065302-0652.log",
      "/home/user7/notebooks/.log/20200105/20200105-071034-0817.log",
      "/home/user7/notebooks/.log/20200105/20200105-071057-0156.log",
      "/home/user7/notebooks/.log/20200105/20200105-071106-0938.log",
      "/home/user7/notebooks/.log/20200105/20200105-071208-0779.log",
      "/home/user7/notebooks/.log/20200105/20200105-071934-0856.log",
      "/home/user7/notebooks/.log/20200105/20200105-080010-0809.log",
      "/home/user7/notebooks/.log/20200105/20200105-084333-0781.log",
      "/home/user7/notebooks/.log/20200105/20200105-151120-0911.log",
      "/home/user7/notebooks/.log/20200113/20200113-141121-0978.log"
     ]
    },
    "scrolled": true
   },
   "outputs": [
    {
     "name": "stdout",
     "output_type": "stream",
     "text": [
      "Creating firewall...failed.                                                    \n",
      "\u001b[1;31mERROR:\u001b[0m (gcloud.compute.firewall-rules.create) Could not fetch resource:\n",
      " - The resource 'projects/topse-nagaku/global/firewalls/topse-vpc-ssh-ingress' already exists\n",
      "\n"
     ]
    },
    {
     "ename": "RuntimeError",
     "evalue": "Unexpected exit code: 1",
     "output_type": "error",
     "traceback": [
      "\u001b[0;31m---------------------------------------------------------------------------\u001b[0m",
      "\u001b[0;31mRuntimeError\u001b[0m                              Traceback (most recent call last)",
      "\u001b[0;32m<ipython-input-3-92e623c2d456>\u001b[0m in \u001b[0;36m<module>\u001b[0;34m\u001b[0m\n\u001b[0;32m----> 1\u001b[0;31m \u001b[0mget_ipython\u001b[0m\u001b[0;34m(\u001b[0m\u001b[0;34m)\u001b[0m\u001b[0;34m.\u001b[0m\u001b[0msystem\u001b[0m\u001b[0;34m(\u001b[0m\u001b[0;34m'gcloud compute firewall-rules create {vpc_name}-ssh-ingress --description=\"general firewall to allow ssh for all instances in {vpc_name}\"  --direction=INGRESS --priority=1000 --network={vpc_name} --action=ALLOW --rules=tcp:22'\u001b[0m\u001b[0;34m)\u001b[0m\u001b[0;34m\u001b[0m\u001b[0;34m\u001b[0m\u001b[0m\n\u001b[0m\u001b[1;32m      2\u001b[0m \u001b[0mget_ipython\u001b[0m\u001b[0;34m(\u001b[0m\u001b[0;34m)\u001b[0m\u001b[0;34m.\u001b[0m\u001b[0msystem\u001b[0m\u001b[0;34m(\u001b[0m\u001b[0;34m'gcloud compute firewall-rules create {vpc_name}-mysql-ingress --description=\"firewall to allow mysql for wordpress instances in {vpc_name}\"  --direction=INGRESS --priority=1000 --network={vpc_name} --action=ALLOW --rules=tcp:3306 --source-ranges={ip_range}'\u001b[0m\u001b[0;34m)\u001b[0m\u001b[0;34m\u001b[0m\u001b[0;34m\u001b[0m\u001b[0m\n",
      "\u001b[0;32m/opt/conda/etc/ipython/startup/10-custom-get_ipython_system.py\u001b[0m in \u001b[0;36m<lambda>\u001b[0;34m(x)\u001b[0m\n\u001b[1;32m      5\u001b[0m \u001b[0;34m\u001b[0m\u001b[0m\n\u001b[1;32m      6\u001b[0m \u001b[0msave_get_ipython_system\u001b[0m \u001b[0;34m=\u001b[0m \u001b[0mget_ipython\u001b[0m\u001b[0;34m(\u001b[0m\u001b[0;34m)\u001b[0m\u001b[0;34m.\u001b[0m\u001b[0msystem\u001b[0m\u001b[0;34m\u001b[0m\u001b[0;34m\u001b[0m\u001b[0m\n\u001b[0;32m----> 7\u001b[0;31m \u001b[0mget_ipython\u001b[0m\u001b[0;34m(\u001b[0m\u001b[0;34m)\u001b[0m\u001b[0;34m.\u001b[0m\u001b[0msystem\u001b[0m \u001b[0;34m=\u001b[0m \u001b[0;32mlambda\u001b[0m \u001b[0mx\u001b[0m\u001b[0;34m:\u001b[0m \u001b[0mget_ipython_system\u001b[0m\u001b[0;34m(\u001b[0m\u001b[0mx\u001b[0m\u001b[0;34m)\u001b[0m\u001b[0;34m\u001b[0m\u001b[0;34m\u001b[0m\u001b[0m\n\u001b[0m\u001b[1;32m      8\u001b[0m \u001b[0;34m\u001b[0m\u001b[0m\n\u001b[1;32m      9\u001b[0m \u001b[0;31m# interactiveshell.py's system_piped() function comment saids:\u001b[0m\u001b[0;34m\u001b[0m\u001b[0;34m\u001b[0m\u001b[0;34m\u001b[0m\u001b[0m\n",
      "\u001b[0;32m/opt/conda/etc/ipython/startup/10-custom-get_ipython_system.py\u001b[0m in \u001b[0;36mget_ipython_system\u001b[0;34m(_cmd)\u001b[0m\n\u001b[1;32m     13\u001b[0m     \u001b[0msave_get_ipython_system\u001b[0m\u001b[0;34m(\u001b[0m\u001b[0m_cmd\u001b[0m\u001b[0;34m)\u001b[0m\u001b[0;34m\u001b[0m\u001b[0;34m\u001b[0m\u001b[0m\n\u001b[1;32m     14\u001b[0m     \u001b[0;32mif\u001b[0m \u001b[0mget_ipython\u001b[0m\u001b[0;34m(\u001b[0m\u001b[0;34m)\u001b[0m\u001b[0;34m.\u001b[0m\u001b[0muser_ns\u001b[0m\u001b[0;34m[\u001b[0m\u001b[0;34m'_exit_code'\u001b[0m\u001b[0;34m]\u001b[0m \u001b[0;34m!=\u001b[0m \u001b[0;36m0\u001b[0m\u001b[0;34m:\u001b[0m\u001b[0;34m\u001b[0m\u001b[0;34m\u001b[0m\u001b[0m\n\u001b[0;32m---> 15\u001b[0;31m         \u001b[0;32mraise\u001b[0m \u001b[0mRuntimeError\u001b[0m\u001b[0;34m(\u001b[0m\u001b[0;34m'Unexpected exit code: %d'\u001b[0m \u001b[0;34m%\u001b[0m \u001b[0mget_ipython\u001b[0m\u001b[0;34m(\u001b[0m\u001b[0;34m)\u001b[0m\u001b[0;34m.\u001b[0m\u001b[0muser_ns\u001b[0m\u001b[0;34m[\u001b[0m\u001b[0;34m'_exit_code'\u001b[0m\u001b[0;34m]\u001b[0m\u001b[0;34m)\u001b[0m\u001b[0;34m\u001b[0m\u001b[0;34m\u001b[0m\u001b[0m\n\u001b[0m",
      "\u001b[0;31mRuntimeError\u001b[0m: Unexpected exit code: 1"
     ]
    }
   ],
   "source": [
    "!gcloud compute firewall-rules create {vpc_name}-ssh-ingress --description=\"general firewall to allow ssh for all instances in {vpc_name}\" \\\n",
    "--direction=INGRESS --priority=1000 --network={vpc_name} --action=ALLOW --rules=tcp:22\n",
    "!gcloud compute firewall-rules create {vpc_name}-mysql-ingress --description=\"firewall to allow mysql for wordpress instances in {vpc_name}\" \\\n",
    "--direction=INGRESS --priority=1000 --network={vpc_name} --action=ALLOW --rules=tcp:3306 --source-ranges={ip_range}"
   ]
  },
  {
   "cell_type": "markdown",
   "metadata": {
    "lc_cell_meme": {
     "current": "7ccd5daa-378a-11ea-b98b-0242ac120006",
     "next": "e8417b7e-27d2-11ea-a393-0242ac120007",
     "previous": "f7185a20-2f87-11ea-8cf2-0242ac120004"
    }
   },
   "source": [
    "## GKE作成"
   ]
  },
  {
   "cell_type": "code",
   "execution_count": 4,
   "metadata": {
    "lc_cell_meme": {
     "current": "e8417b7e-27d2-11ea-a393-0242ac120007",
     "execution_end_time": "2020-01-13T14:14:58.844268Z",
     "history": [
      {
       "current": "e8417b7e-27d2-11ea-a393-0242ac120007",
       "next": "a3aec122-27cf-11ea-a393-0242ac120007",
       "previous": "0a5dada0-27cd-11ea-a393-0242ac120007"
      },
      {
       "current": "e8417b7e-27d2-11ea-a393-0242ac120007",
       "next": "a3aec122-27cf-11ea-a393-0242ac120007",
       "previous": "f7185a20-2f87-11ea-8cf2-0242ac120004"
      },
      {
       "current": "e8417b7e-27d2-11ea-a393-0242ac120007",
       "next": "8d9fb61e-2f8d-11ea-8cf2-0242ac120004",
       "previous": "f7185a20-2f87-11ea-8cf2-0242ac120004"
      },
      {
       "current": "e8417b7e-27d2-11ea-a393-0242ac120007",
       "next": "be1e3de4-2fa4-11ea-8cf2-0242ac120004",
       "previous": "f7185a20-2f87-11ea-8cf2-0242ac120004"
      },
      {
       "current": "e8417b7e-27d2-11ea-a393-0242ac120007",
       "next": "8d9fb61e-2f8d-11ea-8cf2-0242ac120004",
       "previous": "f7185a20-2f87-11ea-8cf2-0242ac120004"
      },
      {
       "current": "e8417b7e-27d2-11ea-a393-0242ac120007",
       "next": "94aacc38-2fa5-11ea-8cf2-0242ac120004",
       "previous": "f7185a20-2f87-11ea-8cf2-0242ac120004"
      },
      {
       "current": "e8417b7e-27d2-11ea-a393-0242ac120007",
       "next": "94aacc38-2fa5-11ea-8cf2-0242ac120004",
       "previous": "7ccd5daa-378a-11ea-b98b-0242ac120006"
      }
     ],
     "next": "c45b06ae-378a-11ea-b98b-0242ac120006",
     "previous": "7ccd5daa-378a-11ea-b98b-0242ac120006"
    },
    "lc_wrapper": {
     "log_history": [
      "/home/user7/notebooks/.log/20191226/20191226-112930-0284.log",
      "/home/user7/notebooks/.log/20191226/20191226-112953-0154.log",
      "/home/user7/notebooks/.log/20191226/20191226-113004-0494.log",
      "/home/user7/notebooks/.log/20200105/20200105-084413-0280.log",
      "/home/user7/notebooks/.log/20200105/20200105-090301-0678.log",
      "/home/user7/notebooks/.log/20200105/20200105-090321-0491.log",
      "/home/user7/notebooks/.log/20200105/20200105-151235-0243.log",
      "/home/user7/notebooks/.log/20200113/20200113-141126-0450.log"
     ]
    },
    "scrolled": true
   },
   "outputs": [
    {
     "name": "stdout",
     "output_type": "stream",
     "text": [
      "\u001b[1;33mWARNING:\u001b[0m Newly created clusters and node-pools will have node auto-upgrade enabled by default. This can be disabled using the `--no-enable-autoupgrade` flag.\n",
      "\u001b[1;33mWARNING:\u001b[0m Starting in 1.12, default node pools in new clusters will have their legacy Compute Engine instance metadata endpoints disabled by default. To create a cluster with legacy instance metadata endpoints disabled in the default node pool, run `clusters create` with the flag `--metadata disable-legacy-endpoints=true`.\n",
      "\u001b[1;33mWARNING:\u001b[0m The Pod address range limits the maximum size of the cluster. Please refer to https://cloud.google.com/kubernetes-engine/docs/how-to/flexible-pod-cidr to learn how to optimize IP address allocation.\n",
      "This will enable the autorepair feature for nodes. Please see https://cloud.google.com/kubernetes-engine/docs/node-auto-repair for more information on node autorepairs.\n",
      "Creating cluster topse-cluster in us-west1... Cluster is being health-checked..\n",
      ".⠧                                                                             \n",
      "Creating cluster topse-cluster in us-west1... Cluster is being health-checked (\n",
      "master is healthy)...done.                                                     \n",
      "Created [https://container.googleapis.com/v1/projects/topse-nagaku/zones/us-west1/clusters/topse-cluster].\n",
      "To inspect the contents of your cluster, go to: https://console.cloud.google.com/kubernetes/workload_/gcloud/us-west1/topse-cluster?project=topse-nagaku\n",
      "kubeconfig entry generated for topse-cluster.\n",
      "NAME           LOCATION  MASTER_VERSION  MASTER_IP       MACHINE_TYPE   NODE_VERSION    NUM_NODES  STATUS\n",
      "topse-cluster  us-west1  1.13.11-gke.14  35.227.145.133  n1-standard-1  1.13.11-gke.14  2          RUNNING\n",
      "\n",
      "\n",
      "To take a quick anonymous survey, run:\n",
      "  $ gcloud alpha survey\n",
      "\n"
     ]
    }
   ],
   "source": [
    "cluster_name = \"topse-cluster\"\n",
    "zones = [\"us-west1-a\",\"us-west1-b\"]\n",
    "!gcloud container clusters create {cluster_name} \\\n",
    "--region {region} \\\n",
    "--node-locations  {zones[0]},{zones[1]} \\\n",
    "--enable-ip-alias \\\n",
    "--network {vpc_name} \\\n",
    "--subnetwork {subnet_name} \\\n",
    "--num-nodes=1"
   ]
  },
  {
   "cell_type": "markdown",
   "metadata": {
    "lc_cell_meme": {
     "current": "c45b06ae-378a-11ea-b98b-0242ac120006",
     "next": "94aacc38-2fa5-11ea-8cf2-0242ac120004",
     "previous": "e8417b7e-27d2-11ea-a393-0242ac120007"
    }
   },
   "source": [
    "## kubectl設定"
   ]
  },
  {
   "cell_type": "code",
   "execution_count": 5,
   "metadata": {
    "lc_cell_meme": {
     "current": "94aacc38-2fa5-11ea-8cf2-0242ac120004",
     "execution_end_time": "2020-01-13T14:22:19.717791Z",
     "history": [
      {
       "current": "94aacc38-2fa5-11ea-8cf2-0242ac120004",
       "next": "05acfeb6-2fa5-11ea-8cf2-0242ac120004",
       "previous": "05acfbf0-2fa5-11ea-8cf2-0242ac120004"
      },
      {
       "current": "94aacc38-2fa5-11ea-8cf2-0242ac120004",
       "next": "0a5dada0-27cd-11ea-a393-0242ac120007",
       "previous": "0a5dac4c-27cd-11ea-a393-0242ac120007"
      },
      {
       "current": "94aacc38-2fa5-11ea-8cf2-0242ac120004",
       "next": "0a5dac4c-27cd-11ea-a393-0242ac120007",
       "previous": null
      },
      {
       "current": "94aacc38-2fa5-11ea-8cf2-0242ac120004",
       "next": "0a5dada0-27cd-11ea-a393-0242ac120007",
       "previous": "0a5dac4c-27cd-11ea-a393-0242ac120007"
      },
      {
       "current": "94aacc38-2fa5-11ea-8cf2-0242ac120004",
       "next": "8d9fb61e-2f8d-11ea-8cf2-0242ac120004",
       "previous": "e8417b7e-27d2-11ea-a393-0242ac120007"
      },
      {
       "current": "94aacc38-2fa5-11ea-8cf2-0242ac120004",
       "next": "c45b0a46-378a-11ea-b98b-0242ac120006",
       "previous": "c45b06ae-378a-11ea-b98b-0242ac120006"
      }
     ],
     "next": "5107d872-3dce-11ea-8fdf-0242ac120006",
     "previous": "c45b06ae-378a-11ea-b98b-0242ac120006"
    },
    "lc_wrapper": {
     "log_history": [
      "/home/user7/notebooks/.log/20200105/20200105-102303-0302.log",
      "/home/user7/notebooks/.log/20200105/20200105-102409-0912.log",
      "/home/user7/notebooks/.log/20200105/20200105-102425-0362.log",
      "/home/user7/notebooks/.log/20200105/20200105-150809-0488.log",
      "/home/user7/notebooks/.log/20200105/20200105-150853-0196.log",
      "/home/user7/notebooks/.log/20200105/20200105-150903-0507.log",
      "/home/user7/notebooks/.log/20200105/20200105-150925-0139.log",
      "/home/user7/notebooks/.log/20200105/20200105-151800-0880.log",
      "/home/user7/notebooks/.log/20200113/20200113-142213-0253.log"
     ]
    }
   },
   "outputs": [
    {
     "name": "stdout",
     "output_type": "stream",
     "text": [
      "Fetching cluster endpoint and auth data.\n",
      "kubeconfig entry generated for topse-cluster.\n",
      "  % Total    % Received % Xferd  Average Speed   Time    Time     Time  Current\n",
      "                                 Dload  Upload   Total   Spent    Left  Speed\n",
      "100 41.4M  100 41.4M    0     0   129M      0 --:--:-- --:--:-- --:--:--  129M\n",
      "Client Version: version.Info{Major:\"1\", Minor:\"17\", GitVersion:\"v1.17.0\", GitCommit:\"70132b0f130acc0bed193d9ba59dd186f0e634cf\", GitTreeState:\"clean\", BuildDate:\"2019-12-07T21:20:10Z\", GoVersion:\"go1.13.4\", Compiler:\"gc\", Platform:\"linux/amd64\"}\n",
      "Server Version: version.Info{Major:\"1\", Minor:\"13+\", GitVersion:\"v1.13.11-gke.14\", GitCommit:\"56d89863d1033f9668ddd6e1c1aea81cd846ef88\", GitTreeState:\"clean\", BuildDate:\"2019-11-07T19:12:22Z\", GoVersion:\"go1.12.11b4\", Compiler:\"gc\", Platform:\"linux/amd64\"}\n"
     ]
    }
   ],
   "source": [
    "!gcloud container clusters get-credentials {cluster_name} --region {region}\n",
    "!curl -LO https://storage.googleapis.com/kubernetes-release/release/$(curl -s https://storage.googleapis.com/kubernetes-release/release/stable.txt)/bin/linux/amd64/kubectl\n",
    "!chmod +x ./kubectl\n",
    "!sudo mv ./kubectl /usr/local/bin/kubectl\n",
    "!kubectl version"
   ]
  },
  {
   "cell_type": "markdown",
   "metadata": {
    "lc_cell_meme": {
     "current": "5107d872-3dce-11ea-8fdf-0242ac120006",
     "next": "5107daca-3dce-11ea-8fdf-0242ac120006",
     "previous": "94aacc38-2fa5-11ea-8cf2-0242ac120004"
    }
   },
   "source": [
    "## VPC Peering作成"
   ]
  },
  {
   "cell_type": "markdown",
   "metadata": {
    "lc_cell_meme": {
     "current": "5107daca-3dce-11ea-8fdf-0242ac120006",
     "next": "5107dbba-3dce-11ea-8fdf-0242ac120006",
     "previous": "5107d872-3dce-11ea-8fdf-0242ac120006"
    }
   },
   "source": [
    "### パラメータ設定"
   ]
  },
  {
   "cell_type": "code",
   "execution_count": null,
   "metadata": {
    "lc_cell_meme": {
     "current": "5107dbba-3dce-11ea-8fdf-0242ac120006",
     "next": "5107dc8c-3dce-11ea-8fdf-0242ac120006",
     "previous": "5107daca-3dce-11ea-8fdf-0242ac120006"
    }
   },
   "outputs": [],
   "source": [
    "vpc_peering_name=\"topse-vpc-peering\""
   ]
  },
  {
   "cell_type": "markdown",
   "metadata": {
    "lc_cell_meme": {
     "current": "5107dc8c-3dce-11ea-8fdf-0242ac120006",
     "next": "5107dd54-3dce-11ea-8fdf-0242ac120006",
     "previous": "5107dbba-3dce-11ea-8fdf-0242ac120006"
    }
   },
   "source": [
    "### VPC Peering作成"
   ]
  },
  {
   "cell_type": "code",
   "execution_count": null,
   "metadata": {
    "lc_cell_meme": {
     "current": "5107dd54-3dce-11ea-8fdf-0242ac120006",
     "history": [
      {
       "current": "5107dd54-3dce-11ea-8fdf-0242ac120006",
       "next": "c45b0a46-378a-11ea-b98b-0242ac120006",
       "previous": "5107dc8c-3dce-11ea-8fdf-0242ac120006"
      }
     ],
     "next": "31fa5eb8-4356-11ea-ab68-0242ac120005",
     "previous": "5107dc8c-3dce-11ea-8fdf-0242ac120006"
    }
   },
   "outputs": [],
   "source": [
    "!gcloud compute addresses create {vpc_peering_name} \\\n",
    "    --global \\\n",
    "    --purpose=VPC_PEERING \\\n",
    "    --prefix-length=16 \\\n",
    "    --description=\"for VPC peering to gcp service\" \\\n",
    "    --network={vpc_name}"
   ]
  },
  {
   "cell_type": "markdown",
   "metadata": {
    "lc_cell_meme": {
     "current": "31fa5eb8-4356-11ea-ab68-0242ac120005",
     "next": "31fa612e-4356-11ea-ab68-0242ac120005",
     "previous": "5107dd54-3dce-11ea-8fdf-0242ac120006"
    }
   },
   "source": [
    "以下の gcloud services vpc-peerings update がエラーになった場合、エラーメッセージの案内に従って、[APIとサービス] からCloud Resource Manager APIを有効にする。"
   ]
  },
  {
   "cell_type": "code",
   "execution_count": null,
   "metadata": {
    "lc_cell_meme": {
     "current": "31fa612e-4356-11ea-ab68-0242ac120005",
     "next": "c45b0a46-378a-11ea-b98b-0242ac120006",
     "previous": "31fa5eb8-4356-11ea-ab68-0242ac120005"
    }
   },
   "outputs": [],
   "source": [
    "!gcloud services vpc-peerings update \\\n",
    "    --service=servicenetworking.googleapis.com \\\n",
    "    --ranges={vpc_peering_name} --network={vpc_name} \\\n",
    "    --force --quiet"
   ]
  },
  {
   "cell_type": "markdown",
   "metadata": {
    "lc_cell_meme": {
     "current": "c45b0a46-378a-11ea-b98b-0242ac120006",
     "history": [
      {
       "current": "c45b0a46-378a-11ea-b98b-0242ac120006",
       "next": "8d9fb61e-2f8d-11ea-8cf2-0242ac120004",
       "previous": "94aacc38-2fa5-11ea-8cf2-0242ac120004"
      },
      {
       "current": "c45b0a46-378a-11ea-b98b-0242ac120006",
       "next": "0bda69fc-378b-11ea-b98b-0242ac120006",
       "previous": "94aacc38-2fa5-11ea-8cf2-0242ac120004"
      },
      {
       "current": "c45b0a46-378a-11ea-b98b-0242ac120006",
       "next": "0bda69fc-378b-11ea-b98b-0242ac120006",
       "previous": "5107dd54-3dce-11ea-8fdf-0242ac120006"
      },
      {
       "current": "c45b0a46-378a-11ea-b98b-0242ac120006",
       "next": "0bda69fc-378b-11ea-b98b-0242ac120006",
       "previous": "31fa612e-4356-11ea-ab68-0242ac120005"
      },
      {
       "current": "c45b0a46-378a-11ea-b98b-0242ac120006",
       "next": "44dd1ff6-4357-11ea-ab68-0242ac120005",
       "previous": "31fa612e-4356-11ea-ab68-0242ac120005"
      }
     ],
     "next": "0bda69fc-378b-11ea-b98b-0242ac120006",
     "previous": "31fa612e-4356-11ea-ab68-0242ac120005"
    }
   },
   "source": [
    "## Cloud SQL作成"
   ]
  },
  {
   "cell_type": "markdown",
   "metadata": {
    "lc_cell_meme": {
     "current": "0bda69fc-378b-11ea-b98b-0242ac120006",
     "history": [
      {
       "current": "0bda69fc-378b-11ea-b98b-0242ac120006",
       "next": "0bda6c5e-378b-11ea-b98b-0242ac120006",
       "previous": "c45b0a46-378a-11ea-b98b-0242ac120006"
      },
      {
       "current": "0bda69fc-378b-11ea-b98b-0242ac120006",
       "next": "0bda6c5e-378b-11ea-b98b-0242ac120006",
       "previous": "44dd1ff6-4357-11ea-ab68-0242ac120005"
      }
     ],
     "next": "0bda6c5e-378b-11ea-b98b-0242ac120006",
     "previous": "c45b0a46-378a-11ea-b98b-0242ac120006"
    }
   },
   "source": [
    "### パラメータ設定"
   ]
  },
  {
   "cell_type": "code",
   "execution_count": 15,
   "metadata": {
    "lc_cell_meme": {
     "current": "0bda6c5e-378b-11ea-b98b-0242ac120006",
     "execution_end_time": "2020-01-30T12:00:32.876348Z",
     "history": [
      {
       "current": "0bda6c5e-378b-11ea-b98b-0242ac120006",
       "next": "8d9fb61e-2f8d-11ea-8cf2-0242ac120004",
       "previous": "0bda69fc-378b-11ea-b98b-0242ac120006"
      }
     ],
     "next": "5360dc0c-378b-11ea-b98b-0242ac120006",
     "previous": "0bda69fc-378b-11ea-b98b-0242ac120006"
    },
    "lc_wrapper": {
     "log_history": [
      "/home/user4/notebooks/seminar-lc4ri/git/notebooks/.log/20200130/20200130-115553-0684.log",
      "/home/user4/notebooks/seminar-lc4ri/git/notebooks/.log/20200130/20200130-115603-0298.log",
      "/home/user4/notebooks/seminar-lc4ri/git/notebooks/.log/20200130/20200130-115630-0822.log",
      "/home/user4/notebooks/seminar-lc4ri/git/notebooks/.log/20200130/20200130-115719-0960.log",
      "/home/user4/notebooks/seminar-lc4ri/git/notebooks/.log/20200130/20200130-115724-0169.log",
      "/home/user4/notebooks/seminar-lc4ri/git/notebooks/.log/20200130/20200130-115726-0999.log",
      "/home/user4/notebooks/seminar-lc4ri/git/notebooks/.log/20200130/20200130-115821-0649.log",
      "/home/user4/notebooks/seminar-lc4ri/git/notebooks/.log/20200130/20200130-120032-0868.log"
     ]
    }
   },
   "outputs": [
    {
     "name": "stdout",
     "output_type": "stream",
     "text": [
      "topse-wordpress-mysql-20200130\n"
     ]
    }
   ],
   "source": [
    "# need to change instance name uniquely even if instance is deleted. The instance name is remaining for a while\n",
    "import datetime\n",
    "suffix = format(datetime.date.today(), '%Y%m%d')\n",
    "cloud_sql_name = \"topse-wordpress-mysql-\" + suffix\n",
    "database_version = \"MYSQL_5_7\"\n",
    "root_password = \"8sg3jJguHLq8KjNk\"\n",
    "print(cloud_sql_name)"
   ]
  },
  {
   "cell_type": "markdown",
   "metadata": {
    "lc_cell_meme": {
     "current": "5360dc0c-378b-11ea-b98b-0242ac120006",
     "next": "8d9fb61e-2f8d-11ea-8cf2-0242ac120004",
     "previous": "0bda6c5e-378b-11ea-b98b-0242ac120006"
    }
   },
   "source": [
    "### Cloud SQL作成"
   ]
  },
  {
   "cell_type": "code",
   "execution_count": 6,
   "metadata": {
    "lc_cell_meme": {
     "current": "8d9fb61e-2f8d-11ea-8cf2-0242ac120004",
     "execution_end_time": "2020-01-13T14:27:43.390909Z",
     "history": [
      {
       "current": "8d9fb61e-2f8d-11ea-8cf2-0242ac120004",
       "next": "a3aec122-27cf-11ea-a393-0242ac120007",
       "previous": "e8417b7e-27d2-11ea-a393-0242ac120007"
      },
      {
       "current": "8d9fb61e-2f8d-11ea-8cf2-0242ac120004",
       "next": "a3aec122-27cf-11ea-a393-0242ac120007",
       "previous": "be1e4118-2fa4-11ea-8cf2-0242ac120004"
      },
      {
       "current": "8d9fb61e-2f8d-11ea-8cf2-0242ac120004",
       "next": "be1e3de4-2fa4-11ea-8cf2-0242ac120004",
       "previous": "e8417b7e-27d2-11ea-a393-0242ac120007"
      },
      {
       "current": "8d9fb61e-2f8d-11ea-8cf2-0242ac120004",
       "next": "be1e4118-2fa4-11ea-8cf2-0242ac120004",
       "previous": "e8417b7e-27d2-11ea-a393-0242ac120007"
      },
      {
       "current": "8d9fb61e-2f8d-11ea-8cf2-0242ac120004",
       "next": "b9bd1486-2fcd-11ea-a30b-0242ac120004",
       "previous": "94aacc38-2fa5-11ea-8cf2-0242ac120004"
      },
      {
       "current": "8d9fb61e-2f8d-11ea-8cf2-0242ac120004",
       "next": "013f7f9c-2fce-11ea-a30b-0242ac120004",
       "previous": "94aacc38-2fa5-11ea-8cf2-0242ac120004"
      },
      {
       "current": "8d9fb61e-2f8d-11ea-8cf2-0242ac120004",
       "next": "b9bd1486-2fcd-11ea-a30b-0242ac120004",
       "previous": "94aacc38-2fa5-11ea-8cf2-0242ac120004"
      },
      {
       "current": "8d9fb61e-2f8d-11ea-8cf2-0242ac120004",
       "next": "b9bd1486-2fcd-11ea-a30b-0242ac120004",
       "previous": "c45b0a46-378a-11ea-b98b-0242ac120006"
      },
      {
       "current": "8d9fb61e-2f8d-11ea-8cf2-0242ac120004",
       "next": "b9bd1486-2fcd-11ea-a30b-0242ac120004",
       "previous": "0bda6c5e-378b-11ea-b98b-0242ac120006"
      },
      {
       "current": "8d9fb61e-2f8d-11ea-8cf2-0242ac120004",
       "next": "b9bd1486-2fcd-11ea-a30b-0242ac120004",
       "previous": "5360dc0c-378b-11ea-b98b-0242ac120006"
      },
      {
       "current": "8d9fb61e-2f8d-11ea-8cf2-0242ac120004",
       "next": "e26ec008-378b-11ea-b98b-0242ac120006",
       "previous": "5360dc0c-378b-11ea-b98b-0242ac120006"
      }
     ],
     "next": "71829d96-378c-11ea-b98b-0242ac120006",
     "previous": "5360dc0c-378b-11ea-b98b-0242ac120006"
    },
    "lc_wrapper": {
     "log_history": [
      "/home/user7/notebooks/.log/20200105/20200105-073234-0840.log",
      "/home/user7/notebooks/.log/20200105/20200105-073241-0387.log",
      "/home/user7/notebooks/.log/20200105/20200105-073513-0303.log",
      "/home/user7/notebooks/.log/20200105/20200105-073553-0258.log",
      "/home/user7/notebooks/.log/20200105/20200105-073624-0292.log",
      "/home/user7/notebooks/.log/20200105/20200105-074052-0614.log",
      "/home/user7/notebooks/.log/20200105/20200105-075107-0111.log",
      "/home/user7/notebooks/.log/20200105/20200105-075208-0797.log",
      "/home/user7/notebooks/.log/20200105/20200105-075349-0397.log",
      "/home/user7/notebooks/.log/20200105/20200105-075749-0303.log",
      "/home/user7/notebooks/.log/20200105/20200105-075812-0003.log",
      "/home/user7/notebooks/.log/20200105/20200105-075826-0287.log",
      "/home/user7/notebooks/.log/20200105/20200105-075832-0862.log",
      "/home/user7/notebooks/.log/20200105/20200105-075853-0537.log",
      "/home/user7/notebooks/.log/20200105/20200105-080019-0299.log",
      "/home/user7/notebooks/.log/20200105/20200105-080031-0606.log",
      "/home/user7/notebooks/.log/20200105/20200105-103727-0186.log",
      "/home/user7/notebooks/.log/20200105/20200105-104602-0499.log",
      "/home/user7/notebooks/.log/20200105/20200105-151815-0020.log",
      "/home/user7/notebooks/.log/20200105/20200105-151820-0266.log",
      "/home/user7/notebooks/.log/20200113/20200113-142225-0357.log"
     ]
    }
   },
   "outputs": [
    {
     "name": "stdout",
     "output_type": "stream",
     "text": [
      "Creating Cloud SQL instance...done.                                            \n",
      "Created [https://www.googleapis.com/sql/v1beta4/projects/topse-nagaku/instances/topse-wordpress-mysql-03].\n",
      "NAME                      DATABASE_VERSION  LOCATION    TIER              PRIMARY_ADDRESS  PRIVATE_ADDRESS  STATUS\n",
      "topse-wordpress-mysql-03  MYSQL_5_7         us-west1-a  db-n1-standard-1  -                172.24.0.3       RUNNABLE\n"
     ]
    }
   ],
   "source": [
    "!gcloud beta sql instances create {cloud_sql_name} --no-assign-ip --network={vpc_name} --no-backup --database-version={database_version} \\\n",
    "--root-password={root_password} --region {region}"
   ]
  },
  {
   "cell_type": "markdown",
   "metadata": {
    "lc_cell_meme": {
     "current": "71829d96-378c-11ea-b98b-0242ac120006",
     "next": "7182a12e-378c-11ea-b98b-0242ac120006",
     "previous": "8d9fb61e-2f8d-11ea-8cf2-0242ac120004"
    }
   },
   "source": [
    "### IPアドレス取得"
   ]
  },
  {
   "cell_type": "code",
   "execution_count": null,
   "metadata": {
    "lc_cell_meme": {
     "current": "7182a12e-378c-11ea-b98b-0242ac120006",
     "history": [
      {
       "current": "7182a12e-378c-11ea-b98b-0242ac120006",
       "next": "e26ec008-378b-11ea-b98b-0242ac120006",
       "previous": "71829d96-378c-11ea-b98b-0242ac120006"
      }
     ],
     "next": "1eacbd48-378e-11ea-b98b-0242ac120006",
     "previous": "71829d96-378c-11ea-b98b-0242ac120006"
    }
   },
   "outputs": [],
   "source": [
    "output=!gcloud beta sql instances describe {cloud_sql_name} --format json\n",
    "import json\n",
    "while output[0].find('{') == -1:\n",
    "    del output[0]\n",
    "output[0] = \"{\"\n",
    "json_result = json.loads(''.join(output))\n",
    "print(json_result[\"ipAddresses\"][0][\"ipAddress\"])\n",
    "cloud_sql_ip=json_result[\"ipAddresses\"][0][\"ipAddress\"]"
   ]
  },
  {
   "cell_type": "markdown",
   "metadata": {
    "lc_cell_meme": {
     "current": "1eacbd48-378e-11ea-b98b-0242ac120006",
     "history": [
      {
       "current": "1eacbd48-378e-11ea-b98b-0242ac120006",
       "next": "1eacbfaa-378e-11ea-b98b-0242ac120006",
       "previous": "d71de6e6-378d-11ea-b98b-0242ac120006"
      }
     ],
     "next": "1eacbfaa-378e-11ea-b98b-0242ac120006",
     "previous": "7182a12e-378c-11ea-b98b-0242ac120006"
    }
   },
   "source": [
    "### Secret作成"
   ]
  },
  {
   "cell_type": "markdown",
   "metadata": {
    "lc_cell_meme": {
     "current": "1eacbfaa-378e-11ea-b98b-0242ac120006",
     "next": "05acfeb6-2fa5-11ea-8cf2-0242ac120004",
     "previous": "1eacbd48-378e-11ea-b98b-0242ac120006"
    }
   },
   "source": [
    "MySQLのrootパスワードをKubernatesのSecretに登録する"
   ]
  },
  {
   "cell_type": "code",
   "execution_count": 33,
   "metadata": {
    "lc_cell_meme": {
     "current": "05acfeb6-2fa5-11ea-8cf2-0242ac120004",
     "execution_end_time": "2020-01-13T14:43:35.948586Z",
     "history": [
      {
       "current": "05acfeb6-2fa5-11ea-8cf2-0242ac120004",
       "next": "a3aec122-27cf-11ea-a393-0242ac120007",
       "previous": "05acfbf0-2fa5-11ea-8cf2-0242ac120004"
      },
      {
       "current": "05acfeb6-2fa5-11ea-8cf2-0242ac120004",
       "next": "a3aec122-27cf-11ea-a393-0242ac120007",
       "previous": "94aacc38-2fa5-11ea-8cf2-0242ac120004"
      },
      {
       "current": "05acfeb6-2fa5-11ea-8cf2-0242ac120004",
       "next": "dc37add2-2fa5-11ea-8cf2-0242ac120004",
       "previous": "94aacc38-2fa5-11ea-8cf2-0242ac120004"
      },
      {
       "current": "05acfeb6-2fa5-11ea-8cf2-0242ac120004",
       "next": "dc37add2-2fa5-11ea-8cf2-0242ac120004",
       "previous": "be1e4118-2fa4-11ea-8cf2-0242ac120004"
      },
      {
       "current": "05acfeb6-2fa5-11ea-8cf2-0242ac120004",
       "next": "be1e4118-2fa4-11ea-8cf2-0242ac120004",
       "previous": "29807b38-3612-11ea-bdba-0242ac120004"
      },
      {
       "current": "05acfeb6-2fa5-11ea-8cf2-0242ac120004",
       "next": "be1e4118-2fa4-11ea-8cf2-0242ac120004",
       "previous": "d71de6e6-378d-11ea-b98b-0242ac120006"
      },
      {
       "current": "05acfeb6-2fa5-11ea-8cf2-0242ac120004",
       "next": "be1e4118-2fa4-11ea-8cf2-0242ac120004",
       "previous": "1eacbfaa-378e-11ea-b98b-0242ac120006"
      },
      {
       "current": "05acfeb6-2fa5-11ea-8cf2-0242ac120004",
       "next": "662e71d4-378e-11ea-b98b-0242ac120006",
       "previous": "1eacbfaa-378e-11ea-b98b-0242ac120006"
      }
     ],
     "next": "e26ec008-378b-11ea-b98b-0242ac120006",
     "previous": "1eacbfaa-378e-11ea-b98b-0242ac120006"
    },
    "lc_wrapper": {
     "log_history": [
      "/home/user7/notebooks/.log/20200105/20200105-102052-0174.log",
      "/home/user7/notebooks/.log/20200105/20200105-102450-0372.log",
      "/home/user7/notebooks/.log/20200105/20200105-102529-0935.log",
      "/home/user7/notebooks/.log/20200105/20200105-110250-0305.log",
      "/home/user7/notebooks/.log/20200105/20200105-154433-0902.log",
      "/home/user7/notebooks/.log/20200113/20200113-144334-0664.log"
     ]
    }
   },
   "outputs": [
    {
     "name": "stdout",
     "output_type": "stream",
     "text": [
      "secret/mysql created\r\n"
     ]
    }
   ],
   "source": [
    "!kubectl create secret generic mysql --from-literal=password={root_password}"
   ]
  },
  {
   "cell_type": "markdown",
   "metadata": {
    "lc_cell_meme": {
     "current": "e26ec008-378b-11ea-b98b-0242ac120006",
     "history": [
      {
       "current": "e26ec008-378b-11ea-b98b-0242ac120006",
       "next": "e26ec4cc-378b-11ea-b98b-0242ac120006",
       "previous": "8d9fb61e-2f8d-11ea-8cf2-0242ac120004"
      },
      {
       "current": "e26ec008-378b-11ea-b98b-0242ac120006",
       "next": "e26ec4cc-378b-11ea-b98b-0242ac120006",
       "previous": "7182a12e-378c-11ea-b98b-0242ac120006"
      }
     ],
     "next": "e26ec4cc-378b-11ea-b98b-0242ac120006",
     "previous": "05acfeb6-2fa5-11ea-8cf2-0242ac120004"
    }
   },
   "source": [
    "## Cloud DNS作成"
   ]
  },
  {
   "cell_type": "markdown",
   "metadata": {
    "lc_cell_meme": {
     "current": "e26ec4cc-378b-11ea-b98b-0242ac120006",
     "next": "b9bd1486-2fcd-11ea-a30b-0242ac120004",
     "previous": "e26ec008-378b-11ea-b98b-0242ac120006"
    }
   },
   "source": [
    "### パラメータ設定"
   ]
  },
  {
   "cell_type": "code",
   "execution_count": 2,
   "metadata": {
    "lc_cell_meme": {
     "current": "b9bd1486-2fcd-11ea-a30b-0242ac120004",
     "execution_end_time": "2020-01-15T11:41:25.856691Z",
     "history": [
      {
       "current": "b9bd1486-2fcd-11ea-a30b-0242ac120004",
       "next": "be1e4118-2fa4-11ea-8cf2-0242ac120004",
       "previous": "8d9fb61e-2f8d-11ea-8cf2-0242ac120004"
      },
      {
       "current": "b9bd1486-2fcd-11ea-a30b-0242ac120004",
       "next": "be1e4118-2fa4-11ea-8cf2-0242ac120004",
       "previous": "013f7f9c-2fce-11ea-a30b-0242ac120004"
      },
      {
       "current": "b9bd1486-2fcd-11ea-a30b-0242ac120004",
       "next": "46973ab2-360e-11ea-bdba-0242ac120004",
       "previous": "013f7f9c-2fce-11ea-a30b-0242ac120004"
      },
      {
       "current": "b9bd1486-2fcd-11ea-a30b-0242ac120004",
       "next": "11c77cfe-3611-11ea-bdba-0242ac120004",
       "previous": "013f7f9c-2fce-11ea-a30b-0242ac120004"
      },
      {
       "current": "b9bd1486-2fcd-11ea-a30b-0242ac120004",
       "next": "013f7f9c-2fce-11ea-a30b-0242ac120004",
       "previous": "8d9fb61e-2f8d-11ea-8cf2-0242ac120004"
      },
      {
       "current": "b9bd1486-2fcd-11ea-a30b-0242ac120004",
       "next": "013f7f9c-2fce-11ea-a30b-0242ac120004",
       "previous": "e26ec4cc-378b-11ea-b98b-0242ac120006"
      }
     ],
     "next": "29f83b3e-378c-11ea-b98b-0242ac120006",
     "previous": "e26ec4cc-378b-11ea-b98b-0242ac120006"
    },
    "lc_wrapper": {
     "log_history": [
      "/home/user7/notebooks/.log/20200105/20200105-153409-0815.log",
      "/home/user7/notebooks/.log/20200105/20200105-153454-0811.log",
      "/home/user7/notebooks/.log/20200105/20200105-153819-0552.log",
      "/home/user7/notebooks/.log/20200105/20200105-153923-0560.log",
      "/home/user7/notebooks/.log/20200105/20200105-153946-0042.log",
      "/home/user7/notebooks/.log/20200105/20200105-154416-0748.log",
      "/home/user7/notebooks/.log/20200113/20200113-142906-0667.log",
      "/home/user7/notebooks/.log/20200113/20200113-143231-0466.log",
      "/home/user4/notebooks/.log/20200115/20200115-114125-0848.log"
     ]
    }
   },
   "outputs": [],
   "source": [
    "private_zone_name=\"topse-private-zone\"\n",
    "dns_name=\"topse.private.\""
   ]
  },
  {
   "cell_type": "markdown",
   "metadata": {
    "lc_cell_meme": {
     "current": "29f83b3e-378c-11ea-b98b-0242ac120006",
     "next": "29f83e7c-378c-11ea-b98b-0242ac120006",
     "previous": "b9bd1486-2fcd-11ea-a30b-0242ac120004"
    }
   },
   "source": [
    "### プライベートゾーン作成"
   ]
  },
  {
   "cell_type": "code",
   "execution_count": null,
   "metadata": {
    "lc_cell_meme": {
     "current": "29f83e7c-378c-11ea-b98b-0242ac120006",
     "history": [
      {
       "current": "29f83e7c-378c-11ea-b98b-0242ac120006",
       "next": "29f83f6c-378c-11ea-b98b-0242ac120006",
       "previous": "29f83b3e-378c-11ea-b98b-0242ac120006"
      }
     ],
     "next": "013f7f9c-2fce-11ea-a30b-0242ac120004",
     "previous": "29f83b3e-378c-11ea-b98b-0242ac120006"
    }
   },
   "outputs": [],
   "source": [
    "!gcloud beta dns managed-zones create {private_zone_name} --dns-name={dns_name} \\\n",
    "--description={private_zone_name} --visibility=private --networks {vpc_name}"
   ]
  },
  {
   "cell_type": "markdown",
   "metadata": {
    "lc_cell_meme": {
     "current": "013f7f9c-2fce-11ea-a30b-0242ac120004",
     "execution_end_time": "2020-01-13T14:28:12.548073Z",
     "history": [
      {
       "current": "013f7f9c-2fce-11ea-a30b-0242ac120004",
       "next": "b9bd1486-2fcd-11ea-a30b-0242ac120004",
       "previous": "8d9fb61e-2f8d-11ea-8cf2-0242ac120004"
      },
      {
       "current": "013f7f9c-2fce-11ea-a30b-0242ac120004",
       "next": "11c77cfe-3611-11ea-bdba-0242ac120004",
       "previous": "b9bd1486-2fcd-11ea-a30b-0242ac120004"
      },
      {
       "current": "013f7f9c-2fce-11ea-a30b-0242ac120004",
       "next": "11c77cfe-3611-11ea-bdba-0242ac120004",
       "previous": "29f83f6c-378c-11ea-b98b-0242ac120006"
      }
     ],
     "next": "b904c126-378c-11ea-b98b-0242ac120006",
     "previous": "29f83e7c-378c-11ea-b98b-0242ac120006"
    },
    "lc_wrapper": {
     "log_history": [
      "/home/user7/notebooks/.log/20200105/20200105-152257-0340.log",
      "/home/user7/notebooks/.log/20200105/20200105-152415-0056.log",
      "/home/user7/notebooks/.log/20200105/20200105-152514-0992.log",
      "/home/user7/notebooks/.log/20200105/20200105-152522-0349.log",
      "/home/user7/notebooks/.log/20200105/20200105-152526-0890.log",
      "/home/user7/notebooks/.log/20200105/20200105-152533-0913.log",
      "/home/user7/notebooks/.log/20200105/20200105-152631-0751.log",
      "/home/user7/notebooks/.log/20200105/20200105-152643-0567.log",
      "/home/user7/notebooks/.log/20200105/20200105-152656-0028.log",
      "/home/user7/notebooks/.log/20200105/20200105-152813-0317.log",
      "/home/user7/notebooks/.log/20200105/20200105-152847-0576.log",
      "/home/user7/notebooks/.log/20200105/20200105-153133-0056.log",
      "/home/user7/notebooks/.log/20200105/20200105-153207-0107.log",
      "/home/user7/notebooks/.log/20200105/20200105-153218-0947.log",
      "/home/user7/notebooks/.log/20200105/20200105-153242-0057.log",
      "/home/user7/notebooks/.log/20200105/20200105-153252-0339.log",
      "/home/user7/notebooks/.log/20200105/20200105-153306-0384.log",
      "/home/user7/notebooks/.log/20200105/20200105-153310-0885.log",
      "/home/user7/notebooks/.log/20200105/20200105-153343-0615.log",
      "/home/user7/notebooks/.log/20200105/20200105-153351-0713.log",
      "/home/user7/notebooks/.log/20200113/20200113-142811-0950.log"
     ]
    }
   },
   "source": [
    "### DNSレコード追加"
   ]
  },
  {
   "cell_type": "markdown",
   "metadata": {
    "lc_cell_meme": {
     "current": "b904c126-378c-11ea-b98b-0242ac120006",
     "next": "11c77cfe-3611-11ea-bdba-0242ac120004",
     "previous": "013f7f9c-2fce-11ea-a30b-0242ac120004"
    }
   },
   "source": [
    "Cloud SQLのIPアドレス、ホスト名を登録する。"
   ]
  },
  {
   "cell_type": "code",
   "execution_count": 19,
   "metadata": {
    "lc_cell_meme": {
     "current": "11c77cfe-3611-11ea-bdba-0242ac120004",
     "execution_end_time": "2020-01-13T14:34:29.396880Z",
     "history": [
      {
       "current": "11c77cfe-3611-11ea-bdba-0242ac120004",
       "next": "46973ab2-360e-11ea-bdba-0242ac120004",
       "previous": "b9bd1486-2fcd-11ea-a30b-0242ac120004"
      },
      {
       "current": "11c77cfe-3611-11ea-bdba-0242ac120004",
       "next": "46973ab2-360e-11ea-bdba-0242ac120004",
       "previous": "013f7f9c-2fce-11ea-a30b-0242ac120004"
      },
      {
       "current": "11c77cfe-3611-11ea-bdba-0242ac120004",
       "next": "46973ab2-360e-11ea-bdba-0242ac120004",
       "previous": "b904c126-378c-11ea-b98b-0242ac120006"
      }
     ],
     "next": "008c7606-378d-11ea-b98b-0242ac120006",
     "previous": "b904c126-378c-11ea-b98b-0242ac120006"
    },
    "lc_wrapper": {
     "log_history": [
      "/home/user7/notebooks/.log/20200113/20200113-142919-0563.log",
      "/home/user7/notebooks/.log/20200113/20200113-143010-0040.log",
      "/home/user7/notebooks/.log/20200113/20200113-143240-0279.log",
      "/home/user7/notebooks/.log/20200113/20200113-143252-0111.log",
      "/home/user7/notebooks/.log/20200113/20200113-143255-0933.log",
      "/home/user7/notebooks/.log/20200113/20200113-143315-0639.log",
      "/home/user7/notebooks/.log/20200113/20200113-143415-0520.log",
      "/home/user7/notebooks/.log/20200113/20200113-143424-0788.log"
     ]
    }
   },
   "outputs": [
    {
     "name": "stdout",
     "output_type": "stream",
     "text": [
      "Transaction started [transaction.yaml].\n",
      "Record addition appended to transaction at [transaction.yaml].\n",
      "Executed transaction [transaction.yaml] for managed-zone [topse-private-zone].\n",
      "Created [https://dns.googleapis.com/dns/v1/projects/topse-nagaku/managedZones/topse-private-zone/changes/1].\n",
      "ID  START_TIME                STATUS\n",
      "1   2020-01-13T14:34:29.166Z  pending\n"
     ]
    }
   ],
   "source": [
    "#!gcloud dns record-sets transaction abort --zone={private_zone_name}\n",
    "!gcloud dns record-sets transaction start --zone={private_zone_name}\n",
    "!gcloud dns record-sets transaction add {cloud_sql_ip} --name=mysql.{dns_name} --ttl=300 --type=A --zone={private_zone_name}\n",
    "!gcloud dns record-sets transaction execute --zone={private_zone_name}"
   ]
  },
  {
   "cell_type": "markdown",
   "metadata": {
    "lc_cell_meme": {
     "current": "008c7606-378d-11ea-b98b-0242ac120006",
     "history": [
      {
       "current": "008c7606-378d-11ea-b98b-0242ac120006",
       "next": "46973ab2-360e-11ea-bdba-0242ac120004",
       "previous": "11c77cfe-3611-11ea-bdba-0242ac120004"
      }
     ],
     "next": "481b10e0-378d-11ea-b98b-0242ac120006",
     "previous": "11c77cfe-3611-11ea-bdba-0242ac120004"
    }
   },
   "source": [
    "## FileStore作成"
   ]
  },
  {
   "cell_type": "markdown",
   "metadata": {
    "lc_cell_meme": {
     "current": "481b10e0-378d-11ea-b98b-0242ac120006",
     "next": "46973ab2-360e-11ea-bdba-0242ac120004",
     "previous": "008c7606-378d-11ea-b98b-0242ac120006"
    }
   },
   "source": [
    "### パラメータ設定"
   ]
  },
  {
   "cell_type": "code",
   "execution_count": 21,
   "metadata": {
    "lc_cell_meme": {
     "current": "46973ab2-360e-11ea-bdba-0242ac120004",
     "execution_end_time": "2020-01-13T14:38:19.418814Z",
     "history": [
      {
       "current": "46973ab2-360e-11ea-bdba-0242ac120004",
       "next": "be1e4118-2fa4-11ea-8cf2-0242ac120004",
       "previous": "b9bd1486-2fcd-11ea-a30b-0242ac120004"
      },
      {
       "current": "46973ab2-360e-11ea-bdba-0242ac120004",
       "next": "be1e4118-2fa4-11ea-8cf2-0242ac120004",
       "previous": "11c77cfe-3611-11ea-bdba-0242ac120004"
      },
      {
       "current": "46973ab2-360e-11ea-bdba-0242ac120004",
       "next": "29807908-3612-11ea-bdba-0242ac120004",
       "previous": "11c77cfe-3611-11ea-bdba-0242ac120004"
      },
      {
       "current": "46973ab2-360e-11ea-bdba-0242ac120004",
       "next": "29807908-3612-11ea-bdba-0242ac120004",
       "previous": "008c7606-378d-11ea-b98b-0242ac120006"
      }
     ],
     "next": "481b134c-378d-11ea-b98b-0242ac120006",
     "previous": "481b10e0-378d-11ea-b98b-0242ac120006"
    },
    "lc_wrapper": {
     "log_history": [
      "/home/user7/notebooks/.log/20200113/20200113-143433-0064.log",
      "/home/user7/notebooks/.log/20200113/20200113-143448-0537.log"
     ]
    }
   },
   "outputs": [
    {
     "name": "stdout",
     "output_type": "stream",
     "text": [
      "Waiting for [operation-1578926090150-59c0660bae265-7a91f3ba-0811f466] to finish\n",
      "...done.                                                                       \n"
     ]
    }
   ],
   "source": [
    "filestore_name=\"nfs-server\"\n",
    "volume_capacity=\"1TB\""
   ]
  },
  {
   "cell_type": "markdown",
   "metadata": {
    "lc_cell_meme": {
     "current": "481b134c-378d-11ea-b98b-0242ac120006",
     "next": "481b1450-378d-11ea-b98b-0242ac120006",
     "previous": "46973ab2-360e-11ea-bdba-0242ac120004"
    }
   },
   "source": [
    "### FileStore作成"
   ]
  },
  {
   "cell_type": "code",
   "execution_count": null,
   "metadata": {
    "lc_cell_meme": {
     "current": "481b1450-378d-11ea-b98b-0242ac120006",
     "next": "481b1522-378d-11ea-b98b-0242ac120006",
     "previous": "481b134c-378d-11ea-b98b-0242ac120006"
    }
   },
   "outputs": [],
   "source": [
    "!gcloud beta filestore instances create {filestore_name} --zone {zones[0]} \\\n",
    "--tier=STANDARD --file-share=name=\"vol1\",capacity={volume_capacity} --network=name={vpc_name}"
   ]
  },
  {
   "cell_type": "markdown",
   "metadata": {
    "lc_cell_meme": {
     "current": "481b1522-378d-11ea-b98b-0242ac120006",
     "next": "29807908-3612-11ea-bdba-0242ac120004",
     "previous": "481b1450-378d-11ea-b98b-0242ac120006"
    }
   },
   "source": [
    "### IPアドレス取得"
   ]
  },
  {
   "cell_type": "code",
   "execution_count": 29,
   "metadata": {
    "lc_cell_meme": {
     "current": "29807908-3612-11ea-bdba-0242ac120004",
     "execution_end_time": "2020-01-13T14:40:44.327729Z",
     "history": [
      {
       "current": "29807908-3612-11ea-bdba-0242ac120004",
       "next": "29807b38-3612-11ea-bdba-0242ac120004",
       "previous": "46973ab2-360e-11ea-bdba-0242ac120004"
      },
      {
       "current": "29807908-3612-11ea-bdba-0242ac120004",
       "next": "29807b38-3612-11ea-bdba-0242ac120004",
       "previous": "481b1522-378d-11ea-b98b-0242ac120006"
      }
     ],
     "next": "8f990742-378d-11ea-b98b-0242ac120006",
     "previous": "481b1522-378d-11ea-b98b-0242ac120006"
    },
    "lc_wrapper": {
     "log_history": [
      "/home/user7/notebooks/.log/20200113/20200113-143829-0917.log",
      "/home/user7/notebooks/.log/20200113/20200113-143858-0060.log",
      "/home/user7/notebooks/.log/20200113/20200113-143910-0335.log",
      "/home/user7/notebooks/.log/20200113/20200113-143936-0145.log",
      "/home/user7/notebooks/.log/20200113/20200113-143951-0322.log",
      "/home/user7/notebooks/.log/20200113/20200113-143957-0528.log",
      "/home/user7/notebooks/.log/20200113/20200113-144026-0642.log",
      "/home/user7/notebooks/.log/20200113/20200113-144043-0479.log"
     ]
    }
   },
   "outputs": [
    {
     "name": "stdout",
     "output_type": "stream",
     "text": [
      "10.46.200.226\n"
     ]
    }
   ],
   "source": [
    "output=!gcloud beta filestore instances describe {filestore_name} --zone {zones[0]} --format json\n",
    "import json\n",
    "while output[0].find('{') == -1:\n",
    "    del output[0]\n",
    "output[0] = \"{\"\n",
    "json_result = json.loads(''.join(output))\n",
    "print(json_result[\"networks\"][0][\"ipAddresses\"][0])\n",
    "filestore_ip=json_result[\"networks\"][0][\"ipAddresses\"][0]"
   ]
  },
  {
   "cell_type": "markdown",
   "metadata": {
    "lc_cell_meme": {
     "current": "8f990742-378d-11ea-b98b-0242ac120006",
     "next": "8f990a1c-378d-11ea-b98b-0242ac120006",
     "previous": "29807908-3612-11ea-bdba-0242ac120004"
    }
   },
   "source": [
    "### DNSレコード追加"
   ]
  },
  {
   "cell_type": "markdown",
   "metadata": {
    "lc_cell_meme": {
     "current": "8f990a1c-378d-11ea-b98b-0242ac120006",
     "next": "29807b38-3612-11ea-bdba-0242ac120004",
     "previous": "8f990742-378d-11ea-b98b-0242ac120006"
    }
   },
   "source": [
    "FileStoreのIPアドレス、ホスト名を登録する。"
   ]
  },
  {
   "cell_type": "code",
   "execution_count": 30,
   "metadata": {
    "lc_cell_meme": {
     "current": "29807b38-3612-11ea-bdba-0242ac120004",
     "execution_end_time": "2020-01-13T14:40:51.924533Z",
     "history": [
      {
       "current": "29807b38-3612-11ea-bdba-0242ac120004",
       "next": "be1e4118-2fa4-11ea-8cf2-0242ac120004",
       "previous": "29807908-3612-11ea-bdba-0242ac120004"
      },
      {
       "current": "29807b38-3612-11ea-bdba-0242ac120004",
       "next": "05acfeb6-2fa5-11ea-8cf2-0242ac120004",
       "previous": "29807908-3612-11ea-bdba-0242ac120004"
      },
      {
       "current": "29807b38-3612-11ea-bdba-0242ac120004",
       "next": "05acfeb6-2fa5-11ea-8cf2-0242ac120004",
       "previous": "8f990a1c-378d-11ea-b98b-0242ac120006"
      },
      {
       "current": "29807b38-3612-11ea-bdba-0242ac120004",
       "next": "d71de6e6-378d-11ea-b98b-0242ac120006",
       "previous": "8f990a1c-378d-11ea-b98b-0242ac120006"
      },
      {
       "current": "29807b38-3612-11ea-bdba-0242ac120004",
       "next": "662e71d4-378e-11ea-b98b-0242ac120006",
       "previous": "8f990a1c-378d-11ea-b98b-0242ac120006"
      }
     ],
     "next": "3cc4c202-378f-11ea-b98b-0242ac120006",
     "previous": "8f990a1c-378d-11ea-b98b-0242ac120006"
    },
    "lc_wrapper": {
     "log_history": [
      "/home/user7/notebooks/.log/20200113/20200113-144047-0317.log"
     ]
    },
    "scrolled": true
   },
   "outputs": [
    {
     "name": "stdout",
     "output_type": "stream",
     "text": [
      "Transaction started [transaction.yaml].\n",
      "Record addition appended to transaction at [transaction.yaml].\n",
      "Executed transaction [transaction.yaml] for managed-zone [topse-private-zone].\n",
      "Created [https://dns.googleapis.com/dns/v1/projects/topse-nagaku/managedZones/topse-private-zone/changes/2].\n",
      "ID  START_TIME                STATUS\n",
      "2   2020-01-13T14:40:51.697Z  pending\n"
     ]
    }
   ],
   "source": [
    "#!gcloud dns record-sets transaction abort --zone={private_zone_name}\n",
    "!gcloud dns record-sets transaction start --zone={private_zone_name}\n",
    "!gcloud dns record-sets transaction add {filestore_ip} --name=nfs.{dns_name} --ttl=300 --type=A --zone={private_zone_name}\n",
    "!gcloud dns record-sets transaction execute --zone={private_zone_name}"
   ]
  },
  {
   "cell_type": "markdown",
   "metadata": {
    "lc_cell_meme": {
     "current": "3cc4c202-378f-11ea-b98b-0242ac120006",
     "history": [
      {
       "current": "3cc4c202-378f-11ea-b98b-0242ac120006",
       "next": "3cc4c2ca-378f-11ea-b98b-0242ac120006",
       "previous": "559aad0a-3618-11ea-bdba-0242ac120004"
      }
     ],
     "next": "3cc4c2ca-378f-11ea-b98b-0242ac120006",
     "previous": "29807b38-3612-11ea-bdba-0242ac120004"
    }
   },
   "source": [
    "# GCPリソース削除"
   ]
  },
  {
   "cell_type": "markdown",
   "metadata": {
    "lc_cell_meme": {
     "current": "3cc4c2ca-378f-11ea-b98b-0242ac120006",
     "next": "c1af15c2-2fd2-11ea-a30b-0242ac120004",
     "previous": "3cc4c202-378f-11ea-b98b-0242ac120006"
    }
   },
   "source": [
    "## Cloud DNS削除"
   ]
  },
  {
   "cell_type": "code",
   "execution_count": 53,
   "metadata": {
    "lc_cell_meme": {
     "current": "c1af15c2-2fd2-11ea-a30b-0242ac120004",
     "execution_end_time": "2020-01-13T15:20:07.049767Z",
     "history": [
      {
       "current": "c1af15c2-2fd2-11ea-a30b-0242ac120004",
       "next": "51db3620-27cd-11ea-a393-0242ac120007",
       "previous": "fa4b035e-2fa6-11ea-8cf2-0242ac120004"
      },
      {
       "current": "c1af15c2-2fd2-11ea-a30b-0242ac120004",
       "next": "51db3620-27cd-11ea-a393-0242ac120007",
       "previous": "559aad0a-3618-11ea-bdba-0242ac120004"
      },
      {
       "current": "c1af15c2-2fd2-11ea-a30b-0242ac120004",
       "next": "3cc4c392-378f-11ea-b98b-0242ac120006",
       "previous": "3cc4c2ca-378f-11ea-b98b-0242ac120006"
      },
      {
       "current": "c1af15c2-2fd2-11ea-a30b-0242ac120004",
       "next": "f5415fbc-378e-11ea-b98b-0242ac120006",
       "previous": "3cc4c2ca-378f-11ea-b98b-0242ac120006"
      }
     ],
     "next": "844b1900-378f-11ea-b98b-0242ac120006",
     "previous": "3cc4c2ca-378f-11ea-b98b-0242ac120006"
    },
    "lc_wrapper": {
     "log_history": [
      "/home/user7/notebooks/.log/20200105/20200105-155023-0334.log",
      "/home/user7/notebooks/.log/20200105/20200105-155038-0771.log",
      "/home/user7/notebooks/.log/20200105/20200105-155053-0489.log",
      "/home/user7/notebooks/.log/20200105/20200105-155128-0470.log",
      "/home/user7/notebooks/.log/20200113/20200113-142952-0922.log",
      "/home/user7/notebooks/.log/20200113/20200113-143024-0437.log",
      "/home/user7/notebooks/.log/20200113/20200113-151957-0233.log"
     ]
    }
   },
   "outputs": [
    {
     "name": "stdout",
     "output_type": "stream",
     "text": [
      "Transaction started [transaction.yaml].\n",
      "Record removal appended to transaction at [transaction.yaml].\n",
      "Record removal appended to transaction at [transaction.yaml].\n",
      "Executed transaction [transaction.yaml] for managed-zone [topse-private-zone].\n",
      "Created [https://dns.googleapis.com/dns/v1/projects/topse-nagaku/managedZones/topse-private-zone/changes/3].\n",
      "ID  START_TIME                STATUS\n",
      "3   2020-01-13T15:20:03.393Z  pending\n",
      "Deleted [https://dns.googleapis.com/dns/v1beta2/projects/topse-nagaku/managedZones/topse-private-zone].\n"
     ]
    }
   ],
   "source": [
    "!gcloud dns record-sets transaction start --zone={private_zone_name}\n",
    "!gcloud dns record-sets transaction remove {cloud_sql_ip} --name=mysql.{dns_name} --ttl=300 --type=A --zone={private_zone_name}\n",
    "!gcloud dns record-sets transaction remove {filestore_ip} --name=nfs.{dns_name} --ttl=300 --type=A --zone={private_zone_name}\n",
    "!gcloud dns record-sets transaction execute --zone={private_zone_name}\n",
    "!gcloud beta dns managed-zones delete {private_zone_name}"
   ]
  },
  {
   "cell_type": "markdown",
   "metadata": {
    "lc_cell_meme": {
     "current": "844b1900-378f-11ea-b98b-0242ac120006",
     "history": [
      {
       "current": "844b1900-378f-11ea-b98b-0242ac120006",
       "next": "844b1b30-378f-11ea-b98b-0242ac120006",
       "previous": "51db3620-27cd-11ea-a393-0242ac120007"
      }
     ],
     "next": "844b1b30-378f-11ea-b98b-0242ac120006",
     "previous": "c1af15c2-2fd2-11ea-a30b-0242ac120004"
    }
   },
   "source": [
    "## FileStore削除"
   ]
  },
  {
   "cell_type": "code",
   "execution_count": null,
   "metadata": {
    "lc_cell_meme": {
     "current": "844b1b30-378f-11ea-b98b-0242ac120006",
     "next": "844b1c20-378f-11ea-b98b-0242ac120006",
     "previous": "844b1900-378f-11ea-b98b-0242ac120006"
    }
   },
   "outputs": [],
   "source": [
    "!gcloud beta filestore instances delete {filestore_name} --zone {zones[0]} --quiet"
   ]
  },
  {
   "cell_type": "markdown",
   "metadata": {
    "lc_cell_meme": {
     "current": "844b1c20-378f-11ea-b98b-0242ac120006",
     "next": "844b1cfc-378f-11ea-b98b-0242ac120006",
     "previous": "844b1b30-378f-11ea-b98b-0242ac120006"
    }
   },
   "source": [
    "## CloudSQL削除"
   ]
  },
  {
   "cell_type": "code",
   "execution_count": null,
   "metadata": {
    "lc_cell_meme": {
     "current": "844b1cfc-378f-11ea-b98b-0242ac120006",
     "history": [
      {
       "current": "844b1cfc-378f-11ea-b98b-0242ac120006",
       "next": "844b1dba-378f-11ea-b98b-0242ac120006",
       "previous": "844b1c20-378f-11ea-b98b-0242ac120006"
      },
      {
       "current": "844b1cfc-378f-11ea-b98b-0242ac120006",
       "next": "f5415fbc-378e-11ea-b98b-0242ac120006",
       "previous": "844b1c20-378f-11ea-b98b-0242ac120006"
      }
     ],
     "next": "e02f60a6-3dce-11ea-8fdf-0242ac120006",
     "previous": "844b1c20-378f-11ea-b98b-0242ac120006"
    }
   },
   "outputs": [],
   "source": [
    "!gcloud sql instances delete {cloud_sql_name} --quiet"
   ]
  },
  {
   "cell_type": "markdown",
   "metadata": {
    "lc_cell_meme": {
     "current": "e02f60a6-3dce-11ea-8fdf-0242ac120006",
     "next": "e02f6268-3dce-11ea-8fdf-0242ac120006",
     "previous": "844b1cfc-378f-11ea-b98b-0242ac120006"
    }
   },
   "source": [
    "## VPC Peering削除"
   ]
  },
  {
   "cell_type": "code",
   "execution_count": null,
   "metadata": {
    "lc_cell_meme": {
     "current": "e02f6268-3dce-11ea-8fdf-0242ac120006",
     "next": "f5415fbc-378e-11ea-b98b-0242ac120006",
     "previous": "e02f60a6-3dce-11ea-8fdf-0242ac120006"
    }
   },
   "outputs": [],
   "source": [
    "!gcloud compute addresses delete {vpc_peering_name} --global --quiet"
   ]
  },
  {
   "cell_type": "markdown",
   "metadata": {
    "lc_cell_meme": {
     "current": "f5415fbc-378e-11ea-b98b-0242ac120006",
     "history": [
      {
       "current": "f5415fbc-378e-11ea-b98b-0242ac120006",
       "next": "b2cbea98-2fa6-11ea-8cf2-0242ac120004",
       "previous": "a3aec122-27cf-11ea-a393-0242ac120007"
      },
      {
       "current": "f5415fbc-378e-11ea-b98b-0242ac120006",
       "next": "b2cbea98-2fa6-11ea-8cf2-0242ac120004",
       "previous": "c1af15c2-2fd2-11ea-a30b-0242ac120004"
      },
      {
       "current": "f5415fbc-378e-11ea-b98b-0242ac120006",
       "next": "b2cbea98-2fa6-11ea-8cf2-0242ac120004",
       "previous": "844b1cfc-378f-11ea-b98b-0242ac120006"
      }
     ],
     "next": "b2cbea98-2fa6-11ea-8cf2-0242ac120004",
     "previous": "e02f6268-3dce-11ea-8fdf-0242ac120006"
    }
   },
   "source": [
    "## Secret削除"
   ]
  },
  {
   "cell_type": "code",
   "execution_count": 48,
   "metadata": {
    "lc_cell_meme": {
     "current": "b2cbea98-2fa6-11ea-8cf2-0242ac120004",
     "execution_end_time": "2020-01-13T15:19:03.272737Z",
     "history": [
      {
       "current": "b2cbea98-2fa6-11ea-8cf2-0242ac120004",
       "next": "b2cbed68-2fa6-11ea-8cf2-0242ac120004",
       "previous": "a3aec122-27cf-11ea-a393-0242ac120007"
      },
      {
       "current": "b2cbea98-2fa6-11ea-8cf2-0242ac120004",
       "next": "fa4b035e-2fa6-11ea-8cf2-0242ac120004",
       "previous": "a3aec122-27cf-11ea-a393-0242ac120007"
      },
      {
       "current": "b2cbea98-2fa6-11ea-8cf2-0242ac120004",
       "next": "f5416084-378e-11ea-b98b-0242ac120006",
       "previous": "f5415fbc-378e-11ea-b98b-0242ac120006"
      }
     ],
     "next": "3cc4c392-378f-11ea-b98b-0242ac120006",
     "previous": "f5415fbc-378e-11ea-b98b-0242ac120006"
    },
    "lc_wrapper": {
     "log_history": [
      "/home/user7/notebooks/.log/20200105/20200105-103520-0963.log",
      "/home/user7/notebooks/.log/20200105/20200105-110555-0332.log",
      "/home/user7/notebooks/.log/20200105/20200105-155015-0239.log",
      "/home/user7/notebooks/.log/20200113/20200113-151901-0438.log"
     ]
    }
   },
   "outputs": [
    {
     "name": "stdout",
     "output_type": "stream",
     "text": [
      "secret \"mysql\" deleted\r\n"
     ]
    }
   ],
   "source": [
    "!kubectl delete secret mysql"
   ]
  },
  {
   "cell_type": "markdown",
   "metadata": {
    "lc_cell_meme": {
     "current": "3cc4c392-378f-11ea-b98b-0242ac120006",
     "history": [
      {
       "current": "3cc4c392-378f-11ea-b98b-0242ac120006",
       "next": "51db3620-27cd-11ea-a393-0242ac120007",
       "previous": "c1af15c2-2fd2-11ea-a30b-0242ac120004"
      }
     ],
     "next": "51db3620-27cd-11ea-a393-0242ac120007",
     "previous": "b2cbea98-2fa6-11ea-8cf2-0242ac120004"
    }
   },
   "source": [
    "## GKE削除"
   ]
  },
  {
   "cell_type": "code",
   "execution_count": 55,
   "metadata": {
    "lc_cell_meme": {
     "current": "51db3620-27cd-11ea-a393-0242ac120007",
     "execution_end_time": "2020-01-13T15:30:43.256279Z",
     "history": [
      {
       "current": "51db3620-27cd-11ea-a393-0242ac120007",
       "next": null,
       "previous": "0a5dada0-27cd-11ea-a393-0242ac120007"
      },
      {
       "current": "51db3620-27cd-11ea-a393-0242ac120007",
       "next": null,
       "previous": "a3aec122-27cf-11ea-a393-0242ac120007"
      },
      {
       "current": "51db3620-27cd-11ea-a393-0242ac120007",
       "next": null,
       "previous": "b2cbed68-2fa6-11ea-8cf2-0242ac120004"
      },
      {
       "current": "51db3620-27cd-11ea-a393-0242ac120007",
       "next": null,
       "previous": "fa4b035e-2fa6-11ea-8cf2-0242ac120004"
      },
      {
       "current": "51db3620-27cd-11ea-a393-0242ac120007",
       "next": null,
       "previous": "c1af15c2-2fd2-11ea-a30b-0242ac120004"
      },
      {
       "current": "51db3620-27cd-11ea-a393-0242ac120007",
       "next": null,
       "previous": "3cc4c392-378f-11ea-b98b-0242ac120006"
      },
      {
       "current": "51db3620-27cd-11ea-a393-0242ac120007",
       "next": "844b1900-378f-11ea-b98b-0242ac120006",
       "previous": "3cc4c392-378f-11ea-b98b-0242ac120006"
      }
     ],
     "next": "844b1dba-378f-11ea-b98b-0242ac120006",
     "previous": "3cc4c392-378f-11ea-b98b-0242ac120006"
    },
    "lc_wrapper": {
     "log_history": [
      "/home/user7/notebooks/.log/20191226/20191226-105807-0475.log",
      "/home/user7/notebooks/.log/20191226/20191226-105826-0710.log",
      "/home/user7/notebooks/.log/20191226/20191226-105846-0705.log",
      "/home/user7/notebooks/.log/20191226/20191226-105856-0835.log",
      "/home/user7/notebooks/.log/20191226/20191226-123836-0434.log",
      "/home/user7/notebooks/.log/20191226/20191226-123918-0060.log",
      "/home/user7/notebooks/.log/20200105/20200105-065507-0497.log",
      "/home/user7/notebooks/.log/20200105/20200105-070905-0445.log",
      "/home/user7/notebooks/.log/20200105/20200105-071505-0058.log",
      "/home/user7/notebooks/.log/20200105/20200105-074810-0934.log",
      "/home/user7/notebooks/.log/20200105/20200105-075939-0090.log",
      "/home/user7/notebooks/.log/20200105/20200105-082202-0543.log",
      "/home/user7/notebooks/.log/20200105/20200105-085130-0241.log",
      "/home/user7/notebooks/.log/20200105/20200105-102518-0686.log",
      "/home/user7/notebooks/.log/20200105/20200105-110619-0625.log",
      "/home/user7/notebooks/.log/20200105/20200105-155154-0651.log",
      "/home/user7/notebooks/.log/20200113/20200113-152008-0978.log",
      "/home/user7/notebooks/.log/20200113/20200113-152701-0930.log"
     ]
    }
   },
   "outputs": [
    {
     "name": "stdout",
     "output_type": "stream",
     "text": [
      "Waiting for [operation-1578929223330-59c071b7b692f-62ed182f-b74db7db] to finish\n",
      "...done.                                                                       \n",
      "Deleting Cloud SQL instance...done.                                            \n",
      "Deleted [https://www.googleapis.com/sql/v1beta4/projects/topse-nagaku/instances/topse-wordpress-mysql-03].\n",
      "Deleted [https://www.googleapis.com/compute/v1/projects/topse-nagaku/global/firewalls/topse-vpc-ssh-ingress].\n",
      "Deleted [https://www.googleapis.com/compute/v1/projects/topse-nagaku/global/firewalls/topse-vpc-mysql-ingress].\n",
      "Deleted [https://www.googleapis.com/compute/v1/projects/topse-nagaku/regions/us-west1/subnetworks/topse-subnet].\n"
     ]
    }
   ],
   "source": [
    "!gcloud container clusters delete {cluster_name} --region {region} --quiet"
   ]
  },
  {
   "cell_type": "markdown",
   "metadata": {
    "lc_cell_meme": {
     "current": "844b1dba-378f-11ea-b98b-0242ac120006",
     "history": [
      {
       "current": "844b1dba-378f-11ea-b98b-0242ac120006",
       "next": "844b1e82-378f-11ea-b98b-0242ac120006",
       "previous": "844b1cfc-378f-11ea-b98b-0242ac120006"
      }
     ],
     "next": "844b1e82-378f-11ea-b98b-0242ac120006",
     "previous": "51db3620-27cd-11ea-a393-0242ac120007"
    }
   },
   "source": [
    "## ファイアーウォールルール削除"
   ]
  },
  {
   "cell_type": "code",
   "execution_count": null,
   "metadata": {
    "lc_cell_meme": {
     "current": "844b1e82-378f-11ea-b98b-0242ac120006",
     "next": "844b1f4a-378f-11ea-b98b-0242ac120006",
     "previous": "844b1dba-378f-11ea-b98b-0242ac120006"
    }
   },
   "outputs": [],
   "source": [
    "!gcloud compute firewall-rules delete {vpc_name}-ssh-ingress --quiet\n",
    "!gcloud compute firewall-rules delete {vpc_name}-mysql-ingress --quiet"
   ]
  },
  {
   "cell_type": "markdown",
   "metadata": {
    "lc_cell_meme": {
     "current": "844b1f4a-378f-11ea-b98b-0242ac120006",
     "next": "844b2008-378f-11ea-b98b-0242ac120006",
     "previous": "844b1e82-378f-11ea-b98b-0242ac120006"
    }
   },
   "source": [
    "## サブネット削除"
   ]
  },
  {
   "cell_type": "code",
   "execution_count": null,
   "metadata": {
    "lc_cell_meme": {
     "current": "844b2008-378f-11ea-b98b-0242ac120006",
     "history": [
      {
       "current": "844b2008-378f-11ea-b98b-0242ac120006",
       "next": null,
       "previous": "844b1f4a-378f-11ea-b98b-0242ac120006"
      }
     ],
     "next": "bbf5cb20-378f-11ea-b98b-0242ac120006",
     "previous": "844b1f4a-378f-11ea-b98b-0242ac120006"
    }
   },
   "outputs": [],
   "source": [
    "!gcloud compute networks subnets delete {subnet_name} --region={region} --quiet"
   ]
  },
  {
   "cell_type": "markdown",
   "metadata": {
    "lc_cell_meme": {
     "current": "bbf5cb20-378f-11ea-b98b-0242ac120006",
     "next": "bbf5cd50-378f-11ea-b98b-0242ac120006",
     "previous": "844b2008-378f-11ea-b98b-0242ac120006"
    }
   },
   "source": [
    "## VPC削除"
   ]
  },
  {
   "cell_type": "code",
   "execution_count": null,
   "metadata": {
    "lc_cell_meme": {
     "current": "bbf5cd50-378f-11ea-b98b-0242ac120006",
     "next": null,
     "previous": "bbf5cb20-378f-11ea-b98b-0242ac120006"
    }
   },
   "outputs": [],
   "source": [
    "!gcloud compute networks delete {vpc_name} --quiet"
   ]
  }
 ],
 "metadata": {
  "kernelspec": {
   "display_name": "Python 3",
   "language": "python",
   "name": "python3"
  },
  "language_info": {
   "file_extension": ".py",
   "mimetype": "text/x-python",
   "name": "python",
   "nbconvert_exporter": "python",
   "pygments_lexer": "ipython3",
   "version": "3.7.3"
  },
  "lc_notebook_meme": {
   "current": "0a5da80a-27cd-11ea-a393-0242ac120007",
   "lc_server_signature": {
    "current": {
     "notebook_dir": "/home/user4/notebooks",
     "notebook_path": "/seminar-lc4ri/git/notebooks",
     "server_url": "https://operationhub.kgr-lab.com/user/user4/",
     "signature_id": "ae27fcb2-043f-11ea-b29c-0242ac120002"
    },
    "history": [
     {
      "notebook_dir": "/home/user7/notebooks",
      "notebook_path": "/",
      "server_url": "https://operationhub.kgr-lab.com/user/user7/",
      "signature_id": "ae27fcb2-043f-11ea-b29c-0242ac120002"
     },
     {
      "notebook_dir": "/home/user4/notebooks",
      "notebook_path": "/",
      "server_url": "https://operationhub.kgr-lab.com/user/user4/",
      "signature_id": "ae27fcb2-043f-11ea-b29c-0242ac120002"
     }
    ]
   }
  },
  "toc": {
   "base_numbering": 1,
   "nav_menu": {},
   "number_sections": true,
   "sideBar": true,
   "skip_h1_title": false,
   "title_cell": "Table of Contents",
   "title_sidebar": "Contents",
   "toc_cell": false,
   "toc_position": {},
   "toc_section_display": true,
   "toc_window_display": true
  }
 },
 "nbformat": 4,
 "nbformat_minor": 2
}
