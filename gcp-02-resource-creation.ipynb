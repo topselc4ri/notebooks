{
 "cells": [
  {
   "cell_type": "code",
   "execution_count": 1,
   "metadata": {
    "deletable": false,
    "editable": false,
    "lc_cell_meme": {
     "current": "fcab4348-4fc7-11ea-a82e-0242ac120004",
     "execution_end_time": "2020-02-15T11:26:36.662717Z",
     "next": "a639387c-3789-11ea-b98b-0242ac120006",
     "previous": null
    },
    "lc_wrapper": {
     "log_history": [
      "/home/user4/notebooks/seminar-lc4ri/git/notebooks/.log/20200215/20200215-090756-0655.log",
      "/home/user4/notebooks/seminar-lc4ri/notebooks/.log/20200215/20200215-112635-0672.log"
     ]
    },
    "run_through_control": {
     "frozen": true
    }
   },
   "outputs": [
    {
     "name": "stdout",
     "output_type": "stream",
     "text": [
      "Sat Feb 15 11:26:36 UTC 2020\r\n"
     ]
    }
   ],
   "source": [
    "!date"
   ]
  },
  {
   "cell_type": "markdown",
   "metadata": {
    "lc_cell_meme": {
     "current": "a639387c-3789-11ea-b98b-0242ac120006",
     "history": [
      {
       "current": "a639387c-3789-11ea-b98b-0242ac120006",
       "next": "0a5dac4c-27cd-11ea-a393-0242ac120007",
       "previous": null
      }
     ],
     "next": "0a5dac4c-27cd-11ea-a393-0242ac120007",
     "previous": "fcab4348-4fc7-11ea-a82e-0242ac120004"
    }
   },
   "source": [
    "# リソース構築"
   ]
  },
  {
   "cell_type": "code",
   "execution_count": 2,
   "metadata": {
    "deletable": false,
    "editable": false,
    "lc_cell_meme": {
     "current": "0a5dac4c-27cd-11ea-a393-0242ac120007",
     "execution_end_time": "2020-02-15T11:26:36.681514Z",
     "history": [
      {
       "current": "0a5dac4c-27cd-11ea-a393-0242ac120007",
       "next": "0a5dada0-27cd-11ea-a393-0242ac120007",
       "previous": null
      },
      {
       "current": "0a5dac4c-27cd-11ea-a393-0242ac120007",
       "next": "94aacc38-2fa5-11ea-8cf2-0242ac120004",
       "previous": null
      },
      {
       "current": "0a5dac4c-27cd-11ea-a393-0242ac120007",
       "next": "0a5dada0-27cd-11ea-a393-0242ac120007",
       "previous": "94aacc38-2fa5-11ea-8cf2-0242ac120004"
      },
      {
       "current": "0a5dac4c-27cd-11ea-a393-0242ac120007",
       "next": "94aacc38-2fa5-11ea-8cf2-0242ac120004",
       "previous": null
      },
      {
       "current": "0a5dac4c-27cd-11ea-a393-0242ac120007",
       "next": "0a5dada0-27cd-11ea-a393-0242ac120007",
       "previous": null
      },
      {
       "current": "0a5dac4c-27cd-11ea-a393-0242ac120007",
       "next": "0a5dada0-27cd-11ea-a393-0242ac120007",
       "previous": "a639387c-3789-11ea-b98b-0242ac120006"
      },
      {
       "current": "0a5dac4c-27cd-11ea-a393-0242ac120007",
       "next": "edc6e194-3789-11ea-b98b-0242ac120006",
       "previous": "a639387c-3789-11ea-b98b-0242ac120006"
      },
      {
       "current": "0a5dac4c-27cd-11ea-a393-0242ac120007",
       "next": "3548ae9e-378a-11ea-b98b-0242ac120006",
       "previous": "a639387c-3789-11ea-b98b-0242ac120006"
      },
      {
       "current": "0a5dac4c-27cd-11ea-a393-0242ac120007",
       "next": "83b9aac4-4fd6-11ea-a82e-0242ac120004",
       "previous": "a639387c-3789-11ea-b98b-0242ac120006"
      }
     ],
     "next": "3548ae9e-378a-11ea-b98b-0242ac120006",
     "previous": "a639387c-3789-11ea-b98b-0242ac120006"
    },
    "lc_wrapper": {
     "log_history": [
      "/home/user7/notebooks/.log/20191226/20191226-104722-0975.log",
      "/home/user7/notebooks/.log/20191226/20191226-110131-0465.log",
      "/home/user7/notebooks/.log/20191226/20191226-110417-0065.log",
      "/home/user7/notebooks/.log/20200105/20200105-061613-0928.log",
      "/home/user7/notebooks/.log/20200105/20200105-071017-0677.log",
      "/home/user7/notebooks/.log/20200105/20200105-071929-0780.log",
      "/home/user7/notebooks/.log/20200105/20200105-073601-0045.log",
      "/home/user7/notebooks/.log/20200105/20200105-080005-0715.log",
      "/home/user7/notebooks/.log/20200105/20200105-084311-0190.log",
      "/home/user7/notebooks/.log/20200105/20200105-103714-0519.log",
      "/home/user7/notebooks/.log/20200105/20200105-150901-0990.log",
      "/home/user7/notebooks/.log/20200105/20200105-150920-0957.log",
      "/home/user7/notebooks/.log/20200113/20200113-141114-0811.log",
      "/home/user4/notebooks/seminar-lc4ri/git/notebooks/.log/20200214/20200214-112755-0089.log",
      "/home/user4/notebooks/seminar-lc4ri/git/notebooks/.log/20200214/20200214-112839-0391.log",
      "/home/user4/notebooks/seminar-lc4ri/git/notebooks/.log/20200214/20200214-112852-0388.log",
      "/home/user4/notebooks/seminar-lc4ri/git/notebooks/.log/20200214/20200214-112910-0699.log",
      "/home/user4/notebooks/seminar-lc4ri/git/notebooks/.log/20200214/20200214-112931-0792.log",
      "/home/user4/notebooks/seminar-lc4ri/git/notebooks/.log/20200214/20200214-113202-0753.log",
      "/home/user4/notebooks/seminar-lc4ri/git/notebooks/.log/20200214/20200214-120407-0694.log",
      "/home/user4/notebooks/seminar-lc4ri/git/notebooks/.log/20200215/20200215-090809-0921.log",
      "/home/user4/notebooks/seminar-lc4ri/git/notebooks/.log/20200215/20200215-094318-0095.log",
      "/home/user4/notebooks/seminar-lc4ri/notebooks/.log/20200215/20200215-112636-0670.log"
     ]
    },
    "run_through_control": {
     "frozen": true
    }
   },
   "outputs": [],
   "source": [
    "import json\n",
    "import datetime\n",
    "\n",
    "# VPC\n",
    "vpc_name=\"topse-vpc\"\n",
    "subnet_name=\"topse-subnet\"\n",
    "region=\"us-west1\"\n",
    "ip_range=\"10.1.0.0/20\"\n",
    "\n",
    "# GKE\n",
    "cluster_name = \"topse-cluster\"\n",
    "zones = [\"us-west1-a\",\"us-west1-b\"]\n",
    "\n",
    "# VPC Peering\n",
    "vpc_peering_name=\"topse-vpc-peering\"\n",
    "\n",
    "# Cloud SQL\n",
    "#  need to change instance name uniquely even if instance is deleted. The instance name is remaining for a while\n",
    "suffix = format(datetime.datetime.now(), '%Y%m%d%H%M%S')\n",
    "cloud_sql_name = \"topse-wordpress-mysql-\" + suffix\n",
    "database_version = \"MYSQL_5_7\"\n",
    "root_password = \"8sg3jJguHLq8KjNk\"\n",
    "cloud_sql_ip=\"\"\n",
    "\n",
    "# Cloud DNS\n",
    "private_zone_name=\"topse-private-zone\"\n",
    "dns_name=\"topse.private.\"\n",
    "\n",
    "# FileStore\n",
    "filestore_name=\"nfs-server\"\n",
    "volume_capacity=\"1TB\"\n",
    "filestore_ip=\"\""
   ]
  },
  {
   "cell_type": "markdown",
   "metadata": {
    "lc_cell_meme": {
     "current": "3548ae9e-378a-11ea-b98b-0242ac120006",
     "history": [
      {
       "current": "3548ae9e-378a-11ea-b98b-0242ac120006",
       "next": "3548b0d8-378a-11ea-b98b-0242ac120006",
       "previous": "0a5dac4c-27cd-11ea-a393-0242ac120007"
      },
      {
       "current": "3548ae9e-378a-11ea-b98b-0242ac120006",
       "next": "3548b0d8-378a-11ea-b98b-0242ac120006",
       "previous": "83b9aac4-4fd6-11ea-a82e-0242ac120004"
      }
     ],
     "next": "3548b0d8-378a-11ea-b98b-0242ac120006",
     "previous": "0a5dac4c-27cd-11ea-a393-0242ac120007"
    }
   },
   "source": [
    "## VPC作成"
   ]
  },
  {
   "cell_type": "code",
   "execution_count": 3,
   "metadata": {
    "deletable": false,
    "editable": false,
    "lc_cell_meme": {
     "current": "3548b0d8-378a-11ea-b98b-0242ac120006",
     "execution_end_time": "2020-02-15T11:26:55.495806Z",
     "next": "edc6e194-3789-11ea-b98b-0242ac120006",
     "previous": "3548ae9e-378a-11ea-b98b-0242ac120006"
    },
    "lc_wrapper": {
     "log_history": [
      "/home/user4/notebooks/seminar-lc4ri/git/notebooks/.log/20200214/20200214-120407-0721.log",
      "/home/user4/notebooks/seminar-lc4ri/git/notebooks/.log/20200215/20200215-090809-0951.log",
      "/home/user4/notebooks/seminar-lc4ri/notebooks/.log/20200215/20200215-112636-0691.log"
     ]
    },
    "run_through_control": {
     "frozen": true
    }
   },
   "outputs": [
    {
     "name": "stdout",
     "output_type": "stream",
     "text": [
      "Created [https://www.googleapis.com/compute/v1/projects/topse-nagaku/global/networks/topse-vpc].\n",
      "NAME       SUBNET_MODE  BGP_ROUTING_MODE  IPV4_RANGE  GATEWAY_IPV4\n",
      "topse-vpc  CUSTOM       REGIONAL\n",
      "\n",
      "Instances on this network will not be reachable until firewall rules\n",
      "are created. As an example, you can allow all internal traffic between\n",
      "instances as well as SSH, RDP, and ICMP by running:\n",
      "\n",
      "$ gcloud compute firewall-rules create <FIREWALL_NAME> --network topse-vpc --allow tcp,udp,icmp --source-ranges <IP_RANGE>\n",
      "$ gcloud compute firewall-rules create <FIREWALL_NAME> --network topse-vpc --allow tcp:22,tcp:3389,icmp\n",
      "\n"
     ]
    }
   ],
   "source": [
    "!gcloud compute networks create {vpc_name} --description=\"topse custom network\" --subnet-mode=custom"
   ]
  },
  {
   "cell_type": "markdown",
   "metadata": {
    "lc_cell_meme": {
     "current": "edc6e194-3789-11ea-b98b-0242ac120006",
     "history": [
      {
       "current": "edc6e194-3789-11ea-b98b-0242ac120006",
       "next": "0a5dada0-27cd-11ea-a393-0242ac120007",
       "previous": "0a5dac4c-27cd-11ea-a393-0242ac120007"
      }
     ],
     "next": "0a5dada0-27cd-11ea-a393-0242ac120007",
     "previous": "3548b0d8-378a-11ea-b98b-0242ac120006"
    }
   },
   "source": [
    "## サブネット作成"
   ]
  },
  {
   "cell_type": "code",
   "execution_count": 4,
   "metadata": {
    "deletable": false,
    "editable": false,
    "lc_cell_meme": {
     "current": "0a5dada0-27cd-11ea-a393-0242ac120007",
     "execution_end_time": "2020-02-15T11:27:20.346954Z",
     "history": [
      {
       "current": "0a5dada0-27cd-11ea-a393-0242ac120007",
       "next": null,
       "previous": "0a5dac4c-27cd-11ea-a393-0242ac120007"
      },
      {
       "current": "0a5dada0-27cd-11ea-a393-0242ac120007",
       "next": "51db3620-27cd-11ea-a393-0242ac120007",
       "previous": "0a5dac4c-27cd-11ea-a393-0242ac120007"
      },
      {
       "current": "0a5dada0-27cd-11ea-a393-0242ac120007",
       "next": "a3aec122-27cf-11ea-a393-0242ac120007",
       "previous": "0a5dac4c-27cd-11ea-a393-0242ac120007"
      },
      {
       "current": "0a5dada0-27cd-11ea-a393-0242ac120007",
       "next": "e8417b7e-27d2-11ea-a393-0242ac120007",
       "previous": "0a5dac4c-27cd-11ea-a393-0242ac120007"
      },
      {
       "current": "0a5dada0-27cd-11ea-a393-0242ac120007",
       "next": "f7185a20-2f87-11ea-8cf2-0242ac120004",
       "previous": "0a5dac4c-27cd-11ea-a393-0242ac120007"
      },
      {
       "current": "0a5dada0-27cd-11ea-a393-0242ac120007",
       "next": "f7185a20-2f87-11ea-8cf2-0242ac120004",
       "previous": "94aacc38-2fa5-11ea-8cf2-0242ac120004"
      },
      {
       "current": "0a5dada0-27cd-11ea-a393-0242ac120007",
       "next": "f7185a20-2f87-11ea-8cf2-0242ac120004",
       "previous": "0a5dac4c-27cd-11ea-a393-0242ac120007"
      },
      {
       "current": "0a5dada0-27cd-11ea-a393-0242ac120007",
       "next": "f7185a20-2f87-11ea-8cf2-0242ac120004",
       "previous": "94aacc38-2fa5-11ea-8cf2-0242ac120004"
      },
      {
       "current": "0a5dada0-27cd-11ea-a393-0242ac120007",
       "next": "f7185a20-2f87-11ea-8cf2-0242ac120004",
       "previous": "0a5dac4c-27cd-11ea-a393-0242ac120007"
      },
      {
       "current": "0a5dada0-27cd-11ea-a393-0242ac120007",
       "next": "f7185a20-2f87-11ea-8cf2-0242ac120004",
       "previous": "edc6e194-3789-11ea-b98b-0242ac120006"
      }
     ],
     "next": "7ccd5b34-378a-11ea-b98b-0242ac120006",
     "previous": "edc6e194-3789-11ea-b98b-0242ac120006"
    },
    "lc_wrapper": {
     "log_history": [
      "/home/user7/notebooks/.log/20191226/20191226-104736-0190.log",
      "/home/user7/notebooks/.log/20191226/20191226-104748-0674.log",
      "/home/user7/notebooks/.log/20191226/20191226-110421-0074.log",
      "/home/user7/notebooks/.log/20200105/20200105-061617-0213.log",
      "/home/user7/notebooks/.log/20200105/20200105-061625-0676.log",
      "/home/user7/notebooks/.log/20200105/20200105-084312-0852.log",
      "/home/user7/notebooks/.log/20200105/20200105-151023-0105.log",
      "/home/user7/notebooks/.log/20200113/20200113-141116-0302.log",
      "/home/user4/notebooks/seminar-lc4ri/git/notebooks/.log/20200214/20200214-120421-0542.log",
      "/home/user4/notebooks/seminar-lc4ri/git/notebooks/.log/20200215/20200215-090829-0122.log",
      "/home/user4/notebooks/seminar-lc4ri/notebooks/.log/20200215/20200215-112655-0504.log"
     ]
    },
    "pinned_outputs": [],
    "run_through_control": {
     "frozen": true
    }
   },
   "outputs": [
    {
     "name": "stdout",
     "output_type": "stream",
     "text": [
      "Created [https://www.googleapis.com/compute/v1/projects/topse-nagaku/regions/us-west1/subnetworks/topse-subnet].\n",
      "NAME          REGION    NETWORK    RANGE\n",
      "topse-subnet  us-west1  topse-vpc  10.1.0.0/20\n"
     ]
    }
   ],
   "source": [
    "!gcloud compute networks subnets create {subnet_name} --network={vpc_name} --region={region} --range={ip_range}"
   ]
  },
  {
   "cell_type": "markdown",
   "metadata": {
    "lc_cell_meme": {
     "current": "7ccd5b34-378a-11ea-b98b-0242ac120006",
     "execution_end_time": "2020-01-15T11:29:32.031290Z",
     "next": "f7185a20-2f87-11ea-8cf2-0242ac120004",
     "previous": "0a5dada0-27cd-11ea-a393-0242ac120007"
    },
    "lc_wrapper": {
     "log_history": [
      "/home/user4/notebooks/.log/20200115/20200115-112932-0015.log"
     ]
    }
   },
   "source": [
    "## ファイアウォールルール作成"
   ]
  },
  {
   "cell_type": "code",
   "execution_count": 5,
   "metadata": {
    "deletable": false,
    "editable": false,
    "lc_cell_meme": {
     "current": "f7185a20-2f87-11ea-8cf2-0242ac120004",
     "execution_end_time": "2020-02-15T11:27:39.306094Z",
     "history": [
      {
       "current": "f7185a20-2f87-11ea-8cf2-0242ac120004",
       "next": "e8417b7e-27d2-11ea-a393-0242ac120007",
       "previous": "0a5dada0-27cd-11ea-a393-0242ac120007"
      },
      {
       "current": "f7185a20-2f87-11ea-8cf2-0242ac120004",
       "next": "7ccd5daa-378a-11ea-b98b-0242ac120006",
       "previous": "7ccd5b34-378a-11ea-b98b-0242ac120006"
      }
     ],
     "next": "5107d872-3dce-11ea-8fdf-0242ac120006",
     "previous": "7ccd5b34-378a-11ea-b98b-0242ac120006"
    },
    "lc_wrapper": {
     "log_history": [
      "/home/user7/notebooks/.log/20200105/20200105-065247-0958.log",
      "/home/user7/notebooks/.log/20200105/20200105-065302-0652.log",
      "/home/user7/notebooks/.log/20200105/20200105-071034-0817.log",
      "/home/user7/notebooks/.log/20200105/20200105-071057-0156.log",
      "/home/user7/notebooks/.log/20200105/20200105-071106-0938.log",
      "/home/user7/notebooks/.log/20200105/20200105-071208-0779.log",
      "/home/user7/notebooks/.log/20200105/20200105-071934-0856.log",
      "/home/user7/notebooks/.log/20200105/20200105-080010-0809.log",
      "/home/user7/notebooks/.log/20200105/20200105-084333-0781.log",
      "/home/user7/notebooks/.log/20200105/20200105-151120-0911.log",
      "/home/user7/notebooks/.log/20200113/20200113-141121-0978.log",
      "/home/user4/notebooks/seminar-lc4ri/git/notebooks/.log/20200214/20200214-120446-0444.log",
      "/home/user4/notebooks/seminar-lc4ri/git/notebooks/.log/20200215/20200215-090848-0938.log",
      "/home/user4/notebooks/seminar-lc4ri/notebooks/.log/20200215/20200215-112720-0355.log"
     ]
    },
    "run_through_control": {
     "frozen": true
    },
    "scrolled": false
   },
   "outputs": [
    {
     "name": "stdout",
     "output_type": "stream",
     "text": [
      "Creating firewall...⠧Created [https://www.googleapis.com/compute/v1/projects/topse-nagaku/global/firewalls/topse-vpc-ssh-ingress].\n",
      "Creating firewall...done.                                                      \n",
      "NAME                   NETWORK    DIRECTION  PRIORITY  ALLOW   DENY  DISABLED\n",
      "topse-vpc-ssh-ingress  topse-vpc  INGRESS    1000      tcp:22        False\n",
      "Creating firewall...⠧Created [https://www.googleapis.com/compute/v1/projects/topse-nagaku/global/firewalls/topse-vpc-mysql-ingress].\n",
      "Creating firewall...done.                                                      \n",
      "NAME                     NETWORK    DIRECTION  PRIORITY  ALLOW     DENY  DISABLED\n",
      "topse-vpc-mysql-ingress  topse-vpc  INGRESS    1000      tcp:3306        False\n"
     ]
    }
   ],
   "source": [
    "!gcloud compute firewall-rules create {vpc_name}-ssh-ingress --description=\"general firewall to allow ssh for all instances in {vpc_name}\" \\\n",
    "--direction=INGRESS --priority=1000 --network={vpc_name} --action=ALLOW --rules=tcp:22\n",
    "!gcloud compute firewall-rules create {vpc_name}-mysql-ingress --description=\"firewall to allow mysql for wordpress instances in {vpc_name}\" \\\n",
    "--direction=INGRESS --priority=1000 --network={vpc_name} --action=ALLOW --rules=tcp:3306 --source-ranges={ip_range}"
   ]
  },
  {
   "cell_type": "markdown",
   "metadata": {
    "lc_cell_meme": {
     "current": "5107d872-3dce-11ea-8fdf-0242ac120006",
     "history": [
      {
       "current": "5107d872-3dce-11ea-8fdf-0242ac120006",
       "next": "5107daca-3dce-11ea-8fdf-0242ac120006",
       "previous": "94aacc38-2fa5-11ea-8cf2-0242ac120004"
      },
      {
       "current": "5107d872-3dce-11ea-8fdf-0242ac120006",
       "next": "5107dc8c-3dce-11ea-8fdf-0242ac120006",
       "previous": "94aacc38-2fa5-11ea-8cf2-0242ac120004"
      },
      {
       "current": "5107d872-3dce-11ea-8fdf-0242ac120006",
       "next": "5107dc8c-3dce-11ea-8fdf-0242ac120006",
       "previous": "f7185a20-2f87-11ea-8cf2-0242ac120004"
      }
     ],
     "next": "5107dd54-3dce-11ea-8fdf-0242ac120006",
     "previous": "f7185a20-2f87-11ea-8cf2-0242ac120004"
    }
   },
   "source": [
    "## VPC Peering作成"
   ]
  },
  {
   "cell_type": "code",
   "execution_count": 6,
   "metadata": {
    "deletable": false,
    "editable": false,
    "lc_cell_meme": {
     "current": "5107dd54-3dce-11ea-8fdf-0242ac120006",
     "execution_end_time": "2020-02-15T11:27:45.761165Z",
     "history": [
      {
       "current": "5107dd54-3dce-11ea-8fdf-0242ac120006",
       "next": "c45b0a46-378a-11ea-b98b-0242ac120006",
       "previous": "5107dc8c-3dce-11ea-8fdf-0242ac120006"
      },
      {
       "current": "5107dd54-3dce-11ea-8fdf-0242ac120006",
       "next": "31fa5eb8-4356-11ea-ab68-0242ac120005",
       "previous": "5107dc8c-3dce-11ea-8fdf-0242ac120006"
      }
     ],
     "next": "31fa5eb8-4356-11ea-ab68-0242ac120005",
     "previous": "5107d872-3dce-11ea-8fdf-0242ac120006"
    },
    "lc_wrapper": {
     "log_history": [
      "/home/user4/notebooks/seminar-lc4ri/git/notebooks/.log/20200214/20200214-120502-0010.log",
      "/home/user4/notebooks/seminar-lc4ri/git/notebooks/.log/20200215/20200215-090912-0617.log",
      "/home/user4/notebooks/seminar-lc4ri/notebooks/.log/20200215/20200215-112739-0314.log"
     ]
    },
    "run_through_control": {
     "frozen": true
    }
   },
   "outputs": [
    {
     "name": "stdout",
     "output_type": "stream",
     "text": [
      "Created [https://www.googleapis.com/compute/v1/projects/topse-nagaku/global/addresses/topse-vpc-peering].\r\n"
     ]
    }
   ],
   "source": [
    "!gcloud compute addresses create {vpc_peering_name} \\\n",
    "    --global \\\n",
    "    --purpose=VPC_PEERING \\\n",
    "    --prefix-length=16 \\\n",
    "    --description=\"for VPC peering to gcp service\" \\\n",
    "    --network={vpc_name}"
   ]
  },
  {
   "cell_type": "markdown",
   "metadata": {
    "lc_cell_meme": {
     "current": "31fa5eb8-4356-11ea-ab68-0242ac120005",
     "history": [
      {
       "current": "31fa5eb8-4356-11ea-ab68-0242ac120005",
       "next": "31fa612e-4356-11ea-ab68-0242ac120005",
       "previous": "5107dd54-3dce-11ea-8fdf-0242ac120006"
      },
      {
       "current": "31fa5eb8-4356-11ea-ab68-0242ac120005",
       "next": "7ccd5daa-378a-11ea-b98b-0242ac120006",
       "previous": "5107dd54-3dce-11ea-8fdf-0242ac120006"
      }
     ],
     "next": "31fa612e-4356-11ea-ab68-0242ac120005",
     "previous": "5107dd54-3dce-11ea-8fdf-0242ac120006"
    }
   },
   "source": [
    "以下の gcloud services vpc-peerings update がエラーになった場合、エラーメッセージの案内に従って、[APIとサービス] からCloud Resource Manager APIを有効にする。"
   ]
  },
  {
   "cell_type": "code",
   "execution_count": 7,
   "metadata": {
    "deletable": false,
    "editable": false,
    "lc_cell_meme": {
     "current": "31fa612e-4356-11ea-ab68-0242ac120005",
     "execution_end_time": "2020-02-15T11:28:34.288569Z",
     "history": [
      {
       "current": "31fa612e-4356-11ea-ab68-0242ac120005",
       "next": "c45b0a46-378a-11ea-b98b-0242ac120006",
       "previous": "31fa5eb8-4356-11ea-ab68-0242ac120005"
      }
     ],
     "next": "7ccd5daa-378a-11ea-b98b-0242ac120006",
     "previous": "31fa5eb8-4356-11ea-ab68-0242ac120005"
    },
    "lc_wrapper": {
     "log_history": [
      "/home/user4/notebooks/seminar-lc4ri/git/notebooks/.log/20200214/20200214-120508-0298.log",
      "/home/user4/notebooks/seminar-lc4ri/git/notebooks/.log/20200215/20200215-090919-0099.log",
      "/home/user4/notebooks/seminar-lc4ri/notebooks/.log/20200215/20200215-112745-0768.log"
     ]
    },
    "run_through_control": {
     "frozen": true
    }
   },
   "outputs": [
    {
     "name": "stdout",
     "output_type": "stream",
     "text": [
      "Operation \"operations/pssn.e3de7fd5-b7ae-4a7d-99e1-37a1f0dcc8e6\" finished successfully.\r\n"
     ]
    }
   ],
   "source": [
    "!gcloud services vpc-peerings update \\\n",
    "    --service=servicenetworking.googleapis.com \\\n",
    "    --ranges={vpc_peering_name} --network={vpc_name} \\\n",
    "    --force --quiet"
   ]
  },
  {
   "cell_type": "markdown",
   "metadata": {
    "lc_cell_meme": {
     "current": "7ccd5daa-378a-11ea-b98b-0242ac120006",
     "history": [
      {
       "current": "7ccd5daa-378a-11ea-b98b-0242ac120006",
       "next": "e8417b7e-27d2-11ea-a393-0242ac120007",
       "previous": "f7185a20-2f87-11ea-8cf2-0242ac120004"
      },
      {
       "current": "7ccd5daa-378a-11ea-b98b-0242ac120006",
       "next": "e8417b7e-27d2-11ea-a393-0242ac120007",
       "previous": "31fa5eb8-4356-11ea-ab68-0242ac120005"
      },
      {
       "current": "7ccd5daa-378a-11ea-b98b-0242ac120006",
       "next": "e8417b7e-27d2-11ea-a393-0242ac120007",
       "previous": "31fa612e-4356-11ea-ab68-0242ac120005"
      },
      {
       "current": "7ccd5daa-378a-11ea-b98b-0242ac120006",
       "next": "b870230e-4fd3-11ea-a82e-0242ac120004",
       "previous": "31fa612e-4356-11ea-ab68-0242ac120005"
      }
     ],
     "next": "e8417b7e-27d2-11ea-a393-0242ac120007",
     "previous": "31fa612e-4356-11ea-ab68-0242ac120005"
    }
   },
   "source": [
    "# GKEクラスタの構築(Kubernatesクラスタ)"
   ]
  },
  {
   "cell_type": "code",
   "execution_count": 8,
   "metadata": {
    "deletable": false,
    "editable": false,
    "lc_cell_meme": {
     "current": "e8417b7e-27d2-11ea-a393-0242ac120007",
     "execution_end_time": "2020-02-15T11:32:21.298854Z",
     "history": [
      {
       "current": "e8417b7e-27d2-11ea-a393-0242ac120007",
       "next": "a3aec122-27cf-11ea-a393-0242ac120007",
       "previous": "0a5dada0-27cd-11ea-a393-0242ac120007"
      },
      {
       "current": "e8417b7e-27d2-11ea-a393-0242ac120007",
       "next": "a3aec122-27cf-11ea-a393-0242ac120007",
       "previous": "f7185a20-2f87-11ea-8cf2-0242ac120004"
      },
      {
       "current": "e8417b7e-27d2-11ea-a393-0242ac120007",
       "next": "8d9fb61e-2f8d-11ea-8cf2-0242ac120004",
       "previous": "f7185a20-2f87-11ea-8cf2-0242ac120004"
      },
      {
       "current": "e8417b7e-27d2-11ea-a393-0242ac120007",
       "next": "be1e3de4-2fa4-11ea-8cf2-0242ac120004",
       "previous": "f7185a20-2f87-11ea-8cf2-0242ac120004"
      },
      {
       "current": "e8417b7e-27d2-11ea-a393-0242ac120007",
       "next": "8d9fb61e-2f8d-11ea-8cf2-0242ac120004",
       "previous": "f7185a20-2f87-11ea-8cf2-0242ac120004"
      },
      {
       "current": "e8417b7e-27d2-11ea-a393-0242ac120007",
       "next": "94aacc38-2fa5-11ea-8cf2-0242ac120004",
       "previous": "f7185a20-2f87-11ea-8cf2-0242ac120004"
      },
      {
       "current": "e8417b7e-27d2-11ea-a393-0242ac120007",
       "next": "94aacc38-2fa5-11ea-8cf2-0242ac120004",
       "previous": "7ccd5daa-378a-11ea-b98b-0242ac120006"
      },
      {
       "current": "e8417b7e-27d2-11ea-a393-0242ac120007",
       "next": "c45b06ae-378a-11ea-b98b-0242ac120006",
       "previous": "7ccd5daa-378a-11ea-b98b-0242ac120006"
      },
      {
       "current": "e8417b7e-27d2-11ea-a393-0242ac120007",
       "next": "c45b06ae-378a-11ea-b98b-0242ac120006",
       "previous": "b870230e-4fd3-11ea-a82e-0242ac120004"
      }
     ],
     "next": "c45b06ae-378a-11ea-b98b-0242ac120006",
     "previous": "7ccd5daa-378a-11ea-b98b-0242ac120006"
    },
    "lc_wrapper": {
     "log_history": [
      "/home/user7/notebooks/.log/20191226/20191226-112930-0284.log",
      "/home/user7/notebooks/.log/20191226/20191226-112953-0154.log",
      "/home/user7/notebooks/.log/20191226/20191226-113004-0494.log",
      "/home/user7/notebooks/.log/20200105/20200105-084413-0280.log",
      "/home/user7/notebooks/.log/20200105/20200105-090301-0678.log",
      "/home/user7/notebooks/.log/20200105/20200105-090321-0491.log",
      "/home/user7/notebooks/.log/20200105/20200105-151235-0243.log",
      "/home/user7/notebooks/.log/20200113/20200113-141126-0450.log",
      "/home/user4/notebooks/seminar-lc4ri/git/notebooks/.log/20200214/20200214-120551-0911.log",
      "/home/user4/notebooks/seminar-lc4ri/git/notebooks/.log/20200215/20200215-091008-0180.log",
      "/home/user4/notebooks/seminar-lc4ri/notebooks/.log/20200215/20200215-112834-0298.log"
     ]
    },
    "run_through_control": {
     "frozen": true
    },
    "scrolled": true
   },
   "outputs": [
    {
     "name": "stdout",
     "output_type": "stream",
     "text": [
      "\u001b[1;33mWARNING:\u001b[0m Newly created clusters and node-pools will have node auto-upgrade enabled by default. This can be disabled using the `--no-enable-autoupgrade` flag.\n",
      "\u001b[1;33mWARNING:\u001b[0m Starting in 1.12, default node pools in new clusters will have their legacy Compute Engine instance metadata endpoints disabled by default. To create a cluster with legacy instance metadata endpoints disabled in the default node pool, run `clusters create` with the flag `--metadata disable-legacy-endpoints=true`.\n",
      "\u001b[1;33mWARNING:\u001b[0m The Pod address range limits the maximum size of the cluster. Please refer to https://cloud.google.com/kubernetes-engine/docs/how-to/flexible-pod-cidr to learn how to optimize IP address allocation.\n",
      "This will enable the autorepair feature for nodes. Please see https://cloud.google.com/kubernetes-engine/docs/node-auto-repair for more information on node autorepairs.\n",
      "Creating cluster topse-cluster in us-west1... Cluster is being health-checked..\n",
      ".⠧                                                                             \n",
      "Creating cluster topse-cluster in us-west1... Cluster is being health-checked (\n",
      "master is healthy)...done.                                                     \n",
      "Created [https://container.googleapis.com/v1/projects/topse-nagaku/zones/us-west1/clusters/topse-cluster].\n",
      "To inspect the contents of your cluster, go to: https://console.cloud.google.com/kubernetes/workload_/gcloud/us-west1/topse-cluster?project=topse-nagaku\n",
      "kubeconfig entry generated for topse-cluster.\n",
      "NAME           LOCATION  MASTER_VERSION  MASTER_IP        MACHINE_TYPE   NODE_VERSION    NUM_NODES  STATUS\n",
      "topse-cluster  us-west1  1.14.10-gke.17  104.199.123.238  n1-standard-1  1.14.10-gke.17  2          RUNNING\n"
     ]
    }
   ],
   "source": [
    "!gcloud container clusters create {cluster_name} \\\n",
    "--region {region} \\\n",
    "--node-locations  {zones[0]},{zones[1]} \\\n",
    "--enable-ip-alias \\\n",
    "--network {vpc_name} \\\n",
    "--subnetwork {subnet_name} \\\n",
    "--num-nodes=1"
   ]
  },
  {
   "cell_type": "markdown",
   "metadata": {
    "lc_cell_meme": {
     "current": "c45b06ae-378a-11ea-b98b-0242ac120006",
     "next": "94aacc38-2fa5-11ea-8cf2-0242ac120004",
     "previous": "e8417b7e-27d2-11ea-a393-0242ac120007"
    }
   },
   "source": [
    "## GKE認証情報設定"
   ]
  },
  {
   "cell_type": "code",
   "execution_count": 9,
   "metadata": {
    "deletable": false,
    "editable": false,
    "lc_cell_meme": {
     "current": "94aacc38-2fa5-11ea-8cf2-0242ac120004",
     "execution_end_time": "2020-02-15T11:32:22.910559Z",
     "history": [
      {
       "current": "94aacc38-2fa5-11ea-8cf2-0242ac120004",
       "next": "05acfeb6-2fa5-11ea-8cf2-0242ac120004",
       "previous": "05acfbf0-2fa5-11ea-8cf2-0242ac120004"
      },
      {
       "current": "94aacc38-2fa5-11ea-8cf2-0242ac120004",
       "next": "0a5dada0-27cd-11ea-a393-0242ac120007",
       "previous": "0a5dac4c-27cd-11ea-a393-0242ac120007"
      },
      {
       "current": "94aacc38-2fa5-11ea-8cf2-0242ac120004",
       "next": "0a5dac4c-27cd-11ea-a393-0242ac120007",
       "previous": null
      },
      {
       "current": "94aacc38-2fa5-11ea-8cf2-0242ac120004",
       "next": "0a5dada0-27cd-11ea-a393-0242ac120007",
       "previous": "0a5dac4c-27cd-11ea-a393-0242ac120007"
      },
      {
       "current": "94aacc38-2fa5-11ea-8cf2-0242ac120004",
       "next": "8d9fb61e-2f8d-11ea-8cf2-0242ac120004",
       "previous": "e8417b7e-27d2-11ea-a393-0242ac120007"
      },
      {
       "current": "94aacc38-2fa5-11ea-8cf2-0242ac120004",
       "next": "c45b0a46-378a-11ea-b98b-0242ac120006",
       "previous": "c45b06ae-378a-11ea-b98b-0242ac120006"
      },
      {
       "current": "94aacc38-2fa5-11ea-8cf2-0242ac120004",
       "next": "5107d872-3dce-11ea-8fdf-0242ac120006",
       "previous": "c45b06ae-378a-11ea-b98b-0242ac120006"
      },
      {
       "current": "94aacc38-2fa5-11ea-8cf2-0242ac120004",
       "next": "c45b0a46-378a-11ea-b98b-0242ac120006",
       "previous": "c45b06ae-378a-11ea-b98b-0242ac120006"
      }
     ],
     "next": "008c7606-378d-11ea-b98b-0242ac120006",
     "previous": "c45b06ae-378a-11ea-b98b-0242ac120006"
    },
    "lc_wrapper": {
     "log_history": [
      "/home/user7/notebooks/.log/20200105/20200105-102303-0302.log",
      "/home/user7/notebooks/.log/20200105/20200105-102409-0912.log",
      "/home/user7/notebooks/.log/20200105/20200105-102425-0362.log",
      "/home/user7/notebooks/.log/20200105/20200105-150809-0488.log",
      "/home/user7/notebooks/.log/20200105/20200105-150853-0196.log",
      "/home/user7/notebooks/.log/20200105/20200105-150903-0507.log",
      "/home/user7/notebooks/.log/20200105/20200105-150925-0139.log",
      "/home/user7/notebooks/.log/20200105/20200105-151800-0880.log",
      "/home/user7/notebooks/.log/20200113/20200113-142213-0253.log",
      "/home/user4/notebooks/seminar-lc4ri/git/notebooks/.log/20200214/20200214-120928-0427.log",
      "/home/user4/notebooks/seminar-lc4ri/git/notebooks/.log/20200215/20200215-091344-0047.log",
      "/home/user4/notebooks/seminar-lc4ri/notebooks/.log/20200215/20200215-113221-0307.log"
     ]
    },
    "run_through_control": {
     "frozen": true
    },
    "scrolled": true
   },
   "outputs": [
    {
     "name": "stdout",
     "output_type": "stream",
     "text": [
      "Fetching cluster endpoint and auth data.\n",
      "kubeconfig entry generated for topse-cluster.\n"
     ]
    }
   ],
   "source": [
    "!gcloud container clusters get-credentials {cluster_name} --region {region}"
   ]
  },
  {
   "cell_type": "markdown",
   "metadata": {
    "lc_cell_meme": {
     "current": "008c7606-378d-11ea-b98b-0242ac120006",
     "history": [
      {
       "current": "008c7606-378d-11ea-b98b-0242ac120006",
       "next": "46973ab2-360e-11ea-bdba-0242ac120004",
       "previous": "11c77cfe-3611-11ea-bdba-0242ac120004"
      },
      {
       "current": "008c7606-378d-11ea-b98b-0242ac120006",
       "next": "481b10e0-378d-11ea-b98b-0242ac120006",
       "previous": "11c77cfe-3611-11ea-bdba-0242ac120004"
      },
      {
       "current": "008c7606-378d-11ea-b98b-0242ac120006",
       "next": "481b134c-378d-11ea-b98b-0242ac120006",
       "previous": "11c77cfe-3611-11ea-bdba-0242ac120004"
      }
     ],
     "next": "481b134c-378d-11ea-b98b-0242ac120006",
     "previous": "94aacc38-2fa5-11ea-8cf2-0242ac120004"
    }
   },
   "source": [
    "# FileStoreの構築(NFS)"
   ]
  },
  {
   "cell_type": "markdown",
   "metadata": {
    "lc_cell_meme": {
     "current": "481b134c-378d-11ea-b98b-0242ac120006",
     "history": [
      {
       "current": "481b134c-378d-11ea-b98b-0242ac120006",
       "next": "481b1450-378d-11ea-b98b-0242ac120006",
       "previous": "46973ab2-360e-11ea-bdba-0242ac120004"
      },
      {
       "current": "481b134c-378d-11ea-b98b-0242ac120006",
       "next": "481b1450-378d-11ea-b98b-0242ac120006",
       "previous": "008c7606-378d-11ea-b98b-0242ac120006"
      },
      {
       "current": "481b134c-378d-11ea-b98b-0242ac120006",
       "next": "fffdaa66-4fd3-11ea-a82e-0242ac120004",
       "previous": "008c7606-378d-11ea-b98b-0242ac120006"
      }
     ],
     "next": "481b1450-378d-11ea-b98b-0242ac120006",
     "previous": "008c7606-378d-11ea-b98b-0242ac120006"
    }
   },
   "source": [
    "## FileStore作成"
   ]
  },
  {
   "cell_type": "code",
   "execution_count": 10,
   "metadata": {
    "deletable": false,
    "editable": false,
    "lc_cell_meme": {
     "current": "481b1450-378d-11ea-b98b-0242ac120006",
     "execution_end_time": "2020-02-15T11:37:14.916089Z",
     "history": [
      {
       "current": "481b1450-378d-11ea-b98b-0242ac120006",
       "next": "481b1522-378d-11ea-b98b-0242ac120006",
       "previous": "481b134c-378d-11ea-b98b-0242ac120006"
      },
      {
       "current": "481b1450-378d-11ea-b98b-0242ac120006",
       "next": "481b1522-378d-11ea-b98b-0242ac120006",
       "previous": "fffdaa66-4fd3-11ea-a82e-0242ac120004"
      }
     ],
     "next": "481b1522-378d-11ea-b98b-0242ac120006",
     "previous": "481b134c-378d-11ea-b98b-0242ac120006"
    },
    "lc_wrapper": {
     "log_history": [
      "/home/user4/notebooks/seminar-lc4ri/git/notebooks/.log/20200214/20200214-120930-0056.log",
      "/home/user4/notebooks/seminar-lc4ri/git/notebooks/.log/20200215/20200215-091345-0705.log",
      "/home/user4/notebooks/seminar-lc4ri/notebooks/.log/20200215/20200215-113222-0918.log"
     ]
    },
    "run_through_control": {
     "frozen": true
    }
   },
   "outputs": [
    {
     "name": "stdout",
     "output_type": "stream",
     "text": [
      "Waiting for [operation-1581766344571-59e9bad15fb17-d8e9c5ed-ce00cf28] to finish\n",
      "...done.                                                                       \n"
     ]
    }
   ],
   "source": [
    "!gcloud beta filestore instances create {filestore_name} --zone {zones[0]} \\\n",
    "--tier=STANDARD --file-share=name=\"vol1\",capacity={volume_capacity} --network=name={vpc_name}"
   ]
  },
  {
   "cell_type": "markdown",
   "metadata": {
    "lc_cell_meme": {
     "current": "481b1522-378d-11ea-b98b-0242ac120006",
     "next": "29807908-3612-11ea-bdba-0242ac120004",
     "previous": "481b1450-378d-11ea-b98b-0242ac120006"
    }
   },
   "source": [
    "## IPアドレス取得"
   ]
  },
  {
   "cell_type": "code",
   "execution_count": 11,
   "metadata": {
    "deletable": false,
    "editable": false,
    "lc_cell_meme": {
     "current": "29807908-3612-11ea-bdba-0242ac120004",
     "execution_end_time": "2020-02-15T11:37:15.830461Z",
     "history": [
      {
       "current": "29807908-3612-11ea-bdba-0242ac120004",
       "next": "29807b38-3612-11ea-bdba-0242ac120004",
       "previous": "46973ab2-360e-11ea-bdba-0242ac120004"
      },
      {
       "current": "29807908-3612-11ea-bdba-0242ac120004",
       "next": "29807b38-3612-11ea-bdba-0242ac120004",
       "previous": "481b1522-378d-11ea-b98b-0242ac120006"
      },
      {
       "current": "29807908-3612-11ea-bdba-0242ac120004",
       "next": "8f990742-378d-11ea-b98b-0242ac120006",
       "previous": "481b1522-378d-11ea-b98b-0242ac120006"
      },
      {
       "current": "29807908-3612-11ea-bdba-0242ac120004",
       "next": "8f990a1c-378d-11ea-b98b-0242ac120006",
       "previous": "481b1522-378d-11ea-b98b-0242ac120006"
      }
     ],
     "next": "c45b0a46-378a-11ea-b98b-0242ac120006",
     "previous": "481b1522-378d-11ea-b98b-0242ac120006"
    },
    "lc_wrapper": {
     "log_history": [
      "/home/user7/notebooks/.log/20200113/20200113-143829-0917.log",
      "/home/user7/notebooks/.log/20200113/20200113-143858-0060.log",
      "/home/user7/notebooks/.log/20200113/20200113-143910-0335.log",
      "/home/user7/notebooks/.log/20200113/20200113-143936-0145.log",
      "/home/user7/notebooks/.log/20200113/20200113-143951-0322.log",
      "/home/user7/notebooks/.log/20200113/20200113-143957-0528.log",
      "/home/user7/notebooks/.log/20200113/20200113-144026-0642.log",
      "/home/user7/notebooks/.log/20200113/20200113-144043-0479.log",
      "/home/user4/notebooks/seminar-lc4ri/git/notebooks/.log/20200214/20200214-121421-0628.log",
      "/home/user4/notebooks/seminar-lc4ri/git/notebooks/.log/20200215/20200215-091715-0773.log",
      "/home/user4/notebooks/seminar-lc4ri/notebooks/.log/20200215/20200215-113714-0924.log"
     ]
    },
    "run_through_control": {
     "frozen": true
    }
   },
   "outputs": [
    {
     "name": "stdout",
     "output_type": "stream",
     "text": [
      "10.196.216.218\n"
     ]
    }
   ],
   "source": [
    "output=!gcloud beta filestore instances describe {filestore_name} --zone {zones[0]} --format json\n",
    "import json\n",
    "while output[0].find('{') == -1:\n",
    "    del output[0]\n",
    "output[0] = \"{\"\n",
    "json_result = json.loads(''.join(output))\n",
    "print(json_result[\"networks\"][0][\"ipAddresses\"][0])\n",
    "filestore_ip=json_result[\"networks\"][0][\"ipAddresses\"][0]"
   ]
  },
  {
   "cell_type": "markdown",
   "metadata": {
    "lc_cell_meme": {
     "current": "c45b0a46-378a-11ea-b98b-0242ac120006",
     "history": [
      {
       "current": "c45b0a46-378a-11ea-b98b-0242ac120006",
       "next": "8d9fb61e-2f8d-11ea-8cf2-0242ac120004",
       "previous": "94aacc38-2fa5-11ea-8cf2-0242ac120004"
      },
      {
       "current": "c45b0a46-378a-11ea-b98b-0242ac120006",
       "next": "0bda69fc-378b-11ea-b98b-0242ac120006",
       "previous": "94aacc38-2fa5-11ea-8cf2-0242ac120004"
      },
      {
       "current": "c45b0a46-378a-11ea-b98b-0242ac120006",
       "next": "0bda69fc-378b-11ea-b98b-0242ac120006",
       "previous": "5107dd54-3dce-11ea-8fdf-0242ac120006"
      },
      {
       "current": "c45b0a46-378a-11ea-b98b-0242ac120006",
       "next": "0bda69fc-378b-11ea-b98b-0242ac120006",
       "previous": "31fa612e-4356-11ea-ab68-0242ac120005"
      },
      {
       "current": "c45b0a46-378a-11ea-b98b-0242ac120006",
       "next": "44dd1ff6-4357-11ea-ab68-0242ac120005",
       "previous": "31fa612e-4356-11ea-ab68-0242ac120005"
      },
      {
       "current": "c45b0a46-378a-11ea-b98b-0242ac120006",
       "next": "0bda69fc-378b-11ea-b98b-0242ac120006",
       "previous": "31fa612e-4356-11ea-ab68-0242ac120005"
      },
      {
       "current": "c45b0a46-378a-11ea-b98b-0242ac120006",
       "next": "5360dc0c-378b-11ea-b98b-0242ac120006",
       "previous": "31fa612e-4356-11ea-ab68-0242ac120005"
      },
      {
       "current": "c45b0a46-378a-11ea-b98b-0242ac120006",
       "next": "5360dc0c-378b-11ea-b98b-0242ac120006",
       "previous": "94aacc38-2fa5-11ea-8cf2-0242ac120004"
      },
      {
       "current": "c45b0a46-378a-11ea-b98b-0242ac120006",
       "next": "5360dc0c-378b-11ea-b98b-0242ac120006",
       "previous": "29807b38-3612-11ea-bdba-0242ac120004"
      }
     ],
     "next": "5360dc0c-378b-11ea-b98b-0242ac120006",
     "previous": "29807908-3612-11ea-bdba-0242ac120004"
    }
   },
   "source": [
    "# Cloud SQL構築(DB)"
   ]
  },
  {
   "cell_type": "markdown",
   "metadata": {
    "lc_cell_meme": {
     "current": "5360dc0c-378b-11ea-b98b-0242ac120006",
     "history": [
      {
       "current": "5360dc0c-378b-11ea-b98b-0242ac120006",
       "next": "8d9fb61e-2f8d-11ea-8cf2-0242ac120004",
       "previous": "0bda6c5e-378b-11ea-b98b-0242ac120006"
      },
      {
       "current": "5360dc0c-378b-11ea-b98b-0242ac120006",
       "next": "8d9fb61e-2f8d-11ea-8cf2-0242ac120004",
       "previous": "c45b0a46-378a-11ea-b98b-0242ac120006"
      },
      {
       "current": "5360dc0c-378b-11ea-b98b-0242ac120006",
       "next": "12be3e92-4fd7-11ea-a82e-0242ac120004",
       "previous": "c45b0a46-378a-11ea-b98b-0242ac120006"
      }
     ],
     "next": "a1cd6fd6-4fd7-11ea-a82e-0242ac120004",
     "previous": "c45b0a46-378a-11ea-b98b-0242ac120006"
    }
   },
   "source": [
    "## Cloud SQL作成"
   ]
  },
  {
   "cell_type": "markdown",
   "metadata": {
    "lc_cell_meme": {
     "current": "a1cd6fd6-4fd7-11ea-a82e-0242ac120004",
     "next": "8d9fb61e-2f8d-11ea-8cf2-0242ac120004",
     "previous": "5360dc0c-378b-11ea-b98b-0242ac120006"
    }
   },
   "source": [
    "作成時間4分"
   ]
  },
  {
   "cell_type": "code",
   "execution_count": 12,
   "metadata": {
    "deletable": false,
    "editable": false,
    "lc_cell_meme": {
     "current": "8d9fb61e-2f8d-11ea-8cf2-0242ac120004",
     "execution_end_time": "2020-02-15T11:42:14.390995Z",
     "history": [
      {
       "current": "8d9fb61e-2f8d-11ea-8cf2-0242ac120004",
       "next": "a3aec122-27cf-11ea-a393-0242ac120007",
       "previous": "e8417b7e-27d2-11ea-a393-0242ac120007"
      },
      {
       "current": "8d9fb61e-2f8d-11ea-8cf2-0242ac120004",
       "next": "a3aec122-27cf-11ea-a393-0242ac120007",
       "previous": "be1e4118-2fa4-11ea-8cf2-0242ac120004"
      },
      {
       "current": "8d9fb61e-2f8d-11ea-8cf2-0242ac120004",
       "next": "be1e3de4-2fa4-11ea-8cf2-0242ac120004",
       "previous": "e8417b7e-27d2-11ea-a393-0242ac120007"
      },
      {
       "current": "8d9fb61e-2f8d-11ea-8cf2-0242ac120004",
       "next": "be1e4118-2fa4-11ea-8cf2-0242ac120004",
       "previous": "e8417b7e-27d2-11ea-a393-0242ac120007"
      },
      {
       "current": "8d9fb61e-2f8d-11ea-8cf2-0242ac120004",
       "next": "b9bd1486-2fcd-11ea-a30b-0242ac120004",
       "previous": "94aacc38-2fa5-11ea-8cf2-0242ac120004"
      },
      {
       "current": "8d9fb61e-2f8d-11ea-8cf2-0242ac120004",
       "next": "013f7f9c-2fce-11ea-a30b-0242ac120004",
       "previous": "94aacc38-2fa5-11ea-8cf2-0242ac120004"
      },
      {
       "current": "8d9fb61e-2f8d-11ea-8cf2-0242ac120004",
       "next": "b9bd1486-2fcd-11ea-a30b-0242ac120004",
       "previous": "94aacc38-2fa5-11ea-8cf2-0242ac120004"
      },
      {
       "current": "8d9fb61e-2f8d-11ea-8cf2-0242ac120004",
       "next": "b9bd1486-2fcd-11ea-a30b-0242ac120004",
       "previous": "c45b0a46-378a-11ea-b98b-0242ac120006"
      },
      {
       "current": "8d9fb61e-2f8d-11ea-8cf2-0242ac120004",
       "next": "b9bd1486-2fcd-11ea-a30b-0242ac120004",
       "previous": "0bda6c5e-378b-11ea-b98b-0242ac120006"
      },
      {
       "current": "8d9fb61e-2f8d-11ea-8cf2-0242ac120004",
       "next": "b9bd1486-2fcd-11ea-a30b-0242ac120004",
       "previous": "5360dc0c-378b-11ea-b98b-0242ac120006"
      },
      {
       "current": "8d9fb61e-2f8d-11ea-8cf2-0242ac120004",
       "next": "e26ec008-378b-11ea-b98b-0242ac120006",
       "previous": "5360dc0c-378b-11ea-b98b-0242ac120006"
      },
      {
       "current": "8d9fb61e-2f8d-11ea-8cf2-0242ac120004",
       "next": "71829d96-378c-11ea-b98b-0242ac120006",
       "previous": "5360dc0c-378b-11ea-b98b-0242ac120006"
      },
      {
       "current": "8d9fb61e-2f8d-11ea-8cf2-0242ac120004",
       "next": "477d9c3e-4fd4-11ea-a82e-0242ac120004",
       "previous": "5360dc0c-378b-11ea-b98b-0242ac120006"
      },
      {
       "current": "8d9fb61e-2f8d-11ea-8cf2-0242ac120004",
       "next": "f4a632da-4fd5-11ea-a82e-0242ac120004",
       "previous": "5360dc0c-378b-11ea-b98b-0242ac120006"
      },
      {
       "current": "8d9fb61e-2f8d-11ea-8cf2-0242ac120004",
       "next": "71829d96-378c-11ea-b98b-0242ac120006",
       "previous": "5360dc0c-378b-11ea-b98b-0242ac120006"
      },
      {
       "current": "8d9fb61e-2f8d-11ea-8cf2-0242ac120004",
       "next": "12be4086-4fd7-11ea-a82e-0242ac120004",
       "previous": "12be3e92-4fd7-11ea-a82e-0242ac120004"
      }
     ],
     "next": "71829d96-378c-11ea-b98b-0242ac120006",
     "previous": "a1cd6fd6-4fd7-11ea-a82e-0242ac120004"
    },
    "lc_wrapper": {
     "log_history": [
      "/home/user7/notebooks/.log/20200105/20200105-073234-0840.log",
      "/home/user7/notebooks/.log/20200105/20200105-073241-0387.log",
      "/home/user7/notebooks/.log/20200105/20200105-073513-0303.log",
      "/home/user7/notebooks/.log/20200105/20200105-073553-0258.log",
      "/home/user7/notebooks/.log/20200105/20200105-073624-0292.log",
      "/home/user7/notebooks/.log/20200105/20200105-074052-0614.log",
      "/home/user7/notebooks/.log/20200105/20200105-075107-0111.log",
      "/home/user7/notebooks/.log/20200105/20200105-075208-0797.log",
      "/home/user7/notebooks/.log/20200105/20200105-075349-0397.log",
      "/home/user7/notebooks/.log/20200105/20200105-075749-0303.log",
      "/home/user7/notebooks/.log/20200105/20200105-075812-0003.log",
      "/home/user7/notebooks/.log/20200105/20200105-075826-0287.log",
      "/home/user7/notebooks/.log/20200105/20200105-075832-0862.log",
      "/home/user7/notebooks/.log/20200105/20200105-075853-0537.log",
      "/home/user7/notebooks/.log/20200105/20200105-080019-0299.log",
      "/home/user7/notebooks/.log/20200105/20200105-080031-0606.log",
      "/home/user7/notebooks/.log/20200105/20200105-103727-0186.log",
      "/home/user7/notebooks/.log/20200105/20200105-104602-0499.log",
      "/home/user7/notebooks/.log/20200105/20200105-151815-0020.log",
      "/home/user7/notebooks/.log/20200105/20200105-151820-0266.log",
      "/home/user7/notebooks/.log/20200113/20200113-142225-0357.log",
      "/home/user4/notebooks/seminar-lc4ri/git/notebooks/.log/20200214/20200214-122608-0455.log",
      "/home/user4/notebooks/seminar-lc4ri/git/notebooks/.log/20200214/20200214-122733-0167.log",
      "/home/user4/notebooks/seminar-lc4ri/git/notebooks/.log/20200215/20200215-091716-0719.log",
      "/home/user4/notebooks/seminar-lc4ri/git/notebooks/.log/20200215/20200215-093756-0449.log",
      "/home/user4/notebooks/seminar-lc4ri/notebooks/.log/20200215/20200215-113715-0839.log"
     ]
    },
    "run_through_control": {
     "frozen": true
    },
    "scrolled": false
   },
   "outputs": [
    {
     "name": "stdout",
     "output_type": "stream",
     "text": [
      "Creating Cloud SQL instance...done.                                            \n",
      "Created [https://sqladmin.googleapis.com/sql/v1beta4/projects/topse-nagaku/instances/topse-wordpress-mysql-20200215112636].\n",
      "NAME                                  DATABASE_VERSION  LOCATION    TIER              PRIMARY_ADDRESS  PRIVATE_ADDRESS  STATUS\n",
      "topse-wordpress-mysql-20200215112636  MYSQL_5_7         us-west1-a  db-n1-standard-1  -                10.253.0.3       RUNNABLE\n"
     ]
    }
   ],
   "source": [
    "!gcloud beta sql instances create {cloud_sql_name} --no-assign-ip --network={vpc_name} --no-backup --database-version={database_version} \\\n",
    "--root-password={root_password} --region {region}"
   ]
  },
  {
   "cell_type": "markdown",
   "metadata": {
    "lc_cell_meme": {
     "current": "71829d96-378c-11ea-b98b-0242ac120006",
     "history": [
      {
       "current": "71829d96-378c-11ea-b98b-0242ac120006",
       "next": "7182a12e-378c-11ea-b98b-0242ac120006",
       "previous": "8d9fb61e-2f8d-11ea-8cf2-0242ac120004"
      },
      {
       "current": "71829d96-378c-11ea-b98b-0242ac120006",
       "next": "7182a12e-378c-11ea-b98b-0242ac120006",
       "previous": "477d9c3e-4fd4-11ea-a82e-0242ac120004"
      },
      {
       "current": "71829d96-378c-11ea-b98b-0242ac120006",
       "next": "7182a12e-378c-11ea-b98b-0242ac120006",
       "previous": "8d9fb61e-2f8d-11ea-8cf2-0242ac120004"
      },
      {
       "current": "71829d96-378c-11ea-b98b-0242ac120006",
       "next": "7182a12e-378c-11ea-b98b-0242ac120006",
       "previous": "12be4086-4fd7-11ea-a82e-0242ac120004"
      }
     ],
     "next": "7182a12e-378c-11ea-b98b-0242ac120006",
     "previous": "8d9fb61e-2f8d-11ea-8cf2-0242ac120004"
    }
   },
   "source": [
    "## IPアドレス取得"
   ]
  },
  {
   "cell_type": "code",
   "execution_count": 13,
   "metadata": {
    "deletable": false,
    "editable": false,
    "lc_cell_meme": {
     "current": "7182a12e-378c-11ea-b98b-0242ac120006",
     "execution_end_time": "2020-02-15T11:42:15.068047Z",
     "history": [
      {
       "current": "7182a12e-378c-11ea-b98b-0242ac120006",
       "next": "e26ec008-378b-11ea-b98b-0242ac120006",
       "previous": "71829d96-378c-11ea-b98b-0242ac120006"
      }
     ],
     "next": "1eacbd48-378e-11ea-b98b-0242ac120006",
     "previous": "71829d96-378c-11ea-b98b-0242ac120006"
    },
    "lc_wrapper": {
     "log_history": [
      "/home/user4/notebooks/seminar-lc4ri/git/notebooks/.log/20200214/20200214-123219-0033.log",
      "/home/user4/notebooks/seminar-lc4ri/git/notebooks/.log/20200214/20200214-123243-0910.log",
      "/home/user4/notebooks/seminar-lc4ri/git/notebooks/.log/20200215/20200215-094155-0767.log",
      "/home/user4/notebooks/seminar-lc4ri/notebooks/.log/20200215/20200215-114214-0400.log"
     ]
    },
    "run_through_control": {
     "frozen": true
    }
   },
   "outputs": [
    {
     "name": "stdout",
     "output_type": "stream",
     "text": [
      "10.253.0.3\n"
     ]
    }
   ],
   "source": [
    "output=!gcloud beta sql instances describe {cloud_sql_name} --format json\n",
    "import json\n",
    "while output[0].find('{') == -1:\n",
    "    del output[0]\n",
    "output[0] = \"{\"\n",
    "json_result = json.loads(''.join(output))\n",
    "print(json_result[\"ipAddresses\"][0][\"ipAddress\"])\n",
    "cloud_sql_ip=json_result[\"ipAddresses\"][0][\"ipAddress\"]"
   ]
  },
  {
   "cell_type": "markdown",
   "metadata": {
    "lc_cell_meme": {
     "current": "1eacbd48-378e-11ea-b98b-0242ac120006",
     "history": [
      {
       "current": "1eacbd48-378e-11ea-b98b-0242ac120006",
       "next": "1eacbfaa-378e-11ea-b98b-0242ac120006",
       "previous": "d71de6e6-378d-11ea-b98b-0242ac120006"
      }
     ],
     "next": "1eacbfaa-378e-11ea-b98b-0242ac120006",
     "previous": "7182a12e-378c-11ea-b98b-0242ac120006"
    }
   },
   "source": [
    "## Secret作成"
   ]
  },
  {
   "cell_type": "markdown",
   "metadata": {
    "lc_cell_meme": {
     "current": "1eacbfaa-378e-11ea-b98b-0242ac120006",
     "next": "05acfeb6-2fa5-11ea-8cf2-0242ac120004",
     "previous": "1eacbd48-378e-11ea-b98b-0242ac120006"
    }
   },
   "source": [
    "MySQLのrootパスワードをKubernatesのSecretに登録する"
   ]
  },
  {
   "cell_type": "code",
   "execution_count": 14,
   "metadata": {
    "deletable": false,
    "editable": false,
    "lc_cell_meme": {
     "current": "05acfeb6-2fa5-11ea-8cf2-0242ac120004",
     "execution_end_time": "2020-02-15T11:42:17.371460Z",
     "history": [
      {
       "current": "05acfeb6-2fa5-11ea-8cf2-0242ac120004",
       "next": "a3aec122-27cf-11ea-a393-0242ac120007",
       "previous": "05acfbf0-2fa5-11ea-8cf2-0242ac120004"
      },
      {
       "current": "05acfeb6-2fa5-11ea-8cf2-0242ac120004",
       "next": "a3aec122-27cf-11ea-a393-0242ac120007",
       "previous": "94aacc38-2fa5-11ea-8cf2-0242ac120004"
      },
      {
       "current": "05acfeb6-2fa5-11ea-8cf2-0242ac120004",
       "next": "dc37add2-2fa5-11ea-8cf2-0242ac120004",
       "previous": "94aacc38-2fa5-11ea-8cf2-0242ac120004"
      },
      {
       "current": "05acfeb6-2fa5-11ea-8cf2-0242ac120004",
       "next": "dc37add2-2fa5-11ea-8cf2-0242ac120004",
       "previous": "be1e4118-2fa4-11ea-8cf2-0242ac120004"
      },
      {
       "current": "05acfeb6-2fa5-11ea-8cf2-0242ac120004",
       "next": "be1e4118-2fa4-11ea-8cf2-0242ac120004",
       "previous": "29807b38-3612-11ea-bdba-0242ac120004"
      },
      {
       "current": "05acfeb6-2fa5-11ea-8cf2-0242ac120004",
       "next": "be1e4118-2fa4-11ea-8cf2-0242ac120004",
       "previous": "d71de6e6-378d-11ea-b98b-0242ac120006"
      },
      {
       "current": "05acfeb6-2fa5-11ea-8cf2-0242ac120004",
       "next": "be1e4118-2fa4-11ea-8cf2-0242ac120004",
       "previous": "1eacbfaa-378e-11ea-b98b-0242ac120006"
      },
      {
       "current": "05acfeb6-2fa5-11ea-8cf2-0242ac120004",
       "next": "662e71d4-378e-11ea-b98b-0242ac120006",
       "previous": "1eacbfaa-378e-11ea-b98b-0242ac120006"
      }
     ],
     "next": "e26ec008-378b-11ea-b98b-0242ac120006",
     "previous": "1eacbfaa-378e-11ea-b98b-0242ac120006"
    },
    "lc_wrapper": {
     "log_history": [
      "/home/user7/notebooks/.log/20200105/20200105-102052-0174.log",
      "/home/user7/notebooks/.log/20200105/20200105-102450-0372.log",
      "/home/user7/notebooks/.log/20200105/20200105-102529-0935.log",
      "/home/user7/notebooks/.log/20200105/20200105-110250-0305.log",
      "/home/user7/notebooks/.log/20200105/20200105-154433-0902.log",
      "/home/user7/notebooks/.log/20200113/20200113-144334-0664.log",
      "/home/user4/notebooks/seminar-lc4ri/git/notebooks/.log/20200214/20200214-123250-0331.log",
      "/home/user4/notebooks/seminar-lc4ri/git/notebooks/.log/20200215/20200215-094156-0457.log",
      "/home/user4/notebooks/seminar-lc4ri/notebooks/.log/20200215/20200215-114215-0075.log"
     ]
    },
    "run_through_control": {
     "frozen": true
    }
   },
   "outputs": [
    {
     "name": "stdout",
     "output_type": "stream",
     "text": [
      "secret/mysql created\r\n"
     ]
    }
   ],
   "source": [
    "!kubectl create secret generic mysql --from-literal=password={root_password}"
   ]
  },
  {
   "cell_type": "markdown",
   "metadata": {
    "lc_cell_meme": {
     "current": "e26ec008-378b-11ea-b98b-0242ac120006",
     "history": [
      {
       "current": "e26ec008-378b-11ea-b98b-0242ac120006",
       "next": "e26ec4cc-378b-11ea-b98b-0242ac120006",
       "previous": "8d9fb61e-2f8d-11ea-8cf2-0242ac120004"
      },
      {
       "current": "e26ec008-378b-11ea-b98b-0242ac120006",
       "next": "e26ec4cc-378b-11ea-b98b-0242ac120006",
       "previous": "7182a12e-378c-11ea-b98b-0242ac120006"
      },
      {
       "current": "e26ec008-378b-11ea-b98b-0242ac120006",
       "next": "e26ec4cc-378b-11ea-b98b-0242ac120006",
       "previous": "05acfeb6-2fa5-11ea-8cf2-0242ac120004"
      }
     ],
     "next": "29f83b3e-378c-11ea-b98b-0242ac120006",
     "previous": "05acfeb6-2fa5-11ea-8cf2-0242ac120004"
    }
   },
   "source": [
    "# Cloud DNSの構築"
   ]
  },
  {
   "cell_type": "markdown",
   "metadata": {
    "lc_cell_meme": {
     "current": "29f83b3e-378c-11ea-b98b-0242ac120006",
     "history": [
      {
       "current": "29f83b3e-378c-11ea-b98b-0242ac120006",
       "next": "29f83e7c-378c-11ea-b98b-0242ac120006",
       "previous": "b9bd1486-2fcd-11ea-a30b-0242ac120004"
      }
     ],
     "next": "29f83e7c-378c-11ea-b98b-0242ac120006",
     "previous": "e26ec008-378b-11ea-b98b-0242ac120006"
    }
   },
   "source": [
    "## プライベートゾーン作成"
   ]
  },
  {
   "cell_type": "code",
   "execution_count": 15,
   "metadata": {
    "deletable": false,
    "editable": false,
    "lc_cell_meme": {
     "current": "29f83e7c-378c-11ea-b98b-0242ac120006",
     "execution_end_time": "2020-02-15T11:42:20.184861Z",
     "history": [
      {
       "current": "29f83e7c-378c-11ea-b98b-0242ac120006",
       "next": "29f83f6c-378c-11ea-b98b-0242ac120006",
       "previous": "29f83b3e-378c-11ea-b98b-0242ac120006"
      }
     ],
     "next": "013f7f9c-2fce-11ea-a30b-0242ac120004",
     "previous": "29f83b3e-378c-11ea-b98b-0242ac120006"
    },
    "lc_wrapper": {
     "log_history": [
      "/home/user4/notebooks/seminar-lc4ri/git/notebooks/.log/20200214/20200214-123254-0215.log",
      "/home/user4/notebooks/seminar-lc4ri/git/notebooks/.log/20200215/20200215-094158-0793.log",
      "/home/user4/notebooks/seminar-lc4ri/notebooks/.log/20200215/20200215-114217-0379.log"
     ]
    },
    "run_through_control": {
     "frozen": true
    }
   },
   "outputs": [
    {
     "name": "stdout",
     "output_type": "stream",
     "text": [
      "Created [https://dns.googleapis.com/dns/v1beta2/projects/topse-nagaku/managedZones/topse-private-zone].\r\n"
     ]
    }
   ],
   "source": [
    "!gcloud beta dns managed-zones create {private_zone_name} --dns-name={dns_name} \\\n",
    "--description={private_zone_name} --visibility=private --networks {vpc_name}"
   ]
  },
  {
   "cell_type": "markdown",
   "metadata": {
    "lc_cell_meme": {
     "current": "013f7f9c-2fce-11ea-a30b-0242ac120004",
     "execution_end_time": "2020-01-13T14:28:12.548073Z",
     "history": [
      {
       "current": "013f7f9c-2fce-11ea-a30b-0242ac120004",
       "next": "b9bd1486-2fcd-11ea-a30b-0242ac120004",
       "previous": "8d9fb61e-2f8d-11ea-8cf2-0242ac120004"
      },
      {
       "current": "013f7f9c-2fce-11ea-a30b-0242ac120004",
       "next": "11c77cfe-3611-11ea-bdba-0242ac120004",
       "previous": "b9bd1486-2fcd-11ea-a30b-0242ac120004"
      },
      {
       "current": "013f7f9c-2fce-11ea-a30b-0242ac120004",
       "next": "11c77cfe-3611-11ea-bdba-0242ac120004",
       "previous": "29f83f6c-378c-11ea-b98b-0242ac120006"
      }
     ],
     "next": "b904c126-378c-11ea-b98b-0242ac120006",
     "previous": "29f83e7c-378c-11ea-b98b-0242ac120006"
    },
    "lc_wrapper": {
     "log_history": [
      "/home/user7/notebooks/.log/20200105/20200105-152257-0340.log",
      "/home/user7/notebooks/.log/20200105/20200105-152415-0056.log",
      "/home/user7/notebooks/.log/20200105/20200105-152514-0992.log",
      "/home/user7/notebooks/.log/20200105/20200105-152522-0349.log",
      "/home/user7/notebooks/.log/20200105/20200105-152526-0890.log",
      "/home/user7/notebooks/.log/20200105/20200105-152533-0913.log",
      "/home/user7/notebooks/.log/20200105/20200105-152631-0751.log",
      "/home/user7/notebooks/.log/20200105/20200105-152643-0567.log",
      "/home/user7/notebooks/.log/20200105/20200105-152656-0028.log",
      "/home/user7/notebooks/.log/20200105/20200105-152813-0317.log",
      "/home/user7/notebooks/.log/20200105/20200105-152847-0576.log",
      "/home/user7/notebooks/.log/20200105/20200105-153133-0056.log",
      "/home/user7/notebooks/.log/20200105/20200105-153207-0107.log",
      "/home/user7/notebooks/.log/20200105/20200105-153218-0947.log",
      "/home/user7/notebooks/.log/20200105/20200105-153242-0057.log",
      "/home/user7/notebooks/.log/20200105/20200105-153252-0339.log",
      "/home/user7/notebooks/.log/20200105/20200105-153306-0384.log",
      "/home/user7/notebooks/.log/20200105/20200105-153310-0885.log",
      "/home/user7/notebooks/.log/20200105/20200105-153343-0615.log",
      "/home/user7/notebooks/.log/20200105/20200105-153351-0713.log",
      "/home/user7/notebooks/.log/20200113/20200113-142811-0950.log"
     ]
    }
   },
   "source": [
    "## DNSレコード追加"
   ]
  },
  {
   "cell_type": "markdown",
   "metadata": {
    "lc_cell_meme": {
     "current": "b904c126-378c-11ea-b98b-0242ac120006",
     "next": "11c77cfe-3611-11ea-bdba-0242ac120004",
     "previous": "013f7f9c-2fce-11ea-a30b-0242ac120004"
    }
   },
   "source": [
    "Cloud SQLのIPアドレス、ホスト名を登録する。"
   ]
  },
  {
   "cell_type": "code",
   "execution_count": 16,
   "metadata": {
    "deletable": false,
    "editable": false,
    "lc_cell_meme": {
     "current": "11c77cfe-3611-11ea-bdba-0242ac120004",
     "execution_end_time": "2020-02-15T11:42:25.126856Z",
     "history": [
      {
       "current": "11c77cfe-3611-11ea-bdba-0242ac120004",
       "next": "46973ab2-360e-11ea-bdba-0242ac120004",
       "previous": "b9bd1486-2fcd-11ea-a30b-0242ac120004"
      },
      {
       "current": "11c77cfe-3611-11ea-bdba-0242ac120004",
       "next": "46973ab2-360e-11ea-bdba-0242ac120004",
       "previous": "013f7f9c-2fce-11ea-a30b-0242ac120004"
      },
      {
       "current": "11c77cfe-3611-11ea-bdba-0242ac120004",
       "next": "46973ab2-360e-11ea-bdba-0242ac120004",
       "previous": "b904c126-378c-11ea-b98b-0242ac120006"
      },
      {
       "current": "11c77cfe-3611-11ea-bdba-0242ac120004",
       "next": "008c7606-378d-11ea-b98b-0242ac120006",
       "previous": "b904c126-378c-11ea-b98b-0242ac120006"
      },
      {
       "current": "11c77cfe-3611-11ea-bdba-0242ac120004",
       "next": "3cc4c202-378f-11ea-b98b-0242ac120006",
       "previous": "b904c126-378c-11ea-b98b-0242ac120006"
      },
      {
       "current": "11c77cfe-3611-11ea-bdba-0242ac120004",
       "next": "83ef94be-4f1c-11ea-9659-0242ac120005",
       "previous": "b904c126-378c-11ea-b98b-0242ac120006"
      },
      {
       "current": "11c77cfe-3611-11ea-bdba-0242ac120004",
       "next": "8f6277c8-4f24-11ea-9659-0242ac120005",
       "previous": "b904c126-378c-11ea-b98b-0242ac120006"
      }
     ],
     "next": "d77c443a-4f24-11ea-9659-0242ac120005",
     "previous": "b904c126-378c-11ea-b98b-0242ac120006"
    },
    "lc_wrapper": {
     "log_history": [
      "/home/user7/notebooks/.log/20200113/20200113-142919-0563.log",
      "/home/user7/notebooks/.log/20200113/20200113-143010-0040.log",
      "/home/user7/notebooks/.log/20200113/20200113-143240-0279.log",
      "/home/user7/notebooks/.log/20200113/20200113-143252-0111.log",
      "/home/user7/notebooks/.log/20200113/20200113-143255-0933.log",
      "/home/user7/notebooks/.log/20200113/20200113-143315-0639.log",
      "/home/user7/notebooks/.log/20200113/20200113-143415-0520.log",
      "/home/user7/notebooks/.log/20200113/20200113-143424-0788.log",
      "/home/user4/notebooks/seminar-lc4ri/git/notebooks/.log/20200214/20200214-123259-0823.log",
      "/home/user4/notebooks/seminar-lc4ri/git/notebooks/.log/20200215/20200215-094201-0042.log",
      "/home/user4/notebooks/seminar-lc4ri/notebooks/.log/20200215/20200215-114220-0193.log"
     ]
    },
    "run_through_control": {
     "frozen": true
    }
   },
   "outputs": [
    {
     "name": "stdout",
     "output_type": "stream",
     "text": [
      "Transaction started [transaction.yaml].\n",
      "Record addition appended to transaction at [transaction.yaml].\n",
      "Executed transaction [transaction.yaml] for managed-zone [topse-private-zone].\n",
      "Created [https://dns.googleapis.com/dns/v1/projects/topse-nagaku/managedZones/topse-private-zone/changes/1].\n",
      "ID  START_TIME                STATUS\n",
      "1   2020-02-15T11:42:24.901Z  pending\n"
     ]
    }
   ],
   "source": [
    "#!gcloud dns record-sets transaction abort --zone={private_zone_name}\n",
    "!gcloud dns record-sets transaction start --zone={private_zone_name}\n",
    "!gcloud dns record-sets transaction add {cloud_sql_ip} --name=mysql.{dns_name} --ttl=300 --type=A --zone={private_zone_name}\n",
    "!gcloud dns record-sets transaction execute --zone={private_zone_name}"
   ]
  },
  {
   "cell_type": "markdown",
   "metadata": {
    "lc_cell_meme": {
     "current": "d77c443a-4f24-11ea-9659-0242ac120005",
     "next": "8f6277c8-4f24-11ea-9659-0242ac120005",
     "previous": "11c77cfe-3611-11ea-bdba-0242ac120004"
    }
   },
   "source": [
    "FileStoreのIPアドレス、ホスト名を登録する。"
   ]
  },
  {
   "cell_type": "code",
   "execution_count": 17,
   "metadata": {
    "deletable": false,
    "editable": false,
    "lc_cell_meme": {
     "current": "8f6277c8-4f24-11ea-9659-0242ac120005",
     "execution_end_time": "2020-02-15T11:42:30.068872Z",
     "history": [
      {
       "current": "8f6277c8-4f24-11ea-9659-0242ac120005",
       "next": "83ef94be-4f1c-11ea-9659-0242ac120005",
       "previous": "11c77cfe-3611-11ea-bdba-0242ac120004"
      }
     ],
     "next": "83ef94be-4f1c-11ea-9659-0242ac120005",
     "previous": "d77c443a-4f24-11ea-9659-0242ac120005"
    },
    "lc_wrapper": {
     "log_history": [
      "/home/user4/notebooks/seminar-lc4ri/git/notebooks/.log/20200214/20200214-123304-0881.log",
      "/home/user4/notebooks/seminar-lc4ri/git/notebooks/.log/20200215/20200215-094206-0061.log",
      "/home/user4/notebooks/seminar-lc4ri/notebooks/.log/20200215/20200215-114225-0134.log"
     ]
    },
    "run_through_control": {
     "frozen": true
    }
   },
   "outputs": [
    {
     "name": "stdout",
     "output_type": "stream",
     "text": [
      "Transaction started [transaction.yaml].\n",
      "Record addition appended to transaction at [transaction.yaml].\n",
      "Executed transaction [transaction.yaml] for managed-zone [topse-private-zone].\n",
      "Created [https://dns.googleapis.com/dns/v1/projects/topse-nagaku/managedZones/topse-private-zone/changes/2].\n",
      "ID  START_TIME                STATUS\n",
      "2   2020-02-15T11:42:29.845Z  pending\n"
     ]
    }
   ],
   "source": [
    "#!gcloud dns record-sets transaction abort --zone={private_zone_name}\n",
    "!gcloud dns record-sets transaction start --zone={private_zone_name}\n",
    "!gcloud dns record-sets transaction add {filestore_ip} --name=nfs.{dns_name} --ttl=300 --type=A --zone={private_zone_name}\n",
    "!gcloud dns record-sets transaction execute --zone={private_zone_name}"
   ]
  },
  {
   "cell_type": "markdown",
   "metadata": {
    "lc_cell_meme": {
     "current": "83ef94be-4f1c-11ea-9659-0242ac120005",
     "history": [
      {
       "current": "83ef94be-4f1c-11ea-9659-0242ac120005",
       "next": "83ef973e-4f1c-11ea-9659-0242ac120005",
       "previous": "11c77cfe-3611-11ea-bdba-0242ac120004"
      }
     ],
     "next": "83ef973e-4f1c-11ea-9659-0242ac120005",
     "previous": "8f6277c8-4f24-11ea-9659-0242ac120005"
    }
   },
   "source": [
    "リソース削除用にパラメータを保存"
   ]
  },
  {
   "cell_type": "code",
   "execution_count": 18,
   "metadata": {
    "deletable": false,
    "editable": false,
    "lc_cell_meme": {
     "current": "83ef973e-4f1c-11ea-9659-0242ac120005",
     "execution_end_time": "2020-02-15T11:42:30.086836Z",
     "history": [
      {
       "current": "83ef973e-4f1c-11ea-9659-0242ac120005",
       "next": "3cc4c202-378f-11ea-b98b-0242ac120006",
       "previous": "83ef94be-4f1c-11ea-9659-0242ac120005"
      }
     ],
     "next": "a228d99e-4f1d-11ea-9659-0242ac120005",
     "previous": "83ef94be-4f1c-11ea-9659-0242ac120005"
    },
    "lc_wrapper": {
     "log_history": [
      "/home/user4/notebooks/seminar-lc4ri/git/notebooks/.log/20200214/20200214-112743-0321.log",
      "/home/user4/notebooks/seminar-lc4ri/git/notebooks/.log/20200214/20200214-112801-0165.log",
      "/home/user4/notebooks/seminar-lc4ri/git/notebooks/.log/20200214/20200214-112916-0248.log",
      "/home/user4/notebooks/seminar-lc4ri/git/notebooks/.log/20200214/20200214-112941-0662.log",
      "/home/user4/notebooks/seminar-lc4ri/git/notebooks/.log/20200214/20200214-112953-0662.log",
      "/home/user4/notebooks/seminar-lc4ri/git/notebooks/.log/20200214/20200214-113005-0367.log",
      "/home/user4/notebooks/seminar-lc4ri/git/notebooks/.log/20200214/20200214-113228-0183.log",
      "/home/user4/notebooks/seminar-lc4ri/git/notebooks/.log/20200214/20200214-123309-0767.log",
      "/home/user4/notebooks/seminar-lc4ri/git/notebooks/.log/20200215/20200215-094211-0034.log",
      "/home/user4/notebooks/seminar-lc4ri/notebooks/.log/20200215/20200215-114230-0077.log"
     ]
    },
    "run_through_control": {
     "frozen": true
    }
   },
   "outputs": [],
   "source": [
    "res_info = {'vender': 'gcp',\n",
    "            'cloud_sql_ip': cloud_sql_ip,\n",
    "            'cloud_sql_name': cloud_sql_name,\n",
    "            'cluster_name': cluster_name,\n",
    "            'dns_name': dns_name,\n",
    "            'filestore_ip': filestore_ip,\n",
    "            'filestore_name': filestore_name,\n",
    "            'private_zone_name': private_zone_name,\n",
    "            'region': region,\n",
    "            'subnet_name': subnet_name,\n",
    "            'vpc_name': vpc_name,\n",
    "            'vpc_peering_name': vpc_peering_name,\n",
    "            'zones': zones\n",
    "        }"
   ]
  },
  {
   "cell_type": "code",
   "execution_count": 19,
   "metadata": {
    "deletable": false,
    "editable": false,
    "lc_cell_meme": {
     "current": "a228d99e-4f1d-11ea-9659-0242ac120005",
     "execution_end_time": "2020-02-15T11:42:31.091071Z",
     "history": [
      {
       "current": "a228d99e-4f1d-11ea-9659-0242ac120005",
       "next": null,
       "previous": "83ef973e-4f1c-11ea-9659-0242ac120005"
      }
     ],
     "next": "312430fa-4f26-11ea-9659-0242ac120005",
     "previous": "83ef973e-4f1c-11ea-9659-0242ac120005"
    },
    "lc_wrapper": {
     "log_history": [
      "/home/user4/notebooks/seminar-lc4ri/git/notebooks/.log/20200214/20200214-113047-0619.log",
      "/home/user4/notebooks/seminar-lc4ri/git/notebooks/.log/20200214/20200214-113230-0769.log",
      "/home/user4/notebooks/seminar-lc4ri/git/notebooks/.log/20200214/20200214-123309-0784.log",
      "/home/user4/notebooks/seminar-lc4ri/git/notebooks/.log/20200215/20200215-094211-0050.log",
      "/home/user4/notebooks/seminar-lc4ri/notebooks/.log/20200215/20200215-114230-0095.log"
     ]
    },
    "run_through_control": {
     "frozen": true
    }
   },
   "outputs": [
    {
     "name": "stdout",
     "output_type": "stream",
     "text": [
      "{\"vender\": \"gcp\", \"cloud_sql_ip\": \"10.253.0.3\", \"cloud_sql_name\": \"topse-wordpress-mysql-20200215112636\", \"cluster_name\": \"topse-cluster\", \"dns_name\": \"topse.private.\", \"filestore_ip\": \"10.196.216.218\", \"filestore_name\": \"nfs-server\", \"private_zone_name\": \"topse-private-zone\", \"region\": \"us-west1\", \"subnet_name\": \"topse-subnet\", \"vpc_name\": \"topse-vpc\", \"vpc_peering_name\": \"topse-vpc-peering\", \"zones\": [\"us-west1-a\", \"us-west1-b\"]}"
     ]
    }
   ],
   "source": [
    "f = open('res_info.json', 'w')\n",
    "json.dump(res_info, f)\n",
    "f.close()\n",
    "!cat res_info.json"
   ]
  },
  {
   "cell_type": "code",
   "execution_count": 20,
   "metadata": {
    "deletable": false,
    "editable": false,
    "lc_cell_meme": {
     "current": "312430fa-4f26-11ea-9659-0242ac120005",
     "execution_end_time": "2020-02-15T11:42:32.079724Z",
     "next": null,
     "previous": "a228d99e-4f1d-11ea-9659-0242ac120005"
    },
    "lc_wrapper": {
     "log_history": [
      "/home/user4/notebooks/seminar-lc4ri/git/notebooks/.log/20200215/20200215-094212-0055.log",
      "/home/user4/notebooks/seminar-lc4ri/notebooks/.log/20200215/20200215-114231-0098.log"
     ]
    },
    "run_through_control": {
     "frozen": true
    }
   },
   "outputs": [
    {
     "name": "stdout",
     "output_type": "stream",
     "text": [
      "Sat Feb 15 11:42:31 UTC 2020\r\n"
     ]
    }
   ],
   "source": [
    "!date"
   ]
  }
 ],
 "metadata": {
  "kernelspec": {
   "display_name": "Python 3",
   "language": "python",
   "name": "python3"
  },
  "language_info": {
   "file_extension": ".py",
   "mimetype": "text/x-python",
   "name": "python",
   "nbconvert_exporter": "python",
   "pygments_lexer": "ipython3",
   "version": "3.7.3"
  },
  "lc_notebook_meme": {
   "current": "0a5da80a-27cd-11ea-a393-0242ac120007",
   "lc_server_signature": {
    "current": {
     "notebook_dir": "/home/user4/notebooks",
     "notebook_path": "/seminar-lc4ri/notebooks",
     "server_url": "https://operationhub.kgr-lab.com/user/user4/",
     "signature_id": "ae27fcb2-043f-11ea-b29c-0242ac120002"
    },
    "history": [
     {
      "notebook_dir": "/home/user7/notebooks",
      "notebook_path": "/",
      "server_url": "https://operationhub.kgr-lab.com/user/user7/",
      "signature_id": "ae27fcb2-043f-11ea-b29c-0242ac120002"
     },
     {
      "notebook_dir": "/home/user4/notebooks",
      "notebook_path": "/",
      "server_url": "https://operationhub.kgr-lab.com/user/user4/",
      "signature_id": "ae27fcb2-043f-11ea-b29c-0242ac120002"
     },
     {
      "notebook_dir": "/home/user4/notebooks",
      "notebook_path": "/seminar-lc4ri/git/notebooks",
      "server_url": "https://operationhub.kgr-lab.com/user/user4/",
      "signature_id": "ae27fcb2-043f-11ea-b29c-0242ac120002"
     }
    ]
   }
  },
  "toc": {
   "base_numbering": 1,
   "nav_menu": {},
   "number_sections": true,
   "sideBar": true,
   "skip_h1_title": false,
   "title_cell": "Table of Contents",
   "title_sidebar": "Contents",
   "toc_cell": false,
   "toc_position": {
    "height": "calc(100% - 180px)",
    "left": "10px",
    "top": "150px",
    "width": "214.238px"
   },
   "toc_section_display": true,
   "toc_window_display": true
  }
 },
 "nbformat": 4,
 "nbformat_minor": 2
}
